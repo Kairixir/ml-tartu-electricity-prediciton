{
 "cells": [
  {
   "cell_type": "markdown",
   "id": "2ae155ec-6edf-46c8-90b4-1d86f0bfe568",
   "metadata": {},
   "source": [
    "# GPU functionality test"
   ]
  },
  {
   "cell_type": "markdown",
   "id": "4766ba71-3d07-4b43-b072-a13e6085efc5",
   "metadata": {
    "tags": []
   },
   "source": [
    "## Minimal `torch` example for 10.2 `cuda` error test"
   ]
  },
  {
   "cell_type": "code",
   "execution_count": 1,
   "id": "e128bfbf-87c0-4fb8-8f82-adc8f4111d27",
   "metadata": {},
   "outputs": [
    {
     "name": "stderr",
     "output_type": "stream",
     "text": [
      "/gpfs/space/home/ondrejse/jupyter-base/ml-tartu-electricity-prediciton/mltartu-kernel/lib/python3.9/site-packages/tqdm/auto.py:22: TqdmWarning: IProgress not found. Please update jupyter and ipywidgets. See https://ipywidgets.readthedocs.io/en/stable/user_install.html\n",
      "  from .autonotebook import tqdm as notebook_tqdm\n"
     ]
    }
   ],
   "source": [
    "import torch\n",
    "U_1=torch.randn(320, device=\"cuda\")\n",
    "U_2=torch.randn(13,320, device=\"cuda\")\n",
    "x=torch.randn(2,320,13,2, device=\"cuda\")\n",
    "lhs = torch.matmul(torch.matmul(x.permute(0, 3, 2, 1), U_1),\n",
    "                     U_2)\n",
    "torch.cuda.synchronize()"
   ]
  },
  {
   "cell_type": "markdown",
   "id": "ce49369f-3cde-4c85-8249-3157718955fb",
   "metadata": {},
   "source": [
    "## Minimal `darts` model training with GPU example"
   ]
  },
  {
   "cell_type": "code",
   "execution_count": 2,
   "id": "a95d46ad-5e15-4f56-9079-b40fe145f4d8",
   "metadata": {},
   "outputs": [],
   "source": [
    "import numpy as np\n",
    "import pandas as pd\n",
    "\n",
    "from darts.dataprocessing.transformers import Scaler\n",
    "from darts.models import RNNModel\n",
    "from darts.metrics import mape\n",
    "from darts.datasets import AirPassengersDataset"
   ]
  },
  {
   "cell_type": "code",
   "execution_count": 3,
   "id": "835baea5-eef8-4a87-b786-5ff19908ebe9",
   "metadata": {},
   "outputs": [],
   "source": [
    "# Read data:\n",
    "series = AirPassengersDataset().load()\n",
    "series = series.astype(np.float32)\n",
    "\n",
    "# Create training and validation sets:\n",
    "train, val = series.split_after(pd.Timestamp(\"19590101\"))\n",
    "\n",
    "# Normalize the time series (note: we avoid fitting the transformer on the validation set)\n",
    "transformer = Scaler()\n",
    "train_transformed = transformer.fit_transform(train)\n",
    "val_transformed = transformer.transform(val)\n",
    "series_transformed = transformer.transform(series)"
   ]
  },
  {
   "cell_type": "code",
   "execution_count": 4,
   "id": "0c947e81-09cf-445e-826a-b1e387bb7189",
   "metadata": {},
   "outputs": [],
   "source": [
    "my_model = RNNModel(\n",
    "    model=\"RNN\",\n",
    "    hidden_dim=20,\n",
    "    dropout=0,\n",
    "    batch_size=16,\n",
    "    n_epochs=5,\n",
    "    optimizer_kwargs={\"lr\": 1e-3},\n",
    "    model_name=\"Air_RNN\",\n",
    "    log_tensorboard=True,\n",
    "    random_state=42,\n",
    "    training_length=20,\n",
    "    input_chunk_length=14,\n",
    "    force_reset=True,\n",
    "    pl_trainer_kwargs={\n",
    "        \"accelerator\": \"gpu\",\n",
    "        \"devices\": [0],\n",
    "    },\n",
    ")"
   ]
  },
  {
   "cell_type": "code",
   "execution_count": 5,
   "id": "c640c093-198c-4389-b96d-35ce8b8fad69",
   "metadata": {},
   "outputs": [],
   "source": [
    "# Necessary for HPC instance of University of Tartu\n",
    "# Old dependency uses SLURMS deprecated parameter\n",
    "# This code sets it as it should be\n",
    "import os\n",
    "\n",
    "os.environ[\"SLURM_NTASKS_PER_NODE\"] = \"2\""
   ]
  },
  {
   "cell_type": "code",
   "execution_count": 6,
   "id": "0a5f33d7-e13a-4709-902f-0d5c065d1060",
   "metadata": {},
   "outputs": [
    {
     "name": "stderr",
     "output_type": "stream",
     "text": [
      "GPU available: True (cuda), used: True\n",
      "TPU available: False, using: 0 TPU cores\n",
      "IPU available: False, using: 0 IPUs\n",
      "HPU available: False, using: 0 HPUs\n",
      "LOCAL_RANK: 0 - CUDA_VISIBLE_DEVICES: [0]\n",
      "\n",
      "  | Name          | Type             | Params\n",
      "---------------------------------------------------\n",
      "0 | criterion     | MSELoss          | 0     \n",
      "1 | train_metrics | MetricCollection | 0     \n",
      "2 | val_metrics   | MetricCollection | 0     \n",
      "3 | rnn           | RNN              | 460   \n",
      "4 | V             | Linear           | 21    \n",
      "---------------------------------------------------\n",
      "481       Trainable params\n",
      "0         Non-trainable params\n",
      "481       Total params\n",
      "0.002     Total estimated model params size (MB)\n",
      "SLURM auto-requeueing enabled. Setting signal handlers.\n"
     ]
    },
    {
     "name": "stdout",
     "output_type": "stream",
     "text": [
      "                                                                           "
     ]
    },
    {
     "name": "stderr",
     "output_type": "stream",
     "text": [
      "/gpfs/space/home/ondrejse/jupyter-base/ml-tartu-electricity-prediciton/mltartu-kernel/lib/python3.9/site-packages/pytorch_lightning/trainer/trainer.py:1558: PossibleUserWarning: The number of training batches (7) is smaller than the logging interval Trainer(log_every_n_steps=50). Set a lower value for log_every_n_steps if you want to see logs for the training epoch.\n",
      "  rank_zero_warn(\n"
     ]
    },
    {
     "name": "stdout",
     "output_type": "stream",
     "text": [
      "Epoch 0:  88%|████████▊ | 7/8 [00:00<00:00,  9.34it/s, loss=0.0777, v_num=logs, train_loss=0.0391]\n",
      "Validation: 0it [00:00, ?it/s]\u001b[A\n",
      "Validation:   0%|          | 0/1 [00:00<?, ?it/s]\u001b[A\n",
      "Validation DataLoader 0:   0%|          | 0/1 [00:00<?, ?it/s]\u001b[A\n",
      "Epoch 0: 100%|██████████| 8/8 [00:00<00:00, 10.34it/s, loss=0.0777, v_num=logs, train_loss=0.0391, val_loss=0.429]\n",
      "Epoch 1:  88%|████████▊ | 7/8 [00:00<00:00, 76.83it/s, loss=0.0602, v_num=logs, train_loss=0.0115, val_loss=0.429]\n",
      "Validation: 0it [00:00, ?it/s]\u001b[A\n",
      "Validation:   0%|          | 0/1 [00:00<?, ?it/s]\u001b[A\n",
      "Validation DataLoader 0:   0%|          | 0/1 [00:00<?, ?it/s]\u001b[A\n",
      "Epoch 1: 100%|██████████| 8/8 [00:00<00:00, 68.52it/s, loss=0.0602, v_num=logs, train_loss=0.0115, val_loss=0.303]\n",
      "Epoch 2:  88%|████████▊ | 7/8 [00:00<00:00, 78.43it/s, loss=0.0517, v_num=logs, train_loss=0.0544, val_loss=0.303]\n",
      "Validation: 0it [00:00, ?it/s]\u001b[A\n",
      "Validation:   0%|          | 0/1 [00:00<?, ?it/s]\u001b[A\n",
      "Validation DataLoader 0:   0%|          | 0/1 [00:00<?, ?it/s]\u001b[A\n",
      "Epoch 2: 100%|██████████| 8/8 [00:00<00:00, 66.75it/s, loss=0.0517, v_num=logs, train_loss=0.0544, val_loss=0.233]\n",
      "Epoch 3:  88%|████████▊ | 7/8 [00:00<00:00, 82.05it/s, loss=0.0396, v_num=logs, train_loss=0.0403, val_loss=0.233]\n",
      "Validation: 0it [00:00, ?it/s]\u001b[A\n",
      "Validation:   0%|          | 0/1 [00:00<?, ?it/s]\u001b[A\n",
      "Validation DataLoader 0:   0%|          | 0/1 [00:00<?, ?it/s]\u001b[A\n",
      "Epoch 3: 100%|██████████| 8/8 [00:00<00:00, 70.53it/s, loss=0.0396, v_num=logs, train_loss=0.0403, val_loss=0.204]\n",
      "Epoch 4:  88%|████████▊ | 7/8 [00:00<00:00, 81.63it/s, loss=0.0369, v_num=logs, train_loss=0.040, val_loss=0.204] \n",
      "Validation: 0it [00:00, ?it/s]\u001b[A\n",
      "Validation:   0%|          | 0/1 [00:00<?, ?it/s]\u001b[A\n",
      "Validation DataLoader 0:   0%|          | 0/1 [00:00<?, ?it/s]\u001b[A\n",
      "Epoch 4: 100%|██████████| 8/8 [00:00<00:00, 72.36it/s, loss=0.0369, v_num=logs, train_loss=0.040, val_loss=0.220]\n",
      "Epoch 4: 100%|██████████| 8/8 [00:00<00:00, 68.68it/s, loss=0.0369, v_num=logs, train_loss=0.040, val_loss=0.220]"
     ]
    },
    {
     "name": "stderr",
     "output_type": "stream",
     "text": [
      "`Trainer.fit` stopped: `max_epochs=5` reached.\n"
     ]
    },
    {
     "name": "stdout",
     "output_type": "stream",
     "text": [
      "Epoch 4: 100%|██████████| 8/8 [00:00<00:00, 66.59it/s, loss=0.0369, v_num=logs, train_loss=0.040, val_loss=0.220]\n"
     ]
    },
    {
     "data": {
      "text/plain": [
       "<darts.models.forecasting.rnn_model.RNNModel at 0x2ac758506640>"
      ]
     },
     "execution_count": 6,
     "metadata": {},
     "output_type": "execute_result"
    }
   ],
   "source": [
    "my_model.fit(train_transformed, val_series=val_transformed)"
   ]
  }
 ],
 "metadata": {
  "kernelspec": {
   "display_name": "mltartu-kernel",
   "language": "python",
   "name": "mltartu-kernel"
  },
  "language_info": {
   "codemirror_mode": {
    "name": "ipython",
    "version": 3
   },
   "file_extension": ".py",
   "mimetype": "text/x-python",
   "name": "python",
   "nbconvert_exporter": "python",
   "pygments_lexer": "ipython3",
   "version": "3.9.9"
  }
 },
 "nbformat": 4,
 "nbformat_minor": 5
}
