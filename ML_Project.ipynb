{
 "cells": [
  {
   "cell_type": "markdown",
   "metadata": {
    "id": "PMfr-moDJcJB",
    "tags": []
   },
   "source": [
    "# Setup\n",
    "\n"
   ]
  },
  {
   "cell_type": "markdown",
   "metadata": {
    "jp-MarkdownHeadingCollapsed": true,
    "tags": []
   },
   "source": [
    "## Colab setup\n",
    "---------- Start of generic setup code to get kaggle credentials login and data to work with. Copied much from Workshop 2 ----------"
   ]
  },
  {
   "cell_type": "code",
   "execution_count": null,
   "metadata": {},
   "outputs": [],
   "source": [
    "# Code to read csv file into Colaboratory:\n",
    "!pip install -U -q PyDrive\n",
    "!pip install -U -q scikeras\n",
    "from google.colab import auth\n",
    "from oauth2client.client import GoogleCredentials\n",
    "from pydrive.auth import GoogleAuth\n",
    "from pydrive.drive import GoogleDrive"
   ]
  },
  {
   "cell_type": "code",
   "execution_count": null,
   "metadata": {
    "id": "KCwkJq2oGfV_"
   },
   "outputs": [],
   "source": [
    "# Authenticate and create the PyDrive client.\n",
    "auth.authenticate_user()\n",
    "gauth = GoogleAuth()\n",
    "gauth.credentials = GoogleCredentials.get_application_default()\n",
    "drive = GoogleDrive(gauth)"
   ]
  },
  {
   "cell_type": "markdown",
   "metadata": {
    "id": "k-Cy22BWHcoX"
   },
   "source": [
    "https://drive.google.com/file/d/1DeYgEzZ8Bs8Y3QsHd5YsV-3D-SzVAm4x"
   ]
  },
  {
   "cell_type": "code",
   "execution_count": null,
   "metadata": {
    "id": "X36gG7t3GjSV"
   },
   "outputs": [],
   "source": [
    "# GET data from file I've uploaded to my drive. Use your own kaggle.json and google auth logins etc\n",
    "downloaded = drive.CreateFile({\"id\": \"1DeYgEzZ8Bs8Y3QsHd5YsV-3D-SzVAm4x\"})\n",
    "downloaded.GetContentFile(\"predict-energy-consumption.zip\")"
   ]
  },
  {
   "cell_type": "code",
   "execution_count": null,
   "metadata": {
    "colab": {
     "base_uri": "https://localhost:8080/"
    },
    "id": "zeCWSQdyHe7k",
    "outputId": "d71f97c7-530e-4238-e700-f61dbfe4d220"
   },
   "outputs": [],
   "source": [
    "!unzip predict-energy-consumption.zip\n",
    "\n",
    "!ls\n",
    "!mkdir data\n",
    "!mv *.csv data/"
   ]
  },
  {
   "cell_type": "code",
   "execution_count": null,
   "metadata": {
    "colab": {
     "base_uri": "https://localhost:8080/",
     "height": 74
    },
    "id": "3HjDS_qKGMj9",
    "outputId": "34b48718-9122-4d4a-cad7-c84c8d21e69e"
   },
   "outputs": [],
   "source": [
    "from google.colab import files\n",
    "\n",
    "files.upload()\n",
    "# upload your kaggle.json file"
   ]
  },
  {
   "cell_type": "markdown",
   "metadata": {
    "id": "biC_tjjqDgkm"
   },
   "source": [
    "Processing data from the source."
   ]
  },
  {
   "cell_type": "code",
   "execution_count": null,
   "metadata": {
    "colab": {
     "base_uri": "https://localhost:8080/"
    },
    "id": "E6epI7FjF5As",
    "outputId": "39b03a5f-7a0a-4c44-dc84-42226d596e83"
   },
   "outputs": [],
   "source": [
    "import json\n",
    "\n",
    "!mkdir /root/.kaggle/\n",
    "!mv kaggle.json /root/.kaggle/kaggle.json\n",
    "!chmod 600 ~/.kaggle/kaggle.json\n",
    "!kaggle config set -n path -v{/content}"
   ]
  },
  {
   "cell_type": "code",
   "execution_count": null,
   "metadata": {
    "id": "JC4j4M33DcAy"
   },
   "outputs": [],
   "source": [
    "# GENERIC SUBMIT FUNCTION (uncomment when you want to submit)\n",
    "\n",
    "# submission = pd.DataFrame(\n",
    "#    {'key': test.key, 'fare_amount': val_predictions},\n",
    "#    columns = ['key', 'fare_amount'])\n",
    "# submission.to_csv('submission.csv', index = False)\n",
    "\n",
    "\n",
    "#!kaggle competitions submit -c predict-electricity-consumption -f submission.csv -m \"[TEAM NAME] Submission\""
   ]
  },
  {
   "cell_type": "markdown",
   "metadata": {
    "tags": []
   },
   "source": [
    "## Libraries setup"
   ]
  },
  {
   "cell_type": "code",
   "execution_count": 10,
   "metadata": {
    "execution": {
     "iopub.execute_input": "2022-11-26T10:58:25.414601Z",
     "iopub.status.busy": "2022-11-26T10:58:25.413635Z",
     "iopub.status.idle": "2022-11-26T10:58:25.461366Z",
     "shell.execute_reply": "2022-11-26T10:58:25.425393Z",
     "shell.execute_reply.started": "2022-11-26T10:58:25.414535Z"
    },
    "tags": []
   },
   "outputs": [],
   "source": [
    "import matplotlib.pyplot as plt\n",
    "import numpy as np\n",
    "import pandas as pd\n",
    "import seaborn as sns\n",
    "\n",
    "sns.set()"
   ]
  },
  {
   "cell_type": "markdown",
   "metadata": {
    "tags": []
   },
   "source": [
    "# Data exploration"
   ]
  },
  {
   "cell_type": "markdown",
   "metadata": {
    "jp-MarkdownHeadingCollapsed": true,
    "tags": []
   },
   "source": [
    "### Modification functions"
   ]
  },
  {
   "cell_type": "code",
   "execution_count": 11,
   "metadata": {
    "execution": {
     "iopub.execute_input": "2022-11-26T10:58:25.478823Z",
     "iopub.status.busy": "2022-11-26T10:58:25.477906Z",
     "iopub.status.idle": "2022-11-26T10:58:25.596844Z",
     "shell.execute_reply": "2022-11-26T10:58:25.592453Z",
     "shell.execute_reply.started": "2022-11-26T10:58:25.478778Z"
    },
    "tags": []
   },
   "outputs": [],
   "source": [
    "def replaceNanWithZero(test, train, labels):\n",
    "    train_labels = labels.replace(np.nan, 0.0)\n",
    "\n",
    "    for col in train.columns:\n",
    "        train[col] = train[col].replace(np.nan, 0.0)\n",
    "\n",
    "    for col in test.columns:\n",
    "        test[col] = test[col].replace(np.nan, 0.0)\n",
    "\n",
    "    return test, train, train_labels"
   ]
  },
  {
   "cell_type": "code",
   "execution_count": 12,
   "metadata": {
    "execution": {
     "iopub.execute_input": "2022-11-26T10:58:25.601569Z",
     "iopub.status.busy": "2022-11-26T10:58:25.600821Z",
     "iopub.status.idle": "2022-11-26T10:58:25.614301Z",
     "shell.execute_reply": "2022-11-26T10:58:25.610408Z",
     "shell.execute_reply.started": "2022-11-26T10:58:25.601530Z"
    },
    "tags": []
   },
   "outputs": [],
   "source": [
    "# PCA to get a lesser number of features, then going to feed into basic nn see what we can do\n",
    "from sklearn.decomposition import PCA\n",
    "\n",
    "\n",
    "def PCA_Performance(train, test):\n",
    "    variance = [0.5, 0.6, 0.75, 0.8, 0.85, 0.9, 0.95, 0.96, 0.97, 0.98, 0.99]\n",
    "\n",
    "    for var in variance:\n",
    "        pca = PCA(n_components=var)\n",
    "        pca.fit(train)\n",
    "        transformed_Train = pca.transform(train)\n",
    "        # transformed_Test = pca.transform(test)\n",
    "        print(\n",
    "            f\"Retained {var} of variance with {len(transformed_Train.T)} number of features\"\n",
    "        )"
   ]
  },
  {
   "cell_type": "code",
   "execution_count": 13,
   "metadata": {
    "execution": {
     "iopub.execute_input": "2022-11-26T10:58:25.621177Z",
     "iopub.status.busy": "2022-11-26T10:58:25.620700Z",
     "iopub.status.idle": "2022-11-26T10:58:25.631853Z",
     "shell.execute_reply": "2022-11-26T10:58:25.629390Z",
     "shell.execute_reply.started": "2022-11-26T10:58:25.621144Z"
    }
   },
   "outputs": [],
   "source": [
    "def month_to_season(month: int) -> str:\n",
    "    assert 1 <= month < 13\n",
    "    if 3 <= month < 6:\n",
    "        return \"spring\"\n",
    "    elif 6 <= month < 9:\n",
    "        return \"summer\"\n",
    "    elif 9 <= month < 12:\n",
    "        return \"autumn\"\n",
    "    else:\n",
    "        return \"winter\""
   ]
  },
  {
   "cell_type": "code",
   "execution_count": 14,
   "metadata": {
    "execution": {
     "iopub.execute_input": "2022-11-26T10:58:25.637095Z",
     "iopub.status.busy": "2022-11-26T10:58:25.635488Z",
     "iopub.status.idle": "2022-11-26T10:58:25.652870Z",
     "shell.execute_reply": "2022-11-26T10:58:25.650050Z",
     "shell.execute_reply.started": "2022-11-26T10:58:25.637028Z"
    },
    "tags": []
   },
   "outputs": [],
   "source": [
    "def cast_types(df: pd.DataFrame) -> pd.DataFrame:\n",
    "\n",
    "    # Cast time, respect timezone\n",
    "    df[\"time\"] = pd.to_datetime(df[\"time\"], utc=True).dt.tz_convert(\"Europe/Tallinn\")\n",
    "\n",
    "    # Cast remaining columns\n",
    "    df = df.astype(\n",
    "        {\n",
    "            \"temp\": \"float32\",\n",
    "            \"dwpt\": \"float32\",\n",
    "            \"rhum\": \"int32\",\n",
    "            \"prcp\": \"float32\",\n",
    "            # TODO: Snow might be integer too, check it\n",
    "            \"snow\": \"float32\",\n",
    "            \"wdir\": \"int32\",\n",
    "            \"wspd\": \"float32\",\n",
    "            \"wpgt\": \"float32\",\n",
    "            \"pres\": \"float32\",\n",
    "            \"coco\": \"category\",\n",
    "            \"el_price\": \"float32\",\n",
    "        }\n",
    "    )\n",
    "\n",
    "    # Change coco categories from float to int representation\n",
    "    new_categories = [int(category) for category in df[\"coco\"].cat.categories]\n",
    "\n",
    "    df[\"coco\"] = df[\"coco\"].cat.rename_categories(new_categories)\n",
    "\n",
    "    return df"
   ]
  },
  {
   "cell_type": "code",
   "execution_count": 15,
   "metadata": {
    "execution": {
     "iopub.execute_input": "2022-11-26T10:58:25.660375Z",
     "iopub.status.busy": "2022-11-26T10:58:25.659457Z",
     "iopub.status.idle": "2022-11-26T10:58:25.680914Z",
     "shell.execute_reply": "2022-11-26T10:58:25.676085Z",
     "shell.execute_reply.started": "2022-11-26T10:58:25.660311Z"
    },
    "tags": []
   },
   "outputs": [],
   "source": [
    "def explode_datetime(\n",
    "    df: pd.DataFrame, datetime_column: str, without_prefix: bool = False\n",
    ") -> pd.DataFrame:\n",
    "\n",
    "    prefix = \"\" if without_prefix else f\"{datetime_column}_\"\n",
    "\n",
    "    if f\"{prefix}year\" in df.columns:\n",
    "        print(f\"Column {prefix}year already exists\")\n",
    "        return df\n",
    "\n",
    "    date_info = pd.DataFrame(\n",
    "        data=[\n",
    "            [x.year, x.month, x.day, x.hour, x.weekday()] for x in df[datetime_column]\n",
    "        ],\n",
    "        columns=[\n",
    "            f\"{prefix}year\",\n",
    "            f\"{prefix}month\",\n",
    "            f\"{prefix}day\",\n",
    "            f\"{prefix}hour\",\n",
    "            f\"{prefix}weekday\",\n",
    "        ],\n",
    "    ).astype(np.int32)\n",
    "\n",
    "    df = pd.concat([df.reset_index(), date_info], axis=1).set_index(\"index\")\n",
    "\n",
    "    return df"
   ]
  },
  {
   "cell_type": "markdown",
   "metadata": {
    "execution": {
     "iopub.execute_input": "2022-11-10T17:57:57.971339Z",
     "iopub.status.busy": "2022-11-10T17:57:57.967378Z",
     "iopub.status.idle": "2022-11-10T17:57:57.989706Z",
     "shell.execute_reply": "2022-11-10T17:57:57.985813Z",
     "shell.execute_reply.started": "2022-11-10T17:57:57.971293Z"
    },
    "tags": []
   },
   "source": [
    "## Exploration"
   ]
  },
  {
   "cell_type": "code",
   "execution_count": 16,
   "metadata": {
    "colab": {
     "base_uri": "https://localhost:8080/"
    },
    "execution": {
     "iopub.execute_input": "2022-11-26T10:58:25.687572Z",
     "iopub.status.busy": "2022-11-26T10:58:25.686807Z",
     "iopub.status.idle": "2022-11-26T10:58:25.735741Z",
     "shell.execute_reply": "2022-11-26T10:58:25.731794Z",
     "shell.execute_reply.started": "2022-11-26T10:58:25.687511Z"
    },
    "id": "TNkzNqt7IhVz",
    "outputId": "cfe12431-9d30-46f1-9425-7da3aa60f276",
    "tags": []
   },
   "outputs": [],
   "source": [
    "# Here we can split into train/test for verification while we train whatever works)\n",
    "train = pd.read_csv(\"data/train.csv\")\n",
    "train_labels = train[\"consumption\"]  # y vals in this case are concumption\n",
    "# GIVEN time is a string we just gonna drop that mfer, cbf processing it etc\n",
    "\n",
    "test = pd.read_csv(\"data/test.csv\")\n",
    "\n",
    "# Have to predict consumption for these values. Consumption unkown.\n",
    "# At this point should have a train and test without Nan values:)"
   ]
  },
  {
   "cell_type": "code",
   "execution_count": 17,
   "metadata": {
    "execution": {
     "iopub.execute_input": "2022-11-26T10:58:25.740902Z",
     "iopub.status.busy": "2022-11-26T10:58:25.740415Z",
     "iopub.status.idle": "2022-11-26T10:58:25.785906Z",
     "shell.execute_reply": "2022-11-26T10:58:25.781515Z",
     "shell.execute_reply.started": "2022-11-26T10:58:25.740864Z"
    }
   },
   "outputs": [
    {
     "data": {
      "text/html": [
       "<div>\n",
       "<style scoped>\n",
       "    .dataframe tbody tr th:only-of-type {\n",
       "        vertical-align: middle;\n",
       "    }\n",
       "\n",
       "    .dataframe tbody tr th {\n",
       "        vertical-align: top;\n",
       "    }\n",
       "\n",
       "    .dataframe thead th {\n",
       "        text-align: right;\n",
       "    }\n",
       "</style>\n",
       "<table border=\"1\" class=\"dataframe\">\n",
       "  <thead>\n",
       "    <tr style=\"text-align: right;\">\n",
       "      <th></th>\n",
       "      <th>time</th>\n",
       "      <th>temp</th>\n",
       "      <th>dwpt</th>\n",
       "      <th>rhum</th>\n",
       "      <th>prcp</th>\n",
       "      <th>snow</th>\n",
       "      <th>wdir</th>\n",
       "      <th>wspd</th>\n",
       "      <th>wpgt</th>\n",
       "      <th>pres</th>\n",
       "      <th>coco</th>\n",
       "      <th>el_price</th>\n",
       "      <th>consumption</th>\n",
       "    </tr>\n",
       "  </thead>\n",
       "  <tbody>\n",
       "    <tr>\n",
       "      <th>0</th>\n",
       "      <td>2021-09-01 00:00:00+03:00</td>\n",
       "      <td>11.2</td>\n",
       "      <td>10.3</td>\n",
       "      <td>94.0</td>\n",
       "      <td>NaN</td>\n",
       "      <td>NaN</td>\n",
       "      <td>320.0</td>\n",
       "      <td>7.2</td>\n",
       "      <td>16.7</td>\n",
       "      <td>1012.6</td>\n",
       "      <td>2.0</td>\n",
       "      <td>0.09016</td>\n",
       "      <td>0.577</td>\n",
       "    </tr>\n",
       "    <tr>\n",
       "      <th>1</th>\n",
       "      <td>2021-09-01 01:00:00+03:00</td>\n",
       "      <td>10.7</td>\n",
       "      <td>9.6</td>\n",
       "      <td>93.0</td>\n",
       "      <td>NaN</td>\n",
       "      <td>NaN</td>\n",
       "      <td>320.0</td>\n",
       "      <td>7.2</td>\n",
       "      <td>13.0</td>\n",
       "      <td>1012.6</td>\n",
       "      <td>2.0</td>\n",
       "      <td>0.09251</td>\n",
       "      <td>0.594</td>\n",
       "    </tr>\n",
       "    <tr>\n",
       "      <th>2</th>\n",
       "      <td>2021-09-01 02:00:00+03:00</td>\n",
       "      <td>9.9</td>\n",
       "      <td>9.0</td>\n",
       "      <td>94.0</td>\n",
       "      <td>NaN</td>\n",
       "      <td>NaN</td>\n",
       "      <td>320.0</td>\n",
       "      <td>7.2</td>\n",
       "      <td>13.0</td>\n",
       "      <td>1012.2</td>\n",
       "      <td>2.0</td>\n",
       "      <td>0.08890</td>\n",
       "      <td>0.685</td>\n",
       "    </tr>\n",
       "    <tr>\n",
       "      <th>3</th>\n",
       "      <td>2021-09-01 03:00:00+03:00</td>\n",
       "      <td>10.0</td>\n",
       "      <td>8.4</td>\n",
       "      <td>90.0</td>\n",
       "      <td>NaN</td>\n",
       "      <td>NaN</td>\n",
       "      <td>330.0</td>\n",
       "      <td>7.2</td>\n",
       "      <td>13.0</td>\n",
       "      <td>1011.9</td>\n",
       "      <td>1.0</td>\n",
       "      <td>0.08735</td>\n",
       "      <td>1.016</td>\n",
       "    </tr>\n",
       "    <tr>\n",
       "      <th>4</th>\n",
       "      <td>2021-09-01 04:00:00+03:00</td>\n",
       "      <td>9.0</td>\n",
       "      <td>8.1</td>\n",
       "      <td>94.0</td>\n",
       "      <td>NaN</td>\n",
       "      <td>NaN</td>\n",
       "      <td>300.0</td>\n",
       "      <td>3.6</td>\n",
       "      <td>13.0</td>\n",
       "      <td>1011.4</td>\n",
       "      <td>2.0</td>\n",
       "      <td>0.08688</td>\n",
       "      <td>0.677</td>\n",
       "    </tr>\n",
       "  </tbody>\n",
       "</table>\n",
       "</div>"
      ],
      "text/plain": [
       "                        time  temp  dwpt  rhum  prcp  snow   wdir  wspd  wpgt  \\\n",
       "0  2021-09-01 00:00:00+03:00  11.2  10.3  94.0   NaN   NaN  320.0   7.2  16.7   \n",
       "1  2021-09-01 01:00:00+03:00  10.7   9.6  93.0   NaN   NaN  320.0   7.2  13.0   \n",
       "2  2021-09-01 02:00:00+03:00   9.9   9.0  94.0   NaN   NaN  320.0   7.2  13.0   \n",
       "3  2021-09-01 03:00:00+03:00  10.0   8.4  90.0   NaN   NaN  330.0   7.2  13.0   \n",
       "4  2021-09-01 04:00:00+03:00   9.0   8.1  94.0   NaN   NaN  300.0   3.6  13.0   \n",
       "\n",
       "     pres  coco  el_price  consumption  \n",
       "0  1012.6   2.0   0.09016        0.577  \n",
       "1  1012.6   2.0   0.09251        0.594  \n",
       "2  1012.2   2.0   0.08890        0.685  \n",
       "3  1011.9   1.0   0.08735        1.016  \n",
       "4  1011.4   2.0   0.08688        0.677  "
      ]
     },
     "execution_count": 17,
     "metadata": {},
     "output_type": "execute_result"
    }
   ],
   "source": [
    "train.head()"
   ]
  },
  {
   "cell_type": "markdown",
   "metadata": {
    "tags": []
   },
   "source": [
    "## Preprocessing"
   ]
  },
  {
   "cell_type": "markdown",
   "metadata": {
    "tags": []
   },
   "source": [
    "### First look"
   ]
  },
  {
   "cell_type": "code",
   "execution_count": 18,
   "metadata": {
    "execution": {
     "iopub.execute_input": "2022-11-26T10:58:25.790705Z",
     "iopub.status.busy": "2022-11-26T10:58:25.788952Z",
     "iopub.status.idle": "2022-11-26T10:58:25.923601Z",
     "shell.execute_reply": "2022-11-26T10:58:25.919775Z",
     "shell.execute_reply.started": "2022-11-26T10:58:25.790639Z"
    },
    "tags": []
   },
   "outputs": [
    {
     "data": {
      "text/html": [
       "<div>\n",
       "<style scoped>\n",
       "    .dataframe tbody tr th:only-of-type {\n",
       "        vertical-align: middle;\n",
       "    }\n",
       "\n",
       "    .dataframe tbody tr th {\n",
       "        vertical-align: top;\n",
       "    }\n",
       "\n",
       "    .dataframe thead th {\n",
       "        text-align: right;\n",
       "    }\n",
       "</style>\n",
       "<table border=\"1\" class=\"dataframe\">\n",
       "  <thead>\n",
       "    <tr style=\"text-align: right;\">\n",
       "      <th></th>\n",
       "      <th>temp</th>\n",
       "      <th>dwpt</th>\n",
       "      <th>rhum</th>\n",
       "      <th>prcp</th>\n",
       "      <th>snow</th>\n",
       "      <th>wdir</th>\n",
       "      <th>wspd</th>\n",
       "      <th>wpgt</th>\n",
       "      <th>pres</th>\n",
       "      <th>coco</th>\n",
       "      <th>el_price</th>\n",
       "      <th>consumption</th>\n",
       "    </tr>\n",
       "  </thead>\n",
       "  <tbody>\n",
       "    <tr>\n",
       "      <th>count</th>\n",
       "      <td>8592.000000</td>\n",
       "      <td>8592.000000</td>\n",
       "      <td>8592.000000</td>\n",
       "      <td>2159.000000</td>\n",
       "      <td>119.000000</td>\n",
       "      <td>8592.000000</td>\n",
       "      <td>8592.000000</td>\n",
       "      <td>8592.000000</td>\n",
       "      <td>8592.000000</td>\n",
       "      <td>8396.000000</td>\n",
       "      <td>8592.000000</td>\n",
       "      <td>8590.000000</td>\n",
       "    </tr>\n",
       "    <tr>\n",
       "      <th>mean</th>\n",
       "      <td>6.744204</td>\n",
       "      <td>2.486767</td>\n",
       "      <td>77.013617</td>\n",
       "      <td>0.056647</td>\n",
       "      <td>78.319328</td>\n",
       "      <td>201.564246</td>\n",
       "      <td>9.156355</td>\n",
       "      <td>20.869681</td>\n",
       "      <td>1013.229423</td>\n",
       "      <td>4.902930</td>\n",
       "      <td>0.160844</td>\n",
       "      <td>1.046364</td>\n",
       "    </tr>\n",
       "    <tr>\n",
       "      <th>std</th>\n",
       "      <td>9.257806</td>\n",
       "      <td>8.184391</td>\n",
       "      <td>17.520566</td>\n",
       "      <td>0.384586</td>\n",
       "      <td>63.129130</td>\n",
       "      <td>87.792064</td>\n",
       "      <td>4.826976</td>\n",
       "      <td>9.956558</td>\n",
       "      <td>12.592944</td>\n",
       "      <td>4.958744</td>\n",
       "      <td>0.120034</td>\n",
       "      <td>1.095114</td>\n",
       "    </tr>\n",
       "    <tr>\n",
       "      <th>min</th>\n",
       "      <td>-26.100000</td>\n",
       "      <td>-28.700000</td>\n",
       "      <td>20.000000</td>\n",
       "      <td>0.000000</td>\n",
       "      <td>0.000000</td>\n",
       "      <td>0.000000</td>\n",
       "      <td>0.000000</td>\n",
       "      <td>2.900000</td>\n",
       "      <td>962.600000</td>\n",
       "      <td>1.000000</td>\n",
       "      <td>0.000070</td>\n",
       "      <td>0.000000</td>\n",
       "    </tr>\n",
       "    <tr>\n",
       "      <th>25%</th>\n",
       "      <td>0.400000</td>\n",
       "      <td>-2.900000</td>\n",
       "      <td>66.000000</td>\n",
       "      <td>0.000000</td>\n",
       "      <td>20.000000</td>\n",
       "      <td>150.000000</td>\n",
       "      <td>7.200000</td>\n",
       "      <td>13.000000</td>\n",
       "      <td>1006.500000</td>\n",
       "      <td>2.000000</td>\n",
       "      <td>0.092820</td>\n",
       "      <td>0.363000</td>\n",
       "    </tr>\n",
       "    <tr>\n",
       "      <th>50%</th>\n",
       "      <td>6.200000</td>\n",
       "      <td>1.900000</td>\n",
       "      <td>83.000000</td>\n",
       "      <td>0.000000</td>\n",
       "      <td>60.000000</td>\n",
       "      <td>210.000000</td>\n",
       "      <td>7.200000</td>\n",
       "      <td>18.500000</td>\n",
       "      <td>1014.700000</td>\n",
       "      <td>3.000000</td>\n",
       "      <td>0.136440</td>\n",
       "      <td>0.811000</td>\n",
       "    </tr>\n",
       "    <tr>\n",
       "      <th>75%</th>\n",
       "      <td>13.225000</td>\n",
       "      <td>9.000000</td>\n",
       "      <td>91.000000</td>\n",
       "      <td>0.000000</td>\n",
       "      <td>130.000000</td>\n",
       "      <td>270.000000</td>\n",
       "      <td>10.800000</td>\n",
       "      <td>27.800000</td>\n",
       "      <td>1020.700000</td>\n",
       "      <td>5.000000</td>\n",
       "      <td>0.199845</td>\n",
       "      <td>1.366000</td>\n",
       "    </tr>\n",
       "    <tr>\n",
       "      <th>max</th>\n",
       "      <td>31.400000</td>\n",
       "      <td>20.900000</td>\n",
       "      <td>100.000000</td>\n",
       "      <td>7.900000</td>\n",
       "      <td>220.000000</td>\n",
       "      <td>360.000000</td>\n",
       "      <td>31.700000</td>\n",
       "      <td>63.000000</td>\n",
       "      <td>1047.500000</td>\n",
       "      <td>25.000000</td>\n",
       "      <td>4.000000</td>\n",
       "      <td>10.381000</td>\n",
       "    </tr>\n",
       "  </tbody>\n",
       "</table>\n",
       "</div>"
      ],
      "text/plain": [
       "              temp         dwpt         rhum         prcp        snow  \\\n",
       "count  8592.000000  8592.000000  8592.000000  2159.000000  119.000000   \n",
       "mean      6.744204     2.486767    77.013617     0.056647   78.319328   \n",
       "std       9.257806     8.184391    17.520566     0.384586   63.129130   \n",
       "min     -26.100000   -28.700000    20.000000     0.000000    0.000000   \n",
       "25%       0.400000    -2.900000    66.000000     0.000000   20.000000   \n",
       "50%       6.200000     1.900000    83.000000     0.000000   60.000000   \n",
       "75%      13.225000     9.000000    91.000000     0.000000  130.000000   \n",
       "max      31.400000    20.900000   100.000000     7.900000  220.000000   \n",
       "\n",
       "              wdir         wspd         wpgt         pres         coco  \\\n",
       "count  8592.000000  8592.000000  8592.000000  8592.000000  8396.000000   \n",
       "mean    201.564246     9.156355    20.869681  1013.229423     4.902930   \n",
       "std      87.792064     4.826976     9.956558    12.592944     4.958744   \n",
       "min       0.000000     0.000000     2.900000   962.600000     1.000000   \n",
       "25%     150.000000     7.200000    13.000000  1006.500000     2.000000   \n",
       "50%     210.000000     7.200000    18.500000  1014.700000     3.000000   \n",
       "75%     270.000000    10.800000    27.800000  1020.700000     5.000000   \n",
       "max     360.000000    31.700000    63.000000  1047.500000    25.000000   \n",
       "\n",
       "          el_price  consumption  \n",
       "count  8592.000000  8590.000000  \n",
       "mean      0.160844     1.046364  \n",
       "std       0.120034     1.095114  \n",
       "min       0.000070     0.000000  \n",
       "25%       0.092820     0.363000  \n",
       "50%       0.136440     0.811000  \n",
       "75%       0.199845     1.366000  \n",
       "max       4.000000    10.381000  "
      ]
     },
     "execution_count": 18,
     "metadata": {},
     "output_type": "execute_result"
    }
   ],
   "source": [
    "train.describe()"
   ]
  },
  {
   "cell_type": "code",
   "execution_count": 19,
   "metadata": {
    "execution": {
     "iopub.execute_input": "2022-11-26T10:58:25.934215Z",
     "iopub.status.busy": "2022-11-26T10:58:25.933595Z",
     "iopub.status.idle": "2022-11-26T10:58:25.954541Z",
     "shell.execute_reply": "2022-11-26T10:58:25.950561Z",
     "shell.execute_reply.started": "2022-11-26T10:58:25.934178Z"
    },
    "tags": []
   },
   "outputs": [
    {
     "data": {
      "text/plain": [
       "time              0\n",
       "temp              0\n",
       "dwpt              0\n",
       "rhum              0\n",
       "prcp           6433\n",
       "snow           8473\n",
       "wdir              0\n",
       "wspd              0\n",
       "wpgt              0\n",
       "pres              0\n",
       "coco            196\n",
       "el_price          0\n",
       "consumption       2\n",
       "dtype: int64"
      ]
     },
     "execution_count": 19,
     "metadata": {},
     "output_type": "execute_result"
    }
   ],
   "source": [
    "train.isna().sum()"
   ]
  },
  {
   "cell_type": "markdown",
   "metadata": {},
   "source": [
    "Most missing values are for snow and precipitation\n",
    "\n",
    "For snow it is quite a lot of data\n",
    "\n",
    "- Delete it?\n",
    "- Impute it with zero when temprature is over 0?\n",
    "    - How many is left?\n",
    "    \n",
    "For coco it is a problem, I think this will be useful information for model\n",
    "\n",
    "- Are the NaNs sparsely distributed?\n",
    "    - If so, we can impute from the most common value in +- 2 or 3 values before and after (timeseries)f\n",
    "- Can the information be found elsewhere?\n",
    "    - Where is the model house located?\n",
    "\n",
    "To the precipitation\n",
    "\n",
    "- That is a huge problem\n",
    "    - I think this data might be valuable\n",
    "    - To many values missing for intelligent imputation\n",
    "- Either find external source, remove it all, or impute with pure zeros\n",
    "- Even if we delete it a lot of the information is stored in humidity\n",
    "    - Or is it?"
   ]
  },
  {
   "cell_type": "code",
   "execution_count": 20,
   "metadata": {
    "execution": {
     "iopub.execute_input": "2022-11-26T10:58:25.960602Z",
     "iopub.status.busy": "2022-11-26T10:58:25.956749Z",
     "iopub.status.idle": "2022-11-26T10:58:26.020236Z",
     "shell.execute_reply": "2022-11-26T10:58:26.016241Z",
     "shell.execute_reply.started": "2022-11-26T10:58:25.960537Z"
    },
    "tags": []
   },
   "outputs": [
    {
     "name": "stdout",
     "output_type": "stream",
     "text": [
      "<class 'pandas.core.frame.DataFrame'>\n",
      "RangeIndex: 8592 entries, 0 to 8591\n",
      "Data columns (total 13 columns):\n",
      " #   Column       Non-Null Count  Dtype  \n",
      "---  ------       --------------  -----  \n",
      " 0   time         8592 non-null   object \n",
      " 1   temp         8592 non-null   float64\n",
      " 2   dwpt         8592 non-null   float64\n",
      " 3   rhum         8592 non-null   float64\n",
      " 4   prcp         2159 non-null   float64\n",
      " 5   snow         119 non-null    float64\n",
      " 6   wdir         8592 non-null   float64\n",
      " 7   wspd         8592 non-null   float64\n",
      " 8   wpgt         8592 non-null   float64\n",
      " 9   pres         8592 non-null   float64\n",
      " 10  coco         8396 non-null   float64\n",
      " 11  el_price     8592 non-null   float64\n",
      " 12  consumption  8590 non-null   float64\n",
      "dtypes: float64(12), object(1)\n",
      "memory usage: 872.8+ KB\n"
     ]
    }
   ],
   "source": [
    "train.info()"
   ]
  },
  {
   "cell_type": "code",
   "execution_count": 21,
   "metadata": {
    "execution": {
     "iopub.execute_input": "2022-11-26T10:58:26.024689Z",
     "iopub.status.busy": "2022-11-26T10:58:26.023586Z",
     "iopub.status.idle": "2022-11-26T10:58:26.056139Z",
     "shell.execute_reply": "2022-11-26T10:58:26.054281Z",
     "shell.execute_reply.started": "2022-11-26T10:58:26.024616Z"
    },
    "tags": []
   },
   "outputs": [
    {
     "data": {
      "text/plain": [
       "rhum    0.0\n",
       "wdir    0.0\n",
       "coco    0.0\n",
       "dtype: float64"
      ]
     },
     "execution_count": 21,
     "metadata": {},
     "output_type": "execute_result"
    }
   ],
   "source": [
    "train.loc[:, [\"rhum\", \"wdir\", \"coco\"]].mod(1, fill_value=0).abs().sum()"
   ]
  },
  {
   "cell_type": "code",
   "execution_count": 22,
   "metadata": {
    "execution": {
     "iopub.execute_input": "2022-11-26T10:58:26.061255Z",
     "iopub.status.busy": "2022-11-26T10:58:26.059881Z",
     "iopub.status.idle": "2022-11-26T10:58:26.368343Z",
     "shell.execute_reply": "2022-11-26T10:58:26.367178Z",
     "shell.execute_reply.started": "2022-11-26T10:58:26.061192Z"
    },
    "tags": []
   },
   "outputs": [
    {
     "data": {
      "text/plain": [
       "time           datetime64[ns, Europe/Tallinn]\n",
       "temp                                  float32\n",
       "dwpt                                  float32\n",
       "rhum                                    int32\n",
       "prcp                                  float32\n",
       "snow                                  float32\n",
       "wdir                                    int32\n",
       "wspd                                  float32\n",
       "wpgt                                  float32\n",
       "pres                                  float32\n",
       "coco                                 category\n",
       "el_price                              float32\n",
       "consumption                           float64\n",
       "dtype: object"
      ]
     },
     "execution_count": 22,
     "metadata": {},
     "output_type": "execute_result"
    }
   ],
   "source": [
    "# Recasting to the best suited type\n",
    "train = cast_types(train)\n",
    "train.dtypes"
   ]
  },
  {
   "cell_type": "markdown",
   "metadata": {
    "jp-MarkdownHeadingCollapsed": true,
    "tags": []
   },
   "source": [
    "### Exploding time"
   ]
  },
  {
   "cell_type": "code",
   "execution_count": 23,
   "metadata": {
    "execution": {
     "iopub.execute_input": "2022-11-26T10:58:26.372390Z",
     "iopub.status.busy": "2022-11-26T10:58:26.370650Z",
     "iopub.status.idle": "2022-11-26T10:58:26.492441Z",
     "shell.execute_reply": "2022-11-26T10:58:26.479661Z",
     "shell.execute_reply.started": "2022-11-26T10:58:26.372166Z"
    },
    "tags": []
   },
   "outputs": [
    {
     "data": {
      "text/html": [
       "<div>\n",
       "<style scoped>\n",
       "    .dataframe tbody tr th:only-of-type {\n",
       "        vertical-align: middle;\n",
       "    }\n",
       "\n",
       "    .dataframe tbody tr th {\n",
       "        vertical-align: top;\n",
       "    }\n",
       "\n",
       "    .dataframe thead th {\n",
       "        text-align: right;\n",
       "    }\n",
       "</style>\n",
       "<table border=\"1\" class=\"dataframe\">\n",
       "  <thead>\n",
       "    <tr style=\"text-align: right;\">\n",
       "      <th></th>\n",
       "      <th>time</th>\n",
       "      <th>temp</th>\n",
       "      <th>dwpt</th>\n",
       "      <th>rhum</th>\n",
       "      <th>prcp</th>\n",
       "      <th>snow</th>\n",
       "      <th>wdir</th>\n",
       "      <th>wspd</th>\n",
       "      <th>wpgt</th>\n",
       "      <th>pres</th>\n",
       "      <th>coco</th>\n",
       "      <th>el_price</th>\n",
       "      <th>consumption</th>\n",
       "      <th>year</th>\n",
       "      <th>month</th>\n",
       "      <th>day</th>\n",
       "      <th>hour</th>\n",
       "      <th>weekday</th>\n",
       "      <th>season</th>\n",
       "    </tr>\n",
       "    <tr>\n",
       "      <th>index</th>\n",
       "      <th></th>\n",
       "      <th></th>\n",
       "      <th></th>\n",
       "      <th></th>\n",
       "      <th></th>\n",
       "      <th></th>\n",
       "      <th></th>\n",
       "      <th></th>\n",
       "      <th></th>\n",
       "      <th></th>\n",
       "      <th></th>\n",
       "      <th></th>\n",
       "      <th></th>\n",
       "      <th></th>\n",
       "      <th></th>\n",
       "      <th></th>\n",
       "      <th></th>\n",
       "      <th></th>\n",
       "      <th></th>\n",
       "    </tr>\n",
       "  </thead>\n",
       "  <tbody>\n",
       "    <tr>\n",
       "      <th>0</th>\n",
       "      <td>2021-09-01 00:00:00+03:00</td>\n",
       "      <td>11.2</td>\n",
       "      <td>10.3</td>\n",
       "      <td>94</td>\n",
       "      <td>NaN</td>\n",
       "      <td>NaN</td>\n",
       "      <td>320</td>\n",
       "      <td>7.2</td>\n",
       "      <td>16.700001</td>\n",
       "      <td>1012.599976</td>\n",
       "      <td>2</td>\n",
       "      <td>0.09016</td>\n",
       "      <td>0.577</td>\n",
       "      <td>2021</td>\n",
       "      <td>9</td>\n",
       "      <td>1</td>\n",
       "      <td>0</td>\n",
       "      <td>2</td>\n",
       "      <td>autumn</td>\n",
       "    </tr>\n",
       "    <tr>\n",
       "      <th>1</th>\n",
       "      <td>2021-09-01 01:00:00+03:00</td>\n",
       "      <td>10.7</td>\n",
       "      <td>9.6</td>\n",
       "      <td>93</td>\n",
       "      <td>NaN</td>\n",
       "      <td>NaN</td>\n",
       "      <td>320</td>\n",
       "      <td>7.2</td>\n",
       "      <td>13.000000</td>\n",
       "      <td>1012.599976</td>\n",
       "      <td>2</td>\n",
       "      <td>0.09251</td>\n",
       "      <td>0.594</td>\n",
       "      <td>2021</td>\n",
       "      <td>9</td>\n",
       "      <td>1</td>\n",
       "      <td>1</td>\n",
       "      <td>2</td>\n",
       "      <td>autumn</td>\n",
       "    </tr>\n",
       "    <tr>\n",
       "      <th>2</th>\n",
       "      <td>2021-09-01 02:00:00+03:00</td>\n",
       "      <td>9.9</td>\n",
       "      <td>9.0</td>\n",
       "      <td>94</td>\n",
       "      <td>NaN</td>\n",
       "      <td>NaN</td>\n",
       "      <td>320</td>\n",
       "      <td>7.2</td>\n",
       "      <td>13.000000</td>\n",
       "      <td>1012.200012</td>\n",
       "      <td>2</td>\n",
       "      <td>0.08890</td>\n",
       "      <td>0.685</td>\n",
       "      <td>2021</td>\n",
       "      <td>9</td>\n",
       "      <td>1</td>\n",
       "      <td>2</td>\n",
       "      <td>2</td>\n",
       "      <td>autumn</td>\n",
       "    </tr>\n",
       "    <tr>\n",
       "      <th>3</th>\n",
       "      <td>2021-09-01 03:00:00+03:00</td>\n",
       "      <td>10.0</td>\n",
       "      <td>8.4</td>\n",
       "      <td>90</td>\n",
       "      <td>NaN</td>\n",
       "      <td>NaN</td>\n",
       "      <td>330</td>\n",
       "      <td>7.2</td>\n",
       "      <td>13.000000</td>\n",
       "      <td>1011.900024</td>\n",
       "      <td>1</td>\n",
       "      <td>0.08735</td>\n",
       "      <td>1.016</td>\n",
       "      <td>2021</td>\n",
       "      <td>9</td>\n",
       "      <td>1</td>\n",
       "      <td>3</td>\n",
       "      <td>2</td>\n",
       "      <td>autumn</td>\n",
       "    </tr>\n",
       "    <tr>\n",
       "      <th>4</th>\n",
       "      <td>2021-09-01 04:00:00+03:00</td>\n",
       "      <td>9.0</td>\n",
       "      <td>8.1</td>\n",
       "      <td>94</td>\n",
       "      <td>NaN</td>\n",
       "      <td>NaN</td>\n",
       "      <td>300</td>\n",
       "      <td>3.6</td>\n",
       "      <td>13.000000</td>\n",
       "      <td>1011.400024</td>\n",
       "      <td>2</td>\n",
       "      <td>0.08688</td>\n",
       "      <td>0.677</td>\n",
       "      <td>2021</td>\n",
       "      <td>9</td>\n",
       "      <td>1</td>\n",
       "      <td>4</td>\n",
       "      <td>2</td>\n",
       "      <td>autumn</td>\n",
       "    </tr>\n",
       "  </tbody>\n",
       "</table>\n",
       "</div>"
      ],
      "text/plain": [
       "                           time  temp  dwpt  rhum  prcp  snow  wdir  wspd  \\\n",
       "index                                                                       \n",
       "0     2021-09-01 00:00:00+03:00  11.2  10.3    94   NaN   NaN   320   7.2   \n",
       "1     2021-09-01 01:00:00+03:00  10.7   9.6    93   NaN   NaN   320   7.2   \n",
       "2     2021-09-01 02:00:00+03:00   9.9   9.0    94   NaN   NaN   320   7.2   \n",
       "3     2021-09-01 03:00:00+03:00  10.0   8.4    90   NaN   NaN   330   7.2   \n",
       "4     2021-09-01 04:00:00+03:00   9.0   8.1    94   NaN   NaN   300   3.6   \n",
       "\n",
       "            wpgt         pres coco  el_price  consumption  year  month  day  \\\n",
       "index                                                                         \n",
       "0      16.700001  1012.599976    2   0.09016        0.577  2021      9    1   \n",
       "1      13.000000  1012.599976    2   0.09251        0.594  2021      9    1   \n",
       "2      13.000000  1012.200012    2   0.08890        0.685  2021      9    1   \n",
       "3      13.000000  1011.900024    1   0.08735        1.016  2021      9    1   \n",
       "4      13.000000  1011.400024    2   0.08688        0.677  2021      9    1   \n",
       "\n",
       "       hour  weekday  season  \n",
       "index                         \n",
       "0         0        2  autumn  \n",
       "1         1        2  autumn  \n",
       "2         2        2  autumn  \n",
       "3         3        2  autumn  \n",
       "4         4        2  autumn  "
      ]
     },
     "execution_count": 23,
     "metadata": {},
     "output_type": "execute_result"
    }
   ],
   "source": [
    "# Explode datetime object into separate components\n",
    "# Minutes and seconds not extracted\n",
    "## Contain only zeros\n",
    "## Found through correlation matrix\n",
    "\n",
    "train = explode_datetime(train, \"time\", True)\n",
    "\n",
    "# Add season category\n",
    "\n",
    "train[\"season\"] = train[\"month\"].apply(lambda x: month_to_season(x)).astype(\"category\")\n",
    "\n",
    "train.head()"
   ]
  },
  {
   "cell_type": "markdown",
   "metadata": {
    "tags": []
   },
   "source": [
    "### Coco imputation"
   ]
  },
  {
   "cell_type": "code",
   "execution_count": 24,
   "metadata": {
    "execution": {
     "iopub.execute_input": "2022-11-26T10:58:26.496309Z",
     "iopub.status.busy": "2022-11-26T10:58:26.494898Z",
     "iopub.status.idle": "2022-11-26T10:58:26.535646Z",
     "shell.execute_reply": "2022-11-26T10:58:26.533236Z",
     "shell.execute_reply.started": "2022-11-26T10:58:26.496237Z"
    },
    "tags": []
   },
   "outputs": [
    {
     "data": {
      "text/plain": [
       "4     50\n",
       "1     11\n",
       "2     10\n",
       "3      9\n",
       "7      5\n",
       "5      2\n",
       "6      1\n",
       "8      1\n",
       "17     0\n",
       "23     0\n",
       "22     0\n",
       "21     0\n",
       "20     0\n",
       "19     0\n",
       "18     0\n",
       "13     0\n",
       "16     0\n",
       "15     0\n",
       "14     0\n",
       "12     0\n",
       "10     0\n",
       "9      0\n",
       "25     0\n",
       "Name: coco, dtype: int64"
      ]
     },
     "execution_count": 24,
     "metadata": {},
     "output_type": "execute_result"
    }
   ],
   "source": [
    "train[~train[\"coco\"].isin([14, 15, 16, 21, 22]) & ~train[\"snow\"].isna()][\n",
    "    \"coco\"\n",
    "].value_counts()"
   ]
  },
  {
   "cell_type": "markdown",
   "metadata": {},
   "source": [
    "It's not very sparse. Could be worked on, I do not wanna waste time now\n",
    "\n",
    "Will create new category for NaN with label 0 and impute it"
   ]
  },
  {
   "cell_type": "code",
   "execution_count": 25,
   "metadata": {
    "execution": {
     "iopub.execute_input": "2022-11-26T10:58:26.539844Z",
     "iopub.status.busy": "2022-11-26T10:58:26.537994Z",
     "iopub.status.idle": "2022-11-26T10:58:26.561538Z",
     "shell.execute_reply": "2022-11-26T10:58:26.557473Z",
     "shell.execute_reply.started": "2022-11-26T10:58:26.539795Z"
    },
    "tags": []
   },
   "outputs": [],
   "source": [
    "if not 0 in train[\"coco\"].cat.categories:\n",
    "    train[\"coco\"] = train[\"coco\"].cat.add_categories([0])\n",
    "train[\"coco\"] = train[\"coco\"].fillna(0)"
   ]
  },
  {
   "cell_type": "markdown",
   "metadata": {
    "tags": []
   },
   "source": [
    "### Snow imputation"
   ]
  },
  {
   "cell_type": "code",
   "execution_count": 26,
   "metadata": {
    "execution": {
     "iopub.execute_input": "2022-11-26T10:58:26.565168Z",
     "iopub.status.busy": "2022-11-26T10:58:26.564418Z",
     "iopub.status.idle": "2022-11-26T10:58:26.664703Z",
     "shell.execute_reply": "2022-11-26T10:58:26.662886Z",
     "shell.execute_reply.started": "2022-11-26T10:58:26.565105Z"
    },
    "tags": []
   },
   "outputs": [
    {
     "data": {
      "text/html": [
       "<div>\n",
       "<style scoped>\n",
       "    .dataframe tbody tr th:only-of-type {\n",
       "        vertical-align: middle;\n",
       "    }\n",
       "\n",
       "    .dataframe tbody tr th {\n",
       "        vertical-align: top;\n",
       "    }\n",
       "\n",
       "    .dataframe thead th {\n",
       "        text-align: right;\n",
       "    }\n",
       "</style>\n",
       "<table border=\"1\" class=\"dataframe\">\n",
       "  <thead>\n",
       "    <tr style=\"text-align: right;\">\n",
       "      <th></th>\n",
       "      <th>time</th>\n",
       "      <th>temp</th>\n",
       "      <th>dwpt</th>\n",
       "      <th>rhum</th>\n",
       "      <th>prcp</th>\n",
       "      <th>snow</th>\n",
       "      <th>wdir</th>\n",
       "      <th>wspd</th>\n",
       "      <th>wpgt</th>\n",
       "      <th>pres</th>\n",
       "      <th>coco</th>\n",
       "      <th>el_price</th>\n",
       "      <th>consumption</th>\n",
       "      <th>year</th>\n",
       "      <th>month</th>\n",
       "      <th>day</th>\n",
       "      <th>hour</th>\n",
       "      <th>weekday</th>\n",
       "      <th>season</th>\n",
       "    </tr>\n",
       "    <tr>\n",
       "      <th>index</th>\n",
       "      <th></th>\n",
       "      <th></th>\n",
       "      <th></th>\n",
       "      <th></th>\n",
       "      <th></th>\n",
       "      <th></th>\n",
       "      <th></th>\n",
       "      <th></th>\n",
       "      <th></th>\n",
       "      <th></th>\n",
       "      <th></th>\n",
       "      <th></th>\n",
       "      <th></th>\n",
       "      <th></th>\n",
       "      <th></th>\n",
       "      <th></th>\n",
       "      <th></th>\n",
       "      <th></th>\n",
       "      <th></th>\n",
       "    </tr>\n",
       "  </thead>\n",
       "  <tbody>\n",
       "    <tr>\n",
       "      <th>1641</th>\n",
       "      <td>2021-11-08 08:00:00+02:00</td>\n",
       "      <td>0.5</td>\n",
       "      <td>0.4</td>\n",
       "      <td>99</td>\n",
       "      <td>NaN</td>\n",
       "      <td>10.0</td>\n",
       "      <td>330</td>\n",
       "      <td>14.4</td>\n",
       "      <td>33.299999</td>\n",
       "      <td>997.299988</td>\n",
       "      <td>15</td>\n",
       "      <td>0.11471</td>\n",
       "      <td>0.816</td>\n",
       "      <td>2021</td>\n",
       "      <td>11</td>\n",
       "      <td>8</td>\n",
       "      <td>8</td>\n",
       "      <td>0</td>\n",
       "      <td>autumn</td>\n",
       "    </tr>\n",
       "    <tr>\n",
       "      <th>1977</th>\n",
       "      <td>2021-11-22 08:00:00+02:00</td>\n",
       "      <td>-4.3</td>\n",
       "      <td>-7.6</td>\n",
       "      <td>78</td>\n",
       "      <td>NaN</td>\n",
       "      <td>0.0</td>\n",
       "      <td>290</td>\n",
       "      <td>7.2</td>\n",
       "      <td>16.700001</td>\n",
       "      <td>1014.599976</td>\n",
       "      <td>1</td>\n",
       "      <td>0.28261</td>\n",
       "      <td>1.290</td>\n",
       "      <td>2021</td>\n",
       "      <td>11</td>\n",
       "      <td>22</td>\n",
       "      <td>8</td>\n",
       "      <td>0</td>\n",
       "      <td>autumn</td>\n",
       "    </tr>\n",
       "    <tr>\n",
       "      <th>2001</th>\n",
       "      <td>2021-11-23 08:00:00+02:00</td>\n",
       "      <td>-2.2</td>\n",
       "      <td>-3.6</td>\n",
       "      <td>90</td>\n",
       "      <td>NaN</td>\n",
       "      <td>0.0</td>\n",
       "      <td>170</td>\n",
       "      <td>10.8</td>\n",
       "      <td>24.100000</td>\n",
       "      <td>1010.200012</td>\n",
       "      <td>14</td>\n",
       "      <td>0.18589</td>\n",
       "      <td>0.617</td>\n",
       "      <td>2021</td>\n",
       "      <td>11</td>\n",
       "      <td>23</td>\n",
       "      <td>8</td>\n",
       "      <td>1</td>\n",
       "      <td>autumn</td>\n",
       "    </tr>\n",
       "    <tr>\n",
       "      <th>2097</th>\n",
       "      <td>2021-11-27 08:00:00+02:00</td>\n",
       "      <td>-0.4</td>\n",
       "      <td>-1.2</td>\n",
       "      <td>94</td>\n",
       "      <td>NaN</td>\n",
       "      <td>60.0</td>\n",
       "      <td>60</td>\n",
       "      <td>10.8</td>\n",
       "      <td>20.400000</td>\n",
       "      <td>1000.700012</td>\n",
       "      <td>4</td>\n",
       "      <td>0.12840</td>\n",
       "      <td>1.899</td>\n",
       "      <td>2021</td>\n",
       "      <td>11</td>\n",
       "      <td>27</td>\n",
       "      <td>8</td>\n",
       "      <td>5</td>\n",
       "      <td>autumn</td>\n",
       "    </tr>\n",
       "    <tr>\n",
       "      <th>2121</th>\n",
       "      <td>2021-11-28 08:00:00+02:00</td>\n",
       "      <td>-3.0</td>\n",
       "      <td>-3.8</td>\n",
       "      <td>94</td>\n",
       "      <td>NaN</td>\n",
       "      <td>70.0</td>\n",
       "      <td>20</td>\n",
       "      <td>7.2</td>\n",
       "      <td>14.800000</td>\n",
       "      <td>999.700012</td>\n",
       "      <td>14</td>\n",
       "      <td>0.15876</td>\n",
       "      <td>0.636</td>\n",
       "      <td>2021</td>\n",
       "      <td>11</td>\n",
       "      <td>28</td>\n",
       "      <td>8</td>\n",
       "      <td>6</td>\n",
       "      <td>autumn</td>\n",
       "    </tr>\n",
       "    <tr>\n",
       "      <th>...</th>\n",
       "      <td>...</td>\n",
       "      <td>...</td>\n",
       "      <td>...</td>\n",
       "      <td>...</td>\n",
       "      <td>...</td>\n",
       "      <td>...</td>\n",
       "      <td>...</td>\n",
       "      <td>...</td>\n",
       "      <td>...</td>\n",
       "      <td>...</td>\n",
       "      <td>...</td>\n",
       "      <td>...</td>\n",
       "      <td>...</td>\n",
       "      <td>...</td>\n",
       "      <td>...</td>\n",
       "      <td>...</td>\n",
       "      <td>...</td>\n",
       "      <td>...</td>\n",
       "      <td>...</td>\n",
       "    </tr>\n",
       "    <tr>\n",
       "      <th>5049</th>\n",
       "      <td>2022-03-30 09:00:00+03:00</td>\n",
       "      <td>-6.8</td>\n",
       "      <td>-8.7</td>\n",
       "      <td>86</td>\n",
       "      <td>NaN</td>\n",
       "      <td>40.0</td>\n",
       "      <td>210</td>\n",
       "      <td>7.2</td>\n",
       "      <td>14.800000</td>\n",
       "      <td>1005.700012</td>\n",
       "      <td>1</td>\n",
       "      <td>0.24437</td>\n",
       "      <td>1.394</td>\n",
       "      <td>2022</td>\n",
       "      <td>3</td>\n",
       "      <td>30</td>\n",
       "      <td>9</td>\n",
       "      <td>2</td>\n",
       "      <td>spring</td>\n",
       "    </tr>\n",
       "    <tr>\n",
       "      <th>5073</th>\n",
       "      <td>2022-03-31 09:00:00+03:00</td>\n",
       "      <td>-3.5</td>\n",
       "      <td>-6.9</td>\n",
       "      <td>77</td>\n",
       "      <td>NaN</td>\n",
       "      <td>20.0</td>\n",
       "      <td>200</td>\n",
       "      <td>3.6</td>\n",
       "      <td>11.100000</td>\n",
       "      <td>1010.099976</td>\n",
       "      <td>1</td>\n",
       "      <td>0.32356</td>\n",
       "      <td>1.403</td>\n",
       "      <td>2022</td>\n",
       "      <td>3</td>\n",
       "      <td>31</td>\n",
       "      <td>9</td>\n",
       "      <td>3</td>\n",
       "      <td>spring</td>\n",
       "    </tr>\n",
       "    <tr>\n",
       "      <th>5169</th>\n",
       "      <td>2022-04-04 09:00:00+03:00</td>\n",
       "      <td>0.1</td>\n",
       "      <td>-2.6</td>\n",
       "      <td>82</td>\n",
       "      <td>NaN</td>\n",
       "      <td>10.0</td>\n",
       "      <td>200</td>\n",
       "      <td>14.4</td>\n",
       "      <td>24.100000</td>\n",
       "      <td>1000.500000</td>\n",
       "      <td>4</td>\n",
       "      <td>0.10116</td>\n",
       "      <td>1.380</td>\n",
       "      <td>2022</td>\n",
       "      <td>4</td>\n",
       "      <td>4</td>\n",
       "      <td>9</td>\n",
       "      <td>0</td>\n",
       "      <td>spring</td>\n",
       "    </tr>\n",
       "    <tr>\n",
       "      <th>5217</th>\n",
       "      <td>2022-04-06 09:00:00+03:00</td>\n",
       "      <td>-1.6</td>\n",
       "      <td>-5.3</td>\n",
       "      <td>76</td>\n",
       "      <td>NaN</td>\n",
       "      <td>20.0</td>\n",
       "      <td>260</td>\n",
       "      <td>14.4</td>\n",
       "      <td>29.600000</td>\n",
       "      <td>990.500000</td>\n",
       "      <td>3</td>\n",
       "      <td>0.17961</td>\n",
       "      <td>1.152</td>\n",
       "      <td>2022</td>\n",
       "      <td>4</td>\n",
       "      <td>6</td>\n",
       "      <td>9</td>\n",
       "      <td>2</td>\n",
       "      <td>spring</td>\n",
       "    </tr>\n",
       "    <tr>\n",
       "      <th>5241</th>\n",
       "      <td>2022-04-07 09:00:00+03:00</td>\n",
       "      <td>3.3</td>\n",
       "      <td>3.0</td>\n",
       "      <td>98</td>\n",
       "      <td>NaN</td>\n",
       "      <td>10.0</td>\n",
       "      <td>190</td>\n",
       "      <td>7.2</td>\n",
       "      <td>18.500000</td>\n",
       "      <td>987.099976</td>\n",
       "      <td>7</td>\n",
       "      <td>0.15141</td>\n",
       "      <td>0.746</td>\n",
       "      <td>2022</td>\n",
       "      <td>4</td>\n",
       "      <td>7</td>\n",
       "      <td>9</td>\n",
       "      <td>3</td>\n",
       "      <td>spring</td>\n",
       "    </tr>\n",
       "  </tbody>\n",
       "</table>\n",
       "<p>119 rows × 19 columns</p>\n",
       "</div>"
      ],
      "text/plain": [
       "                           time  temp  dwpt  rhum  prcp  snow  wdir  wspd  \\\n",
       "index                                                                       \n",
       "1641  2021-11-08 08:00:00+02:00   0.5   0.4    99   NaN  10.0   330  14.4   \n",
       "1977  2021-11-22 08:00:00+02:00  -4.3  -7.6    78   NaN   0.0   290   7.2   \n",
       "2001  2021-11-23 08:00:00+02:00  -2.2  -3.6    90   NaN   0.0   170  10.8   \n",
       "2097  2021-11-27 08:00:00+02:00  -0.4  -1.2    94   NaN  60.0    60  10.8   \n",
       "2121  2021-11-28 08:00:00+02:00  -3.0  -3.8    94   NaN  70.0    20   7.2   \n",
       "...                         ...   ...   ...   ...   ...   ...   ...   ...   \n",
       "5049  2022-03-30 09:00:00+03:00  -6.8  -8.7    86   NaN  40.0   210   7.2   \n",
       "5073  2022-03-31 09:00:00+03:00  -3.5  -6.9    77   NaN  20.0   200   3.6   \n",
       "5169  2022-04-04 09:00:00+03:00   0.1  -2.6    82   NaN  10.0   200  14.4   \n",
       "5217  2022-04-06 09:00:00+03:00  -1.6  -5.3    76   NaN  20.0   260  14.4   \n",
       "5241  2022-04-07 09:00:00+03:00   3.3   3.0    98   NaN  10.0   190   7.2   \n",
       "\n",
       "            wpgt         pres coco  el_price  consumption  year  month  day  \\\n",
       "index                                                                         \n",
       "1641   33.299999   997.299988   15   0.11471        0.816  2021     11    8   \n",
       "1977   16.700001  1014.599976    1   0.28261        1.290  2021     11   22   \n",
       "2001   24.100000  1010.200012   14   0.18589        0.617  2021     11   23   \n",
       "2097   20.400000  1000.700012    4   0.12840        1.899  2021     11   27   \n",
       "2121   14.800000   999.700012   14   0.15876        0.636  2021     11   28   \n",
       "...          ...          ...  ...       ...          ...   ...    ...  ...   \n",
       "5049   14.800000  1005.700012    1   0.24437        1.394  2022      3   30   \n",
       "5073   11.100000  1010.099976    1   0.32356        1.403  2022      3   31   \n",
       "5169   24.100000  1000.500000    4   0.10116        1.380  2022      4    4   \n",
       "5217   29.600000   990.500000    3   0.17961        1.152  2022      4    6   \n",
       "5241   18.500000   987.099976    7   0.15141        0.746  2022      4    7   \n",
       "\n",
       "       hour  weekday  season  \n",
       "index                         \n",
       "1641      8        0  autumn  \n",
       "1977      8        0  autumn  \n",
       "2001      8        1  autumn  \n",
       "2097      8        5  autumn  \n",
       "2121      8        6  autumn  \n",
       "...     ...      ...     ...  \n",
       "5049      9        2  spring  \n",
       "5073      9        3  spring  \n",
       "5169      9        0  spring  \n",
       "5217      9        2  spring  \n",
       "5241      9        3  spring  \n",
       "\n",
       "[119 rows x 19 columns]"
      ]
     },
     "execution_count": 26,
     "metadata": {},
     "output_type": "execute_result"
    }
   ],
   "source": [
    "to_plot = train[~train[\"snow\"].isna()]\n",
    "to_plot"
   ]
  },
  {
   "cell_type": "code",
   "execution_count": 27,
   "metadata": {
    "execution": {
     "iopub.execute_input": "2022-11-26T10:58:26.667864Z",
     "iopub.status.busy": "2022-11-26T10:58:26.667216Z",
     "iopub.status.idle": "2022-11-26T10:58:26.685892Z",
     "shell.execute_reply": "2022-11-26T10:58:26.683853Z",
     "shell.execute_reply.started": "2022-11-26T10:58:26.667809Z"
    },
    "tags": []
   },
   "outputs": [
    {
     "data": {
      "text/plain": [
       "count    119.000000\n",
       "mean      78.319328\n",
       "std       63.129128\n",
       "min        0.000000\n",
       "25%       20.000000\n",
       "50%       60.000000\n",
       "75%      130.000000\n",
       "max      220.000000\n",
       "Name: snow, dtype: float64"
      ]
     },
     "execution_count": 27,
     "metadata": {},
     "output_type": "execute_result"
    }
   ],
   "source": [
    "to_plot[\"snow\"].describe()"
   ]
  },
  {
   "cell_type": "code",
   "execution_count": 28,
   "metadata": {
    "execution": {
     "iopub.execute_input": "2022-11-26T10:58:26.689146Z",
     "iopub.status.busy": "2022-11-26T10:58:26.688221Z",
     "iopub.status.idle": "2022-11-26T10:58:26.704415Z",
     "shell.execute_reply": "2022-11-26T10:58:26.702233Z",
     "shell.execute_reply.started": "2022-11-26T10:58:26.689088Z"
    },
    "tags": []
   },
   "outputs": [
    {
     "data": {
      "text/plain": [
       "60.0"
      ]
     },
     "execution_count": 28,
     "metadata": {},
     "output_type": "execute_result"
    }
   ],
   "source": [
    "to_plot[\"snow\"].median()"
   ]
  },
  {
   "cell_type": "code",
   "execution_count": 29,
   "metadata": {
    "execution": {
     "iopub.execute_input": "2022-11-26T10:58:26.709206Z",
     "iopub.status.busy": "2022-11-26T10:58:26.707223Z",
     "iopub.status.idle": "2022-11-26T10:58:30.730941Z",
     "shell.execute_reply": "2022-11-26T10:58:30.729033Z",
     "shell.execute_reply.started": "2022-11-26T10:58:26.709140Z"
    },
    "tags": []
   },
   "outputs": [
    {
     "name": "stdout",
     "output_type": "stream",
     "text": [
      "\n"
     ]
    },
    {
     "data": {
      "image/png": "[encoded data removed]",
      "text/plain": [
       "<Figure size 640x480 with 1 Axes>"
      ]
     },
     "metadata": {},
     "output_type": "display_data"
    }
   ],
   "source": [
    "g1 = sns.barplot(to_plot, x=\"time\", y=\"snow\")\n",
    "g1.set(xticklabels=[])\n",
    "print()"
   ]
  },
  {
   "cell_type": "code",
   "execution_count": 30,
   "metadata": {
    "execution": {
     "iopub.execute_input": "2022-11-26T10:58:30.735328Z",
     "iopub.status.busy": "2022-11-26T10:58:30.734068Z",
     "iopub.status.idle": "2022-11-26T10:58:31.697905Z",
     "shell.execute_reply": "2022-11-26T10:58:31.695486Z",
     "shell.execute_reply.started": "2022-11-26T10:58:30.735264Z"
    },
    "tags": []
   },
   "outputs": [
    {
     "data": {
      "text/plain": [
       "<AxesSubplot: xlabel='day', ylabel='month'>"
      ]
     },
     "execution_count": 30,
     "metadata": {},
     "output_type": "execute_result"
    },
    {
     "data": {
      "image/png": "[encoded data removed]",
      "text/plain": [
       "<Figure size 640x480 with 1 Axes>"
      ]
     },
     "metadata": {},
     "output_type": "display_data"
    }
   ],
   "source": [
    "sns.scatterplot(to_plot, x=\"day\", y=\"month\", hue=\"hour\")"
   ]
  },
  {
   "cell_type": "code",
   "execution_count": 31,
   "metadata": {
    "execution": {
     "iopub.execute_input": "2022-11-26T10:58:31.702478Z",
     "iopub.status.busy": "2022-11-26T10:58:31.700326Z",
     "iopub.status.idle": "2022-11-26T10:58:32.406076Z",
     "shell.execute_reply": "2022-11-26T10:58:32.403255Z",
     "shell.execute_reply.started": "2022-11-26T10:58:31.702408Z"
    },
    "tags": []
   },
   "outputs": [
    {
     "data": {
      "text/plain": [
       "<AxesSubplot: xlabel='day', ylabel='hour'>"
      ]
     },
     "execution_count": 31,
     "metadata": {},
     "output_type": "execute_result"
    },
    {
     "data": {
      "image/png": "[encoded data removed]",
      "text/plain": [
       "<Figure size 640x480 with 1 Axes>"
      ]
     },
     "metadata": {},
     "output_type": "display_data"
    }
   ],
   "source": [
    "sns.scatterplot(to_plot[to_plot[\"hour\"] != 8], x=\"day\", y=\"hour\", hue=\"month\")"
   ]
  },
  {
   "cell_type": "code",
   "execution_count": 32,
   "metadata": {
    "execution": {
     "iopub.execute_input": "2022-11-26T10:58:32.411235Z",
     "iopub.status.busy": "2022-11-26T10:58:32.409055Z",
     "iopub.status.idle": "2022-11-26T10:58:32.515342Z",
     "shell.execute_reply": "2022-11-26T10:58:32.512658Z",
     "shell.execute_reply.started": "2022-11-26T10:58:32.411163Z"
    },
    "tags": []
   },
   "outputs": [
    {
     "data": {
      "text/html": [
       "<div>\n",
       "<style scoped>\n",
       "    .dataframe tbody tr th:only-of-type {\n",
       "        vertical-align: middle;\n",
       "    }\n",
       "\n",
       "    .dataframe tbody tr th {\n",
       "        vertical-align: top;\n",
       "    }\n",
       "\n",
       "    .dataframe thead th {\n",
       "        text-align: right;\n",
       "    }\n",
       "</style>\n",
       "<table border=\"1\" class=\"dataframe\">\n",
       "  <thead>\n",
       "    <tr style=\"text-align: right;\">\n",
       "      <th></th>\n",
       "      <th>time</th>\n",
       "      <th>temp</th>\n",
       "      <th>dwpt</th>\n",
       "      <th>rhum</th>\n",
       "      <th>prcp</th>\n",
       "      <th>snow</th>\n",
       "      <th>wdir</th>\n",
       "      <th>wspd</th>\n",
       "      <th>wpgt</th>\n",
       "      <th>pres</th>\n",
       "      <th>coco</th>\n",
       "      <th>el_price</th>\n",
       "      <th>consumption</th>\n",
       "      <th>year</th>\n",
       "      <th>month</th>\n",
       "      <th>day</th>\n",
       "      <th>hour</th>\n",
       "      <th>weekday</th>\n",
       "      <th>season</th>\n",
       "    </tr>\n",
       "    <tr>\n",
       "      <th>index</th>\n",
       "      <th></th>\n",
       "      <th></th>\n",
       "      <th></th>\n",
       "      <th></th>\n",
       "      <th></th>\n",
       "      <th></th>\n",
       "      <th></th>\n",
       "      <th></th>\n",
       "      <th></th>\n",
       "      <th></th>\n",
       "      <th></th>\n",
       "      <th></th>\n",
       "      <th></th>\n",
       "      <th></th>\n",
       "      <th></th>\n",
       "      <th></th>\n",
       "      <th></th>\n",
       "      <th></th>\n",
       "      <th></th>\n",
       "    </tr>\n",
       "  </thead>\n",
       "  <tbody>\n",
       "    <tr>\n",
       "      <th>4977</th>\n",
       "      <td>2022-03-27 09:00:00+03:00</td>\n",
       "      <td>-3.5</td>\n",
       "      <td>-11.9</td>\n",
       "      <td>52</td>\n",
       "      <td>NaN</td>\n",
       "      <td>10.0</td>\n",
       "      <td>330</td>\n",
       "      <td>21.6</td>\n",
       "      <td>37.000000</td>\n",
       "      <td>1024.000000</td>\n",
       "      <td>2</td>\n",
       "      <td>0.10092</td>\n",
       "      <td>1.454</td>\n",
       "      <td>2022</td>\n",
       "      <td>3</td>\n",
       "      <td>27</td>\n",
       "      <td>9</td>\n",
       "      <td>6</td>\n",
       "      <td>spring</td>\n",
       "    </tr>\n",
       "    <tr>\n",
       "      <th>5025</th>\n",
       "      <td>2022-03-29 09:00:00+03:00</td>\n",
       "      <td>-3.8</td>\n",
       "      <td>-6.1</td>\n",
       "      <td>84</td>\n",
       "      <td>NaN</td>\n",
       "      <td>10.0</td>\n",
       "      <td>330</td>\n",
       "      <td>7.2</td>\n",
       "      <td>16.700001</td>\n",
       "      <td>1001.000000</td>\n",
       "      <td>14</td>\n",
       "      <td>0.27697</td>\n",
       "      <td>1.419</td>\n",
       "      <td>2022</td>\n",
       "      <td>3</td>\n",
       "      <td>29</td>\n",
       "      <td>9</td>\n",
       "      <td>1</td>\n",
       "      <td>spring</td>\n",
       "    </tr>\n",
       "    <tr>\n",
       "      <th>5049</th>\n",
       "      <td>2022-03-30 09:00:00+03:00</td>\n",
       "      <td>-6.8</td>\n",
       "      <td>-8.7</td>\n",
       "      <td>86</td>\n",
       "      <td>NaN</td>\n",
       "      <td>40.0</td>\n",
       "      <td>210</td>\n",
       "      <td>7.2</td>\n",
       "      <td>14.800000</td>\n",
       "      <td>1005.700012</td>\n",
       "      <td>1</td>\n",
       "      <td>0.24437</td>\n",
       "      <td>1.394</td>\n",
       "      <td>2022</td>\n",
       "      <td>3</td>\n",
       "      <td>30</td>\n",
       "      <td>9</td>\n",
       "      <td>2</td>\n",
       "      <td>spring</td>\n",
       "    </tr>\n",
       "    <tr>\n",
       "      <th>5073</th>\n",
       "      <td>2022-03-31 09:00:00+03:00</td>\n",
       "      <td>-3.5</td>\n",
       "      <td>-6.9</td>\n",
       "      <td>77</td>\n",
       "      <td>NaN</td>\n",
       "      <td>20.0</td>\n",
       "      <td>200</td>\n",
       "      <td>3.6</td>\n",
       "      <td>11.100000</td>\n",
       "      <td>1010.099976</td>\n",
       "      <td>1</td>\n",
       "      <td>0.32356</td>\n",
       "      <td>1.403</td>\n",
       "      <td>2022</td>\n",
       "      <td>3</td>\n",
       "      <td>31</td>\n",
       "      <td>9</td>\n",
       "      <td>3</td>\n",
       "      <td>spring</td>\n",
       "    </tr>\n",
       "    <tr>\n",
       "      <th>5169</th>\n",
       "      <td>2022-04-04 09:00:00+03:00</td>\n",
       "      <td>0.1</td>\n",
       "      <td>-2.6</td>\n",
       "      <td>82</td>\n",
       "      <td>NaN</td>\n",
       "      <td>10.0</td>\n",
       "      <td>200</td>\n",
       "      <td>14.4</td>\n",
       "      <td>24.100000</td>\n",
       "      <td>1000.500000</td>\n",
       "      <td>4</td>\n",
       "      <td>0.10116</td>\n",
       "      <td>1.380</td>\n",
       "      <td>2022</td>\n",
       "      <td>4</td>\n",
       "      <td>4</td>\n",
       "      <td>9</td>\n",
       "      <td>0</td>\n",
       "      <td>spring</td>\n",
       "    </tr>\n",
       "    <tr>\n",
       "      <th>5217</th>\n",
       "      <td>2022-04-06 09:00:00+03:00</td>\n",
       "      <td>-1.6</td>\n",
       "      <td>-5.3</td>\n",
       "      <td>76</td>\n",
       "      <td>NaN</td>\n",
       "      <td>20.0</td>\n",
       "      <td>260</td>\n",
       "      <td>14.4</td>\n",
       "      <td>29.600000</td>\n",
       "      <td>990.500000</td>\n",
       "      <td>3</td>\n",
       "      <td>0.17961</td>\n",
       "      <td>1.152</td>\n",
       "      <td>2022</td>\n",
       "      <td>4</td>\n",
       "      <td>6</td>\n",
       "      <td>9</td>\n",
       "      <td>2</td>\n",
       "      <td>spring</td>\n",
       "    </tr>\n",
       "    <tr>\n",
       "      <th>5241</th>\n",
       "      <td>2022-04-07 09:00:00+03:00</td>\n",
       "      <td>3.3</td>\n",
       "      <td>3.0</td>\n",
       "      <td>98</td>\n",
       "      <td>NaN</td>\n",
       "      <td>10.0</td>\n",
       "      <td>190</td>\n",
       "      <td>7.2</td>\n",
       "      <td>18.500000</td>\n",
       "      <td>987.099976</td>\n",
       "      <td>7</td>\n",
       "      <td>0.15141</td>\n",
       "      <td>0.746</td>\n",
       "      <td>2022</td>\n",
       "      <td>4</td>\n",
       "      <td>7</td>\n",
       "      <td>9</td>\n",
       "      <td>3</td>\n",
       "      <td>spring</td>\n",
       "    </tr>\n",
       "  </tbody>\n",
       "</table>\n",
       "</div>"
      ],
      "text/plain": [
       "                           time  temp  dwpt  rhum  prcp  snow  wdir  wspd  \\\n",
       "index                                                                       \n",
       "4977  2022-03-27 09:00:00+03:00  -3.5 -11.9    52   NaN  10.0   330  21.6   \n",
       "5025  2022-03-29 09:00:00+03:00  -3.8  -6.1    84   NaN  10.0   330   7.2   \n",
       "5049  2022-03-30 09:00:00+03:00  -6.8  -8.7    86   NaN  40.0   210   7.2   \n",
       "5073  2022-03-31 09:00:00+03:00  -3.5  -6.9    77   NaN  20.0   200   3.6   \n",
       "5169  2022-04-04 09:00:00+03:00   0.1  -2.6    82   NaN  10.0   200  14.4   \n",
       "5217  2022-04-06 09:00:00+03:00  -1.6  -5.3    76   NaN  20.0   260  14.4   \n",
       "5241  2022-04-07 09:00:00+03:00   3.3   3.0    98   NaN  10.0   190   7.2   \n",
       "\n",
       "            wpgt         pres coco  el_price  consumption  year  month  day  \\\n",
       "index                                                                         \n",
       "4977   37.000000  1024.000000    2   0.10092        1.454  2022      3   27   \n",
       "5025   16.700001  1001.000000   14   0.27697        1.419  2022      3   29   \n",
       "5049   14.800000  1005.700012    1   0.24437        1.394  2022      3   30   \n",
       "5073   11.100000  1010.099976    1   0.32356        1.403  2022      3   31   \n",
       "5169   24.100000  1000.500000    4   0.10116        1.380  2022      4    4   \n",
       "5217   29.600000   990.500000    3   0.17961        1.152  2022      4    6   \n",
       "5241   18.500000   987.099976    7   0.15141        0.746  2022      4    7   \n",
       "\n",
       "       hour  weekday  season  \n",
       "index                         \n",
       "4977      9        6  spring  \n",
       "5025      9        1  spring  \n",
       "5049      9        2  spring  \n",
       "5073      9        3  spring  \n",
       "5169      9        0  spring  \n",
       "5217      9        2  spring  \n",
       "5241      9        3  spring  "
      ]
     },
     "execution_count": 32,
     "metadata": {},
     "output_type": "execute_result"
    }
   ],
   "source": [
    "to_plot[to_plot[\"hour\"] != 8]"
   ]
  },
  {
   "cell_type": "code",
   "execution_count": 33,
   "metadata": {
    "execution": {
     "iopub.execute_input": "2022-11-26T10:58:32.523868Z",
     "iopub.status.busy": "2022-11-26T10:58:32.523025Z",
     "iopub.status.idle": "2022-11-26T10:58:32.648746Z",
     "shell.execute_reply": "2022-11-26T10:58:32.640521Z",
     "shell.execute_reply.started": "2022-11-26T10:58:32.523824Z"
    },
    "tags": []
   },
   "outputs": [
    {
     "data": {
      "text/html": [
       "<div>\n",
       "<style scoped>\n",
       "    .dataframe tbody tr th:only-of-type {\n",
       "        vertical-align: middle;\n",
       "    }\n",
       "\n",
       "    .dataframe tbody tr th {\n",
       "        vertical-align: top;\n",
       "    }\n",
       "\n",
       "    .dataframe thead th {\n",
       "        text-align: right;\n",
       "    }\n",
       "</style>\n",
       "<table border=\"1\" class=\"dataframe\">\n",
       "  <thead>\n",
       "    <tr style=\"text-align: right;\">\n",
       "      <th></th>\n",
       "      <th>time</th>\n",
       "      <th>temp</th>\n",
       "      <th>dwpt</th>\n",
       "      <th>rhum</th>\n",
       "      <th>prcp</th>\n",
       "      <th>snow</th>\n",
       "      <th>wdir</th>\n",
       "      <th>wspd</th>\n",
       "      <th>wpgt</th>\n",
       "      <th>pres</th>\n",
       "      <th>coco</th>\n",
       "      <th>el_price</th>\n",
       "      <th>consumption</th>\n",
       "      <th>year</th>\n",
       "      <th>month</th>\n",
       "      <th>day</th>\n",
       "      <th>hour</th>\n",
       "      <th>weekday</th>\n",
       "      <th>season</th>\n",
       "    </tr>\n",
       "    <tr>\n",
       "      <th>index</th>\n",
       "      <th></th>\n",
       "      <th></th>\n",
       "      <th></th>\n",
       "      <th></th>\n",
       "      <th></th>\n",
       "      <th></th>\n",
       "      <th></th>\n",
       "      <th></th>\n",
       "      <th></th>\n",
       "      <th></th>\n",
       "      <th></th>\n",
       "      <th></th>\n",
       "      <th></th>\n",
       "      <th></th>\n",
       "      <th></th>\n",
       "      <th></th>\n",
       "      <th></th>\n",
       "      <th></th>\n",
       "      <th></th>\n",
       "    </tr>\n",
       "  </thead>\n",
       "  <tbody>\n",
       "    <tr>\n",
       "      <th>4977</th>\n",
       "      <td>2022-03-27 09:00:00+03:00</td>\n",
       "      <td>-3.5</td>\n",
       "      <td>-11.9</td>\n",
       "      <td>52</td>\n",
       "      <td>NaN</td>\n",
       "      <td>10.0</td>\n",
       "      <td>330</td>\n",
       "      <td>21.6</td>\n",
       "      <td>37.000000</td>\n",
       "      <td>1024.000000</td>\n",
       "      <td>2</td>\n",
       "      <td>0.10092</td>\n",
       "      <td>1.454</td>\n",
       "      <td>2022</td>\n",
       "      <td>3</td>\n",
       "      <td>27</td>\n",
       "      <td>9</td>\n",
       "      <td>6</td>\n",
       "      <td>spring</td>\n",
       "    </tr>\n",
       "    <tr>\n",
       "      <th>5025</th>\n",
       "      <td>2022-03-29 09:00:00+03:00</td>\n",
       "      <td>-3.8</td>\n",
       "      <td>-6.1</td>\n",
       "      <td>84</td>\n",
       "      <td>NaN</td>\n",
       "      <td>10.0</td>\n",
       "      <td>330</td>\n",
       "      <td>7.2</td>\n",
       "      <td>16.700001</td>\n",
       "      <td>1001.000000</td>\n",
       "      <td>14</td>\n",
       "      <td>0.27697</td>\n",
       "      <td>1.419</td>\n",
       "      <td>2022</td>\n",
       "      <td>3</td>\n",
       "      <td>29</td>\n",
       "      <td>9</td>\n",
       "      <td>1</td>\n",
       "      <td>spring</td>\n",
       "    </tr>\n",
       "    <tr>\n",
       "      <th>5049</th>\n",
       "      <td>2022-03-30 09:00:00+03:00</td>\n",
       "      <td>-6.8</td>\n",
       "      <td>-8.7</td>\n",
       "      <td>86</td>\n",
       "      <td>NaN</td>\n",
       "      <td>40.0</td>\n",
       "      <td>210</td>\n",
       "      <td>7.2</td>\n",
       "      <td>14.800000</td>\n",
       "      <td>1005.700012</td>\n",
       "      <td>1</td>\n",
       "      <td>0.24437</td>\n",
       "      <td>1.394</td>\n",
       "      <td>2022</td>\n",
       "      <td>3</td>\n",
       "      <td>30</td>\n",
       "      <td>9</td>\n",
       "      <td>2</td>\n",
       "      <td>spring</td>\n",
       "    </tr>\n",
       "    <tr>\n",
       "      <th>5073</th>\n",
       "      <td>2022-03-31 09:00:00+03:00</td>\n",
       "      <td>-3.5</td>\n",
       "      <td>-6.9</td>\n",
       "      <td>77</td>\n",
       "      <td>NaN</td>\n",
       "      <td>20.0</td>\n",
       "      <td>200</td>\n",
       "      <td>3.6</td>\n",
       "      <td>11.100000</td>\n",
       "      <td>1010.099976</td>\n",
       "      <td>1</td>\n",
       "      <td>0.32356</td>\n",
       "      <td>1.403</td>\n",
       "      <td>2022</td>\n",
       "      <td>3</td>\n",
       "      <td>31</td>\n",
       "      <td>9</td>\n",
       "      <td>3</td>\n",
       "      <td>spring</td>\n",
       "    </tr>\n",
       "    <tr>\n",
       "      <th>5169</th>\n",
       "      <td>2022-04-04 09:00:00+03:00</td>\n",
       "      <td>0.1</td>\n",
       "      <td>-2.6</td>\n",
       "      <td>82</td>\n",
       "      <td>NaN</td>\n",
       "      <td>10.0</td>\n",
       "      <td>200</td>\n",
       "      <td>14.4</td>\n",
       "      <td>24.100000</td>\n",
       "      <td>1000.500000</td>\n",
       "      <td>4</td>\n",
       "      <td>0.10116</td>\n",
       "      <td>1.380</td>\n",
       "      <td>2022</td>\n",
       "      <td>4</td>\n",
       "      <td>4</td>\n",
       "      <td>9</td>\n",
       "      <td>0</td>\n",
       "      <td>spring</td>\n",
       "    </tr>\n",
       "    <tr>\n",
       "      <th>5217</th>\n",
       "      <td>2022-04-06 09:00:00+03:00</td>\n",
       "      <td>-1.6</td>\n",
       "      <td>-5.3</td>\n",
       "      <td>76</td>\n",
       "      <td>NaN</td>\n",
       "      <td>20.0</td>\n",
       "      <td>260</td>\n",
       "      <td>14.4</td>\n",
       "      <td>29.600000</td>\n",
       "      <td>990.500000</td>\n",
       "      <td>3</td>\n",
       "      <td>0.17961</td>\n",
       "      <td>1.152</td>\n",
       "      <td>2022</td>\n",
       "      <td>4</td>\n",
       "      <td>6</td>\n",
       "      <td>9</td>\n",
       "      <td>2</td>\n",
       "      <td>spring</td>\n",
       "    </tr>\n",
       "  </tbody>\n",
       "</table>\n",
       "</div>"
      ],
      "text/plain": [
       "                           time  temp  dwpt  rhum  prcp  snow  wdir  wspd  \\\n",
       "index                                                                       \n",
       "4977  2022-03-27 09:00:00+03:00  -3.5 -11.9    52   NaN  10.0   330  21.6   \n",
       "5025  2022-03-29 09:00:00+03:00  -3.8  -6.1    84   NaN  10.0   330   7.2   \n",
       "5049  2022-03-30 09:00:00+03:00  -6.8  -8.7    86   NaN  40.0   210   7.2   \n",
       "5073  2022-03-31 09:00:00+03:00  -3.5  -6.9    77   NaN  20.0   200   3.6   \n",
       "5169  2022-04-04 09:00:00+03:00   0.1  -2.6    82   NaN  10.0   200  14.4   \n",
       "5217  2022-04-06 09:00:00+03:00  -1.6  -5.3    76   NaN  20.0   260  14.4   \n",
       "\n",
       "            wpgt         pres coco  el_price  consumption  year  month  day  \\\n",
       "index                                                                         \n",
       "4977   37.000000  1024.000000    2   0.10092        1.454  2022      3   27   \n",
       "5025   16.700001  1001.000000   14   0.27697        1.419  2022      3   29   \n",
       "5049   14.800000  1005.700012    1   0.24437        1.394  2022      3   30   \n",
       "5073   11.100000  1010.099976    1   0.32356        1.403  2022      3   31   \n",
       "5169   24.100000  1000.500000    4   0.10116        1.380  2022      4    4   \n",
       "5217   29.600000   990.500000    3   0.17961        1.152  2022      4    6   \n",
       "\n",
       "       hour  weekday  season  \n",
       "index                         \n",
       "4977      9        6  spring  \n",
       "5025      9        1  spring  \n",
       "5049      9        2  spring  \n",
       "5073      9        3  spring  \n",
       "5169      9        0  spring  \n",
       "5217      9        2  spring  "
      ]
     },
     "execution_count": 33,
     "metadata": {},
     "output_type": "execute_result"
    }
   ],
   "source": [
    "to_plot[~to_plot[\"snow\"].isna() & to_plot.index.isin(np.arange(4954, 5241))]"
   ]
  },
  {
   "cell_type": "markdown",
   "metadata": {},
   "source": [
    "From what I see in the data the snow variable is collected only once per day, either at 8 or 9 o'clock. It becomes 9 o'clock after the shift to summer time. \n",
    "\n",
    "The variable will probably be useless for our prediction, since we need only august. Still I think it might be useful to have it. If the performence of training is lacking, this is the first candidate for cleaning.\n",
    "\n",
    "For better differentiation I will copy the measured data throughout the whole day."
   ]
  },
  {
   "cell_type": "markdown",
   "metadata": {},
   "source": [
    "**IMPORTANT**\n",
    "\n",
    "For the following code to work I am making an assumption the data is perfect. Specifically, that there is no time input missing in the whole dataset. \n",
    "\n",
    "I have not check the assumption yet. It is necessary to do so."
   ]
  },
  {
   "cell_type": "code",
   "execution_count": 34,
   "metadata": {
    "execution": {
     "iopub.execute_input": "2022-11-26T10:58:32.663618Z",
     "iopub.status.busy": "2022-11-26T10:58:32.657609Z",
     "iopub.status.idle": "2022-11-26T10:58:32.689458Z",
     "shell.execute_reply": "2022-11-26T10:58:32.687446Z",
     "shell.execute_reply.started": "2022-11-26T10:58:32.663567Z"
    }
   },
   "outputs": [],
   "source": [
    "# Prepare the data for further preprocessing\n",
    "# Copy the snow values collected at 9th hour\n",
    "## to the 8th hour of the same day\n",
    "\n",
    "hour_cond = train[\"hour\"] == 9\n",
    "snow_cond = ~(train[\"snow\"].isna())\n",
    "combined_view = train[hour_cond & snow_cond]\n",
    "\n",
    "train.loc[combined_view.index - 1, \"snow\"] = combined_view[\"snow\"].values"
   ]
  },
  {
   "cell_type": "code",
   "execution_count": 35,
   "metadata": {
    "execution": {
     "iopub.execute_input": "2022-11-26T10:58:32.694474Z",
     "iopub.status.busy": "2022-11-26T10:58:32.692407Z",
     "iopub.status.idle": "2022-11-26T10:58:32.718979Z",
     "shell.execute_reply": "2022-11-26T10:58:32.714270Z",
     "shell.execute_reply.started": "2022-11-26T10:58:32.694407Z"
    },
    "tags": []
   },
   "outputs": [],
   "source": [
    "hour_cond = train[\"hour\"] == 8\n",
    "snow_cond = ~(train[\"snow\"].isna())\n",
    "combined_view = train[hour_cond & snow_cond]\n",
    "\n",
    "# Get indexes that need to be changed\n",
    "list_of_lists_indexes_to_change = np.fromiter(\n",
    "    map(lambda x: np.arange(x - 8, x + 16), combined_view.index), dtype=object\n",
    ")\n",
    "idxs_to_change = np.concatenate(list_of_lists_indexes_to_change).ravel()\n",
    "\n",
    "# Get values that should be imputed at the place of indexes\n",
    "values_to_impute = combined_view.loc[combined_view.index.repeat(24), \"snow\"].values\n",
    "\n",
    "# Put it all together\n",
    "train.loc[idxs_to_change, \"snow\"] = values_to_impute"
   ]
  },
  {
   "cell_type": "code",
   "execution_count": 36,
   "metadata": {
    "execution": {
     "iopub.execute_input": "2022-11-26T10:58:32.725660Z",
     "iopub.status.busy": "2022-11-26T10:58:32.724315Z",
     "iopub.status.idle": "2022-11-26T10:58:32.822251Z",
     "shell.execute_reply": "2022-11-26T10:58:32.819280Z",
     "shell.execute_reply.started": "2022-11-26T10:58:32.725597Z"
    },
    "tags": []
   },
   "outputs": [
    {
     "data": {
      "text/html": [
       "<div>\n",
       "<style scoped>\n",
       "    .dataframe tbody tr th:only-of-type {\n",
       "        vertical-align: middle;\n",
       "    }\n",
       "\n",
       "    .dataframe tbody tr th {\n",
       "        vertical-align: top;\n",
       "    }\n",
       "\n",
       "    .dataframe thead th {\n",
       "        text-align: right;\n",
       "    }\n",
       "</style>\n",
       "<table border=\"1\" class=\"dataframe\">\n",
       "  <thead>\n",
       "    <tr style=\"text-align: right;\">\n",
       "      <th></th>\n",
       "      <th>time</th>\n",
       "      <th>temp</th>\n",
       "      <th>dwpt</th>\n",
       "      <th>rhum</th>\n",
       "      <th>prcp</th>\n",
       "      <th>snow</th>\n",
       "      <th>wdir</th>\n",
       "      <th>wspd</th>\n",
       "      <th>wpgt</th>\n",
       "      <th>pres</th>\n",
       "      <th>coco</th>\n",
       "      <th>el_price</th>\n",
       "      <th>consumption</th>\n",
       "      <th>year</th>\n",
       "      <th>month</th>\n",
       "      <th>day</th>\n",
       "      <th>hour</th>\n",
       "      <th>weekday</th>\n",
       "      <th>season</th>\n",
       "    </tr>\n",
       "    <tr>\n",
       "      <th>index</th>\n",
       "      <th></th>\n",
       "      <th></th>\n",
       "      <th></th>\n",
       "      <th></th>\n",
       "      <th></th>\n",
       "      <th></th>\n",
       "      <th></th>\n",
       "      <th></th>\n",
       "      <th></th>\n",
       "      <th></th>\n",
       "      <th></th>\n",
       "      <th></th>\n",
       "      <th></th>\n",
       "      <th></th>\n",
       "      <th></th>\n",
       "      <th></th>\n",
       "      <th></th>\n",
       "      <th></th>\n",
       "      <th></th>\n",
       "    </tr>\n",
       "  </thead>\n",
       "  <tbody>\n",
       "    <tr>\n",
       "      <th>3113</th>\n",
       "      <td>2022-01-08 16:00:00+02:00</td>\n",
       "      <td>-2.3</td>\n",
       "      <td>-4.3</td>\n",
       "      <td>86</td>\n",
       "      <td>NaN</td>\n",
       "      <td>70.0</td>\n",
       "      <td>160</td>\n",
       "      <td>14.4</td>\n",
       "      <td>20.400000</td>\n",
       "      <td>1008.500000</td>\n",
       "      <td>14</td>\n",
       "      <td>0.17388</td>\n",
       "      <td>1.981</td>\n",
       "      <td>2022</td>\n",
       "      <td>1</td>\n",
       "      <td>8</td>\n",
       "      <td>16</td>\n",
       "      <td>5</td>\n",
       "      <td>winter</td>\n",
       "    </tr>\n",
       "    <tr>\n",
       "      <th>2968</th>\n",
       "      <td>2022-01-02 15:00:00+02:00</td>\n",
       "      <td>-4.8</td>\n",
       "      <td>-6.9</td>\n",
       "      <td>85</td>\n",
       "      <td>NaN</td>\n",
       "      <td>110.0</td>\n",
       "      <td>140</td>\n",
       "      <td>14.4</td>\n",
       "      <td>25.900000</td>\n",
       "      <td>1008.700012</td>\n",
       "      <td>14</td>\n",
       "      <td>0.06519</td>\n",
       "      <td>1.194</td>\n",
       "      <td>2022</td>\n",
       "      <td>1</td>\n",
       "      <td>2</td>\n",
       "      <td>15</td>\n",
       "      <td>6</td>\n",
       "      <td>winter</td>\n",
       "    </tr>\n",
       "    <tr>\n",
       "      <th>5040</th>\n",
       "      <td>2022-03-30 00:00:00+03:00</td>\n",
       "      <td>-7.6</td>\n",
       "      <td>-8.4</td>\n",
       "      <td>94</td>\n",
       "      <td>NaN</td>\n",
       "      <td>40.0</td>\n",
       "      <td>240</td>\n",
       "      <td>3.6</td>\n",
       "      <td>7.400000</td>\n",
       "      <td>1004.900024</td>\n",
       "      <td>2</td>\n",
       "      <td>0.19160</td>\n",
       "      <td>1.456</td>\n",
       "      <td>2022</td>\n",
       "      <td>3</td>\n",
       "      <td>30</td>\n",
       "      <td>0</td>\n",
       "      <td>2</td>\n",
       "      <td>spring</td>\n",
       "    </tr>\n",
       "    <tr>\n",
       "      <th>3990</th>\n",
       "      <td>2022-02-14 05:00:00+02:00</td>\n",
       "      <td>1.2</td>\n",
       "      <td>-3.1</td>\n",
       "      <td>73</td>\n",
       "      <td>NaN</td>\n",
       "      <td>150.0</td>\n",
       "      <td>220</td>\n",
       "      <td>14.4</td>\n",
       "      <td>31.500000</td>\n",
       "      <td>1007.299988</td>\n",
       "      <td>4</td>\n",
       "      <td>0.01468</td>\n",
       "      <td>3.914</td>\n",
       "      <td>2022</td>\n",
       "      <td>2</td>\n",
       "      <td>14</td>\n",
       "      <td>5</td>\n",
       "      <td>0</td>\n",
       "      <td>winter</td>\n",
       "    </tr>\n",
       "    <tr>\n",
       "      <th>2812</th>\n",
       "      <td>2021-12-27 03:00:00+02:00</td>\n",
       "      <td>-7.4</td>\n",
       "      <td>-8.8</td>\n",
       "      <td>90</td>\n",
       "      <td>NaN</td>\n",
       "      <td>130.0</td>\n",
       "      <td>260</td>\n",
       "      <td>7.2</td>\n",
       "      <td>11.100000</td>\n",
       "      <td>1009.299988</td>\n",
       "      <td>14</td>\n",
       "      <td>0.09118</td>\n",
       "      <td>1.819</td>\n",
       "      <td>2021</td>\n",
       "      <td>12</td>\n",
       "      <td>27</td>\n",
       "      <td>3</td>\n",
       "      <td>0</td>\n",
       "      <td>winter</td>\n",
       "    </tr>\n",
       "    <tr>\n",
       "      <th>2111</th>\n",
       "      <td>2021-11-27 22:00:00+02:00</td>\n",
       "      <td>-3.3</td>\n",
       "      <td>-5.0</td>\n",
       "      <td>88</td>\n",
       "      <td>NaN</td>\n",
       "      <td>60.0</td>\n",
       "      <td>40</td>\n",
       "      <td>10.8</td>\n",
       "      <td>29.600000</td>\n",
       "      <td>999.000000</td>\n",
       "      <td>14</td>\n",
       "      <td>0.20000</td>\n",
       "      <td>0.584</td>\n",
       "      <td>2021</td>\n",
       "      <td>11</td>\n",
       "      <td>27</td>\n",
       "      <td>22</td>\n",
       "      <td>5</td>\n",
       "      <td>autumn</td>\n",
       "    </tr>\n",
       "    <tr>\n",
       "      <th>2233</th>\n",
       "      <td>2021-12-03 00:00:00+02:00</td>\n",
       "      <td>-4.7</td>\n",
       "      <td>-6.2</td>\n",
       "      <td>89</td>\n",
       "      <td>NaN</td>\n",
       "      <td>170.0</td>\n",
       "      <td>60</td>\n",
       "      <td>10.8</td>\n",
       "      <td>20.400000</td>\n",
       "      <td>989.599976</td>\n",
       "      <td>14</td>\n",
       "      <td>0.12709</td>\n",
       "      <td>1.871</td>\n",
       "      <td>2021</td>\n",
       "      <td>12</td>\n",
       "      <td>3</td>\n",
       "      <td>0</td>\n",
       "      <td>4</td>\n",
       "      <td>winter</td>\n",
       "    </tr>\n",
       "    <tr>\n",
       "      <th>2474</th>\n",
       "      <td>2021-12-13 01:00:00+02:00</td>\n",
       "      <td>1.0</td>\n",
       "      <td>0.9</td>\n",
       "      <td>99</td>\n",
       "      <td>NaN</td>\n",
       "      <td>100.0</td>\n",
       "      <td>280</td>\n",
       "      <td>7.2</td>\n",
       "      <td>11.100000</td>\n",
       "      <td>1021.099976</td>\n",
       "      <td>5</td>\n",
       "      <td>0.13197</td>\n",
       "      <td>1.555</td>\n",
       "      <td>2021</td>\n",
       "      <td>12</td>\n",
       "      <td>13</td>\n",
       "      <td>1</td>\n",
       "      <td>0</td>\n",
       "      <td>winter</td>\n",
       "    </tr>\n",
       "    <tr>\n",
       "      <th>4015</th>\n",
       "      <td>2022-02-15 06:00:00+02:00</td>\n",
       "      <td>1.8</td>\n",
       "      <td>-2.5</td>\n",
       "      <td>73</td>\n",
       "      <td>NaN</td>\n",
       "      <td>150.0</td>\n",
       "      <td>200</td>\n",
       "      <td>14.4</td>\n",
       "      <td>31.500000</td>\n",
       "      <td>1007.700012</td>\n",
       "      <td>4</td>\n",
       "      <td>0.09776</td>\n",
       "      <td>0.490</td>\n",
       "      <td>2022</td>\n",
       "      <td>2</td>\n",
       "      <td>15</td>\n",
       "      <td>6</td>\n",
       "      <td>1</td>\n",
       "      <td>winter</td>\n",
       "    </tr>\n",
       "    <tr>\n",
       "      <th>2431</th>\n",
       "      <td>2021-12-11 06:00:00+02:00</td>\n",
       "      <td>-0.9</td>\n",
       "      <td>-1.9</td>\n",
       "      <td>93</td>\n",
       "      <td>NaN</td>\n",
       "      <td>170.0</td>\n",
       "      <td>100</td>\n",
       "      <td>25.9</td>\n",
       "      <td>35.200001</td>\n",
       "      <td>1015.000000</td>\n",
       "      <td>14</td>\n",
       "      <td>0.13461</td>\n",
       "      <td>2.226</td>\n",
       "      <td>2021</td>\n",
       "      <td>12</td>\n",
       "      <td>11</td>\n",
       "      <td>6</td>\n",
       "      <td>5</td>\n",
       "      <td>winter</td>\n",
       "    </tr>\n",
       "  </tbody>\n",
       "</table>\n",
       "</div>"
      ],
      "text/plain": [
       "                           time  temp  dwpt  rhum  prcp   snow  wdir  wspd  \\\n",
       "index                                                                        \n",
       "3113  2022-01-08 16:00:00+02:00  -2.3  -4.3    86   NaN   70.0   160  14.4   \n",
       "2968  2022-01-02 15:00:00+02:00  -4.8  -6.9    85   NaN  110.0   140  14.4   \n",
       "5040  2022-03-30 00:00:00+03:00  -7.6  -8.4    94   NaN   40.0   240   3.6   \n",
       "3990  2022-02-14 05:00:00+02:00   1.2  -3.1    73   NaN  150.0   220  14.4   \n",
       "2812  2021-12-27 03:00:00+02:00  -7.4  -8.8    90   NaN  130.0   260   7.2   \n",
       "2111  2021-11-27 22:00:00+02:00  -3.3  -5.0    88   NaN   60.0    40  10.8   \n",
       "2233  2021-12-03 00:00:00+02:00  -4.7  -6.2    89   NaN  170.0    60  10.8   \n",
       "2474  2021-12-13 01:00:00+02:00   1.0   0.9    99   NaN  100.0   280   7.2   \n",
       "4015  2022-02-15 06:00:00+02:00   1.8  -2.5    73   NaN  150.0   200  14.4   \n",
       "2431  2021-12-11 06:00:00+02:00  -0.9  -1.9    93   NaN  170.0   100  25.9   \n",
       "\n",
       "            wpgt         pres coco  el_price  consumption  year  month  day  \\\n",
       "index                                                                         \n",
       "3113   20.400000  1008.500000   14   0.17388        1.981  2022      1    8   \n",
       "2968   25.900000  1008.700012   14   0.06519        1.194  2022      1    2   \n",
       "5040    7.400000  1004.900024    2   0.19160        1.456  2022      3   30   \n",
       "3990   31.500000  1007.299988    4   0.01468        3.914  2022      2   14   \n",
       "2812   11.100000  1009.299988   14   0.09118        1.819  2021     12   27   \n",
       "2111   29.600000   999.000000   14   0.20000        0.584  2021     11   27   \n",
       "2233   20.400000   989.599976   14   0.12709        1.871  2021     12    3   \n",
       "2474   11.100000  1021.099976    5   0.13197        1.555  2021     12   13   \n",
       "4015   31.500000  1007.700012    4   0.09776        0.490  2022      2   15   \n",
       "2431   35.200001  1015.000000   14   0.13461        2.226  2021     12   11   \n",
       "\n",
       "       hour  weekday  season  \n",
       "index                         \n",
       "3113     16        5  winter  \n",
       "2968     15        6  winter  \n",
       "5040      0        2  spring  \n",
       "3990      5        0  winter  \n",
       "2812      3        0  winter  \n",
       "2111     22        5  autumn  \n",
       "2233      0        4  winter  \n",
       "2474      1        0  winter  \n",
       "4015      6        1  winter  \n",
       "2431      6        5  winter  "
      ]
     },
     "execution_count": 36,
     "metadata": {},
     "output_type": "execute_result"
    }
   ],
   "source": [
    "train.loc[idxs_to_change, :].sample(n=10, random_state=111)"
   ]
  },
  {
   "cell_type": "markdown",
   "metadata": {},
   "source": [
    "It seems my magic works!\n",
    "\n",
    "Now let's impute the rest of NaNs with zeros."
   ]
  },
  {
   "cell_type": "code",
   "execution_count": 37,
   "metadata": {
    "execution": {
     "iopub.execute_input": "2022-11-26T10:58:32.861295Z",
     "iopub.status.busy": "2022-11-26T10:58:32.859559Z",
     "iopub.status.idle": "2022-11-26T10:58:32.887197Z",
     "shell.execute_reply": "2022-11-26T10:58:32.885644Z",
     "shell.execute_reply.started": "2022-11-26T10:58:32.861229Z"
    },
    "tags": []
   },
   "outputs": [
    {
     "data": {
      "text/plain": [
       "False"
      ]
     },
     "execution_count": 37,
     "metadata": {},
     "output_type": "execute_result"
    }
   ],
   "source": [
    "train[\"snow\"] = train[\"snow\"].fillna(0)\n",
    "train[\"snow\"].isna().any()"
   ]
  },
  {
   "cell_type": "markdown",
   "metadata": {
    "tags": []
   },
   "source": [
    "### Correlation heatmap"
   ]
  },
  {
   "cell_type": "code",
   "execution_count": 38,
   "metadata": {
    "execution": {
     "iopub.execute_input": "2022-11-26T10:58:32.893539Z",
     "iopub.status.busy": "2022-11-26T10:58:32.890883Z",
     "iopub.status.idle": "2022-11-26T10:58:35.279693Z",
     "shell.execute_reply": "2022-11-26T10:58:35.278669Z",
     "shell.execute_reply.started": "2022-11-26T10:58:32.893469Z"
    },
    "tags": []
   },
   "outputs": [
    {
     "name": "stderr",
     "output_type": "stream",
     "text": [
      "/var/folders/qn/lk9fg3fs0hg9v8b7zh5lbybw0000gn/T/ipykernel_14381/1694794515.py:3: FutureWarning: The default value of numeric_only in DataFrame.corr is deprecated. In a future version, it will default to False. Select only valid columns or specify the value of numeric_only to silence this warning.\n",
      "  cov_matrix = train.corr()\n"
     ]
    },
    {
     "data": {
      "image/png": "[encoded data removed]",
      "text/plain": [
       "<Figure size 1200x1200 with 2 Axes>"
      ]
     },
     "metadata": {},
     "output_type": "display_data"
    }
   ],
   "source": [
    "plt.figure(figsize=(12, 12))\n",
    "\n",
    "cov_matrix = train.corr()\n",
    "sns.heatmap(cov_matrix.round(2), annot=True, cmap=\"YlGnBu\", square=True)\n",
    "plt.show()"
   ]
  },
  {
   "cell_type": "code",
   "execution_count": 39,
   "metadata": {
    "execution": {
     "iopub.execute_input": "2022-11-26T10:58:35.283357Z",
     "iopub.status.busy": "2022-11-26T10:58:35.281862Z",
     "iopub.status.idle": "2022-11-26T10:58:38.124488Z",
     "shell.execute_reply": "2022-11-26T10:58:38.118852Z",
     "shell.execute_reply.started": "2022-11-26T10:58:35.283293Z"
    },
    "tags": []
   },
   "outputs": [
    {
     "data": {
      "text/plain": [
       "<AxesSubplot: >"
      ]
     },
     "execution_count": 39,
     "metadata": {},
     "output_type": "execute_result"
    },
    {
     "data": {
      "image/png": "[encoded data removed]",
      "text/plain": [
       "<Figure size 1200x1200 with 2 Axes>"
      ]
     },
     "metadata": {},
     "output_type": "display_data"
    }
   ],
   "source": [
    "# Correlation method I found at https://stackoverflow.com/questions/48035381/correlation-among-multiple-categorical-variables-pandas\n",
    "# Might give completely wrong information, I do not understand its asumptions\n",
    "# From what I understand it transforms categorical to nominal values and computes correlation\n",
    "\n",
    "plt.figure(figsize=(12, 12))\n",
    "\n",
    "train_corr = train.apply(lambda x: pd.factorize(x)[0]).corr().round(2)\n",
    "\n",
    "sns.heatmap(train_corr, annot=True, cmap=\"YlGnBu\", square=True)"
   ]
  },
  {
   "cell_type": "code",
   "execution_count": null,
   "metadata": {},
   "outputs": [],
   "source": []
  },
  {
   "cell_type": "code",
   "execution_count": null,
   "metadata": {},
   "outputs": [],
   "source": []
  },
  {
   "cell_type": "markdown",
   "metadata": {},
   "source": [
    "# Models"
   ]
  },
  {
   "cell_type": "markdown",
   "metadata": {},
   "source": [
    "## Transformer"
   ]
  },
  {
   "cell_type": "markdown",
   "metadata": {},
   "source": [
    "### Setup"
   ]
  },
  {
   "cell_type": "markdown",
   "metadata": {},
   "source": [
    "Inspired by [Heiko Onnen](https://towardsdatascience.com/transformer-unleashed-deep-forecasting-of-multivariate-time-series-in-python-9ca729dac019)"
   ]
  },
  {
   "cell_type": "code",
   "execution_count": 40,
   "metadata": {
    "execution": {
     "iopub.execute_input": "2022-11-26T10:58:38.132723Z",
     "iopub.status.busy": "2022-11-26T10:58:38.127658Z",
     "iopub.status.idle": "2022-11-26T10:58:38.152980Z",
     "shell.execute_reply": "2022-11-26T10:58:38.150260Z",
     "shell.execute_reply.started": "2022-11-26T10:58:38.132646Z"
    },
    "tags": []
   },
   "outputs": [
    {
     "data": {
      "text/plain": [
       "time           False\n",
       "temp           False\n",
       "dwpt           False\n",
       "rhum           False\n",
       "prcp            True\n",
       "snow           False\n",
       "wdir           False\n",
       "wspd           False\n",
       "wpgt           False\n",
       "pres           False\n",
       "coco           False\n",
       "el_price       False\n",
       "consumption     True\n",
       "year           False\n",
       "month          False\n",
       "day            False\n",
       "hour           False\n",
       "weekday        False\n",
       "season         False\n",
       "dtype: bool"
      ]
     },
     "execution_count": 40,
     "metadata": {},
     "output_type": "execute_result"
    }
   ],
   "source": [
    "# Temporary, repalce NaN with zeros\n",
    "train.isna().any(axis=0)"
   ]
  },
  {
   "cell_type": "code",
   "execution_count": 41,
   "metadata": {
    "execution": {
     "iopub.execute_input": "2022-11-26T10:58:38.157223Z",
     "iopub.status.busy": "2022-11-26T10:58:38.155659Z",
     "iopub.status.idle": "2022-11-26T10:58:38.192425Z",
     "shell.execute_reply": "2022-11-26T10:58:38.190086Z",
     "shell.execute_reply.started": "2022-11-26T10:58:38.157142Z"
    },
    "tags": []
   },
   "outputs": [
    {
     "data": {
      "text/plain": [
       "False"
      ]
     },
     "execution_count": 41,
     "metadata": {},
     "output_type": "execute_result"
    }
   ],
   "source": [
    "train = train.fillna(0)\n",
    "train.isna().values.any()"
   ]
  },
  {
   "cell_type": "code",
   "execution_count": 42,
   "metadata": {
    "execution": {
     "iopub.execute_input": "2022-11-26T10:58:38.202472Z",
     "iopub.status.busy": "2022-11-26T10:58:38.201744Z",
     "iopub.status.idle": "2022-11-26T10:58:48.807386Z",
     "shell.execute_reply": "2022-11-26T10:58:48.805483Z",
     "shell.execute_reply.started": "2022-11-26T10:58:38.202438Z"
    },
    "tags": []
   },
   "outputs": [
    {
     "name": "stderr",
     "output_type": "stream",
     "text": [
      "/Users/macbook/.pyenv/versions/mltartu/lib/python3.10/site-packages/tqdm/auto.py:22: TqdmWarning: IProgress not found. Please update jupyter and ipywidgets. See https://ipywidgets.readthedocs.io/en/stable/user_install.html\n",
      "  from .autonotebook import tqdm as notebook_tqdm\n"
     ]
    }
   ],
   "source": [
    "import os\n",
    "\n",
    "from darts import TimeSeries, concatenate\n",
    "from darts.dataprocessing.transformers import Scaler\n",
    "from darts.metrics import mape, rmse\n",
    "from darts.models import TransformerModel\n",
    "from darts.utils.likelihood_models import QuantileRegression\n",
    "from darts.utils.timeseries_generation import datetime_attribute_timeseries"
   ]
  },
  {
   "cell_type": "code",
   "execution_count": 43,
   "metadata": {
    "execution": {
     "iopub.execute_input": "2022-11-26T10:58:48.810794Z",
     "iopub.status.busy": "2022-11-26T10:58:48.809720Z",
     "iopub.status.idle": "2022-11-26T10:58:48.840893Z",
     "shell.execute_reply": "2022-11-26T10:58:48.838132Z",
     "shell.execute_reply.started": "2022-11-26T10:58:48.810748Z"
    },
    "tags": []
   },
   "outputs": [],
   "source": [
    "LOAD = (\n",
    "    False  # True = load previously saved model from disk?  False = (re)train the model\n",
    ")\n",
    "SAVE = \"transformer.tar\"  # file name to save the model under\n",
    "\n",
    "EPOCHS = 200\n",
    "INLEN = 32  # input size\n",
    "FEAT = 32  # d_model = number of expected features in the inputs, up to 512\n",
    "HEADS = 4  # default 8\n",
    "ENCODE = 4  # encoder layers\n",
    "DECODE = 4  # decoder layers\n",
    "DIM_FF = 128  # dimensions of the feedforward network, default 2048\n",
    "BATCH = 32  # batch size\n",
    "ACTF = \"relu\"  # activation function, relu (default) or gelu\n",
    "SCHLEARN = None  # a PyTorch learning rate scheduler; None = constant rate\n",
    "LEARN = 1e-3  # learning rate\n",
    "VALWAIT = 1  # epochs to wait before evaluating the loss on the test/validation set\n",
    "DROPOUT = 0.1  # dropout rate\n",
    "N_FC = 1  # output size\n",
    "\n",
    "RAND = 42  # random seed\n",
    "N_SAMPLES = 100  # number of times a prediction is sampled from a probabilistic model\n",
    "N_JOBS = 3  # parallel processors to use;  -1 = all processors\n",
    "\n",
    "# default quantiles for QuantileRegression\n",
    "QUANTILES = [0.01, 0.1, 0.2, 0.5, 0.8, 0.9, 0.99]\n",
    "\n",
    "FIGSIZE = (9, 6)\n",
    "\n",
    "\n",
    "qL1, qL2 = 0.01, 0.10  # percentiles of predictions: lower bounds\n",
    "qU1, qU2 = (\n",
    "    1 - qL1,\n",
    "    1 - qL2,\n",
    ")  # upper bounds derived from lower bounds\n",
    "label_q1 = f\"{int(qU1 * 100)} / {int(qL1 * 100)} percentile band\"\n",
    "label_q2 = f\"{int(qU2 * 100)} / {int(qL2 * 100)} percentile band\"\n",
    "\n",
    "mpath = os.path.abspath(os.getcwd()) + SAVE  # path and file name to save the model"
   ]
  },
  {
   "cell_type": "code",
   "execution_count": 44,
   "metadata": {
    "execution": {
     "iopub.execute_input": "2022-11-26T10:58:48.844874Z",
     "iopub.status.busy": "2022-11-26T10:58:48.844127Z",
     "iopub.status.idle": "2022-11-26T10:58:48.908721Z",
     "shell.execute_reply": "2022-11-26T10:58:48.897038Z",
     "shell.execute_reply.started": "2022-11-26T10:58:48.844832Z"
    },
    "tags": []
   },
   "outputs": [],
   "source": [
    "model = TransformerModel(\n",
    "    input_chunk_length=INLEN,\n",
    "    output_chunk_length=N_FC,\n",
    "    batch_size=BATCH,\n",
    "    n_epochs=EPOCHS,\n",
    "    model_name=\"Transformer_consumption\",\n",
    "    nr_epochs_val_period=VALWAIT,\n",
    "    d_model=FEAT,\n",
    "    nhead=HEADS,\n",
    "    num_encoder_layers=ENCODE,\n",
    "    num_decoder_layers=DECODE,\n",
    "    dim_feedforward=DIM_FF,\n",
    "    dropout=DROPOUT,\n",
    "    activation=ACTF,\n",
    "    random_state=RAND,\n",
    "    likelihood=QuantileRegression(quantiles=QUANTILES),\n",
    "    optimizer_kwargs={\"lr\": LEARN},\n",
    "    add_encoders={\"cyclic\": {\"future\": [\"hour\", \"weekday\", \"month\"]}},\n",
    "    save_checkpoints=True,\n",
    "    force_reset=True,\n",
    ")"
   ]
  },
  {
   "cell_type": "code",
   "execution_count": 45,
   "metadata": {
    "execution": {
     "iopub.execute_input": "2022-11-26T10:58:48.925914Z",
     "iopub.status.busy": "2022-11-26T10:58:48.923953Z",
     "iopub.status.idle": "2022-11-26T10:58:48.997460Z",
     "shell.execute_reply": "2022-11-26T10:58:48.995978Z",
     "shell.execute_reply.started": "2022-11-26T10:58:48.925835Z"
    },
    "tags": []
   },
   "outputs": [
    {
     "name": "stdout",
     "output_type": "stream",
     "text": [
      "components: Index(['0'], dtype='object', name='component')\n",
      "duration: 357 days 23:00:00\n",
      "frequency: <Hour>\n",
      "frequency: H\n",
      "has date time index? (or else, it must have an integer index): True\n",
      "deterministic: True\n",
      "univariate: True\n"
     ]
    }
   ],
   "source": [
    "ts_label = TimeSeries.from_times_and_values(\n",
    "    times=pd.DatetimeIndex(train[\"time\"]), values=train[\"consumption\"]\n",
    ")\n",
    "\n",
    "# check attributes of the time series\n",
    "print(\"components:\", ts_label.components)\n",
    "print(\"duration:\", ts_label.duration)\n",
    "print(\"frequency:\", ts_label.freq)\n",
    "print(\"frequency:\", ts_label.freq_str)\n",
    "print(\n",
    "    \"has date time index? (or else, it must have an integer index):\",\n",
    "    ts_label.has_datetime_index,\n",
    ")\n",
    "print(\"deterministic:\", ts_label.is_deterministic)\n",
    "print(\"univariate:\", ts_label.is_univariate)"
   ]
  },
  {
   "cell_type": "code",
   "execution_count": 50,
   "metadata": {
    "execution": {
     "iopub.execute_input": "2022-11-26T11:05:13.308842Z",
     "iopub.status.busy": "2022-11-26T11:05:13.306010Z",
     "iopub.status.idle": "2022-11-26T11:05:13.332974Z",
     "shell.execute_reply": "2022-11-26T11:05:13.330632Z",
     "shell.execute_reply.started": "2022-11-26T11:05:13.308789Z"
    },
    "tags": []
   },
   "outputs": [
    {
     "name": "stdout",
     "output_type": "stream",
     "text": [
      "<class 'pandas.core.frame.DataFrame'>\n",
      "Int64Index: 8592 entries, 0 to 8591\n",
      "Data columns (total 19 columns):\n",
      " #   Column       Non-Null Count  Dtype                         \n",
      "---  ------       --------------  -----                         \n",
      " 0   time         8592 non-null   datetime64[ns, Europe/Tallinn]\n",
      " 1   temp         8592 non-null   float32                       \n",
      " 2   dwpt         8592 non-null   float32                       \n",
      " 3   rhum         8592 non-null   int32                         \n",
      " 4   prcp         8592 non-null   float32                       \n",
      " 5   snow         8592 non-null   float32                       \n",
      " 6   wdir         8592 non-null   int32                         \n",
      " 7   wspd         8592 non-null   float32                       \n",
      " 8   wpgt         8592 non-null   float32                       \n",
      " 9   pres         8592 non-null   float32                       \n",
      " 10  coco         8592 non-null   category                      \n",
      " 11  el_price     8592 non-null   float32                       \n",
      " 12  consumption  8592 non-null   float64                       \n",
      " 13  year         8592 non-null   int32                         \n",
      " 14  month        8592 non-null   int32                         \n",
      " 15  day          8592 non-null   int32                         \n",
      " 16  hour         8592 non-null   int32                         \n",
      " 17  weekday      8592 non-null   int32                         \n",
      " 18  season       8592 non-null   category                      \n",
      "dtypes: category(2), datetime64[ns, Europe/Tallinn](1), float32(8), float64(1), int32(7)\n",
      "memory usage: 980.6 KB\n"
     ]
    }
   ],
   "source": [
    "train.info()"
   ]
  },
  {
   "cell_type": "code",
   "execution_count": 63,
   "metadata": {
    "execution": {
     "iopub.execute_input": "2022-11-26T11:14:56.210616Z",
     "iopub.status.busy": "2022-11-26T11:14:56.209587Z",
     "iopub.status.idle": "2022-11-26T11:14:56.264642Z",
     "shell.execute_reply": "2022-11-26T11:14:56.259985Z",
     "shell.execute_reply.started": "2022-11-26T11:14:56.210556Z"
    },
    "tags": []
   },
   "outputs": [],
   "source": [
    "from sklearn.preprocessing import LabelEncoder\n",
    "\n",
    "le_season = LabelEncoder()\n",
    "\n",
    "le_season.fit(train[\"season\"])\n",
    "\n",
    "df_transformer = train.copy(deep=True)\n",
    "df_transformer[\"season\"] = le_season.transform(df_transformer[\"season\"])"
   ]
  },
  {
   "cell_type": "code",
   "execution_count": 61,
   "metadata": {
    "execution": {
     "iopub.execute_input": "2022-11-26T11:14:30.503545Z",
     "iopub.status.busy": "2022-11-26T11:14:30.502813Z",
     "iopub.status.idle": "2022-11-26T11:14:30.543539Z",
     "shell.execute_reply": "2022-11-26T11:14:30.541203Z",
     "shell.execute_reply.started": "2022-11-26T11:14:30.503503Z"
    },
    "tags": []
   },
   "outputs": [
    {
     "name": "stdout",
     "output_type": "stream",
     "text": [
      "components: Index(['temp', 'dwpt', 'rhum', 'prcp', 'snow', 'wdir', 'wspd', 'wpgt', 'pres',\n",
      "       'coco', 'el_price', 'season'],\n",
      "      dtype='object', name='component')\n",
      "duration: 357 days 23:00:00\n",
      "frequency: <Hour>\n",
      "frequency: H\n",
      "has date time index? (or else, it must have an integer index): True\n",
      "deterministic: True\n",
      "univariate: False\n"
     ]
    }
   ],
   "source": [
    "df_transformer = df_transformer.drop(\n",
    "    [\"weekday\", \"month\", \"day\", \"hour\", \"year\"], axis=1\n",
    ")\n",
    "\n",
    "ts_covF = TimeSeries.from_dataframe(\n",
    "    df_transformer.loc[:, df_transformer.columns != \"consumption\"].set_index(\"time\")\n",
    ")\n",
    "\n",
    "# check attributes of the time series\n",
    "print(\"components:\", ts_covF.components)\n",
    "print(\"duration:\", ts_covF.duration)\n",
    "print(\"frequency:\", ts_covF.freq)\n",
    "print(\"frequency:\", ts_covF.freq_str)\n",
    "print(\n",
    "    \"has date time index? (or else, it must have an integer index):\",\n",
    "    ts_covF.has_datetime_index,\n",
    ")\n",
    "print(\"deterministic:\", ts_covF.is_deterministic)\n",
    "print(\"univariate:\", ts_covF.is_univariate)"
   ]
  },
  {
   "cell_type": "code",
   "execution_count": 67,
   "metadata": {
    "execution": {
     "iopub.execute_input": "2022-11-26T11:23:25.472071Z",
     "iopub.status.busy": "2022-11-26T11:23:25.471568Z",
     "iopub.status.idle": "2022-11-26T11:23:25.487174Z",
     "shell.execute_reply": "2022-11-26T11:23:25.485031Z",
     "shell.execute_reply.started": "2022-11-26T11:23:25.472032Z"
    },
    "tags": []
   },
   "outputs": [
    {
     "data": {
      "text/plain": [
       "Timestamp('2022-08-17 23:00:00+0300', tz='Europe/Tallinn')"
      ]
     },
     "execution_count": 67,
     "metadata": {},
     "output_type": "execute_result"
    }
   ],
   "source": [
    "SPLIT = pd.Timestamp(\n",
    "    year=2022, month=8, day=17, hour=23, tzinfo=train.loc[0, \"time\"].tzinfo\n",
    ")\n",
    "SPLIT"
   ]
  },
  {
   "cell_type": "code",
   "execution_count": 72,
   "metadata": {
    "execution": {
     "iopub.execute_input": "2022-11-26T11:56:38.301657Z",
     "iopub.status.busy": "2022-11-26T11:56:38.300440Z",
     "iopub.status.idle": "2022-11-26T11:56:38.357774Z",
     "shell.execute_reply": "2022-11-26T11:56:38.355951Z",
     "shell.execute_reply.started": "2022-11-26T11:56:38.301587Z"
    },
    "tags": []
   },
   "outputs": [
    {
     "name": "stdout",
     "output_type": "stream",
     "text": [
      "training start: 2021-09-01 00:00:00+03:00\n",
      "training end: 2022-08-17 23:00:00+03:00\n",
      "training duration: 350 days 23:00:00\n",
      "val start: 2022-08-18 00:00:00+03:00\n",
      "val end: 2022-08-24 23:00:00+03:00\n",
      "val duration: 6 days 23:00:00\n"
     ]
    }
   ],
   "source": [
    "ts_train_label, ts_val_label = ts_label.split_after(SPLIT)\n",
    "print(\"training start:\", ts_train_label.start_time())\n",
    "print(\"training end:\", ts_train_label.end_time())\n",
    "print(\"training duration:\", ts_train_label.duration)\n",
    "print(\"val start:\", ts_val_label.start_time())\n",
    "print(\"val end:\", ts_val_label.end_time())\n",
    "print(\"val duration:\", ts_val_label.duration)\n",
    "\n",
    "\n",
    "scaler_label = Scaler()\n",
    "scaler_label.fit_transform(ts_train_label)\n",
    "ts_ttrain = scaler_label.transform(ts_train_label)\n",
    "ts_tval = scaler_label.transform(ts_val_label)\n",
    "ts_tall = scaler_label.transform(ts_train_label)"
   ]
  },
  {
   "cell_type": "code",
   "execution_count": 74,
   "metadata": {
    "execution": {
     "iopub.execute_input": "2022-11-26T12:16:26.690451Z",
     "iopub.status.busy": "2022-11-26T12:16:26.685335Z",
     "iopub.status.idle": "2022-11-26T12:16:27.089351Z",
     "shell.execute_reply": "2022-11-26T12:16:27.086379Z",
     "shell.execute_reply.started": "2022-11-26T12:16:26.690302Z"
    },
    "tags": []
   },
   "outputs": [
    {
     "name": "stdout",
     "output_type": "stream",
     "text": [
      "training start: 2021-09-01 00:00:00+03:00\n",
      "training end: 2022-08-17 23:00:00+03:00\n",
      "training duration: 350 days 23:00:00\n",
      "val start: 2022-08-18 00:00:00+03:00\n",
      "val end: 2022-08-24 23:00:00+03:00\n",
      "val duration: 6 days 23:00:00\n"
     ]
    }
   ],
   "source": [
    "covF_train, covF_val = ts_covF.split_after(SPLIT)\n",
    "\n",
    "print(\"training start:\", covF_train.start_time())\n",
    "print(\"training end:\", covF_train.end_time())\n",
    "print(\"training duration:\", covF_train.duration)\n",
    "print(\"val start:\", covF_val.start_time())\n",
    "print(\"val end:\", covF_val.end_time())\n",
    "print(\"val duration:\", covF_val.duration)\n",
    "\n",
    "scalerF = Scaler()\n",
    "scalerF.fit(covF_train)\n",
    "covF_ttrain = scalerF.transform(covF_train)\n",
    "covF_tval = scalerF.transform(covF_val)\n",
    "covF_tall = scalerF.transform(ts_covF)"
   ]
  },
  {
   "cell_type": "code",
   "execution_count": 76,
   "metadata": {
    "execution": {
     "iopub.execute_input": "2022-11-26T12:22:13.648172Z",
     "iopub.status.busy": "2022-11-26T12:22:13.645880Z",
     "iopub.status.idle": "2022-11-26T12:22:14.003773Z",
     "shell.execute_reply": "2022-11-26T12:22:14.000823Z",
     "shell.execute_reply.started": "2022-11-26T12:22:13.648101Z"
    },
    "tags": []
   },
   "outputs": [],
   "source": [
    "covT = datetime_attribute_timeseries(ts_label.time_index, attribute=\"hour\", one_hot=False)\n",
    "covT = covT.stack(\n",
    "    datetime_attribute_timeseries(\n",
    "        covT.time_index, attribute=\"day_of_week\", one_hot=False\n",
    "    )\n",
    ")\n",
    "covT = covT.stack(\n",
    "    datetime_attribute_timeseries(covT.time_index, attribute=\"month\", one_hot=False)\n",
    ")\n",
    "covT = covT.stack(\n",
    "    datetime_attribute_timeseries(covT.time_index, attribute=\"year\", one_hot=False)\n",
    ")\n",
    "\n",
    "covT = covT.add_holidays(country_code=\"EE\")\n",
    "covT = covT.astype(np.float32)\n",
    "\n",
    "covT_train, covT_val = covT.split_after(SPLIT)\n",
    "\n",
    "scalerT = Scaler()\n",
    "scalerT.fit(covT_train)\n",
    "covT_ttrain = scalerT.transform(covT_train)\n",
    "covT_tval = scalerT.transform(covT_val)\n",
    "covT_t = scalerT.transform(covT)\n",
    "\n",
    "covT_t = covT_t.astype(np.float32)"
   ]
  },
  {
   "cell_type": "code",
   "execution_count": null,
   "metadata": {
    "execution": {
     "iopub.execute_input": "2022-11-26T10:04:37.819559Z",
     "iopub.status.busy": "2022-11-26T10:04:37.815211Z",
     "iopub.status.idle": "2022-11-26T10:04:37.838682Z",
     "shell.execute_reply": "2022-11-26T10:04:37.835728Z",
     "shell.execute_reply.started": "2022-11-26T10:04:37.819415Z"
    },
    "tags": []
   },
   "outputs": [],
   "source": [
    "# ts_train = train.head(len(train) - 24 * 7).copy(deep=True)\n",
    "# ts_val = train.tail(24 * 7).copy(deep=True)\n",
    "\n",
    "# ts_train_labels = train_labels[0 : len(train) - 24 * 7]\n",
    "# ts_val_labels = train_labels[len(train) - 24 * 7 : ]\n",
    "\n",
    "# len(ts_train) == len(ts_train_labels)"
   ]
  },
  {
   "cell_type": "code",
   "execution_count": null,
   "metadata": {},
   "outputs": [],
   "source": []
  },
  {
   "cell_type": "code",
   "execution_count": 247,
   "metadata": {
    "execution": {
     "iopub.execute_input": "2022-11-25T22:08:22.678743Z",
     "iopub.status.busy": "2022-11-25T22:08:22.671118Z",
     "iopub.status.idle": "2022-11-25T22:08:23.103615Z",
     "shell.execute_reply": "2022-11-25T22:08:23.090081Z",
     "shell.execute_reply.started": "2022-11-25T22:08:22.678632Z"
    },
    "tags": []
   },
   "outputs": [
    {
     "ename": "NameError",
     "evalue": "name 'cov_t' is not defined",
     "output_type": "error",
     "traceback": [
      "\u001b[0;31m---------------------------------------------------------------------------\u001b[0m",
      "\u001b[0;31mNameError\u001b[0m                                 Traceback (most recent call last)",
      "Cell \u001b[0;32mIn [247], line 5\u001b[0m\n\u001b[1;32m      3\u001b[0m     model \u001b[38;5;241m=\u001b[39m TransformerModel\u001b[38;5;241m.\u001b[39mload_model(mpath)  \u001b[38;5;66;03m# load previously model from disk\u001b[39;00m\n\u001b[1;32m      4\u001b[0m \u001b[38;5;28;01melse\u001b[39;00m:\n\u001b[0;32m----> 5\u001b[0m     model\u001b[38;5;241m.\u001b[39mfit(ts_train, past_covariates\u001b[38;5;241m=\u001b[39m\u001b[43mcov_t\u001b[49m, verbose\u001b[38;5;241m=\u001b[39m\u001b[38;5;28;01mTrue\u001b[39;00m)\n\u001b[1;32m      6\u001b[0m     \u001b[38;5;28mprint\u001b[39m(\u001b[38;5;124m\"\u001b[39m\u001b[38;5;124mhave saved the model after training:\u001b[39m\u001b[38;5;124m\"\u001b[39m, mpath)\n\u001b[1;32m      7\u001b[0m     model\u001b[38;5;241m.\u001b[39msave_model(mpath)\n",
      "\u001b[0;31mNameError\u001b[0m: name 'cov_t' is not defined"
     ]
    }
   ],
   "source": [
    "if LOAD:\n",
    "    print(\"have loaded a previously saved model from disk:\" + mpath)\n",
    "    model = TransformerModel.load_model(mpath)  # load previously model from disk\n",
    "else:\n",
    "    model.fit(df_transformer, past_covariates=cov_t, verbose=True)\n",
    "    print(\"have saved the model after training:\", mpath)\n",
    "    model.save_model(mpath)"
   ]
  },
  {
   "cell_type": "markdown",
   "metadata": {
    "execution": {
     "iopub.execute_input": "2022-11-11T13:51:34.781525Z",
     "iopub.status.busy": "2022-11-11T13:51:34.780850Z",
     "iopub.status.idle": "2022-11-11T13:51:34.790668Z",
     "shell.execute_reply": "2022-11-11T13:51:34.786873Z",
     "shell.execute_reply.started": "2022-11-11T13:51:34.781477Z"
    },
    "tags": []
   },
   "source": [
    "## Data modification"
   ]
  },
  {
   "cell_type": "raw",
   "metadata": {
    "id": "LHrbzNOMJu7n"
   },
   "source": [
    "---------- End of generic setup code. Actual programming can begin after here ----------"
   ]
  },
  {
   "cell_type": "code",
   "execution_count": 31,
   "metadata": {
    "colab": {
     "base_uri": "https://localhost:8080/"
    },
    "execution": {
     "iopub.execute_input": "2022-11-26T10:04:24.133704Z",
     "iopub.status.busy": "2022-11-26T10:04:24.132429Z",
     "iopub.status.idle": "2022-11-26T10:04:24.541356Z",
     "shell.execute_reply": "2022-11-26T10:04:24.537660Z",
     "shell.execute_reply.started": "2022-11-26T10:04:24.133628Z"
    },
    "id": "kiinNWOkeH36",
    "outputId": "4ce8249e-ee9c-4dfd-ecba-0d47194e7773",
    "tags": []
   },
   "outputs": [
    {
     "name": "stdout",
     "output_type": "stream",
     "text": [
      "Retained 0.5 of variance with 1 number of features\n",
      "Retained 0.6 of variance with 1 number of features\n",
      "Retained 0.75 of variance with 2 number of features\n",
      "Retained 0.8 of variance with 2 number of features\n",
      "Retained 0.85 of variance with 2 number of features\n",
      "Retained 0.9 of variance with 2 number of features\n",
      "Retained 0.95 of variance with 3 number of features\n",
      "Retained 0.96 of variance with 4 number of features\n",
      "Retained 0.97 of variance with 4 number of features\n",
      "Retained 0.98 of variance with 5 number of features\n",
      "Retained 0.99 of variance with 7 number of features\n"
     ]
    }
   ],
   "source": [
    "# USE the code we wrote above\n",
    "train = train.drop([\"consumption\"], axis=1)\n",
    "\n",
    "train_no_time = train.drop([\"time\", \"coco\", \"season\"], axis=1)\n",
    "test_no_time = test.drop([\"time\", \"coco\"], axis=1)\n",
    "test_no_time, train_no_time, labels = replaceNanWithZero(\n",
    "    test_no_time, train_no_time, train_labels\n",
    ")\n",
    "\n",
    "PCA_Performance(train_no_time, test_no_time)"
   ]
  }
 ],
 "metadata": {
  "colab": {
   "collapsed_sections": [],
   "provenance": []
  },
  "kernelspec": {
   "display_name": "mltartu",
   "language": "python",
   "name": "mltartu"
  },
  "language_info": {
   "codemirror_mode": {
    "name": "ipython",
    "version": 3
   },
   "file_extension": ".py",
   "mimetype": "text/x-python",
   "name": "python",
   "nbconvert_exporter": "python",
   "pygments_lexer": "ipython3",
   "version": "3.10.8"
  }
 },
 "nbformat": 4,
 "nbformat_minor": 4
}
