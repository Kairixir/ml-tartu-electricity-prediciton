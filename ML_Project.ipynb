{
 "cells": [
  {
   "cell_type": "markdown",
   "metadata": {
    "id": "PMfr-moDJcJB",
    "tags": []
   },
   "source": [
    "# Setup\n",
    "\n"
   ]
  },
  {
   "cell_type": "markdown",
   "metadata": {
    "jp-MarkdownHeadingCollapsed": true,
    "tags": []
   },
   "source": [
    "## Colab setup\n",
    "---------- Start of generic setup code to get kaggle credentials login and data to work with. Copied much from Workshop 2 ----------"
   ]
  },
  {
   "cell_type": "code",
   "execution_count": null,
   "metadata": {},
   "outputs": [],
   "source": [
    "# Code to read csv file into Colaboratory:\n",
    "!pip install -U -q PyDrive\n",
    "!pip install -U -q scikeras\n",
    "from google.colab import auth\n",
    "from oauth2client.client import GoogleCredentials\n",
    "from pydrive.auth import GoogleAuth\n",
    "from pydrive.drive import GoogleDrive"
   ]
  },
  {
   "cell_type": "code",
   "execution_count": 2,
   "metadata": {
    "id": "KCwkJq2oGfV_"
   },
   "outputs": [],
   "source": [
    "# Authenticate and create the PyDrive client.\n",
    "auth.authenticate_user()\n",
    "gauth = GoogleAuth()\n",
    "gauth.credentials = GoogleCredentials.get_application_default()\n",
    "drive = GoogleDrive(gauth)"
   ]
  },
  {
   "cell_type": "markdown",
   "metadata": {
    "id": "k-Cy22BWHcoX"
   },
   "source": [
    "https://drive.google.com/file/d/1DeYgEzZ8Bs8Y3QsHd5YsV-3D-SzVAm4x"
   ]
  },
  {
   "cell_type": "code",
   "execution_count": 3,
   "metadata": {
    "id": "X36gG7t3GjSV"
   },
   "outputs": [],
   "source": [
    "# GET data from file I've uploaded to my drive. Use your own kaggle.json and google auth logins etc\n",
    "downloaded = drive.CreateFile({\"id\": \"1DeYgEzZ8Bs8Y3QsHd5YsV-3D-SzVAm4x\"})\n",
    "downloaded.GetContentFile(\"predict-energy-consumption.zip\")"
   ]
  },
  {
   "cell_type": "code",
   "execution_count": 4,
   "metadata": {
    "colab": {
     "base_uri": "https://localhost:8080/"
    },
    "id": "zeCWSQdyHe7k",
    "outputId": "d71f97c7-530e-4238-e700-f61dbfe4d220"
   },
   "outputs": [
    {
     "name": "stdout",
     "output_type": "stream",
     "text": [
      "Archive:  predict-energy-consumption.zip\n",
      "  inflating: sample_submission.csv   \n",
      "  inflating: test.csv                \n",
      "  inflating: train.csv               \n",
      "predict-energy-consumption.zip\tsample_submission.csv  train.csv\n",
      "sample_data\t\t\ttest.csv\n"
     ]
    }
   ],
   "source": [
    "!unzip predict-energy-consumption.zip\n",
    "\n",
    "!ls\n",
    "!mkdir data\n",
    "!mv *.csv data/"
   ]
  },
  {
   "cell_type": "code",
   "execution_count": 5,
   "metadata": {
    "colab": {
     "base_uri": "https://localhost:8080/",
     "height": 74
    },
    "id": "3HjDS_qKGMj9",
    "outputId": "34b48718-9122-4d4a-cad7-c84c8d21e69e"
   },
   "outputs": [
    {
     "data": {
      "text/html": [
       "\n",
       "     <input type=\"file\" id=\"files-c23b2600-aaf0-489d-96d5-d9a0b5c630a1\" name=\"files[]\" multiple disabled\n",
       "        style=\"border:none\" />\n",
       "     <output id=\"result-c23b2600-aaf0-489d-96d5-d9a0b5c630a1\">\n",
       "      Upload widget is only available when the cell has been executed in the\n",
       "      current browser session. Please rerun this cell to enable.\n",
       "      </output>\n",
       "      <script>// Copyright 2017 Google LLC\n",
       "//\n",
       "// Licensed under the Apache License, Version 2.0 (the \"License\");\n",
       "// you may not use this file except in compliance with the License.\n",
       "// You may obtain a copy of the License at\n",
       "//\n",
       "//      http://www.apache.org/licenses/LICENSE-2.0\n",
       "//\n",
       "// Unless required by applicable law or agreed to in writing, software\n",
       "// distributed under the License is distributed on an \"AS IS\" BASIS,\n",
       "// WITHOUT WARRANTIES OR CONDITIONS OF ANY KIND, either express or implied.\n",
       "// See the License for the specific language governing permissions and\n",
       "// limitations under the License.\n",
       "\n",
       "/**\n",
       " * @fileoverview Helpers for google.colab Python module.\n",
       " */\n",
       "(function(scope) {\n",
       "function span(text, styleAttributes = {}) {\n",
       "  const element = document.createElement('span');\n",
       "  element.textContent = text;\n",
       "  for (const key of Object.keys(styleAttributes)) {\n",
       "    element.style[key] = styleAttributes[key];\n",
       "  }\n",
       "  return element;\n",
       "}\n",
       "\n",
       "// Max number of bytes which will be uploaded at a time.\n",
       "const MAX_PAYLOAD_SIZE = 100 * 1024;\n",
       "\n",
       "function _uploadFiles(inputId, outputId) {\n",
       "  const steps = uploadFilesStep(inputId, outputId);\n",
       "  const outputElement = document.getElementById(outputId);\n",
       "  // Cache steps on the outputElement to make it available for the next call\n",
       "  // to uploadFilesContinue from Python.\n",
       "  outputElement.steps = steps;\n",
       "\n",
       "  return _uploadFilesContinue(outputId);\n",
       "}\n",
       "\n",
       "// This is roughly an async generator (not supported in the browser yet),\n",
       "// where there are multiple asynchronous steps and the Python side is going\n",
       "// to poll for completion of each step.\n",
       "// This uses a Promise to block the python side on completion of each step,\n",
       "// then passes the result of the previous step as the input to the next step.\n",
       "function _uploadFilesContinue(outputId) {\n",
       "  const outputElement = document.getElementById(outputId);\n",
       "  const steps = outputElement.steps;\n",
       "\n",
       "  const next = steps.next(outputElement.lastPromiseValue);\n",
       "  return Promise.resolve(next.value.promise).then((value) => {\n",
       "    // Cache the last promise value to make it available to the next\n",
       "    // step of the generator.\n",
       "    outputElement.lastPromiseValue = value;\n",
       "    return next.value.response;\n",
       "  });\n",
       "}\n",
       "\n",
       "/**\n",
       " * Generator function which is called between each async step of the upload\n",
       " * process.\n",
       " * @param {string} inputId Element ID of the input file picker element.\n",
       " * @param {string} outputId Element ID of the output display.\n",
       " * @return {!Iterable<!Object>} Iterable of next steps.\n",
       " */\n",
       "function* uploadFilesStep(inputId, outputId) {\n",
       "  const inputElement = document.getElementById(inputId);\n",
       "  inputElement.disabled = false;\n",
       "\n",
       "  const outputElement = document.getElementById(outputId);\n",
       "  outputElement.innerHTML = '';\n",
       "\n",
       "  const pickedPromise = new Promise((resolve) => {\n",
       "    inputElement.addEventListener('change', (e) => {\n",
       "      resolve(e.target.files);\n",
       "    });\n",
       "  });\n",
       "\n",
       "  const cancel = document.createElement('button');\n",
       "  inputElement.parentElement.appendChild(cancel);\n",
       "  cancel.textContent = 'Cancel upload';\n",
       "  const cancelPromise = new Promise((resolve) => {\n",
       "    cancel.onclick = () => {\n",
       "      resolve(null);\n",
       "    };\n",
       "  });\n",
       "\n",
       "  // Wait for the user to pick the files.\n",
       "  const files = yield {\n",
       "    promise: Promise.race([pickedPromise, cancelPromise]),\n",
       "    response: {\n",
       "      action: 'starting',\n",
       "    }\n",
       "  };\n",
       "\n",
       "  cancel.remove();\n",
       "\n",
       "  // Disable the input element since further picks are not allowed.\n",
       "  inputElement.disabled = true;\n",
       "\n",
       "  if (!files) {\n",
       "    return {\n",
       "      response: {\n",
       "        action: 'complete',\n",
       "      }\n",
       "    };\n",
       "  }\n",
       "\n",
       "  for (const file of files) {\n",
       "    const li = document.createElement('li');\n",
       "    li.append(span(file.name, {fontWeight: 'bold'}));\n",
       "    li.append(span(\n",
       "        `(${file.type || 'n/a'}) - ${file.size} bytes, ` +\n",
       "        `last modified: ${\n",
       "            file.lastModifiedDate ? file.lastModifiedDate.toLocaleDateString() :\n",
       "                                    'n/a'} - `));\n",
       "    const percent = span('0% done');\n",
       "    li.appendChild(percent);\n",
       "\n",
       "    outputElement.appendChild(li);\n",
       "\n",
       "    const fileDataPromise = new Promise((resolve) => {\n",
       "      const reader = new FileReader();\n",
       "      reader.onload = (e) => {\n",
       "        resolve(e.target.result);\n",
       "      };\n",
       "      reader.readAsArrayBuffer(file);\n",
       "    });\n",
       "    // Wait for the data to be ready.\n",
       "    let fileData = yield {\n",
       "      promise: fileDataPromise,\n",
       "      response: {\n",
       "        action: 'continue',\n",
       "      }\n",
       "    };\n",
       "\n",
       "    // Use a chunked sending to avoid message size limits. See b/62115660.\n",
       "    let position = 0;\n",
       "    do {\n",
       "      const length = Math.min(fileData.byteLength - position, MAX_PAYLOAD_SIZE);\n",
       "      const chunk = new Uint8Array(fileData, position, length);\n",
       "      position += length;\n",
       "\n",
       "      const base64 = btoa(String.fromCharCode.apply(null, chunk));\n",
       "      yield {\n",
       "        response: {\n",
       "          action: 'append',\n",
       "          file: file.name,\n",
       "          data: base64,\n",
       "        },\n",
       "      };\n",
       "\n",
       "      let percentDone = fileData.byteLength === 0 ?\n",
       "          100 :\n",
       "          Math.round((position / fileData.byteLength) * 100);\n",
       "      percent.textContent = `${percentDone}% done`;\n",
       "\n",
       "    } while (position < fileData.byteLength);\n",
       "  }\n",
       "\n",
       "  // All done.\n",
       "  yield {\n",
       "    response: {\n",
       "      action: 'complete',\n",
       "    }\n",
       "  };\n",
       "}\n",
       "\n",
       "scope.google = scope.google || {};\n",
       "scope.google.colab = scope.google.colab || {};\n",
       "scope.google.colab._files = {\n",
       "  _uploadFiles,\n",
       "  _uploadFilesContinue,\n",
       "};\n",
       "})(self);\n",
       "</script> "
      ],
      "text/plain": [
       "<IPython.core.display.HTML object>"
      ]
     },
     "metadata": {},
     "output_type": "display_data"
    },
    {
     "name": "stdout",
     "output_type": "stream",
     "text": [
      "Saving kaggle.json to kaggle.json\n"
     ]
    }
   ],
   "source": [
    "from google.colab import files\n",
    "\n",
    "files.upload()\n",
    "# upload your kaggle.json file"
   ]
  },
  {
   "cell_type": "markdown",
   "metadata": {
    "id": "biC_tjjqDgkm"
   },
   "source": [
    "Processing data from the source."
   ]
  },
  {
   "cell_type": "code",
   "execution_count": 6,
   "metadata": {
    "colab": {
     "base_uri": "https://localhost:8080/"
    },
    "id": "E6epI7FjF5As",
    "outputId": "39b03a5f-7a0a-4c44-dc84-42226d596e83"
   },
   "outputs": [
    {
     "name": "stdout",
     "output_type": "stream",
     "text": [
      "- path is now set to: {/content}\n"
     ]
    }
   ],
   "source": [
    "import json\n",
    "\n",
    "!mkdir /root/.kaggle/\n",
    "!mv kaggle.json /root/.kaggle/kaggle.json\n",
    "!chmod 600 ~/.kaggle/kaggle.json\n",
    "!kaggle config set -n path -v{/content}"
   ]
  },
  {
   "cell_type": "code",
   "execution_count": 7,
   "metadata": {
    "id": "JC4j4M33DcAy"
   },
   "outputs": [],
   "source": [
    "# GENERIC SUBMIT FUNCTION (uncomment when you want to submit)\n",
    "\n",
    "# submission = pd.DataFrame(\n",
    "#    {'key': test.key, 'fare_amount': val_predictions},\n",
    "#    columns = ['key', 'fare_amount'])\n",
    "# submission.to_csv('submission.csv', index = False)\n",
    "\n",
    "\n",
    "#!kaggle competitions submit -c predict-electricity-consumption -f submission.csv -m \"[TEAM NAME] Submission\""
   ]
  },
  {
   "cell_type": "markdown",
   "metadata": {
    "tags": []
   },
   "source": [
    "## Libraries setup"
   ]
  },
  {
   "cell_type": "code",
   "execution_count": 1,
   "metadata": {
    "execution": {
     "iopub.execute_input": "2022-11-10T22:09:56.667883Z",
     "iopub.status.busy": "2022-11-10T22:09:56.666404Z",
     "iopub.status.idle": "2022-11-10T22:10:00.568298Z",
     "shell.execute_reply": "2022-11-10T22:10:00.566422Z",
     "shell.execute_reply.started": "2022-11-10T22:09:56.667826Z"
    },
    "tags": []
   },
   "outputs": [],
   "source": [
    "import matplotlib.pyplot as plt\n",
    "import numpy as np\n",
    "import pandas as pd\n",
    "import seaborn as sns"
   ]
  },
  {
   "cell_type": "markdown",
   "metadata": {},
   "source": [
    "# Data exploration"
   ]
  },
  {
   "cell_type": "markdown",
   "metadata": {
    "tags": []
   },
   "source": [
    "### Modification functions"
   ]
  },
  {
   "cell_type": "code",
   "execution_count": 2,
   "metadata": {
    "execution": {
     "iopub.execute_input": "2022-11-10T22:10:00.571358Z",
     "iopub.status.busy": "2022-11-10T22:10:00.570780Z",
     "iopub.status.idle": "2022-11-10T22:10:00.585458Z",
     "shell.execute_reply": "2022-11-10T22:10:00.581772Z",
     "shell.execute_reply.started": "2022-11-10T22:10:00.571319Z"
    },
    "tags": []
   },
   "outputs": [],
   "source": [
    "def replaceNanWithZero(test, train, labels):\n",
    "    train_labels = labels.replace(np.nan, 0.0)\n",
    "\n",
    "    for col in train.columns:\n",
    "        train[col] = train[col].replace(np.nan, 0.0)\n",
    "\n",
    "    for col in test.columns:\n",
    "        test[col] = test[col].replace(np.nan, 0.0)\n",
    "\n",
    "    return test, train, train_labels"
   ]
  },
  {
   "cell_type": "code",
   "execution_count": 3,
   "metadata": {
    "execution": {
     "iopub.execute_input": "2022-11-10T22:10:00.590526Z",
     "iopub.status.busy": "2022-11-10T22:10:00.588704Z",
     "iopub.status.idle": "2022-11-10T22:10:01.301173Z",
     "shell.execute_reply": "2022-11-10T22:10:01.299613Z",
     "shell.execute_reply.started": "2022-11-10T22:10:00.590452Z"
    },
    "tags": []
   },
   "outputs": [],
   "source": [
    "# PCA to get a lesser number of features, then going to feed into basic nn see what we can do\n",
    "from sklearn.decomposition import PCA\n",
    "\n",
    "\n",
    "def PCA_Performance(train, test):\n",
    "    variance = [0.5, 0.6, 0.75, 0.8, 0.85, 0.9, 0.95, 0.96, 0.97, 0.98, 0.99]\n",
    "\n",
    "    for var in variance:\n",
    "        pca = PCA(n_components=var)\n",
    "        pca.fit(train)\n",
    "        transformed_Train = pca.transform(train)\n",
    "        # transformed_Test = pca.transform(test)\n",
    "        print(\n",
    "            f\"Retained {var} of variance with {len(transformed_Train.T)} number of features\"\n",
    "        )"
   ]
  },
  {
   "cell_type": "code",
   "execution_count": 4,
   "metadata": {
    "execution": {
     "iopub.execute_input": "2022-11-10T22:10:01.307615Z",
     "iopub.status.busy": "2022-11-10T22:10:01.306809Z",
     "iopub.status.idle": "2022-11-10T22:10:01.346660Z",
     "shell.execute_reply": "2022-11-10T22:10:01.330605Z",
     "shell.execute_reply.started": "2022-11-10T22:10:01.307553Z"
    }
   },
   "outputs": [],
   "source": [
    "def month_to_season(month: int) -> str:\n",
    "    assert 1 <= month < 13\n",
    "    if 3 <= month < 6:\n",
    "        return \"spring\"\n",
    "    elif 6 <= month < 9:\n",
    "        return \"summer\"\n",
    "    elif 9 <= month < 12:\n",
    "        return \"autumn\"\n",
    "    else:\n",
    "        return \"winter\""
   ]
  },
  {
   "cell_type": "code",
   "execution_count": 5,
   "metadata": {
    "execution": {
     "iopub.execute_input": "2022-11-10T22:10:01.356519Z",
     "iopub.status.busy": "2022-11-10T22:10:01.355804Z",
     "iopub.status.idle": "2022-11-10T22:10:01.372611Z",
     "shell.execute_reply": "2022-11-10T22:10:01.370659Z",
     "shell.execute_reply.started": "2022-11-10T22:10:01.356462Z"
    },
    "tags": []
   },
   "outputs": [],
   "source": [
    "def cast_types(df: pd.DataFrame) -> pd.DataFrame:\n",
    "    df[\"time\"] = pd.to_datetime(df[\"time\"], utc=True).dt.tz_convert(\"Europe/Tallinn\")\n",
    "\n",
    "    df = df.astype(\n",
    "        {\n",
    "            \"temp\": \"float32\",\n",
    "            \"dwpt\": \"float32\",\n",
    "            \"rhum\": \"int32\",\n",
    "            \"prcp\": \"float32\",\n",
    "            \"snow\": \"float32\",\n",
    "            \"wdir\": \"int32\",\n",
    "            \"wspd\": \"float32\",\n",
    "            \"wpgt\": \"float32\",\n",
    "            \"pres\": \"float32\",\n",
    "            \"coco\": \"category\",\n",
    "            \"el_price\": \"float32\",\n",
    "        }\n",
    "    )\n",
    "\n",
    "    return df"
   ]
  },
  {
   "cell_type": "code",
   "execution_count": 6,
   "metadata": {
    "execution": {
     "iopub.execute_input": "2022-11-10T22:10:01.377819Z",
     "iopub.status.busy": "2022-11-10T22:10:01.376955Z",
     "iopub.status.idle": "2022-11-10T22:10:01.402471Z",
     "shell.execute_reply": "2022-11-10T22:10:01.395026Z",
     "shell.execute_reply.started": "2022-11-10T22:10:01.377759Z"
    },
    "tags": []
   },
   "outputs": [],
   "source": [
    "def explode_datetime(\n",
    "    df: pd.DataFrame, datetime_column: str, without_prefix: bool = False\n",
    ") -> pd.DataFrame:\n",
    "    prefix = \"\" if without_prefix else f\"{datetime_column}_\"\n",
    "\n",
    "    if f\"{prefix}year\" in df.columns:\n",
    "        print(f\"Column {prefix}year already exists\")\n",
    "        return df\n",
    "\n",
    "    date_info = pd.DataFrame(\n",
    "        data=[\n",
    "            [x.year, x.month, x.day, x.hour, x.minute, x.second, x.weekday()]\n",
    "            for x in df[datetime_column]\n",
    "        ],\n",
    "        columns=[\n",
    "            f\"{prefix}year\",\n",
    "            f\"{prefix}month\",\n",
    "            f\"{prefix}day\",\n",
    "            f\"{prefix}hour\",\n",
    "            f\"{prefix}minute\",\n",
    "            f\"{prefix}second\",\n",
    "            f\"{prefix}weekday\",\n",
    "        ],\n",
    "    ).astype(np.int32)\n",
    "\n",
    "    df = pd.concat([df.reset_index(), date_info], axis=1).set_index(\"index\")\n",
    "\n",
    "    return df"
   ]
  },
  {
   "cell_type": "markdown",
   "metadata": {
    "execution": {
     "iopub.execute_input": "2022-11-10T17:57:57.971339Z",
     "iopub.status.busy": "2022-11-10T17:57:57.967378Z",
     "iopub.status.idle": "2022-11-10T17:57:57.989706Z",
     "shell.execute_reply": "2022-11-10T17:57:57.985813Z",
     "shell.execute_reply.started": "2022-11-10T17:57:57.971293Z"
    },
    "tags": []
   },
   "source": [
    "## Exploration"
   ]
  },
  {
   "cell_type": "code",
   "execution_count": 7,
   "metadata": {
    "colab": {
     "base_uri": "https://localhost:8080/"
    },
    "execution": {
     "iopub.execute_input": "2022-11-10T22:10:01.409142Z",
     "iopub.status.busy": "2022-11-10T22:10:01.407836Z",
     "iopub.status.idle": "2022-11-10T22:10:01.528136Z",
     "shell.execute_reply": "2022-11-10T22:10:01.523979Z",
     "shell.execute_reply.started": "2022-11-10T22:10:01.409076Z"
    },
    "id": "TNkzNqt7IhVz",
    "outputId": "cfe12431-9d30-46f1-9425-7da3aa60f276",
    "tags": []
   },
   "outputs": [],
   "source": [
    "# Here we can split into train/test for verification while we train whatever works)\n",
    "train = pd.read_csv(\"data/train.csv\")\n",
    "train_labels = train[\"consumption\"]  # y vals in this case are concumption\n",
    "# GIVEN time is a string we just gonna drop that mfer, cbf processing it etc\n",
    "\n",
    "train = train.drop([\"consumption\"], axis=1)\n",
    "test = pd.read_csv(\"data/test.csv\")\n",
    "\n",
    "# Have to predict consumption for these values. Consumption unkown.\n",
    "# At this point should have a train and test without Nan values:)"
   ]
  },
  {
   "cell_type": "code",
   "execution_count": 8,
   "metadata": {
    "execution": {
     "iopub.execute_input": "2022-11-10T22:10:01.532980Z",
     "iopub.status.busy": "2022-11-10T22:10:01.532141Z",
     "iopub.status.idle": "2022-11-10T22:10:01.616568Z",
     "shell.execute_reply": "2022-11-10T22:10:01.615486Z",
     "shell.execute_reply.started": "2022-11-10T22:10:01.532920Z"
    }
   },
   "outputs": [
    {
     "data": {
      "text/html": [
       "<div>\n",
       "<style scoped>\n",
       "    .dataframe tbody tr th:only-of-type {\n",
       "        vertical-align: middle;\n",
       "    }\n",
       "\n",
       "    .dataframe tbody tr th {\n",
       "        vertical-align: top;\n",
       "    }\n",
       "\n",
       "    .dataframe thead th {\n",
       "        text-align: right;\n",
       "    }\n",
       "</style>\n",
       "<table border=\"1\" class=\"dataframe\">\n",
       "  <thead>\n",
       "    <tr style=\"text-align: right;\">\n",
       "      <th></th>\n",
       "      <th>time</th>\n",
       "      <th>temp</th>\n",
       "      <th>dwpt</th>\n",
       "      <th>rhum</th>\n",
       "      <th>prcp</th>\n",
       "      <th>snow</th>\n",
       "      <th>wdir</th>\n",
       "      <th>wspd</th>\n",
       "      <th>wpgt</th>\n",
       "      <th>pres</th>\n",
       "      <th>coco</th>\n",
       "      <th>el_price</th>\n",
       "    </tr>\n",
       "  </thead>\n",
       "  <tbody>\n",
       "    <tr>\n",
       "      <th>0</th>\n",
       "      <td>2021-09-01 00:00:00+03:00</td>\n",
       "      <td>11.2</td>\n",
       "      <td>10.3</td>\n",
       "      <td>94.0</td>\n",
       "      <td>NaN</td>\n",
       "      <td>NaN</td>\n",
       "      <td>320.0</td>\n",
       "      <td>7.2</td>\n",
       "      <td>16.7</td>\n",
       "      <td>1012.6</td>\n",
       "      <td>2.0</td>\n",
       "      <td>0.09016</td>\n",
       "    </tr>\n",
       "    <tr>\n",
       "      <th>1</th>\n",
       "      <td>2021-09-01 01:00:00+03:00</td>\n",
       "      <td>10.7</td>\n",
       "      <td>9.6</td>\n",
       "      <td>93.0</td>\n",
       "      <td>NaN</td>\n",
       "      <td>NaN</td>\n",
       "      <td>320.0</td>\n",
       "      <td>7.2</td>\n",
       "      <td>13.0</td>\n",
       "      <td>1012.6</td>\n",
       "      <td>2.0</td>\n",
       "      <td>0.09251</td>\n",
       "    </tr>\n",
       "    <tr>\n",
       "      <th>2</th>\n",
       "      <td>2021-09-01 02:00:00+03:00</td>\n",
       "      <td>9.9</td>\n",
       "      <td>9.0</td>\n",
       "      <td>94.0</td>\n",
       "      <td>NaN</td>\n",
       "      <td>NaN</td>\n",
       "      <td>320.0</td>\n",
       "      <td>7.2</td>\n",
       "      <td>13.0</td>\n",
       "      <td>1012.2</td>\n",
       "      <td>2.0</td>\n",
       "      <td>0.08890</td>\n",
       "    </tr>\n",
       "    <tr>\n",
       "      <th>3</th>\n",
       "      <td>2021-09-01 03:00:00+03:00</td>\n",
       "      <td>10.0</td>\n",
       "      <td>8.4</td>\n",
       "      <td>90.0</td>\n",
       "      <td>NaN</td>\n",
       "      <td>NaN</td>\n",
       "      <td>330.0</td>\n",
       "      <td>7.2</td>\n",
       "      <td>13.0</td>\n",
       "      <td>1011.9</td>\n",
       "      <td>1.0</td>\n",
       "      <td>0.08735</td>\n",
       "    </tr>\n",
       "    <tr>\n",
       "      <th>4</th>\n",
       "      <td>2021-09-01 04:00:00+03:00</td>\n",
       "      <td>9.0</td>\n",
       "      <td>8.1</td>\n",
       "      <td>94.0</td>\n",
       "      <td>NaN</td>\n",
       "      <td>NaN</td>\n",
       "      <td>300.0</td>\n",
       "      <td>3.6</td>\n",
       "      <td>13.0</td>\n",
       "      <td>1011.4</td>\n",
       "      <td>2.0</td>\n",
       "      <td>0.08688</td>\n",
       "    </tr>\n",
       "  </tbody>\n",
       "</table>\n",
       "</div>"
      ],
      "text/plain": [
       "                        time  temp  dwpt  rhum  prcp  snow   wdir  wspd  wpgt  \\\n",
       "0  2021-09-01 00:00:00+03:00  11.2  10.3  94.0   NaN   NaN  320.0   7.2  16.7   \n",
       "1  2021-09-01 01:00:00+03:00  10.7   9.6  93.0   NaN   NaN  320.0   7.2  13.0   \n",
       "2  2021-09-01 02:00:00+03:00   9.9   9.0  94.0   NaN   NaN  320.0   7.2  13.0   \n",
       "3  2021-09-01 03:00:00+03:00  10.0   8.4  90.0   NaN   NaN  330.0   7.2  13.0   \n",
       "4  2021-09-01 04:00:00+03:00   9.0   8.1  94.0   NaN   NaN  300.0   3.6  13.0   \n",
       "\n",
       "     pres  coco  el_price  \n",
       "0  1012.6   2.0   0.09016  \n",
       "1  1012.6   2.0   0.09251  \n",
       "2  1012.2   2.0   0.08890  \n",
       "3  1011.9   1.0   0.08735  \n",
       "4  1011.4   2.0   0.08688  "
      ]
     },
     "execution_count": 8,
     "metadata": {},
     "output_type": "execute_result"
    }
   ],
   "source": [
    "train.head()"
   ]
  },
  {
   "cell_type": "markdown",
   "metadata": {
    "tags": []
   },
   "source": [
    "## Preprocessing"
   ]
  },
  {
   "cell_type": "code",
   "execution_count": 9,
   "metadata": {
    "execution": {
     "iopub.execute_input": "2022-11-10T22:10:01.628933Z",
     "iopub.status.busy": "2022-11-10T22:10:01.625678Z",
     "iopub.status.idle": "2022-11-10T22:10:01.803032Z",
     "shell.execute_reply": "2022-11-10T22:10:01.797219Z",
     "shell.execute_reply.started": "2022-11-10T22:10:01.628868Z"
    },
    "tags": []
   },
   "outputs": [
    {
     "data": {
      "text/html": [
       "<div>\n",
       "<style scoped>\n",
       "    .dataframe tbody tr th:only-of-type {\n",
       "        vertical-align: middle;\n",
       "    }\n",
       "\n",
       "    .dataframe tbody tr th {\n",
       "        vertical-align: top;\n",
       "    }\n",
       "\n",
       "    .dataframe thead th {\n",
       "        text-align: right;\n",
       "    }\n",
       "</style>\n",
       "<table border=\"1\" class=\"dataframe\">\n",
       "  <thead>\n",
       "    <tr style=\"text-align: right;\">\n",
       "      <th></th>\n",
       "      <th>temp</th>\n",
       "      <th>dwpt</th>\n",
       "      <th>rhum</th>\n",
       "      <th>prcp</th>\n",
       "      <th>snow</th>\n",
       "      <th>wdir</th>\n",
       "      <th>wspd</th>\n",
       "      <th>wpgt</th>\n",
       "      <th>pres</th>\n",
       "      <th>coco</th>\n",
       "      <th>el_price</th>\n",
       "    </tr>\n",
       "  </thead>\n",
       "  <tbody>\n",
       "    <tr>\n",
       "      <th>count</th>\n",
       "      <td>8592.000000</td>\n",
       "      <td>8592.000000</td>\n",
       "      <td>8592.000000</td>\n",
       "      <td>2159.000000</td>\n",
       "      <td>119.000000</td>\n",
       "      <td>8592.000000</td>\n",
       "      <td>8592.000000</td>\n",
       "      <td>8592.000000</td>\n",
       "      <td>8592.000000</td>\n",
       "      <td>8396.000000</td>\n",
       "      <td>8592.000000</td>\n",
       "    </tr>\n",
       "    <tr>\n",
       "      <th>mean</th>\n",
       "      <td>6.744204</td>\n",
       "      <td>2.486767</td>\n",
       "      <td>77.013617</td>\n",
       "      <td>0.056647</td>\n",
       "      <td>78.319328</td>\n",
       "      <td>201.564246</td>\n",
       "      <td>9.156355</td>\n",
       "      <td>20.869681</td>\n",
       "      <td>1013.229423</td>\n",
       "      <td>4.902930</td>\n",
       "      <td>0.160844</td>\n",
       "    </tr>\n",
       "    <tr>\n",
       "      <th>std</th>\n",
       "      <td>9.257806</td>\n",
       "      <td>8.184391</td>\n",
       "      <td>17.520566</td>\n",
       "      <td>0.384586</td>\n",
       "      <td>63.129130</td>\n",
       "      <td>87.792064</td>\n",
       "      <td>4.826976</td>\n",
       "      <td>9.956558</td>\n",
       "      <td>12.592944</td>\n",
       "      <td>4.958744</td>\n",
       "      <td>0.120034</td>\n",
       "    </tr>\n",
       "    <tr>\n",
       "      <th>min</th>\n",
       "      <td>-26.100000</td>\n",
       "      <td>-28.700000</td>\n",
       "      <td>20.000000</td>\n",
       "      <td>0.000000</td>\n",
       "      <td>0.000000</td>\n",
       "      <td>0.000000</td>\n",
       "      <td>0.000000</td>\n",
       "      <td>2.900000</td>\n",
       "      <td>962.600000</td>\n",
       "      <td>1.000000</td>\n",
       "      <td>0.000070</td>\n",
       "    </tr>\n",
       "    <tr>\n",
       "      <th>25%</th>\n",
       "      <td>0.400000</td>\n",
       "      <td>-2.900000</td>\n",
       "      <td>66.000000</td>\n",
       "      <td>0.000000</td>\n",
       "      <td>20.000000</td>\n",
       "      <td>150.000000</td>\n",
       "      <td>7.200000</td>\n",
       "      <td>13.000000</td>\n",
       "      <td>1006.500000</td>\n",
       "      <td>2.000000</td>\n",
       "      <td>0.092820</td>\n",
       "    </tr>\n",
       "    <tr>\n",
       "      <th>50%</th>\n",
       "      <td>6.200000</td>\n",
       "      <td>1.900000</td>\n",
       "      <td>83.000000</td>\n",
       "      <td>0.000000</td>\n",
       "      <td>60.000000</td>\n",
       "      <td>210.000000</td>\n",
       "      <td>7.200000</td>\n",
       "      <td>18.500000</td>\n",
       "      <td>1014.700000</td>\n",
       "      <td>3.000000</td>\n",
       "      <td>0.136440</td>\n",
       "    </tr>\n",
       "    <tr>\n",
       "      <th>75%</th>\n",
       "      <td>13.225000</td>\n",
       "      <td>9.000000</td>\n",
       "      <td>91.000000</td>\n",
       "      <td>0.000000</td>\n",
       "      <td>130.000000</td>\n",
       "      <td>270.000000</td>\n",
       "      <td>10.800000</td>\n",
       "      <td>27.800000</td>\n",
       "      <td>1020.700000</td>\n",
       "      <td>5.000000</td>\n",
       "      <td>0.199845</td>\n",
       "    </tr>\n",
       "    <tr>\n",
       "      <th>max</th>\n",
       "      <td>31.400000</td>\n",
       "      <td>20.900000</td>\n",
       "      <td>100.000000</td>\n",
       "      <td>7.900000</td>\n",
       "      <td>220.000000</td>\n",
       "      <td>360.000000</td>\n",
       "      <td>31.700000</td>\n",
       "      <td>63.000000</td>\n",
       "      <td>1047.500000</td>\n",
       "      <td>25.000000</td>\n",
       "      <td>4.000000</td>\n",
       "    </tr>\n",
       "  </tbody>\n",
       "</table>\n",
       "</div>"
      ],
      "text/plain": [
       "              temp         dwpt         rhum         prcp        snow  \\\n",
       "count  8592.000000  8592.000000  8592.000000  2159.000000  119.000000   \n",
       "mean      6.744204     2.486767    77.013617     0.056647   78.319328   \n",
       "std       9.257806     8.184391    17.520566     0.384586   63.129130   \n",
       "min     -26.100000   -28.700000    20.000000     0.000000    0.000000   \n",
       "25%       0.400000    -2.900000    66.000000     0.000000   20.000000   \n",
       "50%       6.200000     1.900000    83.000000     0.000000   60.000000   \n",
       "75%      13.225000     9.000000    91.000000     0.000000  130.000000   \n",
       "max      31.400000    20.900000   100.000000     7.900000  220.000000   \n",
       "\n",
       "              wdir         wspd         wpgt         pres         coco  \\\n",
       "count  8592.000000  8592.000000  8592.000000  8592.000000  8396.000000   \n",
       "mean    201.564246     9.156355    20.869681  1013.229423     4.902930   \n",
       "std      87.792064     4.826976     9.956558    12.592944     4.958744   \n",
       "min       0.000000     0.000000     2.900000   962.600000     1.000000   \n",
       "25%     150.000000     7.200000    13.000000  1006.500000     2.000000   \n",
       "50%     210.000000     7.200000    18.500000  1014.700000     3.000000   \n",
       "75%     270.000000    10.800000    27.800000  1020.700000     5.000000   \n",
       "max     360.000000    31.700000    63.000000  1047.500000    25.000000   \n",
       "\n",
       "          el_price  \n",
       "count  8592.000000  \n",
       "mean      0.160844  \n",
       "std       0.120034  \n",
       "min       0.000070  \n",
       "25%       0.092820  \n",
       "50%       0.136440  \n",
       "75%       0.199845  \n",
       "max       4.000000  "
      ]
     },
     "execution_count": 9,
     "metadata": {},
     "output_type": "execute_result"
    }
   ],
   "source": [
    "train.describe()"
   ]
  },
  {
   "cell_type": "code",
   "execution_count": 10,
   "metadata": {
    "execution": {
     "iopub.execute_input": "2022-11-10T22:10:01.833425Z",
     "iopub.status.busy": "2022-11-10T22:10:01.832063Z",
     "iopub.status.idle": "2022-11-10T22:10:01.874012Z",
     "shell.execute_reply": "2022-11-10T22:10:01.870676Z",
     "shell.execute_reply.started": "2022-11-10T22:10:01.833356Z"
    },
    "tags": []
   },
   "outputs": [
    {
     "data": {
      "text/plain": [
       "time           0\n",
       "temp           0\n",
       "dwpt           0\n",
       "rhum           0\n",
       "prcp        6433\n",
       "snow        8473\n",
       "wdir           0\n",
       "wspd           0\n",
       "wpgt           0\n",
       "pres           0\n",
       "coco         196\n",
       "el_price       0\n",
       "dtype: int64"
      ]
     },
     "execution_count": 10,
     "metadata": {},
     "output_type": "execute_result"
    }
   ],
   "source": [
    "train.isna().sum()"
   ]
  },
  {
   "cell_type": "markdown",
   "metadata": {},
   "source": [
    "Most missing values are for snow and precipitation\n",
    "\n",
    "For snow it is quite a lot of data\n",
    "\n",
    "- Delete it?\n",
    "- Impute it with zero when temprature is over 0?\n",
    "    - How many is left?\n",
    "    \n",
    "For coco it is a problem, I think this will be useful information for model\n",
    "\n",
    "- Are the NaNs sparsely distributed?\n",
    "    - If so, we can impute from the most common value in +- 2 or 3 values before and after (timeseries)f\n",
    "- Can the information be found elsewhere?\n",
    "    - Where is the model house located?\n",
    "\n",
    "To the precipitation\n",
    "\n",
    "- That is a huge problem\n",
    "    - I think this data might be valuable\n",
    "    - To many values missing for intelligent imputation\n",
    "- Either find external source, remove it all, or impute with pure zeros\n",
    "- Even if we delete it a lot of the information is stored in humidity\n",
    "    - Or is it?"
   ]
  },
  {
   "cell_type": "code",
   "execution_count": 11,
   "metadata": {
    "execution": {
     "iopub.execute_input": "2022-11-10T22:10:01.882023Z",
     "iopub.status.busy": "2022-11-10T22:10:01.880424Z",
     "iopub.status.idle": "2022-11-10T22:10:01.945401Z",
     "shell.execute_reply": "2022-11-10T22:10:01.937909Z",
     "shell.execute_reply.started": "2022-11-10T22:10:01.881955Z"
    },
    "tags": []
   },
   "outputs": [
    {
     "name": "stdout",
     "output_type": "stream",
     "text": [
      "<class 'pandas.core.frame.DataFrame'>\n",
      "RangeIndex: 8592 entries, 0 to 8591\n",
      "Data columns (total 12 columns):\n",
      " #   Column    Non-Null Count  Dtype  \n",
      "---  ------    --------------  -----  \n",
      " 0   time      8592 non-null   object \n",
      " 1   temp      8592 non-null   float64\n",
      " 2   dwpt      8592 non-null   float64\n",
      " 3   rhum      8592 non-null   float64\n",
      " 4   prcp      2159 non-null   float64\n",
      " 5   snow      119 non-null    float64\n",
      " 6   wdir      8592 non-null   float64\n",
      " 7   wspd      8592 non-null   float64\n",
      " 8   wpgt      8592 non-null   float64\n",
      " 9   pres      8592 non-null   float64\n",
      " 10  coco      8396 non-null   float64\n",
      " 11  el_price  8592 non-null   float64\n",
      "dtypes: float64(11), object(1)\n",
      "memory usage: 805.6+ KB\n"
     ]
    }
   ],
   "source": [
    "train.info()"
   ]
  },
  {
   "cell_type": "code",
   "execution_count": 12,
   "metadata": {
    "execution": {
     "iopub.execute_input": "2022-11-10T22:10:01.953176Z",
     "iopub.status.busy": "2022-11-10T22:10:01.951926Z",
     "iopub.status.idle": "2022-11-10T22:10:01.977910Z",
     "shell.execute_reply": "2022-11-10T22:10:01.975752Z",
     "shell.execute_reply.started": "2022-11-10T22:10:01.953115Z"
    },
    "tags": []
   },
   "outputs": [
    {
     "data": {
      "text/plain": [
       "rhum    0.0\n",
       "wdir    0.0\n",
       "coco    0.0\n",
       "dtype: float64"
      ]
     },
     "execution_count": 12,
     "metadata": {},
     "output_type": "execute_result"
    }
   ],
   "source": [
    "train.loc[:, [\"rhum\", \"wdir\", \"coco\"]].mod(1, fill_value=0).abs().sum()"
   ]
  },
  {
   "cell_type": "code",
   "execution_count": 13,
   "metadata": {
    "execution": {
     "iopub.execute_input": "2022-11-10T22:10:01.983796Z",
     "iopub.status.busy": "2022-11-10T22:10:01.983008Z",
     "iopub.status.idle": "2022-11-10T22:10:02.354805Z",
     "shell.execute_reply": "2022-11-10T22:10:02.351230Z",
     "shell.execute_reply.started": "2022-11-10T22:10:01.983725Z"
    },
    "tags": []
   },
   "outputs": [
    {
     "data": {
      "text/plain": [
       "time        datetime64[ns, Europe/Tallinn]\n",
       "temp                               float32\n",
       "dwpt                               float32\n",
       "rhum                                 int32\n",
       "prcp                               float32\n",
       "snow                               float32\n",
       "wdir                                 int32\n",
       "wspd                               float32\n",
       "wpgt                               float32\n",
       "pres                               float32\n",
       "coco                              category\n",
       "el_price                           float32\n",
       "dtype: object"
      ]
     },
     "execution_count": 13,
     "metadata": {},
     "output_type": "execute_result"
    }
   ],
   "source": [
    "# Recasting to the best suited type\n",
    "train = cast_types(train)\n",
    "train.dtypes"
   ]
  },
  {
   "cell_type": "code",
   "execution_count": 14,
   "metadata": {
    "execution": {
     "iopub.execute_input": "2022-11-10T22:10:02.360311Z",
     "iopub.status.busy": "2022-11-10T22:10:02.358530Z",
     "iopub.status.idle": "2022-11-10T22:10:02.677543Z",
     "shell.execute_reply": "2022-11-10T22:10:02.674161Z",
     "shell.execute_reply.started": "2022-11-10T22:10:02.360240Z"
    },
    "tags": []
   },
   "outputs": [
    {
     "data": {
      "text/html": [
       "<div>\n",
       "<style scoped>\n",
       "    .dataframe tbody tr th:only-of-type {\n",
       "        vertical-align: middle;\n",
       "    }\n",
       "\n",
       "    .dataframe tbody tr th {\n",
       "        vertical-align: top;\n",
       "    }\n",
       "\n",
       "    .dataframe thead th {\n",
       "        text-align: right;\n",
       "    }\n",
       "</style>\n",
       "<table border=\"1\" class=\"dataframe\">\n",
       "  <thead>\n",
       "    <tr style=\"text-align: right;\">\n",
       "      <th></th>\n",
       "      <th>time</th>\n",
       "      <th>temp</th>\n",
       "      <th>dwpt</th>\n",
       "      <th>rhum</th>\n",
       "      <th>prcp</th>\n",
       "      <th>snow</th>\n",
       "      <th>wdir</th>\n",
       "      <th>wspd</th>\n",
       "      <th>wpgt</th>\n",
       "      <th>pres</th>\n",
       "      <th>coco</th>\n",
       "      <th>el_price</th>\n",
       "      <th>year</th>\n",
       "      <th>month</th>\n",
       "      <th>day</th>\n",
       "      <th>hour</th>\n",
       "      <th>minute</th>\n",
       "      <th>second</th>\n",
       "      <th>weekday</th>\n",
       "    </tr>\n",
       "    <tr>\n",
       "      <th>index</th>\n",
       "      <th></th>\n",
       "      <th></th>\n",
       "      <th></th>\n",
       "      <th></th>\n",
       "      <th></th>\n",
       "      <th></th>\n",
       "      <th></th>\n",
       "      <th></th>\n",
       "      <th></th>\n",
       "      <th></th>\n",
       "      <th></th>\n",
       "      <th></th>\n",
       "      <th></th>\n",
       "      <th></th>\n",
       "      <th></th>\n",
       "      <th></th>\n",
       "      <th></th>\n",
       "      <th></th>\n",
       "      <th></th>\n",
       "    </tr>\n",
       "  </thead>\n",
       "  <tbody>\n",
       "    <tr>\n",
       "      <th>0</th>\n",
       "      <td>2021-09-01 00:00:00+03:00</td>\n",
       "      <td>11.2</td>\n",
       "      <td>10.3</td>\n",
       "      <td>94</td>\n",
       "      <td>NaN</td>\n",
       "      <td>NaN</td>\n",
       "      <td>320</td>\n",
       "      <td>7.2</td>\n",
       "      <td>16.700001</td>\n",
       "      <td>1012.599976</td>\n",
       "      <td>2.0</td>\n",
       "      <td>0.09016</td>\n",
       "      <td>2021</td>\n",
       "      <td>9</td>\n",
       "      <td>1</td>\n",
       "      <td>0</td>\n",
       "      <td>0</td>\n",
       "      <td>0</td>\n",
       "      <td>2</td>\n",
       "    </tr>\n",
       "    <tr>\n",
       "      <th>1</th>\n",
       "      <td>2021-09-01 01:00:00+03:00</td>\n",
       "      <td>10.7</td>\n",
       "      <td>9.6</td>\n",
       "      <td>93</td>\n",
       "      <td>NaN</td>\n",
       "      <td>NaN</td>\n",
       "      <td>320</td>\n",
       "      <td>7.2</td>\n",
       "      <td>13.000000</td>\n",
       "      <td>1012.599976</td>\n",
       "      <td>2.0</td>\n",
       "      <td>0.09251</td>\n",
       "      <td>2021</td>\n",
       "      <td>9</td>\n",
       "      <td>1</td>\n",
       "      <td>1</td>\n",
       "      <td>0</td>\n",
       "      <td>0</td>\n",
       "      <td>2</td>\n",
       "    </tr>\n",
       "    <tr>\n",
       "      <th>2</th>\n",
       "      <td>2021-09-01 02:00:00+03:00</td>\n",
       "      <td>9.9</td>\n",
       "      <td>9.0</td>\n",
       "      <td>94</td>\n",
       "      <td>NaN</td>\n",
       "      <td>NaN</td>\n",
       "      <td>320</td>\n",
       "      <td>7.2</td>\n",
       "      <td>13.000000</td>\n",
       "      <td>1012.200012</td>\n",
       "      <td>2.0</td>\n",
       "      <td>0.08890</td>\n",
       "      <td>2021</td>\n",
       "      <td>9</td>\n",
       "      <td>1</td>\n",
       "      <td>2</td>\n",
       "      <td>0</td>\n",
       "      <td>0</td>\n",
       "      <td>2</td>\n",
       "    </tr>\n",
       "    <tr>\n",
       "      <th>3</th>\n",
       "      <td>2021-09-01 03:00:00+03:00</td>\n",
       "      <td>10.0</td>\n",
       "      <td>8.4</td>\n",
       "      <td>90</td>\n",
       "      <td>NaN</td>\n",
       "      <td>NaN</td>\n",
       "      <td>330</td>\n",
       "      <td>7.2</td>\n",
       "      <td>13.000000</td>\n",
       "      <td>1011.900024</td>\n",
       "      <td>1.0</td>\n",
       "      <td>0.08735</td>\n",
       "      <td>2021</td>\n",
       "      <td>9</td>\n",
       "      <td>1</td>\n",
       "      <td>3</td>\n",
       "      <td>0</td>\n",
       "      <td>0</td>\n",
       "      <td>2</td>\n",
       "    </tr>\n",
       "    <tr>\n",
       "      <th>4</th>\n",
       "      <td>2021-09-01 04:00:00+03:00</td>\n",
       "      <td>9.0</td>\n",
       "      <td>8.1</td>\n",
       "      <td>94</td>\n",
       "      <td>NaN</td>\n",
       "      <td>NaN</td>\n",
       "      <td>300</td>\n",
       "      <td>3.6</td>\n",
       "      <td>13.000000</td>\n",
       "      <td>1011.400024</td>\n",
       "      <td>2.0</td>\n",
       "      <td>0.08688</td>\n",
       "      <td>2021</td>\n",
       "      <td>9</td>\n",
       "      <td>1</td>\n",
       "      <td>4</td>\n",
       "      <td>0</td>\n",
       "      <td>0</td>\n",
       "      <td>2</td>\n",
       "    </tr>\n",
       "  </tbody>\n",
       "</table>\n",
       "</div>"
      ],
      "text/plain": [
       "                           time  temp  dwpt  rhum  prcp  snow  wdir  wspd  \\\n",
       "index                                                                       \n",
       "0     2021-09-01 00:00:00+03:00  11.2  10.3    94   NaN   NaN   320   7.2   \n",
       "1     2021-09-01 01:00:00+03:00  10.7   9.6    93   NaN   NaN   320   7.2   \n",
       "2     2021-09-01 02:00:00+03:00   9.9   9.0    94   NaN   NaN   320   7.2   \n",
       "3     2021-09-01 03:00:00+03:00  10.0   8.4    90   NaN   NaN   330   7.2   \n",
       "4     2021-09-01 04:00:00+03:00   9.0   8.1    94   NaN   NaN   300   3.6   \n",
       "\n",
       "            wpgt         pres coco  el_price  year  month  day  hour  minute  \\\n",
       "index                                                                          \n",
       "0      16.700001  1012.599976  2.0   0.09016  2021      9    1     0       0   \n",
       "1      13.000000  1012.599976  2.0   0.09251  2021      9    1     1       0   \n",
       "2      13.000000  1012.200012  2.0   0.08890  2021      9    1     2       0   \n",
       "3      13.000000  1011.900024  1.0   0.08735  2021      9    1     3       0   \n",
       "4      13.000000  1011.400024  2.0   0.08688  2021      9    1     4       0   \n",
       "\n",
       "       second  weekday  \n",
       "index                   \n",
       "0           0        2  \n",
       "1           0        2  \n",
       "2           0        2  \n",
       "3           0        2  \n",
       "4           0        2  "
      ]
     },
     "execution_count": 14,
     "metadata": {},
     "output_type": "execute_result"
    }
   ],
   "source": [
    "# Explode datetime object into separate components\n",
    "\n",
    "# TODO: Look why week is not extracted, it worked before\n",
    "# DO NOT RERUN - adds new set of columns for each rerun\n",
    "\n",
    "train = explode_datetime(train, \"time\", True)\n",
    "train.head()"
   ]
  },
  {
   "cell_type": "code",
   "execution_count": 15,
   "metadata": {
    "execution": {
     "iopub.execute_input": "2022-11-10T22:10:02.701004Z",
     "iopub.status.busy": "2022-11-10T22:10:02.697035Z",
     "iopub.status.idle": "2022-11-10T22:10:02.823212Z",
     "shell.execute_reply": "2022-11-10T22:10:02.820949Z",
     "shell.execute_reply.started": "2022-11-10T22:10:02.700886Z"
    },
    "tags": []
   },
   "outputs": [
    {
     "data": {
      "text/html": [
       "<div>\n",
       "<style scoped>\n",
       "    .dataframe tbody tr th:only-of-type {\n",
       "        vertical-align: middle;\n",
       "    }\n",
       "\n",
       "    .dataframe tbody tr th {\n",
       "        vertical-align: top;\n",
       "    }\n",
       "\n",
       "    .dataframe thead th {\n",
       "        text-align: right;\n",
       "    }\n",
       "</style>\n",
       "<table border=\"1\" class=\"dataframe\">\n",
       "  <thead>\n",
       "    <tr style=\"text-align: right;\">\n",
       "      <th></th>\n",
       "      <th>time</th>\n",
       "      <th>temp</th>\n",
       "      <th>dwpt</th>\n",
       "      <th>rhum</th>\n",
       "      <th>prcp</th>\n",
       "      <th>snow</th>\n",
       "      <th>wdir</th>\n",
       "      <th>wspd</th>\n",
       "      <th>wpgt</th>\n",
       "      <th>pres</th>\n",
       "      <th>coco</th>\n",
       "      <th>el_price</th>\n",
       "      <th>year</th>\n",
       "      <th>month</th>\n",
       "      <th>day</th>\n",
       "      <th>hour</th>\n",
       "      <th>minute</th>\n",
       "      <th>second</th>\n",
       "      <th>weekday</th>\n",
       "      <th>season</th>\n",
       "    </tr>\n",
       "    <tr>\n",
       "      <th>index</th>\n",
       "      <th></th>\n",
       "      <th></th>\n",
       "      <th></th>\n",
       "      <th></th>\n",
       "      <th></th>\n",
       "      <th></th>\n",
       "      <th></th>\n",
       "      <th></th>\n",
       "      <th></th>\n",
       "      <th></th>\n",
       "      <th></th>\n",
       "      <th></th>\n",
       "      <th></th>\n",
       "      <th></th>\n",
       "      <th></th>\n",
       "      <th></th>\n",
       "      <th></th>\n",
       "      <th></th>\n",
       "      <th></th>\n",
       "      <th></th>\n",
       "    </tr>\n",
       "  </thead>\n",
       "  <tbody>\n",
       "    <tr>\n",
       "      <th>8587</th>\n",
       "      <td>2022-08-24 19:00:00+03:00</td>\n",
       "      <td>27.1</td>\n",
       "      <td>17.0</td>\n",
       "      <td>54</td>\n",
       "      <td>0.0</td>\n",
       "      <td>NaN</td>\n",
       "      <td>180</td>\n",
       "      <td>4.0</td>\n",
       "      <td>11.1</td>\n",
       "      <td>1020.000000</td>\n",
       "      <td>2.0</td>\n",
       "      <td>0.53494</td>\n",
       "      <td>2022</td>\n",
       "      <td>8</td>\n",
       "      <td>24</td>\n",
       "      <td>19</td>\n",
       "      <td>0</td>\n",
       "      <td>0</td>\n",
       "      <td>2</td>\n",
       "      <td>summer</td>\n",
       "    </tr>\n",
       "    <tr>\n",
       "      <th>8588</th>\n",
       "      <td>2022-08-24 20:00:00+03:00</td>\n",
       "      <td>25.1</td>\n",
       "      <td>17.1</td>\n",
       "      <td>61</td>\n",
       "      <td>0.0</td>\n",
       "      <td>NaN</td>\n",
       "      <td>220</td>\n",
       "      <td>6.0</td>\n",
       "      <td>11.1</td>\n",
       "      <td>1021.000000</td>\n",
       "      <td>1.0</td>\n",
       "      <td>0.49990</td>\n",
       "      <td>2022</td>\n",
       "      <td>8</td>\n",
       "      <td>24</td>\n",
       "      <td>20</td>\n",
       "      <td>0</td>\n",
       "      <td>0</td>\n",
       "      <td>2</td>\n",
       "      <td>summer</td>\n",
       "    </tr>\n",
       "    <tr>\n",
       "      <th>8589</th>\n",
       "      <td>2022-08-24 21:00:00+03:00</td>\n",
       "      <td>24.9</td>\n",
       "      <td>18.1</td>\n",
       "      <td>66</td>\n",
       "      <td>0.0</td>\n",
       "      <td>NaN</td>\n",
       "      <td>150</td>\n",
       "      <td>4.0</td>\n",
       "      <td>9.3</td>\n",
       "      <td>1020.900024</td>\n",
       "      <td>4.0</td>\n",
       "      <td>0.43149</td>\n",
       "      <td>2022</td>\n",
       "      <td>8</td>\n",
       "      <td>24</td>\n",
       "      <td>21</td>\n",
       "      <td>0</td>\n",
       "      <td>0</td>\n",
       "      <td>2</td>\n",
       "      <td>summer</td>\n",
       "    </tr>\n",
       "    <tr>\n",
       "      <th>8590</th>\n",
       "      <td>2022-08-24 22:00:00+03:00</td>\n",
       "      <td>22.1</td>\n",
       "      <td>17.0</td>\n",
       "      <td>73</td>\n",
       "      <td>0.0</td>\n",
       "      <td>NaN</td>\n",
       "      <td>160</td>\n",
       "      <td>6.0</td>\n",
       "      <td>9.3</td>\n",
       "      <td>1021.000000</td>\n",
       "      <td>2.0</td>\n",
       "      <td>0.55203</td>\n",
       "      <td>2022</td>\n",
       "      <td>8</td>\n",
       "      <td>24</td>\n",
       "      <td>22</td>\n",
       "      <td>0</td>\n",
       "      <td>0</td>\n",
       "      <td>2</td>\n",
       "      <td>summer</td>\n",
       "    </tr>\n",
       "    <tr>\n",
       "      <th>8591</th>\n",
       "      <td>2022-08-24 23:00:00+03:00</td>\n",
       "      <td>22.1</td>\n",
       "      <td>18.1</td>\n",
       "      <td>78</td>\n",
       "      <td>0.0</td>\n",
       "      <td>NaN</td>\n",
       "      <td>310</td>\n",
       "      <td>15.0</td>\n",
       "      <td>9.3</td>\n",
       "      <td>1021.000000</td>\n",
       "      <td>2.0</td>\n",
       "      <td>0.43108</td>\n",
       "      <td>2022</td>\n",
       "      <td>8</td>\n",
       "      <td>24</td>\n",
       "      <td>23</td>\n",
       "      <td>0</td>\n",
       "      <td>0</td>\n",
       "      <td>2</td>\n",
       "      <td>summer</td>\n",
       "    </tr>\n",
       "  </tbody>\n",
       "</table>\n",
       "</div>"
      ],
      "text/plain": [
       "                           time  temp  dwpt  rhum  prcp  snow  wdir  wspd  \\\n",
       "index                                                                       \n",
       "8587  2022-08-24 19:00:00+03:00  27.1  17.0    54   0.0   NaN   180   4.0   \n",
       "8588  2022-08-24 20:00:00+03:00  25.1  17.1    61   0.0   NaN   220   6.0   \n",
       "8589  2022-08-24 21:00:00+03:00  24.9  18.1    66   0.0   NaN   150   4.0   \n",
       "8590  2022-08-24 22:00:00+03:00  22.1  17.0    73   0.0   NaN   160   6.0   \n",
       "8591  2022-08-24 23:00:00+03:00  22.1  18.1    78   0.0   NaN   310  15.0   \n",
       "\n",
       "       wpgt         pres coco  el_price  year  month  day  hour  minute  \\\n",
       "index                                                                     \n",
       "8587   11.1  1020.000000  2.0   0.53494  2022      8   24    19       0   \n",
       "8588   11.1  1021.000000  1.0   0.49990  2022      8   24    20       0   \n",
       "8589    9.3  1020.900024  4.0   0.43149  2022      8   24    21       0   \n",
       "8590    9.3  1021.000000  2.0   0.55203  2022      8   24    22       0   \n",
       "8591    9.3  1021.000000  2.0   0.43108  2022      8   24    23       0   \n",
       "\n",
       "       second  weekday  season  \n",
       "index                           \n",
       "8587        0        2  summer  \n",
       "8588        0        2  summer  \n",
       "8589        0        2  summer  \n",
       "8590        0        2  summer  \n",
       "8591        0        2  summer  "
      ]
     },
     "execution_count": 15,
     "metadata": {},
     "output_type": "execute_result"
    }
   ],
   "source": [
    "train[\"season\"] = train[\"month\"].apply(lambda x: month_to_season(x)).astype(\"category\")\n",
    "train.tail()"
   ]
  },
  {
   "cell_type": "code",
   "execution_count": 20,
   "metadata": {
    "execution": {
     "iopub.execute_input": "2022-11-10T22:10:58.880710Z",
     "iopub.status.busy": "2022-11-10T22:10:58.879626Z",
     "iopub.status.idle": "2022-11-10T22:10:58.963156Z",
     "shell.execute_reply": "2022-11-10T22:10:58.917986Z",
     "shell.execute_reply.started": "2022-11-10T22:10:58.880661Z"
    },
    "tags": []
   },
   "outputs": [
    {
     "name": "stdout",
     "output_type": "stream",
     "text": [
      "<class 'pandas.core.frame.DataFrame'>\n",
      "Int64Index: 8592 entries, 0 to 8591\n",
      "Data columns (total 20 columns):\n",
      " #   Column    Non-Null Count  Dtype                         \n",
      "---  ------    --------------  -----                         \n",
      " 0   time      8592 non-null   datetime64[ns, Europe/Tallinn]\n",
      " 1   temp      8592 non-null   float32                       \n",
      " 2   dwpt      8592 non-null   float32                       \n",
      " 3   rhum      8592 non-null   int32                         \n",
      " 4   prcp      2159 non-null   float32                       \n",
      " 5   snow      119 non-null    float32                       \n",
      " 6   wdir      8592 non-null   int32                         \n",
      " 7   wspd      8592 non-null   float32                       \n",
      " 8   wpgt      8592 non-null   float32                       \n",
      " 9   pres      8592 non-null   float32                       \n",
      " 10  coco      8396 non-null   category                      \n",
      " 11  el_price  8592 non-null   float32                       \n",
      " 12  year      8592 non-null   int32                         \n",
      " 13  month     8592 non-null   int32                         \n",
      " 14  day       8592 non-null   int32                         \n",
      " 15  hour      8592 non-null   int32                         \n",
      " 16  minute    8592 non-null   int32                         \n",
      " 17  second    8592 non-null   int32                         \n",
      " 18  weekday   8592 non-null   int32                         \n",
      " 19  season    8592 non-null   category                      \n",
      "dtypes: category(2), datetime64[ns, Europe/Tallinn](1), float32(8), int32(9)\n",
      "memory usage: 722.5 KB\n"
     ]
    }
   ],
   "source": [
    "train.info()"
   ]
  },
  {
   "cell_type": "markdown",
   "metadata": {},
   "source": [
    "### Data modification"
   ]
  },
  {
   "cell_type": "markdown",
   "metadata": {
    "id": "LHrbzNOMJu7n"
   },
   "source": [
    "---------- End of generic setup code. Actual programming can begin after here ----------"
   ]
  },
  {
   "cell_type": "code",
   "execution_count": 21,
   "metadata": {
    "colab": {
     "base_uri": "https://localhost:8080/"
    },
    "execution": {
     "iopub.execute_input": "2022-11-10T22:11:20.211559Z",
     "iopub.status.busy": "2022-11-10T22:11:20.210662Z",
     "iopub.status.idle": "2022-11-10T22:11:20.957756Z",
     "shell.execute_reply": "2022-11-10T22:11:20.954582Z",
     "shell.execute_reply.started": "2022-11-10T22:11:20.211492Z"
    },
    "id": "kiinNWOkeH36",
    "outputId": "4ce8249e-ee9c-4dfd-ecba-0d47194e7773",
    "tags": []
   },
   "outputs": [
    {
     "name": "stdout",
     "output_type": "stream",
     "text": [
      "Retained 0.5 of variance with 1 number of features\n",
      "Retained 0.6 of variance with 1 number of features\n",
      "Retained 0.75 of variance with 1 number of features\n",
      "Retained 0.8 of variance with 1 number of features\n",
      "Retained 0.85 of variance with 1 number of features\n",
      "Retained 0.9 of variance with 2 number of features\n",
      "Retained 0.95 of variance with 4 number of features\n",
      "Retained 0.96 of variance with 4 number of features\n",
      "Retained 0.97 of variance with 5 number of features\n",
      "Retained 0.98 of variance with 6 number of features\n",
      "Retained 0.99 of variance with 7 number of features\n"
     ]
    }
   ],
   "source": [
    "# USE the code we wrote above\n",
    "train_no_time = train.drop([\"time\", \"coco\", \"season\"], axis=1)\n",
    "test_no_time = test.drop([\"time\", \"coco\"], axis=1)\n",
    "test_no_time, train_no_time, labels = replaceNanWithZero(\n",
    "    test_no_time, train_no_time, train_labels\n",
    ")\n",
    "\n",
    "PCA_Performance(train_no_time, test_no_time)"
   ]
  },
  {
   "cell_type": "code",
   "execution_count": null,
   "metadata": {},
   "outputs": [],
   "source": []
  },
  {
   "cell_type": "code",
   "execution_count": null,
   "metadata": {},
   "outputs": [],
   "source": []
  }
 ],
 "metadata": {
  "colab": {
   "collapsed_sections": [],
   "provenance": []
  },
  "kernelspec": {
   "display_name": "mltartu-kernel",
   "language": "python",
   "name": "mltartu-kernel"
  },
  "language_info": {
   "codemirror_mode": {
    "name": "ipython",
    "version": 3
   },
   "file_extension": ".py",
   "mimetype": "text/x-python",
   "name": "python",
   "nbconvert_exporter": "python",
   "pygments_lexer": "ipython3",
   "version": "3.10.8"
  }
 },
 "nbformat": 4,
 "nbformat_minor": 4
}
