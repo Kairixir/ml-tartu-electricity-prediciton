{
  "cells": [
    {
      "cell_type": "markdown",
      "id": "f1c56481",
      "metadata": {
        "id": "f1c56481",
        "tags": []
      },
      "source": [
        "# Setup\n",
        "\n"
      ]
    },
    {
      "cell_type": "markdown",
      "id": "cbb2e4f8",
      "metadata": {
        "jp-MarkdownHeadingCollapsed": true,
        "local_metadata": {
          "jp-MarkdownHeadingCollapsed": true,
          "tags": []
        },
        "remote_metadata": {
          "id": "afM0KaV5TDTU",
          "jp-MarkdownHeadingCollapsed": true,
          "tags": []
        },
        "tags": [],
        "id": "cbb2e4f8"
      },
      "source": [
        "## Colab setup\n",
        "---------- Start of generic setup code to get kaggle credentials login and data to work with. Copied much from Workshop 2 ----------"
      ]
    },
    {
      "cell_type": "code",
      "execution_count": 72,
      "id": "56409fca",
      "metadata": {
        "local_metadata": {},
        "remote_metadata": {
          "id": "q4w9ZA--TDTX"
        },
        "id": "56409fca"
      },
      "outputs": [],
      "source": [
        "# Code to read csv file into Colaboratory:\n",
        "!pip install -U -q PyDrive\n",
        "!pip install -U -q scikeras\n",
        "from google.colab import auth\n",
        "from oauth2client.client import GoogleCredentials\n",
        "from pydrive.auth import GoogleAuth\n",
        "from pydrive.drive import GoogleDrive"
      ]
    },
    {
      "cell_type": "code",
      "execution_count": 73,
      "id": "0520a853",
      "metadata": {
        "id": "0520a853"
      },
      "outputs": [],
      "source": [
        "# Authenticate and create the PyDrive client.\n",
        "auth.authenticate_user()\n",
        "gauth = GoogleAuth()\n",
        "gauth.credentials = GoogleCredentials.get_application_default()\n",
        "drive = GoogleDrive(gauth)"
      ]
    },
    {
      "cell_type": "markdown",
      "id": "f65423d7",
      "metadata": {
        "id": "f65423d7"
      },
      "source": [
        "https://drive.google.com/file/d/1DeYgEzZ8Bs8Y3QsHd5YsV-3D-SzVAm4x"
      ]
    },
    {
      "cell_type": "code",
      "execution_count": 74,
      "id": "40a826ef",
      "metadata": {
        "id": "40a826ef"
      },
      "outputs": [],
      "source": [
        "# GET data from file I've uploaded to my drive. Use your own kaggle.json and google auth logins etc\n",
        "downloaded = drive.CreateFile({\"id\": \"1DeYgEzZ8Bs8Y3QsHd5YsV-3D-SzVAm4x\"})\n",
        "downloaded.GetContentFile(\"predict-energy-consumption.zip\")"
      ]
    },
    {
      "cell_type": "code",
      "execution_count": 75,
      "id": "e1fbda7c",
      "metadata": {
        "local_metadata": {
          "colab": {
            "base_uri": "https://localhost:8080/"
          },
          "id": "zeCWSQdyHe7k",
          "outputId": "d71f97c7-530e-4238-e700-f61dbfe4d220"
        },
        "remote_metadata": {
          "id": "zeCWSQdyHe7k"
        },
        "colab": {
          "base_uri": "https://localhost:8080/"
        },
        "id": "e1fbda7c",
        "outputId": "50ad30d8-5bf4-4f19-f111-47dc92b8f34c"
      },
      "outputs": [
        {
          "output_type": "stream",
          "name": "stdout",
          "text": [
            "Archive:  predict-energy-consumption.zip\n",
            "  inflating: sample_submission.csv   \n",
            "  inflating: test.csv                \n",
            "  inflating: train.csv               \n",
            "darts_logs  predict-energy-consumption.zip  sample_submission.csv  train.csv\n",
            "data\t    sample_data\t\t\t    test.csv\n",
            "mkdir: cannot create directory ‘data’: File exists\n"
          ]
        }
      ],
      "source": [
        "!unzip predict-energy-consumption.zip\n",
        "\n",
        "!ls\n",
        "!mkdir data\n",
        "!mv *.csv data/"
      ]
    },
    {
      "cell_type": "code",
      "execution_count": 76,
      "id": "3bc14290",
      "metadata": {
        "local_metadata": {
          "colab": {
            "base_uri": "https://localhost:8080/",
            "height": 74
          },
          "id": "3HjDS_qKGMj9",
          "outputId": "34b48718-9122-4d4a-cad7-c84c8d21e69e"
        },
        "remote_metadata": {
          "id": "3HjDS_qKGMj9"
        },
        "colab": {
          "base_uri": "https://localhost:8080/",
          "height": 57
        },
        "id": "3bc14290",
        "outputId": "3db8a837-21d7-4ebd-c07e-8efd3b10385e"
      },
      "outputs": [
        {
          "output_type": "display_data",
          "data": {
            "text/plain": [
              "<IPython.core.display.HTML object>"
            ],
            "text/html": [
              "\n",
              "     <input type=\"file\" id=\"files-ef211584-2748-4741-919a-fd992349a38b\" name=\"files[]\" multiple disabled\n",
              "        style=\"border:none\" />\n",
              "     <output id=\"result-ef211584-2748-4741-919a-fd992349a38b\">\n",
              "      Upload widget is only available when the cell has been executed in the\n",
              "      current browser session. Please rerun this cell to enable.\n",
              "      </output>\n",
              "      <script>// Copyright 2017 Google LLC\n",
              "//\n",
              "// Licensed under the Apache License, Version 2.0 (the \"License\");\n",
              "// you may not use this file except in compliance with the License.\n",
              "// You may obtain a copy of the License at\n",
              "//\n",
              "//      http://www.apache.org/licenses/LICENSE-2.0\n",
              "//\n",
              "// Unless required by applicable law or agreed to in writing, software\n",
              "// distributed under the License is distributed on an \"AS IS\" BASIS,\n",
              "// WITHOUT WARRANTIES OR CONDITIONS OF ANY KIND, either express or implied.\n",
              "// See the License for the specific language governing permissions and\n",
              "// limitations under the License.\n",
              "\n",
              "/**\n",
              " * @fileoverview Helpers for google.colab Python module.\n",
              " */\n",
              "(function(scope) {\n",
              "function span(text, styleAttributes = {}) {\n",
              "  const element = document.createElement('span');\n",
              "  element.textContent = text;\n",
              "  for (const key of Object.keys(styleAttributes)) {\n",
              "    element.style[key] = styleAttributes[key];\n",
              "  }\n",
              "  return element;\n",
              "}\n",
              "\n",
              "// Max number of bytes which will be uploaded at a time.\n",
              "const MAX_PAYLOAD_SIZE = 100 * 1024;\n",
              "\n",
              "function _uploadFiles(inputId, outputId) {\n",
              "  const steps = uploadFilesStep(inputId, outputId);\n",
              "  const outputElement = document.getElementById(outputId);\n",
              "  // Cache steps on the outputElement to make it available for the next call\n",
              "  // to uploadFilesContinue from Python.\n",
              "  outputElement.steps = steps;\n",
              "\n",
              "  return _uploadFilesContinue(outputId);\n",
              "}\n",
              "\n",
              "// This is roughly an async generator (not supported in the browser yet),\n",
              "// where there are multiple asynchronous steps and the Python side is going\n",
              "// to poll for completion of each step.\n",
              "// This uses a Promise to block the python side on completion of each step,\n",
              "// then passes the result of the previous step as the input to the next step.\n",
              "function _uploadFilesContinue(outputId) {\n",
              "  const outputElement = document.getElementById(outputId);\n",
              "  const steps = outputElement.steps;\n",
              "\n",
              "  const next = steps.next(outputElement.lastPromiseValue);\n",
              "  return Promise.resolve(next.value.promise).then((value) => {\n",
              "    // Cache the last promise value to make it available to the next\n",
              "    // step of the generator.\n",
              "    outputElement.lastPromiseValue = value;\n",
              "    return next.value.response;\n",
              "  });\n",
              "}\n",
              "\n",
              "/**\n",
              " * Generator function which is called between each async step of the upload\n",
              " * process.\n",
              " * @param {string} inputId Element ID of the input file picker element.\n",
              " * @param {string} outputId Element ID of the output display.\n",
              " * @return {!Iterable<!Object>} Iterable of next steps.\n",
              " */\n",
              "function* uploadFilesStep(inputId, outputId) {\n",
              "  const inputElement = document.getElementById(inputId);\n",
              "  inputElement.disabled = false;\n",
              "\n",
              "  const outputElement = document.getElementById(outputId);\n",
              "  outputElement.innerHTML = '';\n",
              "\n",
              "  const pickedPromise = new Promise((resolve) => {\n",
              "    inputElement.addEventListener('change', (e) => {\n",
              "      resolve(e.target.files);\n",
              "    });\n",
              "  });\n",
              "\n",
              "  const cancel = document.createElement('button');\n",
              "  inputElement.parentElement.appendChild(cancel);\n",
              "  cancel.textContent = 'Cancel upload';\n",
              "  const cancelPromise = new Promise((resolve) => {\n",
              "    cancel.onclick = () => {\n",
              "      resolve(null);\n",
              "    };\n",
              "  });\n",
              "\n",
              "  // Wait for the user to pick the files.\n",
              "  const files = yield {\n",
              "    promise: Promise.race([pickedPromise, cancelPromise]),\n",
              "    response: {\n",
              "      action: 'starting',\n",
              "    }\n",
              "  };\n",
              "\n",
              "  cancel.remove();\n",
              "\n",
              "  // Disable the input element since further picks are not allowed.\n",
              "  inputElement.disabled = true;\n",
              "\n",
              "  if (!files) {\n",
              "    return {\n",
              "      response: {\n",
              "        action: 'complete',\n",
              "      }\n",
              "    };\n",
              "  }\n",
              "\n",
              "  for (const file of files) {\n",
              "    const li = document.createElement('li');\n",
              "    li.append(span(file.name, {fontWeight: 'bold'}));\n",
              "    li.append(span(\n",
              "        `(${file.type || 'n/a'}) - ${file.size} bytes, ` +\n",
              "        `last modified: ${\n",
              "            file.lastModifiedDate ? file.lastModifiedDate.toLocaleDateString() :\n",
              "                                    'n/a'} - `));\n",
              "    const percent = span('0% done');\n",
              "    li.appendChild(percent);\n",
              "\n",
              "    outputElement.appendChild(li);\n",
              "\n",
              "    const fileDataPromise = new Promise((resolve) => {\n",
              "      const reader = new FileReader();\n",
              "      reader.onload = (e) => {\n",
              "        resolve(e.target.result);\n",
              "      };\n",
              "      reader.readAsArrayBuffer(file);\n",
              "    });\n",
              "    // Wait for the data to be ready.\n",
              "    let fileData = yield {\n",
              "      promise: fileDataPromise,\n",
              "      response: {\n",
              "        action: 'continue',\n",
              "      }\n",
              "    };\n",
              "\n",
              "    // Use a chunked sending to avoid message size limits. See b/62115660.\n",
              "    let position = 0;\n",
              "    do {\n",
              "      const length = Math.min(fileData.byteLength - position, MAX_PAYLOAD_SIZE);\n",
              "      const chunk = new Uint8Array(fileData, position, length);\n",
              "      position += length;\n",
              "\n",
              "      const base64 = btoa(String.fromCharCode.apply(null, chunk));\n",
              "      yield {\n",
              "        response: {\n",
              "          action: 'append',\n",
              "          file: file.name,\n",
              "          data: base64,\n",
              "        },\n",
              "      };\n",
              "\n",
              "      let percentDone = fileData.byteLength === 0 ?\n",
              "          100 :\n",
              "          Math.round((position / fileData.byteLength) * 100);\n",
              "      percent.textContent = `${percentDone}% done`;\n",
              "\n",
              "    } while (position < fileData.byteLength);\n",
              "  }\n",
              "\n",
              "  // All done.\n",
              "  yield {\n",
              "    response: {\n",
              "      action: 'complete',\n",
              "    }\n",
              "  };\n",
              "}\n",
              "\n",
              "scope.google = scope.google || {};\n",
              "scope.google.colab = scope.google.colab || {};\n",
              "scope.google.colab._files = {\n",
              "  _uploadFiles,\n",
              "  _uploadFilesContinue,\n",
              "};\n",
              "})(self);\n",
              "</script> "
            ]
          },
          "metadata": {}
        },
        {
          "output_type": "execute_result",
          "data": {
            "text/plain": [
              "{}"
            ]
          },
          "metadata": {},
          "execution_count": 76
        }
      ],
      "source": [
        "from google.colab import files\n",
        "\n",
        "files.upload()\n",
        "# upload your kaggle.json file"
      ]
    },
    {
      "cell_type": "markdown",
      "id": "4e34bf8d",
      "metadata": {
        "id": "4e34bf8d"
      },
      "source": [
        "Processing data from the source."
      ]
    },
    {
      "cell_type": "code",
      "execution_count": 77,
      "id": "001d9b8a",
      "metadata": {
        "local_metadata": {
          "colab": {
            "base_uri": "https://localhost:8080/"
          },
          "id": "E6epI7FjF5As",
          "outputId": "39b03a5f-7a0a-4c44-dc84-42226d596e83"
        },
        "remote_metadata": {
          "id": "E6epI7FjF5As"
        },
        "colab": {
          "base_uri": "https://localhost:8080/"
        },
        "id": "001d9b8a",
        "outputId": "e6d82a0f-72d3-4895-d68c-5a8de9be6a69"
      },
      "outputs": [
        {
          "output_type": "stream",
          "name": "stdout",
          "text": [
            "mkdir: cannot create directory ‘/root/.kaggle/’: File exists\n",
            "mv: cannot stat 'kaggle.json': No such file or directory\n",
            "chmod: cannot access '/root/.kaggle/kaggle.json': No such file or directory\n",
            "Traceback (most recent call last):\n",
            "  File \"/usr/local/bin/kaggle\", line 5, in <module>\n",
            "    from kaggle.cli import main\n",
            "  File \"/usr/local/lib/python3.8/dist-packages/kaggle/__init__.py\", line 23, in <module>\n",
            "    api.authenticate()\n",
            "  File \"/usr/local/lib/python3.8/dist-packages/kaggle/api/kaggle_api_extended.py\", line 164, in authenticate\n",
            "    raise IOError('Could not find {}. Make sure it\\'s located in'\n",
            "OSError: Could not find kaggle.json. Make sure it's located in /root/.kaggle. Or use the environment method.\n"
          ]
        }
      ],
      "source": [
        "import json\n",
        "\n",
        "!mkdir /root/.kaggle/\n",
        "!mv kaggle.json /root/.kaggle/kaggle.json\n",
        "!chmod 600 ~/.kaggle/kaggle.json\n",
        "!kaggle config set -n path -v{/content}"
      ]
    },
    {
      "cell_type": "code",
      "execution_count": 78,
      "id": "24522f83",
      "metadata": {
        "id": "24522f83"
      },
      "outputs": [],
      "source": [
        "# GENERIC SUBMIT FUNCTION (uncomment when you want to submit)\n",
        "\n",
        "# submission = pd.DataFrame(\n",
        "#    {'key': test.key, 'fare_amount': val_predictions},\n",
        "#    columns = ['key', 'fare_amount'])\n",
        "# submission.to_csv('submission.csv', index = False)\n",
        "\n",
        "\n",
        "#!kaggle competitions submit -c predict-electricity-consumption -f submission.csv -m \"[TEAM NAME] Submission\""
      ]
    },
    {
      "cell_type": "markdown",
      "id": "6ccb6791",
      "metadata": {
        "local_metadata": {
          "tags": []
        },
        "remote_metadata": {
          "id": "VYYrPfm4TDTi",
          "tags": []
        },
        "id": "6ccb6791"
      },
      "source": [
        "## Libraries setup"
      ]
    },
    {
      "cell_type": "code",
      "execution_count": 79,
      "id": "a8def265",
      "metadata": {
        "local_metadata": {
          "tags": []
        },
        "remote_metadata": {
          "id": "-ypscWreTDTi",
          "tags": []
        },
        "id": "a8def265"
      },
      "outputs": [],
      "source": [
        "import matplotlib.pyplot as plt\n",
        "import numpy as np\n",
        "import pandas as pd\n",
        "import seaborn as sns\n",
        "import torch\n",
        "\n",
        "sns.set()"
      ]
    },
    {
      "cell_type": "markdown",
      "id": "97cd924a",
      "metadata": {
        "local_metadata": {
          "tags": [],
          "toc-hr-collapsed": true
        },
        "remote_metadata": {
          "id": "kIoAs8nBTDTj",
          "tags": []
        },
        "id": "97cd924a"
      },
      "source": [
        "# Data exploration"
      ]
    },
    {
      "cell_type": "markdown",
      "id": "063178c0",
      "metadata": {
        "local_metadata": {
          "tags": []
        },
        "remote_metadata": {
          "id": "nG9ST15pTDTj",
          "tags": []
        },
        "id": "063178c0"
      },
      "source": [
        "### Modification functions"
      ]
    },
    {
      "cell_type": "code",
      "execution_count": 80,
      "id": "6781399b",
      "metadata": {
        "local_metadata": {
          "tags": []
        },
        "remote_metadata": {
          "id": "aCxAkXaeTDTk",
          "tags": []
        },
        "id": "6781399b"
      },
      "outputs": [],
      "source": [
        "def replaceNanWithZero(test, train, labels):\n",
        "    train_labels = labels.replace(np.nan, 0.0)\n",
        "\n",
        "    for col in train.columns:\n",
        "        train[col] = train[col].replace(np.nan, 0.0)\n",
        "\n",
        "    for col in test.columns:\n",
        "        test[col] = test[col].replace(np.nan, 0.0)\n",
        "\n",
        "    return test, train, train_labels"
      ]
    },
    {
      "cell_type": "code",
      "execution_count": 81,
      "id": "3ec94669",
      "metadata": {
        "local_metadata": {
          "tags": []
        },
        "remote_metadata": {
          "id": "IjrfI7JuTDTk",
          "tags": []
        },
        "id": "3ec94669"
      },
      "outputs": [],
      "source": [
        "# PCA to get a lesser number of features, then going to feed into basic nn see what we can do\n",
        "from sklearn.decomposition import PCA\n",
        "\n",
        "\n",
        "def PCA_Performance(train, test):\n",
        "    variance = [0.5, 0.6, 0.75, 0.8, 0.85, 0.9, 0.95, 0.96, 0.97, 0.98, 0.99]\n",
        "\n",
        "    for var in variance:\n",
        "        pca = PCA(n_components=var)\n",
        "        pca.fit(train)\n",
        "        transformed_Train = pca.transform(train)\n",
        "        # transformed_Test = pca.transform(test)\n",
        "        print(\n",
        "            f\"Retained {var} of variance with {len(transformed_Train.T)} number of features\"\n",
        "        )"
      ]
    },
    {
      "cell_type": "code",
      "execution_count": 82,
      "id": "487e18ae",
      "metadata": {
        "local_metadata": {},
        "remote_metadata": {
          "id": "x3Rr1Y6NTDTl"
        },
        "id": "487e18ae"
      },
      "outputs": [],
      "source": [
        "def month_to_season(month: int) -> str:\n",
        "    assert 1 <= month < 13\n",
        "    if 3 <= month < 6:\n",
        "        return \"spring\"\n",
        "    elif 6 <= month < 9:\n",
        "        return \"summer\"\n",
        "    elif 9 <= month < 12:\n",
        "        return \"autumn\"\n",
        "    else:\n",
        "        return \"winter\""
      ]
    },
    {
      "cell_type": "code",
      "execution_count": 83,
      "id": "2c1d0c86",
      "metadata": {
        "local_metadata": {
          "tags": []
        },
        "remote_metadata": {
          "id": "1pLRy7c2TDTl",
          "tags": []
        },
        "id": "2c1d0c86"
      },
      "outputs": [],
      "source": [
        "def cast_types(df: pd.DataFrame) -> pd.DataFrame:\n",
        "\n",
        "    # Cast time, respect timezone\n",
        "    df[\"time\"] = pd.to_datetime(df[\"time\"], utc=True).dt.tz_convert(\"Europe/Tallinn\")\n",
        "\n",
        "    # Cast remaining columns\n",
        "    df = df.astype(\n",
        "        {\n",
        "            \"temp\": \"float32\",\n",
        "            \"dwpt\": \"float32\",\n",
        "            \"rhum\": \"int32\",\n",
        "            \"prcp\": \"float32\",\n",
        "            # TODO: Snow might be integer too, check it\n",
        "            \"snow\": \"float32\",\n",
        "            \"wdir\": \"int32\",\n",
        "            \"wspd\": \"float32\",\n",
        "            \"wpgt\": \"float32\",\n",
        "            \"pres\": \"float32\",\n",
        "            \"coco\": \"category\",\n",
        "            \"el_price\": \"float32\",\n",
        "        }\n",
        "    )\n",
        "\n",
        "    # Change coco categories from float to int representation\n",
        "    new_categories = [int(category) for category in df[\"coco\"].cat.categories]\n",
        "\n",
        "    df[\"coco\"] = df[\"coco\"].cat.rename_categories(new_categories)\n",
        "\n",
        "    return df"
      ]
    },
    {
      "cell_type": "code",
      "execution_count": 84,
      "id": "1b20fd77",
      "metadata": {
        "local_metadata": {
          "tags": []
        },
        "remote_metadata": {
          "id": "i14fKiGkTDTl",
          "tags": []
        },
        "id": "1b20fd77"
      },
      "outputs": [],
      "source": [
        "def explode_datetime(\n",
        "    df: pd.DataFrame, datetime_column: str, without_prefix: bool = False\n",
        ") -> pd.DataFrame:\n",
        "\n",
        "    prefix = \"\" if without_prefix else f\"{datetime_column}_\"\n",
        "\n",
        "    if f\"{prefix}year\" in df.columns:\n",
        "        print(f\"Column {prefix}year already exists\")\n",
        "        return df\n",
        "\n",
        "    date_info = pd.DataFrame(\n",
        "        data=[\n",
        "            [x.year, x.month, x.day, x.hour, x.weekday()] for x in df[datetime_column]\n",
        "        ],\n",
        "        columns=[\n",
        "            f\"{prefix}year\",\n",
        "            f\"{prefix}month\",\n",
        "            f\"{prefix}day\",\n",
        "            f\"{prefix}hour\",\n",
        "            f\"{prefix}weekday\",\n",
        "        ],\n",
        "    ).astype(np.int32)\n",
        "\n",
        "    df = pd.concat([df.reset_index(), date_info], axis=1).set_index(\"index\")\n",
        "\n",
        "    return df"
      ]
    },
    {
      "cell_type": "markdown",
      "id": "f4ff39ea",
      "metadata": {
        "local_metadata": {
          "execution": {
            "iopub.execute_input": "2022-11-10T17:57:57.971339Z",
            "iopub.status.busy": "2022-11-10T17:57:57.967378Z",
            "iopub.status.idle": "2022-11-10T17:57:57.989706Z",
            "shell.execute_reply": "2022-11-10T17:57:57.985813Z",
            "shell.execute_reply.started": "2022-11-10T17:57:57.971293Z"
          },
          "tags": []
        },
        "remote_metadata": {
          "execution": {
            "iopub.execute_input": "2022-11-10T17:57:57.971339Z",
            "iopub.status.busy": "2022-11-10T17:57:57.967378Z",
            "iopub.status.idle": "2022-11-10T17:57:57.989706Z",
            "shell.execute_reply": "2022-11-10T17:57:57.985813Z",
            "shell.execute_reply.started": "2022-11-10T17:57:57.971293Z"
          },
          "id": "XPm-y_6ATDTm",
          "tags": []
        },
        "id": "f4ff39ea"
      },
      "source": [
        "## Exploration"
      ]
    },
    {
      "cell_type": "code",
      "execution_count": 85,
      "id": "06bbe05e",
      "metadata": {
        "local_metadata": {
          "colab": {
            "base_uri": "https://localhost:8080/"
          },
          "id": "TNkzNqt7IhVz",
          "outputId": "cfe12431-9d30-46f1-9425-7da3aa60f276",
          "tags": []
        },
        "remote_metadata": {
          "id": "TNkzNqt7IhVz",
          "tags": []
        },
        "id": "06bbe05e"
      },
      "outputs": [],
      "source": [
        "# Here we can split into train/test for verification while we train whatever works)\n",
        "train = pd.read_csv(\"data/train.csv\")\n",
        "train_labels = train[\"consumption\"]  # y vals in this case are concumption\n",
        "# GIVEN time is a string we just gonna drop that mfer, cbf processing it etc\n",
        "\n",
        "test = pd.read_csv(\"data/test.csv\")\n",
        "\n",
        "# Have to predict consumption for these values. Consumption unkown.\n",
        "# At this point should have a train and test without Nan values:)"
      ]
    },
    {
      "cell_type": "code",
      "execution_count": 86,
      "id": "3e86d1ef",
      "metadata": {
        "local_metadata": {},
        "remote_metadata": {
          "id": "RoLDYx4jTDTn",
          "outputId": "f45f5e70-4dcf-4190-b6ff-a85e19b54a8e"
        },
        "colab": {
          "base_uri": "https://localhost:8080/",
          "height": 0
        },
        "id": "3e86d1ef",
        "outputId": "0ef79373-97d5-4d9f-ff48-5a6630a31f4a"
      },
      "outputs": [
        {
          "output_type": "execute_result",
          "data": {
            "text/plain": [
              "                        time  temp  dwpt  rhum  prcp  snow   wdir  wspd  wpgt  \\\n",
              "0  2021-09-01 00:00:00+03:00 11.20 10.30 94.00   NaN   NaN 320.00  7.20 16.70   \n",
              "1  2021-09-01 01:00:00+03:00 10.70  9.60 93.00   NaN   NaN 320.00  7.20 13.00   \n",
              "2  2021-09-01 02:00:00+03:00  9.90  9.00 94.00   NaN   NaN 320.00  7.20 13.00   \n",
              "3  2021-09-01 03:00:00+03:00 10.00  8.40 90.00   NaN   NaN 330.00  7.20 13.00   \n",
              "4  2021-09-01 04:00:00+03:00  9.00  8.10 94.00   NaN   NaN 300.00  3.60 13.00   \n",
              "\n",
              "     pres  coco  el_price  consumption  \n",
              "0 1012.60  2.00      0.09         0.58  \n",
              "1 1012.60  2.00      0.09         0.59  \n",
              "2 1012.20  2.00      0.09         0.69  \n",
              "3 1011.90  1.00      0.09         1.02  \n",
              "4 1011.40  2.00      0.09         0.68  "
            ],
            "text/html": [
              "\n",
              "  <div id=\"df-ceff6f0b-160d-4c0f-9c45-05413560ae73\">\n",
              "    <div class=\"colab-df-container\">\n",
              "      <div>\n",
              "<style scoped>\n",
              "    .dataframe tbody tr th:only-of-type {\n",
              "        vertical-align: middle;\n",
              "    }\n",
              "\n",
              "    .dataframe tbody tr th {\n",
              "        vertical-align: top;\n",
              "    }\n",
              "\n",
              "    .dataframe thead th {\n",
              "        text-align: right;\n",
              "    }\n",
              "</style>\n",
              "<table border=\"1\" class=\"dataframe\">\n",
              "  <thead>\n",
              "    <tr style=\"text-align: right;\">\n",
              "      <th></th>\n",
              "      <th>time</th>\n",
              "      <th>temp</th>\n",
              "      <th>dwpt</th>\n",
              "      <th>rhum</th>\n",
              "      <th>prcp</th>\n",
              "      <th>snow</th>\n",
              "      <th>wdir</th>\n",
              "      <th>wspd</th>\n",
              "      <th>wpgt</th>\n",
              "      <th>pres</th>\n",
              "      <th>coco</th>\n",
              "      <th>el_price</th>\n",
              "      <th>consumption</th>\n",
              "    </tr>\n",
              "  </thead>\n",
              "  <tbody>\n",
              "    <tr>\n",
              "      <th>0</th>\n",
              "      <td>2021-09-01 00:00:00+03:00</td>\n",
              "      <td>11.20</td>\n",
              "      <td>10.30</td>\n",
              "      <td>94.00</td>\n",
              "      <td>NaN</td>\n",
              "      <td>NaN</td>\n",
              "      <td>320.00</td>\n",
              "      <td>7.20</td>\n",
              "      <td>16.70</td>\n",
              "      <td>1012.60</td>\n",
              "      <td>2.00</td>\n",
              "      <td>0.09</td>\n",
              "      <td>0.58</td>\n",
              "    </tr>\n",
              "    <tr>\n",
              "      <th>1</th>\n",
              "      <td>2021-09-01 01:00:00+03:00</td>\n",
              "      <td>10.70</td>\n",
              "      <td>9.60</td>\n",
              "      <td>93.00</td>\n",
              "      <td>NaN</td>\n",
              "      <td>NaN</td>\n",
              "      <td>320.00</td>\n",
              "      <td>7.20</td>\n",
              "      <td>13.00</td>\n",
              "      <td>1012.60</td>\n",
              "      <td>2.00</td>\n",
              "      <td>0.09</td>\n",
              "      <td>0.59</td>\n",
              "    </tr>\n",
              "    <tr>\n",
              "      <th>2</th>\n",
              "      <td>2021-09-01 02:00:00+03:00</td>\n",
              "      <td>9.90</td>\n",
              "      <td>9.00</td>\n",
              "      <td>94.00</td>\n",
              "      <td>NaN</td>\n",
              "      <td>NaN</td>\n",
              "      <td>320.00</td>\n",
              "      <td>7.20</td>\n",
              "      <td>13.00</td>\n",
              "      <td>1012.20</td>\n",
              "      <td>2.00</td>\n",
              "      <td>0.09</td>\n",
              "      <td>0.69</td>\n",
              "    </tr>\n",
              "    <tr>\n",
              "      <th>3</th>\n",
              "      <td>2021-09-01 03:00:00+03:00</td>\n",
              "      <td>10.00</td>\n",
              "      <td>8.40</td>\n",
              "      <td>90.00</td>\n",
              "      <td>NaN</td>\n",
              "      <td>NaN</td>\n",
              "      <td>330.00</td>\n",
              "      <td>7.20</td>\n",
              "      <td>13.00</td>\n",
              "      <td>1011.90</td>\n",
              "      <td>1.00</td>\n",
              "      <td>0.09</td>\n",
              "      <td>1.02</td>\n",
              "    </tr>\n",
              "    <tr>\n",
              "      <th>4</th>\n",
              "      <td>2021-09-01 04:00:00+03:00</td>\n",
              "      <td>9.00</td>\n",
              "      <td>8.10</td>\n",
              "      <td>94.00</td>\n",
              "      <td>NaN</td>\n",
              "      <td>NaN</td>\n",
              "      <td>300.00</td>\n",
              "      <td>3.60</td>\n",
              "      <td>13.00</td>\n",
              "      <td>1011.40</td>\n",
              "      <td>2.00</td>\n",
              "      <td>0.09</td>\n",
              "      <td>0.68</td>\n",
              "    </tr>\n",
              "  </tbody>\n",
              "</table>\n",
              "</div>\n",
              "      <button class=\"colab-df-convert\" onclick=\"convertToInteractive('df-ceff6f0b-160d-4c0f-9c45-05413560ae73')\"\n",
              "              title=\"Convert this dataframe to an interactive table.\"\n",
              "              style=\"display:none;\">\n",
              "        \n",
              "  <svg xmlns=\"http://www.w3.org/2000/svg\" height=\"24px\"viewBox=\"0 0 24 24\"\n",
              "       width=\"24px\">\n",
              "    <path d=\"M0 0h24v24H0V0z\" fill=\"none\"/>\n",
              "    <path d=\"M18.56 5.44l.94 2.06.94-2.06 2.06-.94-2.06-.94-.94-2.06-.94 2.06-2.06.94zm-11 1L8.5 8.5l.94-2.06 2.06-.94-2.06-.94L8.5 2.5l-.94 2.06-2.06.94zm10 10l.94 2.06.94-2.06 2.06-.94-2.06-.94-.94-2.06-.94 2.06-2.06.94z\"/><path d=\"M17.41 7.96l-1.37-1.37c-.4-.4-.92-.59-1.43-.59-.52 0-1.04.2-1.43.59L10.3 9.45l-7.72 7.72c-.78.78-.78 2.05 0 2.83L4 21.41c.39.39.9.59 1.41.59.51 0 1.02-.2 1.41-.59l7.78-7.78 2.81-2.81c.8-.78.8-2.07 0-2.86zM5.41 20L4 18.59l7.72-7.72 1.47 1.35L5.41 20z\"/>\n",
              "  </svg>\n",
              "      </button>\n",
              "      \n",
              "  <style>\n",
              "    .colab-df-container {\n",
              "      display:flex;\n",
              "      flex-wrap:wrap;\n",
              "      gap: 12px;\n",
              "    }\n",
              "\n",
              "    .colab-df-convert {\n",
              "      background-color: #E8F0FE;\n",
              "      border: none;\n",
              "      border-radius: 50%;\n",
              "      cursor: pointer;\n",
              "      display: none;\n",
              "      fill: #1967D2;\n",
              "      height: 32px;\n",
              "      padding: 0 0 0 0;\n",
              "      width: 32px;\n",
              "    }\n",
              "\n",
              "    .colab-df-convert:hover {\n",
              "      background-color: #E2EBFA;\n",
              "      box-shadow: 0px 1px 2px rgba(60, 64, 67, 0.3), 0px 1px 3px 1px rgba(60, 64, 67, 0.15);\n",
              "      fill: #174EA6;\n",
              "    }\n",
              "\n",
              "    [theme=dark] .colab-df-convert {\n",
              "      background-color: #3B4455;\n",
              "      fill: #D2E3FC;\n",
              "    }\n",
              "\n",
              "    [theme=dark] .colab-df-convert:hover {\n",
              "      background-color: #434B5C;\n",
              "      box-shadow: 0px 1px 3px 1px rgba(0, 0, 0, 0.15);\n",
              "      filter: drop-shadow(0px 1px 2px rgba(0, 0, 0, 0.3));\n",
              "      fill: #FFFFFF;\n",
              "    }\n",
              "  </style>\n",
              "\n",
              "      <script>\n",
              "        const buttonEl =\n",
              "          document.querySelector('#df-ceff6f0b-160d-4c0f-9c45-05413560ae73 button.colab-df-convert');\n",
              "        buttonEl.style.display =\n",
              "          google.colab.kernel.accessAllowed ? 'block' : 'none';\n",
              "\n",
              "        async function convertToInteractive(key) {\n",
              "          const element = document.querySelector('#df-ceff6f0b-160d-4c0f-9c45-05413560ae73');\n",
              "          const dataTable =\n",
              "            await google.colab.kernel.invokeFunction('convertToInteractive',\n",
              "                                                     [key], {});\n",
              "          if (!dataTable) return;\n",
              "\n",
              "          const docLinkHtml = 'Like what you see? Visit the ' +\n",
              "            '<a target=\"_blank\" href=https://colab.research.google.com/notebooks/data_table.ipynb>data table notebook</a>'\n",
              "            + ' to learn more about interactive tables.';\n",
              "          element.innerHTML = '';\n",
              "          dataTable['output_type'] = 'display_data';\n",
              "          await google.colab.output.renderOutput(dataTable, element);\n",
              "          const docLink = document.createElement('div');\n",
              "          docLink.innerHTML = docLinkHtml;\n",
              "          element.appendChild(docLink);\n",
              "        }\n",
              "      </script>\n",
              "    </div>\n",
              "  </div>\n",
              "  "
            ]
          },
          "metadata": {},
          "execution_count": 86
        }
      ],
      "source": [
        "train.head()"
      ]
    },
    {
      "cell_type": "markdown",
      "id": "371e9776",
      "metadata": {
        "local_metadata": {
          "tags": []
        },
        "remote_metadata": {
          "id": "9-5Gh-baTDTo",
          "tags": []
        },
        "id": "371e9776"
      },
      "source": [
        "## Preprocessing"
      ]
    },
    {
      "cell_type": "markdown",
      "id": "80dd6f5f",
      "metadata": {
        "local_metadata": {
          "tags": []
        },
        "remote_metadata": {
          "id": "5ydnOLvoTDTo",
          "tags": []
        },
        "id": "80dd6f5f"
      },
      "source": [
        "### First look"
      ]
    },
    {
      "cell_type": "code",
      "execution_count": 87,
      "id": "627c2202",
      "metadata": {
        "local_metadata": {
          "tags": []
        },
        "remote_metadata": {
          "id": "ovSaNTQYTDTo",
          "outputId": "7fb181f8-e8f7-426e-d5d9-0fbafd96fbf5",
          "tags": []
        },
        "colab": {
          "base_uri": "https://localhost:8080/",
          "height": 0
        },
        "id": "627c2202",
        "outputId": "dfb99689-ca61-47f9-c3ed-64fb7e4a17a4"
      },
      "outputs": [
        {
          "output_type": "execute_result",
          "data": {
            "text/plain": [
              "         temp    dwpt    rhum    prcp   snow    wdir    wspd    wpgt    pres  \\\n",
              "count 8592.00 8592.00 8592.00 2159.00 119.00 8592.00 8592.00 8592.00 8592.00   \n",
              "mean     6.74    2.49   77.01    0.06  78.32  201.56    9.16   20.87 1013.23   \n",
              "std      9.26    8.18   17.52    0.38  63.13   87.79    4.83    9.96   12.59   \n",
              "min    -26.10  -28.70   20.00    0.00   0.00    0.00    0.00    2.90  962.60   \n",
              "25%      0.40   -2.90   66.00    0.00  20.00  150.00    7.20   13.00 1006.50   \n",
              "50%      6.20    1.90   83.00    0.00  60.00  210.00    7.20   18.50 1014.70   \n",
              "75%     13.22    9.00   91.00    0.00 130.00  270.00   10.80   27.80 1020.70   \n",
              "max     31.40   20.90  100.00    7.90 220.00  360.00   31.70   63.00 1047.50   \n",
              "\n",
              "         coco  el_price  consumption  \n",
              "count 8396.00   8592.00      8590.00  \n",
              "mean     4.90      0.16         1.05  \n",
              "std      4.96      0.12         1.10  \n",
              "min      1.00      0.00         0.00  \n",
              "25%      2.00      0.09         0.36  \n",
              "50%      3.00      0.14         0.81  \n",
              "75%      5.00      0.20         1.37  \n",
              "max     25.00      4.00        10.38  "
            ],
            "text/html": [
              "\n",
              "  <div id=\"df-e2307bfe-9f74-43b8-984d-19bb2708ccc2\">\n",
              "    <div class=\"colab-df-container\">\n",
              "      <div>\n",
              "<style scoped>\n",
              "    .dataframe tbody tr th:only-of-type {\n",
              "        vertical-align: middle;\n",
              "    }\n",
              "\n",
              "    .dataframe tbody tr th {\n",
              "        vertical-align: top;\n",
              "    }\n",
              "\n",
              "    .dataframe thead th {\n",
              "        text-align: right;\n",
              "    }\n",
              "</style>\n",
              "<table border=\"1\" class=\"dataframe\">\n",
              "  <thead>\n",
              "    <tr style=\"text-align: right;\">\n",
              "      <th></th>\n",
              "      <th>temp</th>\n",
              "      <th>dwpt</th>\n",
              "      <th>rhum</th>\n",
              "      <th>prcp</th>\n",
              "      <th>snow</th>\n",
              "      <th>wdir</th>\n",
              "      <th>wspd</th>\n",
              "      <th>wpgt</th>\n",
              "      <th>pres</th>\n",
              "      <th>coco</th>\n",
              "      <th>el_price</th>\n",
              "      <th>consumption</th>\n",
              "    </tr>\n",
              "  </thead>\n",
              "  <tbody>\n",
              "    <tr>\n",
              "      <th>count</th>\n",
              "      <td>8592.00</td>\n",
              "      <td>8592.00</td>\n",
              "      <td>8592.00</td>\n",
              "      <td>2159.00</td>\n",
              "      <td>119.00</td>\n",
              "      <td>8592.00</td>\n",
              "      <td>8592.00</td>\n",
              "      <td>8592.00</td>\n",
              "      <td>8592.00</td>\n",
              "      <td>8396.00</td>\n",
              "      <td>8592.00</td>\n",
              "      <td>8590.00</td>\n",
              "    </tr>\n",
              "    <tr>\n",
              "      <th>mean</th>\n",
              "      <td>6.74</td>\n",
              "      <td>2.49</td>\n",
              "      <td>77.01</td>\n",
              "      <td>0.06</td>\n",
              "      <td>78.32</td>\n",
              "      <td>201.56</td>\n",
              "      <td>9.16</td>\n",
              "      <td>20.87</td>\n",
              "      <td>1013.23</td>\n",
              "      <td>4.90</td>\n",
              "      <td>0.16</td>\n",
              "      <td>1.05</td>\n",
              "    </tr>\n",
              "    <tr>\n",
              "      <th>std</th>\n",
              "      <td>9.26</td>\n",
              "      <td>8.18</td>\n",
              "      <td>17.52</td>\n",
              "      <td>0.38</td>\n",
              "      <td>63.13</td>\n",
              "      <td>87.79</td>\n",
              "      <td>4.83</td>\n",
              "      <td>9.96</td>\n",
              "      <td>12.59</td>\n",
              "      <td>4.96</td>\n",
              "      <td>0.12</td>\n",
              "      <td>1.10</td>\n",
              "    </tr>\n",
              "    <tr>\n",
              "      <th>min</th>\n",
              "      <td>-26.10</td>\n",
              "      <td>-28.70</td>\n",
              "      <td>20.00</td>\n",
              "      <td>0.00</td>\n",
              "      <td>0.00</td>\n",
              "      <td>0.00</td>\n",
              "      <td>0.00</td>\n",
              "      <td>2.90</td>\n",
              "      <td>962.60</td>\n",
              "      <td>1.00</td>\n",
              "      <td>0.00</td>\n",
              "      <td>0.00</td>\n",
              "    </tr>\n",
              "    <tr>\n",
              "      <th>25%</th>\n",
              "      <td>0.40</td>\n",
              "      <td>-2.90</td>\n",
              "      <td>66.00</td>\n",
              "      <td>0.00</td>\n",
              "      <td>20.00</td>\n",
              "      <td>150.00</td>\n",
              "      <td>7.20</td>\n",
              "      <td>13.00</td>\n",
              "      <td>1006.50</td>\n",
              "      <td>2.00</td>\n",
              "      <td>0.09</td>\n",
              "      <td>0.36</td>\n",
              "    </tr>\n",
              "    <tr>\n",
              "      <th>50%</th>\n",
              "      <td>6.20</td>\n",
              "      <td>1.90</td>\n",
              "      <td>83.00</td>\n",
              "      <td>0.00</td>\n",
              "      <td>60.00</td>\n",
              "      <td>210.00</td>\n",
              "      <td>7.20</td>\n",
              "      <td>18.50</td>\n",
              "      <td>1014.70</td>\n",
              "      <td>3.00</td>\n",
              "      <td>0.14</td>\n",
              "      <td>0.81</td>\n",
              "    </tr>\n",
              "    <tr>\n",
              "      <th>75%</th>\n",
              "      <td>13.22</td>\n",
              "      <td>9.00</td>\n",
              "      <td>91.00</td>\n",
              "      <td>0.00</td>\n",
              "      <td>130.00</td>\n",
              "      <td>270.00</td>\n",
              "      <td>10.80</td>\n",
              "      <td>27.80</td>\n",
              "      <td>1020.70</td>\n",
              "      <td>5.00</td>\n",
              "      <td>0.20</td>\n",
              "      <td>1.37</td>\n",
              "    </tr>\n",
              "    <tr>\n",
              "      <th>max</th>\n",
              "      <td>31.40</td>\n",
              "      <td>20.90</td>\n",
              "      <td>100.00</td>\n",
              "      <td>7.90</td>\n",
              "      <td>220.00</td>\n",
              "      <td>360.00</td>\n",
              "      <td>31.70</td>\n",
              "      <td>63.00</td>\n",
              "      <td>1047.50</td>\n",
              "      <td>25.00</td>\n",
              "      <td>4.00</td>\n",
              "      <td>10.38</td>\n",
              "    </tr>\n",
              "  </tbody>\n",
              "</table>\n",
              "</div>\n",
              "      <button class=\"colab-df-convert\" onclick=\"convertToInteractive('df-e2307bfe-9f74-43b8-984d-19bb2708ccc2')\"\n",
              "              title=\"Convert this dataframe to an interactive table.\"\n",
              "              style=\"display:none;\">\n",
              "        \n",
              "  <svg xmlns=\"http://www.w3.org/2000/svg\" height=\"24px\"viewBox=\"0 0 24 24\"\n",
              "       width=\"24px\">\n",
              "    <path d=\"M0 0h24v24H0V0z\" fill=\"none\"/>\n",
              "    <path d=\"M18.56 5.44l.94 2.06.94-2.06 2.06-.94-2.06-.94-.94-2.06-.94 2.06-2.06.94zm-11 1L8.5 8.5l.94-2.06 2.06-.94-2.06-.94L8.5 2.5l-.94 2.06-2.06.94zm10 10l.94 2.06.94-2.06 2.06-.94-2.06-.94-.94-2.06-.94 2.06-2.06.94z\"/><path d=\"M17.41 7.96l-1.37-1.37c-.4-.4-.92-.59-1.43-.59-.52 0-1.04.2-1.43.59L10.3 9.45l-7.72 7.72c-.78.78-.78 2.05 0 2.83L4 21.41c.39.39.9.59 1.41.59.51 0 1.02-.2 1.41-.59l7.78-7.78 2.81-2.81c.8-.78.8-2.07 0-2.86zM5.41 20L4 18.59l7.72-7.72 1.47 1.35L5.41 20z\"/>\n",
              "  </svg>\n",
              "      </button>\n",
              "      \n",
              "  <style>\n",
              "    .colab-df-container {\n",
              "      display:flex;\n",
              "      flex-wrap:wrap;\n",
              "      gap: 12px;\n",
              "    }\n",
              "\n",
              "    .colab-df-convert {\n",
              "      background-color: #E8F0FE;\n",
              "      border: none;\n",
              "      border-radius: 50%;\n",
              "      cursor: pointer;\n",
              "      display: none;\n",
              "      fill: #1967D2;\n",
              "      height: 32px;\n",
              "      padding: 0 0 0 0;\n",
              "      width: 32px;\n",
              "    }\n",
              "\n",
              "    .colab-df-convert:hover {\n",
              "      background-color: #E2EBFA;\n",
              "      box-shadow: 0px 1px 2px rgba(60, 64, 67, 0.3), 0px 1px 3px 1px rgba(60, 64, 67, 0.15);\n",
              "      fill: #174EA6;\n",
              "    }\n",
              "\n",
              "    [theme=dark] .colab-df-convert {\n",
              "      background-color: #3B4455;\n",
              "      fill: #D2E3FC;\n",
              "    }\n",
              "\n",
              "    [theme=dark] .colab-df-convert:hover {\n",
              "      background-color: #434B5C;\n",
              "      box-shadow: 0px 1px 3px 1px rgba(0, 0, 0, 0.15);\n",
              "      filter: drop-shadow(0px 1px 2px rgba(0, 0, 0, 0.3));\n",
              "      fill: #FFFFFF;\n",
              "    }\n",
              "  </style>\n",
              "\n",
              "      <script>\n",
              "        const buttonEl =\n",
              "          document.querySelector('#df-e2307bfe-9f74-43b8-984d-19bb2708ccc2 button.colab-df-convert');\n",
              "        buttonEl.style.display =\n",
              "          google.colab.kernel.accessAllowed ? 'block' : 'none';\n",
              "\n",
              "        async function convertToInteractive(key) {\n",
              "          const element = document.querySelector('#df-e2307bfe-9f74-43b8-984d-19bb2708ccc2');\n",
              "          const dataTable =\n",
              "            await google.colab.kernel.invokeFunction('convertToInteractive',\n",
              "                                                     [key], {});\n",
              "          if (!dataTable) return;\n",
              "\n",
              "          const docLinkHtml = 'Like what you see? Visit the ' +\n",
              "            '<a target=\"_blank\" href=https://colab.research.google.com/notebooks/data_table.ipynb>data table notebook</a>'\n",
              "            + ' to learn more about interactive tables.';\n",
              "          element.innerHTML = '';\n",
              "          dataTable['output_type'] = 'display_data';\n",
              "          await google.colab.output.renderOutput(dataTable, element);\n",
              "          const docLink = document.createElement('div');\n",
              "          docLink.innerHTML = docLinkHtml;\n",
              "          element.appendChild(docLink);\n",
              "        }\n",
              "      </script>\n",
              "    </div>\n",
              "  </div>\n",
              "  "
            ]
          },
          "metadata": {},
          "execution_count": 87
        }
      ],
      "source": [
        "train.describe()"
      ]
    },
    {
      "cell_type": "code",
      "execution_count": 88,
      "id": "e95cc28b",
      "metadata": {
        "local_metadata": {
          "tags": []
        },
        "remote_metadata": {
          "id": "RFAAWUh5TDTo",
          "outputId": "eae01b2c-bddf-43ef-ccd4-4cc04c806516",
          "tags": []
        },
        "colab": {
          "base_uri": "https://localhost:8080/"
        },
        "id": "e95cc28b",
        "outputId": "f7fcb55b-0623-4bd1-82c6-1d6acb885ea3"
      },
      "outputs": [
        {
          "output_type": "execute_result",
          "data": {
            "text/plain": [
              "time              0\n",
              "temp              0\n",
              "dwpt              0\n",
              "rhum              0\n",
              "prcp           6433\n",
              "snow           8473\n",
              "wdir              0\n",
              "wspd              0\n",
              "wpgt              0\n",
              "pres              0\n",
              "coco            196\n",
              "el_price          0\n",
              "consumption       2\n",
              "dtype: int64"
            ]
          },
          "metadata": {},
          "execution_count": 88
        }
      ],
      "source": [
        "train.isna().sum()"
      ]
    },
    {
      "cell_type": "markdown",
      "id": "6d7bf9c6",
      "metadata": {
        "local_metadata": {},
        "remote_metadata": {
          "id": "BsHvZpDBTDTp"
        },
        "id": "6d7bf9c6"
      },
      "source": [
        "Most missing values are for snow and precipitation\n",
        "\n",
        "For snow it is quite a lot of data\n",
        "\n",
        "- Delete it?\n",
        "- Impute it with zero when temprature is over 0?\n",
        "    - How many is left?\n",
        "    \n",
        "For coco it is a problem, I think this will be useful information for model\n",
        "\n",
        "- Are the NaNs sparsely distributed?\n",
        "    - If so, we can impute from the most common value in +- 2 or 3 values before and after (timeseries)f\n",
        "- Can the information be found elsewhere?\n",
        "    - Where is the model house located?\n",
        "\n",
        "To the precipitation\n",
        "\n",
        "- That is a huge problem\n",
        "    - I think this data might be valuable\n",
        "    - To many values missing for intelligent imputation\n",
        "- Either find external source, remove it all, or impute with pure zeros\n",
        "- Even if we delete it a lot of the information is stored in humidity\n",
        "    - Or is it?"
      ]
    },
    {
      "cell_type": "code",
      "execution_count": 89,
      "id": "3a870d8f",
      "metadata": {
        "local_metadata": {
          "tags": []
        },
        "remote_metadata": {
          "id": "WeL5muEVTDTp",
          "outputId": "c2799929-72d5-4c95-9711-1e489559b390",
          "tags": []
        },
        "colab": {
          "base_uri": "https://localhost:8080/"
        },
        "id": "3a870d8f",
        "outputId": "f5183cc8-2503-4eaf-83c3-f171cc313bec"
      },
      "outputs": [
        {
          "output_type": "stream",
          "name": "stdout",
          "text": [
            "<class 'pandas.core.frame.DataFrame'>\n",
            "RangeIndex: 8592 entries, 0 to 8591\n",
            "Data columns (total 13 columns):\n",
            " #   Column       Non-Null Count  Dtype  \n",
            "---  ------       --------------  -----  \n",
            " 0   time         8592 non-null   object \n",
            " 1   temp         8592 non-null   float64\n",
            " 2   dwpt         8592 non-null   float64\n",
            " 3   rhum         8592 non-null   float64\n",
            " 4   prcp         2159 non-null   float64\n",
            " 5   snow         119 non-null    float64\n",
            " 6   wdir         8592 non-null   float64\n",
            " 7   wspd         8592 non-null   float64\n",
            " 8   wpgt         8592 non-null   float64\n",
            " 9   pres         8592 non-null   float64\n",
            " 10  coco         8396 non-null   float64\n",
            " 11  el_price     8592 non-null   float64\n",
            " 12  consumption  8590 non-null   float64\n",
            "dtypes: float64(12), object(1)\n",
            "memory usage: 872.8+ KB\n"
          ]
        }
      ],
      "source": [
        "train.info()"
      ]
    },
    {
      "cell_type": "code",
      "execution_count": 90,
      "id": "575e9f04",
      "metadata": {
        "local_metadata": {
          "tags": []
        },
        "remote_metadata": {
          "id": "ynLYSUmuTDTp",
          "outputId": "6847817b-7b89-47b2-f1f3-6b2247895abf",
          "tags": []
        },
        "colab": {
          "base_uri": "https://localhost:8080/"
        },
        "id": "575e9f04",
        "outputId": "519c4228-5bec-44ba-e632-f36b7134d0dd"
      },
      "outputs": [
        {
          "output_type": "execute_result",
          "data": {
            "text/plain": [
              "rhum   0.00\n",
              "wdir   0.00\n",
              "coco   0.00\n",
              "dtype: float64"
            ]
          },
          "metadata": {},
          "execution_count": 90
        }
      ],
      "source": [
        "train.loc[:, [\"rhum\", \"wdir\", \"coco\"]].mod(1, fill_value=0).abs().sum()"
      ]
    },
    {
      "cell_type": "code",
      "execution_count": 91,
      "id": "abebe674",
      "metadata": {
        "local_metadata": {
          "tags": []
        },
        "remote_metadata": {
          "id": "AIWE0H_WTDTp",
          "outputId": "74310e72-4041-45e4-f77b-16f69b760ad1",
          "tags": []
        },
        "colab": {
          "base_uri": "https://localhost:8080/"
        },
        "id": "abebe674",
        "outputId": "9283e2c1-d9f2-41eb-8389-ea685e98742c"
      },
      "outputs": [
        {
          "output_type": "execute_result",
          "data": {
            "text/plain": [
              "time           datetime64[ns, Europe/Tallinn]\n",
              "temp                                  float32\n",
              "dwpt                                  float32\n",
              "rhum                                    int32\n",
              "prcp                                  float32\n",
              "snow                                  float32\n",
              "wdir                                    int32\n",
              "wspd                                  float32\n",
              "wpgt                                  float32\n",
              "pres                                  float32\n",
              "coco                                 category\n",
              "el_price                              float32\n",
              "consumption                           float64\n",
              "dtype: object"
            ]
          },
          "metadata": {},
          "execution_count": 91
        }
      ],
      "source": [
        "# Recasting to the best suited type\n",
        "train = cast_types(train)\n",
        "test = cast_types(test)\n",
        "\n",
        "train.dtypes"
      ]
    },
    {
      "cell_type": "markdown",
      "id": "d81e6fcb",
      "metadata": {
        "local_metadata": {
          "tags": []
        },
        "remote_metadata": {
          "id": "GWjMKqwbTDTq",
          "tags": []
        },
        "id": "d81e6fcb"
      },
      "source": [
        "### Exploding time"
      ]
    },
    {
      "cell_type": "code",
      "execution_count": 92,
      "id": "dd1b3fe8",
      "metadata": {
        "local_metadata": {
          "tags": []
        },
        "remote_metadata": {
          "id": "MiDGXEiCTDTq",
          "outputId": "564b8e81-936f-49d7-c160-2bcec1ffc539",
          "tags": []
        },
        "colab": {
          "base_uri": "https://localhost:8080/",
          "height": 0
        },
        "id": "dd1b3fe8",
        "outputId": "83c327c1-a701-4ce9-eae7-0a2fde2c9d79"
      },
      "outputs": [
        {
          "output_type": "execute_result",
          "data": {
            "text/plain": [
              "                           time  temp  dwpt  rhum  prcp  snow  wdir  wspd  \\\n",
              "index                                                                       \n",
              "0     2021-09-01 00:00:00+03:00 11.20 10.30    94   NaN   NaN   320  7.20   \n",
              "1     2021-09-01 01:00:00+03:00 10.70  9.60    93   NaN   NaN   320  7.20   \n",
              "2     2021-09-01 02:00:00+03:00  9.90  9.00    94   NaN   NaN   320  7.20   \n",
              "3     2021-09-01 03:00:00+03:00 10.00  8.40    90   NaN   NaN   330  7.20   \n",
              "4     2021-09-01 04:00:00+03:00  9.00  8.10    94   NaN   NaN   300  3.60   \n",
              "\n",
              "       wpgt    pres coco  el_price  consumption  year  month  day  hour  \\\n",
              "index                                                                     \n",
              "0     16.70 1012.60    2      0.09         0.58  2021      9    1     0   \n",
              "1     13.00 1012.60    2      0.09         0.59  2021      9    1     1   \n",
              "2     13.00 1012.20    2      0.09         0.69  2021      9    1     2   \n",
              "3     13.00 1011.90    1      0.09         1.02  2021      9    1     3   \n",
              "4     13.00 1011.40    2      0.09         0.68  2021      9    1     4   \n",
              "\n",
              "       weekday  season  \n",
              "index                   \n",
              "0            2  autumn  \n",
              "1            2  autumn  \n",
              "2            2  autumn  \n",
              "3            2  autumn  \n",
              "4            2  autumn  "
            ],
            "text/html": [
              "\n",
              "  <div id=\"df-bd4617fd-f248-4c81-bcdd-0056f2a9f4a2\">\n",
              "    <div class=\"colab-df-container\">\n",
              "      <div>\n",
              "<style scoped>\n",
              "    .dataframe tbody tr th:only-of-type {\n",
              "        vertical-align: middle;\n",
              "    }\n",
              "\n",
              "    .dataframe tbody tr th {\n",
              "        vertical-align: top;\n",
              "    }\n",
              "\n",
              "    .dataframe thead th {\n",
              "        text-align: right;\n",
              "    }\n",
              "</style>\n",
              "<table border=\"1\" class=\"dataframe\">\n",
              "  <thead>\n",
              "    <tr style=\"text-align: right;\">\n",
              "      <th></th>\n",
              "      <th>time</th>\n",
              "      <th>temp</th>\n",
              "      <th>dwpt</th>\n",
              "      <th>rhum</th>\n",
              "      <th>prcp</th>\n",
              "      <th>snow</th>\n",
              "      <th>wdir</th>\n",
              "      <th>wspd</th>\n",
              "      <th>wpgt</th>\n",
              "      <th>pres</th>\n",
              "      <th>coco</th>\n",
              "      <th>el_price</th>\n",
              "      <th>consumption</th>\n",
              "      <th>year</th>\n",
              "      <th>month</th>\n",
              "      <th>day</th>\n",
              "      <th>hour</th>\n",
              "      <th>weekday</th>\n",
              "      <th>season</th>\n",
              "    </tr>\n",
              "    <tr>\n",
              "      <th>index</th>\n",
              "      <th></th>\n",
              "      <th></th>\n",
              "      <th></th>\n",
              "      <th></th>\n",
              "      <th></th>\n",
              "      <th></th>\n",
              "      <th></th>\n",
              "      <th></th>\n",
              "      <th></th>\n",
              "      <th></th>\n",
              "      <th></th>\n",
              "      <th></th>\n",
              "      <th></th>\n",
              "      <th></th>\n",
              "      <th></th>\n",
              "      <th></th>\n",
              "      <th></th>\n",
              "      <th></th>\n",
              "      <th></th>\n",
              "    </tr>\n",
              "  </thead>\n",
              "  <tbody>\n",
              "    <tr>\n",
              "      <th>0</th>\n",
              "      <td>2021-09-01 00:00:00+03:00</td>\n",
              "      <td>11.20</td>\n",
              "      <td>10.30</td>\n",
              "      <td>94</td>\n",
              "      <td>NaN</td>\n",
              "      <td>NaN</td>\n",
              "      <td>320</td>\n",
              "      <td>7.20</td>\n",
              "      <td>16.70</td>\n",
              "      <td>1012.60</td>\n",
              "      <td>2</td>\n",
              "      <td>0.09</td>\n",
              "      <td>0.58</td>\n",
              "      <td>2021</td>\n",
              "      <td>9</td>\n",
              "      <td>1</td>\n",
              "      <td>0</td>\n",
              "      <td>2</td>\n",
              "      <td>autumn</td>\n",
              "    </tr>\n",
              "    <tr>\n",
              "      <th>1</th>\n",
              "      <td>2021-09-01 01:00:00+03:00</td>\n",
              "      <td>10.70</td>\n",
              "      <td>9.60</td>\n",
              "      <td>93</td>\n",
              "      <td>NaN</td>\n",
              "      <td>NaN</td>\n",
              "      <td>320</td>\n",
              "      <td>7.20</td>\n",
              "      <td>13.00</td>\n",
              "      <td>1012.60</td>\n",
              "      <td>2</td>\n",
              "      <td>0.09</td>\n",
              "      <td>0.59</td>\n",
              "      <td>2021</td>\n",
              "      <td>9</td>\n",
              "      <td>1</td>\n",
              "      <td>1</td>\n",
              "      <td>2</td>\n",
              "      <td>autumn</td>\n",
              "    </tr>\n",
              "    <tr>\n",
              "      <th>2</th>\n",
              "      <td>2021-09-01 02:00:00+03:00</td>\n",
              "      <td>9.90</td>\n",
              "      <td>9.00</td>\n",
              "      <td>94</td>\n",
              "      <td>NaN</td>\n",
              "      <td>NaN</td>\n",
              "      <td>320</td>\n",
              "      <td>7.20</td>\n",
              "      <td>13.00</td>\n",
              "      <td>1012.20</td>\n",
              "      <td>2</td>\n",
              "      <td>0.09</td>\n",
              "      <td>0.69</td>\n",
              "      <td>2021</td>\n",
              "      <td>9</td>\n",
              "      <td>1</td>\n",
              "      <td>2</td>\n",
              "      <td>2</td>\n",
              "      <td>autumn</td>\n",
              "    </tr>\n",
              "    <tr>\n",
              "      <th>3</th>\n",
              "      <td>2021-09-01 03:00:00+03:00</td>\n",
              "      <td>10.00</td>\n",
              "      <td>8.40</td>\n",
              "      <td>90</td>\n",
              "      <td>NaN</td>\n",
              "      <td>NaN</td>\n",
              "      <td>330</td>\n",
              "      <td>7.20</td>\n",
              "      <td>13.00</td>\n",
              "      <td>1011.90</td>\n",
              "      <td>1</td>\n",
              "      <td>0.09</td>\n",
              "      <td>1.02</td>\n",
              "      <td>2021</td>\n",
              "      <td>9</td>\n",
              "      <td>1</td>\n",
              "      <td>3</td>\n",
              "      <td>2</td>\n",
              "      <td>autumn</td>\n",
              "    </tr>\n",
              "    <tr>\n",
              "      <th>4</th>\n",
              "      <td>2021-09-01 04:00:00+03:00</td>\n",
              "      <td>9.00</td>\n",
              "      <td>8.10</td>\n",
              "      <td>94</td>\n",
              "      <td>NaN</td>\n",
              "      <td>NaN</td>\n",
              "      <td>300</td>\n",
              "      <td>3.60</td>\n",
              "      <td>13.00</td>\n",
              "      <td>1011.40</td>\n",
              "      <td>2</td>\n",
              "      <td>0.09</td>\n",
              "      <td>0.68</td>\n",
              "      <td>2021</td>\n",
              "      <td>9</td>\n",
              "      <td>1</td>\n",
              "      <td>4</td>\n",
              "      <td>2</td>\n",
              "      <td>autumn</td>\n",
              "    </tr>\n",
              "  </tbody>\n",
              "</table>\n",
              "</div>\n",
              "      <button class=\"colab-df-convert\" onclick=\"convertToInteractive('df-bd4617fd-f248-4c81-bcdd-0056f2a9f4a2')\"\n",
              "              title=\"Convert this dataframe to an interactive table.\"\n",
              "              style=\"display:none;\">\n",
              "        \n",
              "  <svg xmlns=\"http://www.w3.org/2000/svg\" height=\"24px\"viewBox=\"0 0 24 24\"\n",
              "       width=\"24px\">\n",
              "    <path d=\"M0 0h24v24H0V0z\" fill=\"none\"/>\n",
              "    <path d=\"M18.56 5.44l.94 2.06.94-2.06 2.06-.94-2.06-.94-.94-2.06-.94 2.06-2.06.94zm-11 1L8.5 8.5l.94-2.06 2.06-.94-2.06-.94L8.5 2.5l-.94 2.06-2.06.94zm10 10l.94 2.06.94-2.06 2.06-.94-2.06-.94-.94-2.06-.94 2.06-2.06.94z\"/><path d=\"M17.41 7.96l-1.37-1.37c-.4-.4-.92-.59-1.43-.59-.52 0-1.04.2-1.43.59L10.3 9.45l-7.72 7.72c-.78.78-.78 2.05 0 2.83L4 21.41c.39.39.9.59 1.41.59.51 0 1.02-.2 1.41-.59l7.78-7.78 2.81-2.81c.8-.78.8-2.07 0-2.86zM5.41 20L4 18.59l7.72-7.72 1.47 1.35L5.41 20z\"/>\n",
              "  </svg>\n",
              "      </button>\n",
              "      \n",
              "  <style>\n",
              "    .colab-df-container {\n",
              "      display:flex;\n",
              "      flex-wrap:wrap;\n",
              "      gap: 12px;\n",
              "    }\n",
              "\n",
              "    .colab-df-convert {\n",
              "      background-color: #E8F0FE;\n",
              "      border: none;\n",
              "      border-radius: 50%;\n",
              "      cursor: pointer;\n",
              "      display: none;\n",
              "      fill: #1967D2;\n",
              "      height: 32px;\n",
              "      padding: 0 0 0 0;\n",
              "      width: 32px;\n",
              "    }\n",
              "\n",
              "    .colab-df-convert:hover {\n",
              "      background-color: #E2EBFA;\n",
              "      box-shadow: 0px 1px 2px rgba(60, 64, 67, 0.3), 0px 1px 3px 1px rgba(60, 64, 67, 0.15);\n",
              "      fill: #174EA6;\n",
              "    }\n",
              "\n",
              "    [theme=dark] .colab-df-convert {\n",
              "      background-color: #3B4455;\n",
              "      fill: #D2E3FC;\n",
              "    }\n",
              "\n",
              "    [theme=dark] .colab-df-convert:hover {\n",
              "      background-color: #434B5C;\n",
              "      box-shadow: 0px 1px 3px 1px rgba(0, 0, 0, 0.15);\n",
              "      filter: drop-shadow(0px 1px 2px rgba(0, 0, 0, 0.3));\n",
              "      fill: #FFFFFF;\n",
              "    }\n",
              "  </style>\n",
              "\n",
              "      <script>\n",
              "        const buttonEl =\n",
              "          document.querySelector('#df-bd4617fd-f248-4c81-bcdd-0056f2a9f4a2 button.colab-df-convert');\n",
              "        buttonEl.style.display =\n",
              "          google.colab.kernel.accessAllowed ? 'block' : 'none';\n",
              "\n",
              "        async function convertToInteractive(key) {\n",
              "          const element = document.querySelector('#df-bd4617fd-f248-4c81-bcdd-0056f2a9f4a2');\n",
              "          const dataTable =\n",
              "            await google.colab.kernel.invokeFunction('convertToInteractive',\n",
              "                                                     [key], {});\n",
              "          if (!dataTable) return;\n",
              "\n",
              "          const docLinkHtml = 'Like what you see? Visit the ' +\n",
              "            '<a target=\"_blank\" href=https://colab.research.google.com/notebooks/data_table.ipynb>data table notebook</a>'\n",
              "            + ' to learn more about interactive tables.';\n",
              "          element.innerHTML = '';\n",
              "          dataTable['output_type'] = 'display_data';\n",
              "          await google.colab.output.renderOutput(dataTable, element);\n",
              "          const docLink = document.createElement('div');\n",
              "          docLink.innerHTML = docLinkHtml;\n",
              "          element.appendChild(docLink);\n",
              "        }\n",
              "      </script>\n",
              "    </div>\n",
              "  </div>\n",
              "  "
            ]
          },
          "metadata": {},
          "execution_count": 92
        }
      ],
      "source": [
        "# Explode datetime object into separate components\n",
        "# Minutes and seconds not extracted\n",
        "## Contain only zeros\n",
        "## Found through correlation matrix\n",
        "\n",
        "train = explode_datetime(train, \"time\", True)\n",
        "test = explode_datetime(test, \"time\", True)\n",
        "\n",
        "\n",
        "# Add season category\n",
        "\n",
        "train[\"season\"] = train[\"month\"].apply(lambda x: month_to_season(x)).astype(\"category\")\n",
        "test[\"season\"] = test[\"month\"].apply(lambda x: month_to_season(x)).astype(\"category\")\n",
        "\n",
        "train.head()"
      ]
    },
    {
      "cell_type": "markdown",
      "id": "a26809e9",
      "metadata": {
        "local_metadata": {
          "tags": []
        },
        "remote_metadata": {
          "id": "eTF9hEr6TDTq",
          "tags": []
        },
        "id": "a26809e9"
      },
      "source": [
        "### Coco imputation"
      ]
    },
    {
      "cell_type": "code",
      "execution_count": 93,
      "id": "628d907d",
      "metadata": {
        "local_metadata": {
          "tags": []
        },
        "remote_metadata": {
          "id": "ADeg3raLTDTq",
          "outputId": "9e24f713-653b-4501-9ddf-9924f3741d75",
          "tags": []
        },
        "colab": {
          "base_uri": "https://localhost:8080/"
        },
        "id": "628d907d",
        "outputId": "6873b64a-264b-423f-bd63-7a06ea54bb15"
      },
      "outputs": [
        {
          "output_type": "execute_result",
          "data": {
            "text/plain": [
              "4     50\n",
              "1     11\n",
              "2     10\n",
              "3      9\n",
              "7      5\n",
              "5      2\n",
              "6      1\n",
              "8      1\n",
              "17     0\n",
              "23     0\n",
              "22     0\n",
              "21     0\n",
              "20     0\n",
              "19     0\n",
              "18     0\n",
              "13     0\n",
              "16     0\n",
              "15     0\n",
              "14     0\n",
              "12     0\n",
              "10     0\n",
              "9      0\n",
              "25     0\n",
              "Name: coco, dtype: int64"
            ]
          },
          "metadata": {},
          "execution_count": 93
        }
      ],
      "source": [
        "train[~train[\"coco\"].isin([14, 15, 16, 21, 22]) & ~train[\"snow\"].isna()][\n",
        "    \"coco\"\n",
        "].value_counts()"
      ]
    },
    {
      "cell_type": "markdown",
      "id": "c55eeb3b",
      "metadata": {
        "local_metadata": {},
        "remote_metadata": {
          "id": "cOEut3pQTDTr"
        },
        "id": "c55eeb3b"
      },
      "source": [
        "It's not very sparse. Could be worked on, I do not wanna waste time now\n",
        "\n",
        "Will create new category for NaN with label 0 and impute it"
      ]
    },
    {
      "cell_type": "code",
      "execution_count": 94,
      "id": "1994aac9",
      "metadata": {
        "tags": [],
        "id": "1994aac9"
      },
      "outputs": [],
      "source": [
        "if not 0 in test[\"coco\"].cat.categories:\n",
        "    test[\"coco\"] = test[\"coco\"].cat.add_categories([0])\n",
        "test[\"coco\"] = test[\"coco\"].fillna(0)\n",
        "\n",
        "if not 0 in train[\"coco\"].cat.categories:\n",
        "    train[\"coco\"] = train[\"coco\"].cat.add_categories([0])\n",
        "train[\"coco\"] = train[\"coco\"].fillna(0)"
      ]
    },
    {
      "cell_type": "markdown",
      "id": "25ee4cb6",
      "metadata": {
        "local_metadata": {
          "tags": []
        },
        "remote_metadata": {
          "id": "GHphM1JiTDTs",
          "tags": []
        },
        "id": "25ee4cb6"
      },
      "source": [
        "### Snow imputation"
      ]
    },
    {
      "cell_type": "code",
      "execution_count": 95,
      "id": "e4615b56",
      "metadata": {
        "local_metadata": {
          "tags": []
        },
        "remote_metadata": {
          "id": "s0_7t8jLTDTs",
          "outputId": "22d65430-fa8c-4070-b15a-d058bf7d2e78",
          "tags": []
        },
        "colab": {
          "base_uri": "https://localhost:8080/",
          "height": 455
        },
        "id": "e4615b56",
        "outputId": "162051fe-89c5-4002-a2cc-1622199ea3de"
      },
      "outputs": [
        {
          "output_type": "execute_result",
          "data": {
            "text/plain": [
              "                           time  temp  dwpt  rhum  prcp  snow  wdir  wspd  \\\n",
              "index                                                                       \n",
              "1641  2021-11-08 08:00:00+02:00  0.50  0.40    99   NaN 10.00   330 14.40   \n",
              "1977  2021-11-22 08:00:00+02:00 -4.30 -7.60    78   NaN  0.00   290  7.20   \n",
              "2001  2021-11-23 08:00:00+02:00 -2.20 -3.60    90   NaN  0.00   170 10.80   \n",
              "2097  2021-11-27 08:00:00+02:00 -0.40 -1.20    94   NaN 60.00    60 10.80   \n",
              "2121  2021-11-28 08:00:00+02:00 -3.00 -3.80    94   NaN 70.00    20  7.20   \n",
              "...                         ...   ...   ...   ...   ...   ...   ...   ...   \n",
              "5049  2022-03-30 09:00:00+03:00 -6.80 -8.70    86   NaN 40.00   210  7.20   \n",
              "5073  2022-03-31 09:00:00+03:00 -3.50 -6.90    77   NaN 20.00   200  3.60   \n",
              "5169  2022-04-04 09:00:00+03:00  0.10 -2.60    82   NaN 10.00   200 14.40   \n",
              "5217  2022-04-06 09:00:00+03:00 -1.60 -5.30    76   NaN 20.00   260 14.40   \n",
              "5241  2022-04-07 09:00:00+03:00  3.30  3.00    98   NaN 10.00   190  7.20   \n",
              "\n",
              "       wpgt    pres coco  el_price  consumption  year  month  day  hour  \\\n",
              "index                                                                     \n",
              "1641  33.30  997.30   15      0.11         0.82  2021     11    8     8   \n",
              "1977  16.70 1014.60    1      0.28         1.29  2021     11   22     8   \n",
              "2001  24.10 1010.20   14      0.19         0.62  2021     11   23     8   \n",
              "2097  20.40 1000.70    4      0.13         1.90  2021     11   27     8   \n",
              "2121  14.80  999.70   14      0.16         0.64  2021     11   28     8   \n",
              "...     ...     ...  ...       ...          ...   ...    ...  ...   ...   \n",
              "5049  14.80 1005.70    1      0.24         1.39  2022      3   30     9   \n",
              "5073  11.10 1010.10    1      0.32         1.40  2022      3   31     9   \n",
              "5169  24.10 1000.50    4      0.10         1.38  2022      4    4     9   \n",
              "5217  29.60  990.50    3      0.18         1.15  2022      4    6     9   \n",
              "5241  18.50  987.10    7      0.15         0.75  2022      4    7     9   \n",
              "\n",
              "       weekday  season  \n",
              "index                   \n",
              "1641         0  autumn  \n",
              "1977         0  autumn  \n",
              "2001         1  autumn  \n",
              "2097         5  autumn  \n",
              "2121         6  autumn  \n",
              "...        ...     ...  \n",
              "5049         2  spring  \n",
              "5073         3  spring  \n",
              "5169         0  spring  \n",
              "5217         2  spring  \n",
              "5241         3  spring  \n",
              "\n",
              "[119 rows x 19 columns]"
            ],
            "text/html": [
              "\n",
              "  <div id=\"df-50777816-8348-4d0b-87fa-5f56f4b82ec0\">\n",
              "    <div class=\"colab-df-container\">\n",
              "      <div>\n",
              "<style scoped>\n",
              "    .dataframe tbody tr th:only-of-type {\n",
              "        vertical-align: middle;\n",
              "    }\n",
              "\n",
              "    .dataframe tbody tr th {\n",
              "        vertical-align: top;\n",
              "    }\n",
              "\n",
              "    .dataframe thead th {\n",
              "        text-align: right;\n",
              "    }\n",
              "</style>\n",
              "<table border=\"1\" class=\"dataframe\">\n",
              "  <thead>\n",
              "    <tr style=\"text-align: right;\">\n",
              "      <th></th>\n",
              "      <th>time</th>\n",
              "      <th>temp</th>\n",
              "      <th>dwpt</th>\n",
              "      <th>rhum</th>\n",
              "      <th>prcp</th>\n",
              "      <th>snow</th>\n",
              "      <th>wdir</th>\n",
              "      <th>wspd</th>\n",
              "      <th>wpgt</th>\n",
              "      <th>pres</th>\n",
              "      <th>coco</th>\n",
              "      <th>el_price</th>\n",
              "      <th>consumption</th>\n",
              "      <th>year</th>\n",
              "      <th>month</th>\n",
              "      <th>day</th>\n",
              "      <th>hour</th>\n",
              "      <th>weekday</th>\n",
              "      <th>season</th>\n",
              "    </tr>\n",
              "    <tr>\n",
              "      <th>index</th>\n",
              "      <th></th>\n",
              "      <th></th>\n",
              "      <th></th>\n",
              "      <th></th>\n",
              "      <th></th>\n",
              "      <th></th>\n",
              "      <th></th>\n",
              "      <th></th>\n",
              "      <th></th>\n",
              "      <th></th>\n",
              "      <th></th>\n",
              "      <th></th>\n",
              "      <th></th>\n",
              "      <th></th>\n",
              "      <th></th>\n",
              "      <th></th>\n",
              "      <th></th>\n",
              "      <th></th>\n",
              "      <th></th>\n",
              "    </tr>\n",
              "  </thead>\n",
              "  <tbody>\n",
              "    <tr>\n",
              "      <th>1641</th>\n",
              "      <td>2021-11-08 08:00:00+02:00</td>\n",
              "      <td>0.50</td>\n",
              "      <td>0.40</td>\n",
              "      <td>99</td>\n",
              "      <td>NaN</td>\n",
              "      <td>10.00</td>\n",
              "      <td>330</td>\n",
              "      <td>14.40</td>\n",
              "      <td>33.30</td>\n",
              "      <td>997.30</td>\n",
              "      <td>15</td>\n",
              "      <td>0.11</td>\n",
              "      <td>0.82</td>\n",
              "      <td>2021</td>\n",
              "      <td>11</td>\n",
              "      <td>8</td>\n",
              "      <td>8</td>\n",
              "      <td>0</td>\n",
              "      <td>autumn</td>\n",
              "    </tr>\n",
              "    <tr>\n",
              "      <th>1977</th>\n",
              "      <td>2021-11-22 08:00:00+02:00</td>\n",
              "      <td>-4.30</td>\n",
              "      <td>-7.60</td>\n",
              "      <td>78</td>\n",
              "      <td>NaN</td>\n",
              "      <td>0.00</td>\n",
              "      <td>290</td>\n",
              "      <td>7.20</td>\n",
              "      <td>16.70</td>\n",
              "      <td>1014.60</td>\n",
              "      <td>1</td>\n",
              "      <td>0.28</td>\n",
              "      <td>1.29</td>\n",
              "      <td>2021</td>\n",
              "      <td>11</td>\n",
              "      <td>22</td>\n",
              "      <td>8</td>\n",
              "      <td>0</td>\n",
              "      <td>autumn</td>\n",
              "    </tr>\n",
              "    <tr>\n",
              "      <th>2001</th>\n",
              "      <td>2021-11-23 08:00:00+02:00</td>\n",
              "      <td>-2.20</td>\n",
              "      <td>-3.60</td>\n",
              "      <td>90</td>\n",
              "      <td>NaN</td>\n",
              "      <td>0.00</td>\n",
              "      <td>170</td>\n",
              "      <td>10.80</td>\n",
              "      <td>24.10</td>\n",
              "      <td>1010.20</td>\n",
              "      <td>14</td>\n",
              "      <td>0.19</td>\n",
              "      <td>0.62</td>\n",
              "      <td>2021</td>\n",
              "      <td>11</td>\n",
              "      <td>23</td>\n",
              "      <td>8</td>\n",
              "      <td>1</td>\n",
              "      <td>autumn</td>\n",
              "    </tr>\n",
              "    <tr>\n",
              "      <th>2097</th>\n",
              "      <td>2021-11-27 08:00:00+02:00</td>\n",
              "      <td>-0.40</td>\n",
              "      <td>-1.20</td>\n",
              "      <td>94</td>\n",
              "      <td>NaN</td>\n",
              "      <td>60.00</td>\n",
              "      <td>60</td>\n",
              "      <td>10.80</td>\n",
              "      <td>20.40</td>\n",
              "      <td>1000.70</td>\n",
              "      <td>4</td>\n",
              "      <td>0.13</td>\n",
              "      <td>1.90</td>\n",
              "      <td>2021</td>\n",
              "      <td>11</td>\n",
              "      <td>27</td>\n",
              "      <td>8</td>\n",
              "      <td>5</td>\n",
              "      <td>autumn</td>\n",
              "    </tr>\n",
              "    <tr>\n",
              "      <th>2121</th>\n",
              "      <td>2021-11-28 08:00:00+02:00</td>\n",
              "      <td>-3.00</td>\n",
              "      <td>-3.80</td>\n",
              "      <td>94</td>\n",
              "      <td>NaN</td>\n",
              "      <td>70.00</td>\n",
              "      <td>20</td>\n",
              "      <td>7.20</td>\n",
              "      <td>14.80</td>\n",
              "      <td>999.70</td>\n",
              "      <td>14</td>\n",
              "      <td>0.16</td>\n",
              "      <td>0.64</td>\n",
              "      <td>2021</td>\n",
              "      <td>11</td>\n",
              "      <td>28</td>\n",
              "      <td>8</td>\n",
              "      <td>6</td>\n",
              "      <td>autumn</td>\n",
              "    </tr>\n",
              "    <tr>\n",
              "      <th>...</th>\n",
              "      <td>...</td>\n",
              "      <td>...</td>\n",
              "      <td>...</td>\n",
              "      <td>...</td>\n",
              "      <td>...</td>\n",
              "      <td>...</td>\n",
              "      <td>...</td>\n",
              "      <td>...</td>\n",
              "      <td>...</td>\n",
              "      <td>...</td>\n",
              "      <td>...</td>\n",
              "      <td>...</td>\n",
              "      <td>...</td>\n",
              "      <td>...</td>\n",
              "      <td>...</td>\n",
              "      <td>...</td>\n",
              "      <td>...</td>\n",
              "      <td>...</td>\n",
              "      <td>...</td>\n",
              "    </tr>\n",
              "    <tr>\n",
              "      <th>5049</th>\n",
              "      <td>2022-03-30 09:00:00+03:00</td>\n",
              "      <td>-6.80</td>\n",
              "      <td>-8.70</td>\n",
              "      <td>86</td>\n",
              "      <td>NaN</td>\n",
              "      <td>40.00</td>\n",
              "      <td>210</td>\n",
              "      <td>7.20</td>\n",
              "      <td>14.80</td>\n",
              "      <td>1005.70</td>\n",
              "      <td>1</td>\n",
              "      <td>0.24</td>\n",
              "      <td>1.39</td>\n",
              "      <td>2022</td>\n",
              "      <td>3</td>\n",
              "      <td>30</td>\n",
              "      <td>9</td>\n",
              "      <td>2</td>\n",
              "      <td>spring</td>\n",
              "    </tr>\n",
              "    <tr>\n",
              "      <th>5073</th>\n",
              "      <td>2022-03-31 09:00:00+03:00</td>\n",
              "      <td>-3.50</td>\n",
              "      <td>-6.90</td>\n",
              "      <td>77</td>\n",
              "      <td>NaN</td>\n",
              "      <td>20.00</td>\n",
              "      <td>200</td>\n",
              "      <td>3.60</td>\n",
              "      <td>11.10</td>\n",
              "      <td>1010.10</td>\n",
              "      <td>1</td>\n",
              "      <td>0.32</td>\n",
              "      <td>1.40</td>\n",
              "      <td>2022</td>\n",
              "      <td>3</td>\n",
              "      <td>31</td>\n",
              "      <td>9</td>\n",
              "      <td>3</td>\n",
              "      <td>spring</td>\n",
              "    </tr>\n",
              "    <tr>\n",
              "      <th>5169</th>\n",
              "      <td>2022-04-04 09:00:00+03:00</td>\n",
              "      <td>0.10</td>\n",
              "      <td>-2.60</td>\n",
              "      <td>82</td>\n",
              "      <td>NaN</td>\n",
              "      <td>10.00</td>\n",
              "      <td>200</td>\n",
              "      <td>14.40</td>\n",
              "      <td>24.10</td>\n",
              "      <td>1000.50</td>\n",
              "      <td>4</td>\n",
              "      <td>0.10</td>\n",
              "      <td>1.38</td>\n",
              "      <td>2022</td>\n",
              "      <td>4</td>\n",
              "      <td>4</td>\n",
              "      <td>9</td>\n",
              "      <td>0</td>\n",
              "      <td>spring</td>\n",
              "    </tr>\n",
              "    <tr>\n",
              "      <th>5217</th>\n",
              "      <td>2022-04-06 09:00:00+03:00</td>\n",
              "      <td>-1.60</td>\n",
              "      <td>-5.30</td>\n",
              "      <td>76</td>\n",
              "      <td>NaN</td>\n",
              "      <td>20.00</td>\n",
              "      <td>260</td>\n",
              "      <td>14.40</td>\n",
              "      <td>29.60</td>\n",
              "      <td>990.50</td>\n",
              "      <td>3</td>\n",
              "      <td>0.18</td>\n",
              "      <td>1.15</td>\n",
              "      <td>2022</td>\n",
              "      <td>4</td>\n",
              "      <td>6</td>\n",
              "      <td>9</td>\n",
              "      <td>2</td>\n",
              "      <td>spring</td>\n",
              "    </tr>\n",
              "    <tr>\n",
              "      <th>5241</th>\n",
              "      <td>2022-04-07 09:00:00+03:00</td>\n",
              "      <td>3.30</td>\n",
              "      <td>3.00</td>\n",
              "      <td>98</td>\n",
              "      <td>NaN</td>\n",
              "      <td>10.00</td>\n",
              "      <td>190</td>\n",
              "      <td>7.20</td>\n",
              "      <td>18.50</td>\n",
              "      <td>987.10</td>\n",
              "      <td>7</td>\n",
              "      <td>0.15</td>\n",
              "      <td>0.75</td>\n",
              "      <td>2022</td>\n",
              "      <td>4</td>\n",
              "      <td>7</td>\n",
              "      <td>9</td>\n",
              "      <td>3</td>\n",
              "      <td>spring</td>\n",
              "    </tr>\n",
              "  </tbody>\n",
              "</table>\n",
              "<p>119 rows × 19 columns</p>\n",
              "</div>\n",
              "      <button class=\"colab-df-convert\" onclick=\"convertToInteractive('df-50777816-8348-4d0b-87fa-5f56f4b82ec0')\"\n",
              "              title=\"Convert this dataframe to an interactive table.\"\n",
              "              style=\"display:none;\">\n",
              "        \n",
              "  <svg xmlns=\"http://www.w3.org/2000/svg\" height=\"24px\"viewBox=\"0 0 24 24\"\n",
              "       width=\"24px\">\n",
              "    <path d=\"M0 0h24v24H0V0z\" fill=\"none\"/>\n",
              "    <path d=\"M18.56 5.44l.94 2.06.94-2.06 2.06-.94-2.06-.94-.94-2.06-.94 2.06-2.06.94zm-11 1L8.5 8.5l.94-2.06 2.06-.94-2.06-.94L8.5 2.5l-.94 2.06-2.06.94zm10 10l.94 2.06.94-2.06 2.06-.94-2.06-.94-.94-2.06-.94 2.06-2.06.94z\"/><path d=\"M17.41 7.96l-1.37-1.37c-.4-.4-.92-.59-1.43-.59-.52 0-1.04.2-1.43.59L10.3 9.45l-7.72 7.72c-.78.78-.78 2.05 0 2.83L4 21.41c.39.39.9.59 1.41.59.51 0 1.02-.2 1.41-.59l7.78-7.78 2.81-2.81c.8-.78.8-2.07 0-2.86zM5.41 20L4 18.59l7.72-7.72 1.47 1.35L5.41 20z\"/>\n",
              "  </svg>\n",
              "      </button>\n",
              "      \n",
              "  <style>\n",
              "    .colab-df-container {\n",
              "      display:flex;\n",
              "      flex-wrap:wrap;\n",
              "      gap: 12px;\n",
              "    }\n",
              "\n",
              "    .colab-df-convert {\n",
              "      background-color: #E8F0FE;\n",
              "      border: none;\n",
              "      border-radius: 50%;\n",
              "      cursor: pointer;\n",
              "      display: none;\n",
              "      fill: #1967D2;\n",
              "      height: 32px;\n",
              "      padding: 0 0 0 0;\n",
              "      width: 32px;\n",
              "    }\n",
              "\n",
              "    .colab-df-convert:hover {\n",
              "      background-color: #E2EBFA;\n",
              "      box-shadow: 0px 1px 2px rgba(60, 64, 67, 0.3), 0px 1px 3px 1px rgba(60, 64, 67, 0.15);\n",
              "      fill: #174EA6;\n",
              "    }\n",
              "\n",
              "    [theme=dark] .colab-df-convert {\n",
              "      background-color: #3B4455;\n",
              "      fill: #D2E3FC;\n",
              "    }\n",
              "\n",
              "    [theme=dark] .colab-df-convert:hover {\n",
              "      background-color: #434B5C;\n",
              "      box-shadow: 0px 1px 3px 1px rgba(0, 0, 0, 0.15);\n",
              "      filter: drop-shadow(0px 1px 2px rgba(0, 0, 0, 0.3));\n",
              "      fill: #FFFFFF;\n",
              "    }\n",
              "  </style>\n",
              "\n",
              "      <script>\n",
              "        const buttonEl =\n",
              "          document.querySelector('#df-50777816-8348-4d0b-87fa-5f56f4b82ec0 button.colab-df-convert');\n",
              "        buttonEl.style.display =\n",
              "          google.colab.kernel.accessAllowed ? 'block' : 'none';\n",
              "\n",
              "        async function convertToInteractive(key) {\n",
              "          const element = document.querySelector('#df-50777816-8348-4d0b-87fa-5f56f4b82ec0');\n",
              "          const dataTable =\n",
              "            await google.colab.kernel.invokeFunction('convertToInteractive',\n",
              "                                                     [key], {});\n",
              "          if (!dataTable) return;\n",
              "\n",
              "          const docLinkHtml = 'Like what you see? Visit the ' +\n",
              "            '<a target=\"_blank\" href=https://colab.research.google.com/notebooks/data_table.ipynb>data table notebook</a>'\n",
              "            + ' to learn more about interactive tables.';\n",
              "          element.innerHTML = '';\n",
              "          dataTable['output_type'] = 'display_data';\n",
              "          await google.colab.output.renderOutput(dataTable, element);\n",
              "          const docLink = document.createElement('div');\n",
              "          docLink.innerHTML = docLinkHtml;\n",
              "          element.appendChild(docLink);\n",
              "        }\n",
              "      </script>\n",
              "    </div>\n",
              "  </div>\n",
              "  "
            ]
          },
          "metadata": {},
          "execution_count": 95
        }
      ],
      "source": [
        "to_plot = train[~train[\"snow\"].isna()]\n",
        "to_plot"
      ]
    },
    {
      "cell_type": "code",
      "execution_count": 96,
      "id": "0a98f164",
      "metadata": {
        "local_metadata": {
          "tags": []
        },
        "remote_metadata": {
          "id": "NsWi0llLTDTv",
          "outputId": "97830bfb-f289-46d7-eabd-991dfca89b8d",
          "tags": []
        },
        "colab": {
          "base_uri": "https://localhost:8080/"
        },
        "id": "0a98f164",
        "outputId": "830d2f3c-4270-4c30-84a4-0a22bb0a6b03"
      },
      "outputs": [
        {
          "output_type": "execute_result",
          "data": {
            "text/plain": [
              "count   119.00\n",
              "mean     78.32\n",
              "std      63.13\n",
              "min       0.00\n",
              "25%      20.00\n",
              "50%      60.00\n",
              "75%     130.00\n",
              "max     220.00\n",
              "Name: snow, dtype: float64"
            ]
          },
          "metadata": {},
          "execution_count": 96
        }
      ],
      "source": [
        "to_plot[\"snow\"].describe()"
      ]
    },
    {
      "cell_type": "code",
      "execution_count": 97,
      "id": "346d835b",
      "metadata": {
        "local_metadata": {
          "tags": []
        },
        "remote_metadata": {
          "id": "2GT8K4etTDTv",
          "outputId": "f857f517-c28d-4109-e008-301c3b9ed54b",
          "tags": []
        },
        "colab": {
          "base_uri": "https://localhost:8080/"
        },
        "id": "346d835b",
        "outputId": "176f64a4-690a-4252-fdae-0aa74234c539"
      },
      "outputs": [
        {
          "output_type": "execute_result",
          "data": {
            "text/plain": [
              "60.0"
            ]
          },
          "metadata": {},
          "execution_count": 97
        }
      ],
      "source": [
        "to_plot[\"snow\"].median()"
      ]
    },
    {
      "cell_type": "code",
      "execution_count": 99,
      "id": "182fac35",
      "metadata": {
        "local_metadata": {
          "tags": []
        },
        "remote_metadata": {
          "id": "E_YSV2Q6TDTw",
          "outputId": "8e464ddc-06c5-4617-804a-271d54bc23c7",
          "tags": []
        },
        "colab": {
          "base_uri": "https://localhost:8080/",
          "height": 293
        },
        "id": "182fac35",
        "outputId": "f3d498fc-9324-4a23-95a4-6b80ae98e20e"
      },
      "outputs": [
        {
          "output_type": "stream",
          "name": "stdout",
          "text": [
            "\n"
          ]
        },
        {
          "output_type": "display_data",
          "data": {
            "text/plain": [
              "<Figure size 432x288 with 1 Axes>"
            ],
            "image/png": "[encoded data removed]"
          },
          "metadata": {}
        }
      ],
      "source": [
        "g1 = sns.barplot( x=\"time\", y=\"snow\", data=to_plot)\n",
        "g1.set(xticklabels=[])\n",
        "print()"
      ]
    },
    {
      "cell_type": "code",
      "execution_count": 101,
      "id": "5dc2a5a6",
      "metadata": {
        "local_metadata": {
          "tags": []
        },
        "remote_metadata": {
          "id": "fu7B3wlTTDTw",
          "outputId": "774463bc-991d-4ef8-8d6f-d3a8b659a080",
          "tags": []
        },
        "colab": {
          "base_uri": "https://localhost:8080/",
          "height": 303
        },
        "id": "5dc2a5a6",
        "outputId": "b2e3426f-50d0-4458-d259-a14ded0d2cf0"
      },
      "outputs": [
        {
          "output_type": "execute_result",
          "data": {
            "text/plain": [
              "<AxesSubplot: xlabel='day', ylabel='month'>"
            ]
          },
          "metadata": {},
          "execution_count": 101
        },
        {
          "output_type": "display_data",
          "data": {
            "text/plain": [
              "<Figure size 432x288 with 1 Axes>"
            ],
            "image/png": "[encoded data removed]"
          },
          "metadata": {}
        }
      ],
      "source": [
        "sns.scatterplot(data=to_plot, x=\"day\", y=\"month\", hue=\"hour\")"
      ]
    },
    {
      "cell_type": "code",
      "execution_count": 102,
      "id": "3908d242",
      "metadata": {
        "local_metadata": {
          "tags": []
        },
        "remote_metadata": {
          "id": "PPNfKmpTTDTw",
          "outputId": "4eed845e-a514-4591-a671-293da2cbd76c",
          "tags": []
        },
        "colab": {
          "base_uri": "https://localhost:8080/",
          "height": 303
        },
        "id": "3908d242",
        "outputId": "60639ff5-b111-4eba-fc9e-50d719e230f4"
      },
      "outputs": [
        {
          "output_type": "execute_result",
          "data": {
            "text/plain": [
              "<AxesSubplot: xlabel='day', ylabel='hour'>"
            ]
          },
          "metadata": {},
          "execution_count": 102
        },
        {
          "output_type": "display_data",
          "data": {
            "text/plain": [
              "<Figure size 432x288 with 1 Axes>"
            ],
            "image/png": "[encoded data removed]"
          },
          "metadata": {}
        }
      ],
      "source": [
        "sns.scatterplot(data=to_plot[to_plot[\"hour\"] != 8], x=\"day\", y=\"hour\", hue=\"month\")"
      ]
    },
    {
      "cell_type": "code",
      "execution_count": 103,
      "id": "0783a406",
      "metadata": {
        "local_metadata": {
          "tags": []
        },
        "remote_metadata": {
          "id": "M79vhqpUTDTw",
          "outputId": "dbab8e4e-9c83-4477-cac1-8fc034958568",
          "tags": []
        },
        "colab": {
          "base_uri": "https://localhost:8080/",
          "height": 300
        },
        "id": "0783a406",
        "outputId": "30283ebb-8cf3-4936-f4b6-78eb047256cb"
      },
      "outputs": [
        {
          "output_type": "execute_result",
          "data": {
            "text/plain": [
              "                           time  temp   dwpt  rhum  prcp  snow  wdir  wspd  \\\n",
              "index                                                                        \n",
              "4977  2022-03-27 09:00:00+03:00 -3.50 -11.90    52   NaN 10.00   330 21.60   \n",
              "5025  2022-03-29 09:00:00+03:00 -3.80  -6.10    84   NaN 10.00   330  7.20   \n",
              "5049  2022-03-30 09:00:00+03:00 -6.80  -8.70    86   NaN 40.00   210  7.20   \n",
              "5073  2022-03-31 09:00:00+03:00 -3.50  -6.90    77   NaN 20.00   200  3.60   \n",
              "5169  2022-04-04 09:00:00+03:00  0.10  -2.60    82   NaN 10.00   200 14.40   \n",
              "5217  2022-04-06 09:00:00+03:00 -1.60  -5.30    76   NaN 20.00   260 14.40   \n",
              "5241  2022-04-07 09:00:00+03:00  3.30   3.00    98   NaN 10.00   190  7.20   \n",
              "\n",
              "       wpgt    pres coco  el_price  consumption  year  month  day  hour  \\\n",
              "index                                                                     \n",
              "4977  37.00 1024.00    2      0.10         1.45  2022      3   27     9   \n",
              "5025  16.70 1001.00   14      0.28         1.42  2022      3   29     9   \n",
              "5049  14.80 1005.70    1      0.24         1.39  2022      3   30     9   \n",
              "5073  11.10 1010.10    1      0.32         1.40  2022      3   31     9   \n",
              "5169  24.10 1000.50    4      0.10         1.38  2022      4    4     9   \n",
              "5217  29.60  990.50    3      0.18         1.15  2022      4    6     9   \n",
              "5241  18.50  987.10    7      0.15         0.75  2022      4    7     9   \n",
              "\n",
              "       weekday  season  \n",
              "index                   \n",
              "4977         6  spring  \n",
              "5025         1  spring  \n",
              "5049         2  spring  \n",
              "5073         3  spring  \n",
              "5169         0  spring  \n",
              "5217         2  spring  \n",
              "5241         3  spring  "
            ],
            "text/html": [
              "\n",
              "  <div id=\"df-7bb2b8c9-8717-47d7-98cc-315ccec38abb\">\n",
              "    <div class=\"colab-df-container\">\n",
              "      <div>\n",
              "<style scoped>\n",
              "    .dataframe tbody tr th:only-of-type {\n",
              "        vertical-align: middle;\n",
              "    }\n",
              "\n",
              "    .dataframe tbody tr th {\n",
              "        vertical-align: top;\n",
              "    }\n",
              "\n",
              "    .dataframe thead th {\n",
              "        text-align: right;\n",
              "    }\n",
              "</style>\n",
              "<table border=\"1\" class=\"dataframe\">\n",
              "  <thead>\n",
              "    <tr style=\"text-align: right;\">\n",
              "      <th></th>\n",
              "      <th>time</th>\n",
              "      <th>temp</th>\n",
              "      <th>dwpt</th>\n",
              "      <th>rhum</th>\n",
              "      <th>prcp</th>\n",
              "      <th>snow</th>\n",
              "      <th>wdir</th>\n",
              "      <th>wspd</th>\n",
              "      <th>wpgt</th>\n",
              "      <th>pres</th>\n",
              "      <th>coco</th>\n",
              "      <th>el_price</th>\n",
              "      <th>consumption</th>\n",
              "      <th>year</th>\n",
              "      <th>month</th>\n",
              "      <th>day</th>\n",
              "      <th>hour</th>\n",
              "      <th>weekday</th>\n",
              "      <th>season</th>\n",
              "    </tr>\n",
              "    <tr>\n",
              "      <th>index</th>\n",
              "      <th></th>\n",
              "      <th></th>\n",
              "      <th></th>\n",
              "      <th></th>\n",
              "      <th></th>\n",
              "      <th></th>\n",
              "      <th></th>\n",
              "      <th></th>\n",
              "      <th></th>\n",
              "      <th></th>\n",
              "      <th></th>\n",
              "      <th></th>\n",
              "      <th></th>\n",
              "      <th></th>\n",
              "      <th></th>\n",
              "      <th></th>\n",
              "      <th></th>\n",
              "      <th></th>\n",
              "      <th></th>\n",
              "    </tr>\n",
              "  </thead>\n",
              "  <tbody>\n",
              "    <tr>\n",
              "      <th>4977</th>\n",
              "      <td>2022-03-27 09:00:00+03:00</td>\n",
              "      <td>-3.50</td>\n",
              "      <td>-11.90</td>\n",
              "      <td>52</td>\n",
              "      <td>NaN</td>\n",
              "      <td>10.00</td>\n",
              "      <td>330</td>\n",
              "      <td>21.60</td>\n",
              "      <td>37.00</td>\n",
              "      <td>1024.00</td>\n",
              "      <td>2</td>\n",
              "      <td>0.10</td>\n",
              "      <td>1.45</td>\n",
              "      <td>2022</td>\n",
              "      <td>3</td>\n",
              "      <td>27</td>\n",
              "      <td>9</td>\n",
              "      <td>6</td>\n",
              "      <td>spring</td>\n",
              "    </tr>\n",
              "    <tr>\n",
              "      <th>5025</th>\n",
              "      <td>2022-03-29 09:00:00+03:00</td>\n",
              "      <td>-3.80</td>\n",
              "      <td>-6.10</td>\n",
              "      <td>84</td>\n",
              "      <td>NaN</td>\n",
              "      <td>10.00</td>\n",
              "      <td>330</td>\n",
              "      <td>7.20</td>\n",
              "      <td>16.70</td>\n",
              "      <td>1001.00</td>\n",
              "      <td>14</td>\n",
              "      <td>0.28</td>\n",
              "      <td>1.42</td>\n",
              "      <td>2022</td>\n",
              "      <td>3</td>\n",
              "      <td>29</td>\n",
              "      <td>9</td>\n",
              "      <td>1</td>\n",
              "      <td>spring</td>\n",
              "    </tr>\n",
              "    <tr>\n",
              "      <th>5049</th>\n",
              "      <td>2022-03-30 09:00:00+03:00</td>\n",
              "      <td>-6.80</td>\n",
              "      <td>-8.70</td>\n",
              "      <td>86</td>\n",
              "      <td>NaN</td>\n",
              "      <td>40.00</td>\n",
              "      <td>210</td>\n",
              "      <td>7.20</td>\n",
              "      <td>14.80</td>\n",
              "      <td>1005.70</td>\n",
              "      <td>1</td>\n",
              "      <td>0.24</td>\n",
              "      <td>1.39</td>\n",
              "      <td>2022</td>\n",
              "      <td>3</td>\n",
              "      <td>30</td>\n",
              "      <td>9</td>\n",
              "      <td>2</td>\n",
              "      <td>spring</td>\n",
              "    </tr>\n",
              "    <tr>\n",
              "      <th>5073</th>\n",
              "      <td>2022-03-31 09:00:00+03:00</td>\n",
              "      <td>-3.50</td>\n",
              "      <td>-6.90</td>\n",
              "      <td>77</td>\n",
              "      <td>NaN</td>\n",
              "      <td>20.00</td>\n",
              "      <td>200</td>\n",
              "      <td>3.60</td>\n",
              "      <td>11.10</td>\n",
              "      <td>1010.10</td>\n",
              "      <td>1</td>\n",
              "      <td>0.32</td>\n",
              "      <td>1.40</td>\n",
              "      <td>2022</td>\n",
              "      <td>3</td>\n",
              "      <td>31</td>\n",
              "      <td>9</td>\n",
              "      <td>3</td>\n",
              "      <td>spring</td>\n",
              "    </tr>\n",
              "    <tr>\n",
              "      <th>5169</th>\n",
              "      <td>2022-04-04 09:00:00+03:00</td>\n",
              "      <td>0.10</td>\n",
              "      <td>-2.60</td>\n",
              "      <td>82</td>\n",
              "      <td>NaN</td>\n",
              "      <td>10.00</td>\n",
              "      <td>200</td>\n",
              "      <td>14.40</td>\n",
              "      <td>24.10</td>\n",
              "      <td>1000.50</td>\n",
              "      <td>4</td>\n",
              "      <td>0.10</td>\n",
              "      <td>1.38</td>\n",
              "      <td>2022</td>\n",
              "      <td>4</td>\n",
              "      <td>4</td>\n",
              "      <td>9</td>\n",
              "      <td>0</td>\n",
              "      <td>spring</td>\n",
              "    </tr>\n",
              "    <tr>\n",
              "      <th>5217</th>\n",
              "      <td>2022-04-06 09:00:00+03:00</td>\n",
              "      <td>-1.60</td>\n",
              "      <td>-5.30</td>\n",
              "      <td>76</td>\n",
              "      <td>NaN</td>\n",
              "      <td>20.00</td>\n",
              "      <td>260</td>\n",
              "      <td>14.40</td>\n",
              "      <td>29.60</td>\n",
              "      <td>990.50</td>\n",
              "      <td>3</td>\n",
              "      <td>0.18</td>\n",
              "      <td>1.15</td>\n",
              "      <td>2022</td>\n",
              "      <td>4</td>\n",
              "      <td>6</td>\n",
              "      <td>9</td>\n",
              "      <td>2</td>\n",
              "      <td>spring</td>\n",
              "    </tr>\n",
              "    <tr>\n",
              "      <th>5241</th>\n",
              "      <td>2022-04-07 09:00:00+03:00</td>\n",
              "      <td>3.30</td>\n",
              "      <td>3.00</td>\n",
              "      <td>98</td>\n",
              "      <td>NaN</td>\n",
              "      <td>10.00</td>\n",
              "      <td>190</td>\n",
              "      <td>7.20</td>\n",
              "      <td>18.50</td>\n",
              "      <td>987.10</td>\n",
              "      <td>7</td>\n",
              "      <td>0.15</td>\n",
              "      <td>0.75</td>\n",
              "      <td>2022</td>\n",
              "      <td>4</td>\n",
              "      <td>7</td>\n",
              "      <td>9</td>\n",
              "      <td>3</td>\n",
              "      <td>spring</td>\n",
              "    </tr>\n",
              "  </tbody>\n",
              "</table>\n",
              "</div>\n",
              "      <button class=\"colab-df-convert\" onclick=\"convertToInteractive('df-7bb2b8c9-8717-47d7-98cc-315ccec38abb')\"\n",
              "              title=\"Convert this dataframe to an interactive table.\"\n",
              "              style=\"display:none;\">\n",
              "        \n",
              "  <svg xmlns=\"http://www.w3.org/2000/svg\" height=\"24px\"viewBox=\"0 0 24 24\"\n",
              "       width=\"24px\">\n",
              "    <path d=\"M0 0h24v24H0V0z\" fill=\"none\"/>\n",
              "    <path d=\"M18.56 5.44l.94 2.06.94-2.06 2.06-.94-2.06-.94-.94-2.06-.94 2.06-2.06.94zm-11 1L8.5 8.5l.94-2.06 2.06-.94-2.06-.94L8.5 2.5l-.94 2.06-2.06.94zm10 10l.94 2.06.94-2.06 2.06-.94-2.06-.94-.94-2.06-.94 2.06-2.06.94z\"/><path d=\"M17.41 7.96l-1.37-1.37c-.4-.4-.92-.59-1.43-.59-.52 0-1.04.2-1.43.59L10.3 9.45l-7.72 7.72c-.78.78-.78 2.05 0 2.83L4 21.41c.39.39.9.59 1.41.59.51 0 1.02-.2 1.41-.59l7.78-7.78 2.81-2.81c.8-.78.8-2.07 0-2.86zM5.41 20L4 18.59l7.72-7.72 1.47 1.35L5.41 20z\"/>\n",
              "  </svg>\n",
              "      </button>\n",
              "      \n",
              "  <style>\n",
              "    .colab-df-container {\n",
              "      display:flex;\n",
              "      flex-wrap:wrap;\n",
              "      gap: 12px;\n",
              "    }\n",
              "\n",
              "    .colab-df-convert {\n",
              "      background-color: #E8F0FE;\n",
              "      border: none;\n",
              "      border-radius: 50%;\n",
              "      cursor: pointer;\n",
              "      display: none;\n",
              "      fill: #1967D2;\n",
              "      height: 32px;\n",
              "      padding: 0 0 0 0;\n",
              "      width: 32px;\n",
              "    }\n",
              "\n",
              "    .colab-df-convert:hover {\n",
              "      background-color: #E2EBFA;\n",
              "      box-shadow: 0px 1px 2px rgba(60, 64, 67, 0.3), 0px 1px 3px 1px rgba(60, 64, 67, 0.15);\n",
              "      fill: #174EA6;\n",
              "    }\n",
              "\n",
              "    [theme=dark] .colab-df-convert {\n",
              "      background-color: #3B4455;\n",
              "      fill: #D2E3FC;\n",
              "    }\n",
              "\n",
              "    [theme=dark] .colab-df-convert:hover {\n",
              "      background-color: #434B5C;\n",
              "      box-shadow: 0px 1px 3px 1px rgba(0, 0, 0, 0.15);\n",
              "      filter: drop-shadow(0px 1px 2px rgba(0, 0, 0, 0.3));\n",
              "      fill: #FFFFFF;\n",
              "    }\n",
              "  </style>\n",
              "\n",
              "      <script>\n",
              "        const buttonEl =\n",
              "          document.querySelector('#df-7bb2b8c9-8717-47d7-98cc-315ccec38abb button.colab-df-convert');\n",
              "        buttonEl.style.display =\n",
              "          google.colab.kernel.accessAllowed ? 'block' : 'none';\n",
              "\n",
              "        async function convertToInteractive(key) {\n",
              "          const element = document.querySelector('#df-7bb2b8c9-8717-47d7-98cc-315ccec38abb');\n",
              "          const dataTable =\n",
              "            await google.colab.kernel.invokeFunction('convertToInteractive',\n",
              "                                                     [key], {});\n",
              "          if (!dataTable) return;\n",
              "\n",
              "          const docLinkHtml = 'Like what you see? Visit the ' +\n",
              "            '<a target=\"_blank\" href=https://colab.research.google.com/notebooks/data_table.ipynb>data table notebook</a>'\n",
              "            + ' to learn more about interactive tables.';\n",
              "          element.innerHTML = '';\n",
              "          dataTable['output_type'] = 'display_data';\n",
              "          await google.colab.output.renderOutput(dataTable, element);\n",
              "          const docLink = document.createElement('div');\n",
              "          docLink.innerHTML = docLinkHtml;\n",
              "          element.appendChild(docLink);\n",
              "        }\n",
              "      </script>\n",
              "    </div>\n",
              "  </div>\n",
              "  "
            ]
          },
          "metadata": {},
          "execution_count": 103
        }
      ],
      "source": [
        "to_plot[to_plot[\"hour\"] != 8]"
      ]
    },
    {
      "cell_type": "code",
      "execution_count": 104,
      "id": "a9b04b51",
      "metadata": {
        "local_metadata": {
          "tags": []
        },
        "remote_metadata": {
          "id": "ZtrFHBGlTDTw",
          "outputId": "94a177d8-858f-4e61-cc2a-3a8ed7d1904c",
          "tags": []
        },
        "colab": {
          "base_uri": "https://localhost:8080/",
          "height": 269
        },
        "id": "a9b04b51",
        "outputId": "65cdeb03-c3c2-4298-e51c-b9e7b1d68d5e"
      },
      "outputs": [
        {
          "output_type": "execute_result",
          "data": {
            "text/plain": [
              "                           time  temp   dwpt  rhum  prcp  snow  wdir  wspd  \\\n",
              "index                                                                        \n",
              "4977  2022-03-27 09:00:00+03:00 -3.50 -11.90    52   NaN 10.00   330 21.60   \n",
              "5025  2022-03-29 09:00:00+03:00 -3.80  -6.10    84   NaN 10.00   330  7.20   \n",
              "5049  2022-03-30 09:00:00+03:00 -6.80  -8.70    86   NaN 40.00   210  7.20   \n",
              "5073  2022-03-31 09:00:00+03:00 -3.50  -6.90    77   NaN 20.00   200  3.60   \n",
              "5169  2022-04-04 09:00:00+03:00  0.10  -2.60    82   NaN 10.00   200 14.40   \n",
              "5217  2022-04-06 09:00:00+03:00 -1.60  -5.30    76   NaN 20.00   260 14.40   \n",
              "\n",
              "       wpgt    pres coco  el_price  consumption  year  month  day  hour  \\\n",
              "index                                                                     \n",
              "4977  37.00 1024.00    2      0.10         1.45  2022      3   27     9   \n",
              "5025  16.70 1001.00   14      0.28         1.42  2022      3   29     9   \n",
              "5049  14.80 1005.70    1      0.24         1.39  2022      3   30     9   \n",
              "5073  11.10 1010.10    1      0.32         1.40  2022      3   31     9   \n",
              "5169  24.10 1000.50    4      0.10         1.38  2022      4    4     9   \n",
              "5217  29.60  990.50    3      0.18         1.15  2022      4    6     9   \n",
              "\n",
              "       weekday  season  \n",
              "index                   \n",
              "4977         6  spring  \n",
              "5025         1  spring  \n",
              "5049         2  spring  \n",
              "5073         3  spring  \n",
              "5169         0  spring  \n",
              "5217         2  spring  "
            ],
            "text/html": [
              "\n",
              "  <div id=\"df-81974213-1a81-42f5-b06e-23cc99869cc6\">\n",
              "    <div class=\"colab-df-container\">\n",
              "      <div>\n",
              "<style scoped>\n",
              "    .dataframe tbody tr th:only-of-type {\n",
              "        vertical-align: middle;\n",
              "    }\n",
              "\n",
              "    .dataframe tbody tr th {\n",
              "        vertical-align: top;\n",
              "    }\n",
              "\n",
              "    .dataframe thead th {\n",
              "        text-align: right;\n",
              "    }\n",
              "</style>\n",
              "<table border=\"1\" class=\"dataframe\">\n",
              "  <thead>\n",
              "    <tr style=\"text-align: right;\">\n",
              "      <th></th>\n",
              "      <th>time</th>\n",
              "      <th>temp</th>\n",
              "      <th>dwpt</th>\n",
              "      <th>rhum</th>\n",
              "      <th>prcp</th>\n",
              "      <th>snow</th>\n",
              "      <th>wdir</th>\n",
              "      <th>wspd</th>\n",
              "      <th>wpgt</th>\n",
              "      <th>pres</th>\n",
              "      <th>coco</th>\n",
              "      <th>el_price</th>\n",
              "      <th>consumption</th>\n",
              "      <th>year</th>\n",
              "      <th>month</th>\n",
              "      <th>day</th>\n",
              "      <th>hour</th>\n",
              "      <th>weekday</th>\n",
              "      <th>season</th>\n",
              "    </tr>\n",
              "    <tr>\n",
              "      <th>index</th>\n",
              "      <th></th>\n",
              "      <th></th>\n",
              "      <th></th>\n",
              "      <th></th>\n",
              "      <th></th>\n",
              "      <th></th>\n",
              "      <th></th>\n",
              "      <th></th>\n",
              "      <th></th>\n",
              "      <th></th>\n",
              "      <th></th>\n",
              "      <th></th>\n",
              "      <th></th>\n",
              "      <th></th>\n",
              "      <th></th>\n",
              "      <th></th>\n",
              "      <th></th>\n",
              "      <th></th>\n",
              "      <th></th>\n",
              "    </tr>\n",
              "  </thead>\n",
              "  <tbody>\n",
              "    <tr>\n",
              "      <th>4977</th>\n",
              "      <td>2022-03-27 09:00:00+03:00</td>\n",
              "      <td>-3.50</td>\n",
              "      <td>-11.90</td>\n",
              "      <td>52</td>\n",
              "      <td>NaN</td>\n",
              "      <td>10.00</td>\n",
              "      <td>330</td>\n",
              "      <td>21.60</td>\n",
              "      <td>37.00</td>\n",
              "      <td>1024.00</td>\n",
              "      <td>2</td>\n",
              "      <td>0.10</td>\n",
              "      <td>1.45</td>\n",
              "      <td>2022</td>\n",
              "      <td>3</td>\n",
              "      <td>27</td>\n",
              "      <td>9</td>\n",
              "      <td>6</td>\n",
              "      <td>spring</td>\n",
              "    </tr>\n",
              "    <tr>\n",
              "      <th>5025</th>\n",
              "      <td>2022-03-29 09:00:00+03:00</td>\n",
              "      <td>-3.80</td>\n",
              "      <td>-6.10</td>\n",
              "      <td>84</td>\n",
              "      <td>NaN</td>\n",
              "      <td>10.00</td>\n",
              "      <td>330</td>\n",
              "      <td>7.20</td>\n",
              "      <td>16.70</td>\n",
              "      <td>1001.00</td>\n",
              "      <td>14</td>\n",
              "      <td>0.28</td>\n",
              "      <td>1.42</td>\n",
              "      <td>2022</td>\n",
              "      <td>3</td>\n",
              "      <td>29</td>\n",
              "      <td>9</td>\n",
              "      <td>1</td>\n",
              "      <td>spring</td>\n",
              "    </tr>\n",
              "    <tr>\n",
              "      <th>5049</th>\n",
              "      <td>2022-03-30 09:00:00+03:00</td>\n",
              "      <td>-6.80</td>\n",
              "      <td>-8.70</td>\n",
              "      <td>86</td>\n",
              "      <td>NaN</td>\n",
              "      <td>40.00</td>\n",
              "      <td>210</td>\n",
              "      <td>7.20</td>\n",
              "      <td>14.80</td>\n",
              "      <td>1005.70</td>\n",
              "      <td>1</td>\n",
              "      <td>0.24</td>\n",
              "      <td>1.39</td>\n",
              "      <td>2022</td>\n",
              "      <td>3</td>\n",
              "      <td>30</td>\n",
              "      <td>9</td>\n",
              "      <td>2</td>\n",
              "      <td>spring</td>\n",
              "    </tr>\n",
              "    <tr>\n",
              "      <th>5073</th>\n",
              "      <td>2022-03-31 09:00:00+03:00</td>\n",
              "      <td>-3.50</td>\n",
              "      <td>-6.90</td>\n",
              "      <td>77</td>\n",
              "      <td>NaN</td>\n",
              "      <td>20.00</td>\n",
              "      <td>200</td>\n",
              "      <td>3.60</td>\n",
              "      <td>11.10</td>\n",
              "      <td>1010.10</td>\n",
              "      <td>1</td>\n",
              "      <td>0.32</td>\n",
              "      <td>1.40</td>\n",
              "      <td>2022</td>\n",
              "      <td>3</td>\n",
              "      <td>31</td>\n",
              "      <td>9</td>\n",
              "      <td>3</td>\n",
              "      <td>spring</td>\n",
              "    </tr>\n",
              "    <tr>\n",
              "      <th>5169</th>\n",
              "      <td>2022-04-04 09:00:00+03:00</td>\n",
              "      <td>0.10</td>\n",
              "      <td>-2.60</td>\n",
              "      <td>82</td>\n",
              "      <td>NaN</td>\n",
              "      <td>10.00</td>\n",
              "      <td>200</td>\n",
              "      <td>14.40</td>\n",
              "      <td>24.10</td>\n",
              "      <td>1000.50</td>\n",
              "      <td>4</td>\n",
              "      <td>0.10</td>\n",
              "      <td>1.38</td>\n",
              "      <td>2022</td>\n",
              "      <td>4</td>\n",
              "      <td>4</td>\n",
              "      <td>9</td>\n",
              "      <td>0</td>\n",
              "      <td>spring</td>\n",
              "    </tr>\n",
              "    <tr>\n",
              "      <th>5217</th>\n",
              "      <td>2022-04-06 09:00:00+03:00</td>\n",
              "      <td>-1.60</td>\n",
              "      <td>-5.30</td>\n",
              "      <td>76</td>\n",
              "      <td>NaN</td>\n",
              "      <td>20.00</td>\n",
              "      <td>260</td>\n",
              "      <td>14.40</td>\n",
              "      <td>29.60</td>\n",
              "      <td>990.50</td>\n",
              "      <td>3</td>\n",
              "      <td>0.18</td>\n",
              "      <td>1.15</td>\n",
              "      <td>2022</td>\n",
              "      <td>4</td>\n",
              "      <td>6</td>\n",
              "      <td>9</td>\n",
              "      <td>2</td>\n",
              "      <td>spring</td>\n",
              "    </tr>\n",
              "  </tbody>\n",
              "</table>\n",
              "</div>\n",
              "      <button class=\"colab-df-convert\" onclick=\"convertToInteractive('df-81974213-1a81-42f5-b06e-23cc99869cc6')\"\n",
              "              title=\"Convert this dataframe to an interactive table.\"\n",
              "              style=\"display:none;\">\n",
              "        \n",
              "  <svg xmlns=\"http://www.w3.org/2000/svg\" height=\"24px\"viewBox=\"0 0 24 24\"\n",
              "       width=\"24px\">\n",
              "    <path d=\"M0 0h24v24H0V0z\" fill=\"none\"/>\n",
              "    <path d=\"M18.56 5.44l.94 2.06.94-2.06 2.06-.94-2.06-.94-.94-2.06-.94 2.06-2.06.94zm-11 1L8.5 8.5l.94-2.06 2.06-.94-2.06-.94L8.5 2.5l-.94 2.06-2.06.94zm10 10l.94 2.06.94-2.06 2.06-.94-2.06-.94-.94-2.06-.94 2.06-2.06.94z\"/><path d=\"M17.41 7.96l-1.37-1.37c-.4-.4-.92-.59-1.43-.59-.52 0-1.04.2-1.43.59L10.3 9.45l-7.72 7.72c-.78.78-.78 2.05 0 2.83L4 21.41c.39.39.9.59 1.41.59.51 0 1.02-.2 1.41-.59l7.78-7.78 2.81-2.81c.8-.78.8-2.07 0-2.86zM5.41 20L4 18.59l7.72-7.72 1.47 1.35L5.41 20z\"/>\n",
              "  </svg>\n",
              "      </button>\n",
              "      \n",
              "  <style>\n",
              "    .colab-df-container {\n",
              "      display:flex;\n",
              "      flex-wrap:wrap;\n",
              "      gap: 12px;\n",
              "    }\n",
              "\n",
              "    .colab-df-convert {\n",
              "      background-color: #E8F0FE;\n",
              "      border: none;\n",
              "      border-radius: 50%;\n",
              "      cursor: pointer;\n",
              "      display: none;\n",
              "      fill: #1967D2;\n",
              "      height: 32px;\n",
              "      padding: 0 0 0 0;\n",
              "      width: 32px;\n",
              "    }\n",
              "\n",
              "    .colab-df-convert:hover {\n",
              "      background-color: #E2EBFA;\n",
              "      box-shadow: 0px 1px 2px rgba(60, 64, 67, 0.3), 0px 1px 3px 1px rgba(60, 64, 67, 0.15);\n",
              "      fill: #174EA6;\n",
              "    }\n",
              "\n",
              "    [theme=dark] .colab-df-convert {\n",
              "      background-color: #3B4455;\n",
              "      fill: #D2E3FC;\n",
              "    }\n",
              "\n",
              "    [theme=dark] .colab-df-convert:hover {\n",
              "      background-color: #434B5C;\n",
              "      box-shadow: 0px 1px 3px 1px rgba(0, 0, 0, 0.15);\n",
              "      filter: drop-shadow(0px 1px 2px rgba(0, 0, 0, 0.3));\n",
              "      fill: #FFFFFF;\n",
              "    }\n",
              "  </style>\n",
              "\n",
              "      <script>\n",
              "        const buttonEl =\n",
              "          document.querySelector('#df-81974213-1a81-42f5-b06e-23cc99869cc6 button.colab-df-convert');\n",
              "        buttonEl.style.display =\n",
              "          google.colab.kernel.accessAllowed ? 'block' : 'none';\n",
              "\n",
              "        async function convertToInteractive(key) {\n",
              "          const element = document.querySelector('#df-81974213-1a81-42f5-b06e-23cc99869cc6');\n",
              "          const dataTable =\n",
              "            await google.colab.kernel.invokeFunction('convertToInteractive',\n",
              "                                                     [key], {});\n",
              "          if (!dataTable) return;\n",
              "\n",
              "          const docLinkHtml = 'Like what you see? Visit the ' +\n",
              "            '<a target=\"_blank\" href=https://colab.research.google.com/notebooks/data_table.ipynb>data table notebook</a>'\n",
              "            + ' to learn more about interactive tables.';\n",
              "          element.innerHTML = '';\n",
              "          dataTable['output_type'] = 'display_data';\n",
              "          await google.colab.output.renderOutput(dataTable, element);\n",
              "          const docLink = document.createElement('div');\n",
              "          docLink.innerHTML = docLinkHtml;\n",
              "          element.appendChild(docLink);\n",
              "        }\n",
              "      </script>\n",
              "    </div>\n",
              "  </div>\n",
              "  "
            ]
          },
          "metadata": {},
          "execution_count": 104
        }
      ],
      "source": [
        "to_plot[~to_plot[\"snow\"].isna() & to_plot.index.isin(np.arange(4954, 5241))]"
      ]
    },
    {
      "cell_type": "markdown",
      "id": "9f6c6f64",
      "metadata": {
        "local_metadata": {},
        "remote_metadata": {
          "id": "kQhC-ztbTDTx"
        },
        "id": "9f6c6f64"
      },
      "source": [
        "From what I see in the data the snow variable is collected only once per day, either at 8 or 9 o'clock. It becomes 9 o'clock after the shift to summer time. \n",
        "\n",
        "The variable will probably be useless for our prediction, since we need only august. Still I think it might be useful to have it. If the performence of training is lacking, this is the first candidate for cleaning.\n",
        "\n",
        "For better differentiation I will copy the measured data throughout the whole day."
      ]
    },
    {
      "cell_type": "markdown",
      "id": "134bfe23",
      "metadata": {
        "local_metadata": {},
        "remote_metadata": {
          "id": "Ba7mXLoyTDTx"
        },
        "id": "134bfe23"
      },
      "source": [
        "**IMPORTANT**\n",
        "\n",
        "For the following code to work I am making an assumption the data is perfect. Specifically, that there is no time input missing in the whole dataset. \n",
        "\n",
        "I have not check the assumption yet. It is necessary to do so."
      ]
    },
    {
      "cell_type": "code",
      "execution_count": 105,
      "id": "e21e8f8a",
      "metadata": {
        "id": "e21e8f8a"
      },
      "outputs": [],
      "source": [
        "# Prepare the data for further preprocessing\n",
        "# Copy the snow values collected at 9th hour\n",
        "## to the 8th hour of the same day\n",
        "\n",
        "hour_cond = test[\"hour\"] == 9\n",
        "snow_cond = ~(test[\"snow\"].isna())\n",
        "combined_view = test[hour_cond & snow_cond]\n",
        "\n",
        "test.loc[combined_view.index - 1, \"snow\"] = combined_view[\"snow\"].values"
      ]
    },
    {
      "cell_type": "code",
      "execution_count": 106,
      "id": "a1efdc2b",
      "metadata": {
        "colab": {
          "base_uri": "https://localhost:8080/"
        },
        "id": "a1efdc2b",
        "outputId": "337b1046-4f1d-4d6c-d9fa-d70511299fc3"
      },
      "outputs": [
        {
          "output_type": "stream",
          "name": "stdout",
          "text": [
            "False\n"
          ]
        }
      ],
      "source": [
        "# Every value of snow in test is NaN\n",
        "# Fill with zeros\n",
        "print((test[\"snow\"].isna() | test[\"snow\"] == 0).all())\n",
        "test[\"snow\"] = test[\"snow\"].fillna(0)"
      ]
    },
    {
      "cell_type": "code",
      "execution_count": 107,
      "id": "c9e8a949",
      "metadata": {
        "local_metadata": {},
        "remote_metadata": {
          "id": "nTEEnBGwTDTx"
        },
        "id": "c9e8a949"
      },
      "outputs": [],
      "source": [
        "# Prepare the data for further preprocessing\n",
        "# Copy the snow values collected at 9th hour\n",
        "## to the 8th hour of the same day\n",
        "\n",
        "hour_cond = train[\"hour\"] == 9\n",
        "snow_cond = ~(train[\"snow\"].isna())\n",
        "combined_view = train[hour_cond & snow_cond]\n",
        "\n",
        "train.loc[combined_view.index - 1, \"snow\"] = combined_view[\"snow\"].values"
      ]
    },
    {
      "cell_type": "code",
      "execution_count": 109,
      "id": "f2edf1c4",
      "metadata": {
        "local_metadata": {
          "tags": []
        },
        "remote_metadata": {
          "id": "DFsTGi5hTDTx",
          "tags": []
        },
        "id": "f2edf1c4"
      },
      "outputs": [],
      "source": [
        "hour_cond = train[\"hour\"] == 8\n",
        "snow_cond = ~(train[\"snow\"].isna())\n",
        "combined_view = train[hour_cond & snow_cond]\n",
        "\n",
        "# Get indexes that need to be changed\n",
        "list_of_lists_indexes_to_change = np.array([\n",
        "    np.arange(x - 8, x + 16) for x in combined_view.index\n",
        "])\n",
        "idxs_to_change = np.concatenate(list_of_lists_indexes_to_change).ravel()\n",
        "\n",
        "# Get values that should be imputed at the place of indexe\n",
        "values_to_impute = combined_view.loc[combined_view.index.repeat(24), \"snow\"].values\n",
        "\n",
        "# Put it all together\n",
        "train.loc[idxs_to_change, \"snow\"] = values_to_impute"
      ]
    },
    {
      "cell_type": "code",
      "execution_count": 110,
      "id": "61e9db91",
      "metadata": {
        "local_metadata": {
          "tags": []
        },
        "remote_metadata": {
          "id": "Ya3YwrXkTDTy",
          "outputId": "456998d5-7dc0-49ea-c8ba-1be6bfcd9f6b",
          "tags": []
        },
        "colab": {
          "base_uri": "https://localhost:8080/",
          "height": 394
        },
        "id": "61e9db91",
        "outputId": "bf60485d-7e2a-4044-9d15-c9c8cab53972"
      },
      "outputs": [
        {
          "output_type": "execute_result",
          "data": {
            "text/plain": [
              "                           time  temp  dwpt  rhum  prcp   snow  wdir  wspd  \\\n",
              "index                                                                        \n",
              "3113  2022-01-08 16:00:00+02:00 -2.30 -4.30    86   NaN  70.00   160 14.40   \n",
              "2968  2022-01-02 15:00:00+02:00 -4.80 -6.90    85   NaN 110.00   140 14.40   \n",
              "5040  2022-03-30 00:00:00+03:00 -7.60 -8.40    94   NaN  40.00   240  3.60   \n",
              "3990  2022-02-14 05:00:00+02:00  1.20 -3.10    73   NaN 150.00   220 14.40   \n",
              "2812  2021-12-27 03:00:00+02:00 -7.40 -8.80    90   NaN 130.00   260  7.20   \n",
              "2111  2021-11-27 22:00:00+02:00 -3.30 -5.00    88   NaN  60.00    40 10.80   \n",
              "2233  2021-12-03 00:00:00+02:00 -4.70 -6.20    89   NaN 170.00    60 10.80   \n",
              "2474  2021-12-13 01:00:00+02:00  1.00  0.90    99   NaN 100.00   280  7.20   \n",
              "4015  2022-02-15 06:00:00+02:00  1.80 -2.50    73   NaN 150.00   200 14.40   \n",
              "2431  2021-12-11 06:00:00+02:00 -0.90 -1.90    93   NaN 170.00   100 25.90   \n",
              "\n",
              "       wpgt    pres coco  el_price  consumption  year  month  day  hour  \\\n",
              "index                                                                     \n",
              "3113  20.40 1008.50   14      0.17         1.98  2022      1    8    16   \n",
              "2968  25.90 1008.70   14      0.07         1.19  2022      1    2    15   \n",
              "5040   7.40 1004.90    2      0.19         1.46  2022      3   30     0   \n",
              "3990  31.50 1007.30    4      0.01         3.91  2022      2   14     5   \n",
              "2812  11.10 1009.30   14      0.09         1.82  2021     12   27     3   \n",
              "2111  29.60  999.00   14      0.20         0.58  2021     11   27    22   \n",
              "2233  20.40  989.60   14      0.13         1.87  2021     12    3     0   \n",
              "2474  11.10 1021.10    5      0.13         1.55  2021     12   13     1   \n",
              "4015  31.50 1007.70    4      0.10         0.49  2022      2   15     6   \n",
              "2431  35.20 1015.00   14      0.13         2.23  2021     12   11     6   \n",
              "\n",
              "       weekday  season  \n",
              "index                   \n",
              "3113         5  winter  \n",
              "2968         6  winter  \n",
              "5040         2  spring  \n",
              "3990         0  winter  \n",
              "2812         0  winter  \n",
              "2111         5  autumn  \n",
              "2233         4  winter  \n",
              "2474         0  winter  \n",
              "4015         1  winter  \n",
              "2431         5  winter  "
            ],
            "text/html": [
              "\n",
              "  <div id=\"df-d46d3877-e178-4a19-a399-045634a80d3c\">\n",
              "    <div class=\"colab-df-container\">\n",
              "      <div>\n",
              "<style scoped>\n",
              "    .dataframe tbody tr th:only-of-type {\n",
              "        vertical-align: middle;\n",
              "    }\n",
              "\n",
              "    .dataframe tbody tr th {\n",
              "        vertical-align: top;\n",
              "    }\n",
              "\n",
              "    .dataframe thead th {\n",
              "        text-align: right;\n",
              "    }\n",
              "</style>\n",
              "<table border=\"1\" class=\"dataframe\">\n",
              "  <thead>\n",
              "    <tr style=\"text-align: right;\">\n",
              "      <th></th>\n",
              "      <th>time</th>\n",
              "      <th>temp</th>\n",
              "      <th>dwpt</th>\n",
              "      <th>rhum</th>\n",
              "      <th>prcp</th>\n",
              "      <th>snow</th>\n",
              "      <th>wdir</th>\n",
              "      <th>wspd</th>\n",
              "      <th>wpgt</th>\n",
              "      <th>pres</th>\n",
              "      <th>coco</th>\n",
              "      <th>el_price</th>\n",
              "      <th>consumption</th>\n",
              "      <th>year</th>\n",
              "      <th>month</th>\n",
              "      <th>day</th>\n",
              "      <th>hour</th>\n",
              "      <th>weekday</th>\n",
              "      <th>season</th>\n",
              "    </tr>\n",
              "    <tr>\n",
              "      <th>index</th>\n",
              "      <th></th>\n",
              "      <th></th>\n",
              "      <th></th>\n",
              "      <th></th>\n",
              "      <th></th>\n",
              "      <th></th>\n",
              "      <th></th>\n",
              "      <th></th>\n",
              "      <th></th>\n",
              "      <th></th>\n",
              "      <th></th>\n",
              "      <th></th>\n",
              "      <th></th>\n",
              "      <th></th>\n",
              "      <th></th>\n",
              "      <th></th>\n",
              "      <th></th>\n",
              "      <th></th>\n",
              "      <th></th>\n",
              "    </tr>\n",
              "  </thead>\n",
              "  <tbody>\n",
              "    <tr>\n",
              "      <th>3113</th>\n",
              "      <td>2022-01-08 16:00:00+02:00</td>\n",
              "      <td>-2.30</td>\n",
              "      <td>-4.30</td>\n",
              "      <td>86</td>\n",
              "      <td>NaN</td>\n",
              "      <td>70.00</td>\n",
              "      <td>160</td>\n",
              "      <td>14.40</td>\n",
              "      <td>20.40</td>\n",
              "      <td>1008.50</td>\n",
              "      <td>14</td>\n",
              "      <td>0.17</td>\n",
              "      <td>1.98</td>\n",
              "      <td>2022</td>\n",
              "      <td>1</td>\n",
              "      <td>8</td>\n",
              "      <td>16</td>\n",
              "      <td>5</td>\n",
              "      <td>winter</td>\n",
              "    </tr>\n",
              "    <tr>\n",
              "      <th>2968</th>\n",
              "      <td>2022-01-02 15:00:00+02:00</td>\n",
              "      <td>-4.80</td>\n",
              "      <td>-6.90</td>\n",
              "      <td>85</td>\n",
              "      <td>NaN</td>\n",
              "      <td>110.00</td>\n",
              "      <td>140</td>\n",
              "      <td>14.40</td>\n",
              "      <td>25.90</td>\n",
              "      <td>1008.70</td>\n",
              "      <td>14</td>\n",
              "      <td>0.07</td>\n",
              "      <td>1.19</td>\n",
              "      <td>2022</td>\n",
              "      <td>1</td>\n",
              "      <td>2</td>\n",
              "      <td>15</td>\n",
              "      <td>6</td>\n",
              "      <td>winter</td>\n",
              "    </tr>\n",
              "    <tr>\n",
              "      <th>5040</th>\n",
              "      <td>2022-03-30 00:00:00+03:00</td>\n",
              "      <td>-7.60</td>\n",
              "      <td>-8.40</td>\n",
              "      <td>94</td>\n",
              "      <td>NaN</td>\n",
              "      <td>40.00</td>\n",
              "      <td>240</td>\n",
              "      <td>3.60</td>\n",
              "      <td>7.40</td>\n",
              "      <td>1004.90</td>\n",
              "      <td>2</td>\n",
              "      <td>0.19</td>\n",
              "      <td>1.46</td>\n",
              "      <td>2022</td>\n",
              "      <td>3</td>\n",
              "      <td>30</td>\n",
              "      <td>0</td>\n",
              "      <td>2</td>\n",
              "      <td>spring</td>\n",
              "    </tr>\n",
              "    <tr>\n",
              "      <th>3990</th>\n",
              "      <td>2022-02-14 05:00:00+02:00</td>\n",
              "      <td>1.20</td>\n",
              "      <td>-3.10</td>\n",
              "      <td>73</td>\n",
              "      <td>NaN</td>\n",
              "      <td>150.00</td>\n",
              "      <td>220</td>\n",
              "      <td>14.40</td>\n",
              "      <td>31.50</td>\n",
              "      <td>1007.30</td>\n",
              "      <td>4</td>\n",
              "      <td>0.01</td>\n",
              "      <td>3.91</td>\n",
              "      <td>2022</td>\n",
              "      <td>2</td>\n",
              "      <td>14</td>\n",
              "      <td>5</td>\n",
              "      <td>0</td>\n",
              "      <td>winter</td>\n",
              "    </tr>\n",
              "    <tr>\n",
              "      <th>2812</th>\n",
              "      <td>2021-12-27 03:00:00+02:00</td>\n",
              "      <td>-7.40</td>\n",
              "      <td>-8.80</td>\n",
              "      <td>90</td>\n",
              "      <td>NaN</td>\n",
              "      <td>130.00</td>\n",
              "      <td>260</td>\n",
              "      <td>7.20</td>\n",
              "      <td>11.10</td>\n",
              "      <td>1009.30</td>\n",
              "      <td>14</td>\n",
              "      <td>0.09</td>\n",
              "      <td>1.82</td>\n",
              "      <td>2021</td>\n",
              "      <td>12</td>\n",
              "      <td>27</td>\n",
              "      <td>3</td>\n",
              "      <td>0</td>\n",
              "      <td>winter</td>\n",
              "    </tr>\n",
              "    <tr>\n",
              "      <th>2111</th>\n",
              "      <td>2021-11-27 22:00:00+02:00</td>\n",
              "      <td>-3.30</td>\n",
              "      <td>-5.00</td>\n",
              "      <td>88</td>\n",
              "      <td>NaN</td>\n",
              "      <td>60.00</td>\n",
              "      <td>40</td>\n",
              "      <td>10.80</td>\n",
              "      <td>29.60</td>\n",
              "      <td>999.00</td>\n",
              "      <td>14</td>\n",
              "      <td>0.20</td>\n",
              "      <td>0.58</td>\n",
              "      <td>2021</td>\n",
              "      <td>11</td>\n",
              "      <td>27</td>\n",
              "      <td>22</td>\n",
              "      <td>5</td>\n",
              "      <td>autumn</td>\n",
              "    </tr>\n",
              "    <tr>\n",
              "      <th>2233</th>\n",
              "      <td>2021-12-03 00:00:00+02:00</td>\n",
              "      <td>-4.70</td>\n",
              "      <td>-6.20</td>\n",
              "      <td>89</td>\n",
              "      <td>NaN</td>\n",
              "      <td>170.00</td>\n",
              "      <td>60</td>\n",
              "      <td>10.80</td>\n",
              "      <td>20.40</td>\n",
              "      <td>989.60</td>\n",
              "      <td>14</td>\n",
              "      <td>0.13</td>\n",
              "      <td>1.87</td>\n",
              "      <td>2021</td>\n",
              "      <td>12</td>\n",
              "      <td>3</td>\n",
              "      <td>0</td>\n",
              "      <td>4</td>\n",
              "      <td>winter</td>\n",
              "    </tr>\n",
              "    <tr>\n",
              "      <th>2474</th>\n",
              "      <td>2021-12-13 01:00:00+02:00</td>\n",
              "      <td>1.00</td>\n",
              "      <td>0.90</td>\n",
              "      <td>99</td>\n",
              "      <td>NaN</td>\n",
              "      <td>100.00</td>\n",
              "      <td>280</td>\n",
              "      <td>7.20</td>\n",
              "      <td>11.10</td>\n",
              "      <td>1021.10</td>\n",
              "      <td>5</td>\n",
              "      <td>0.13</td>\n",
              "      <td>1.55</td>\n",
              "      <td>2021</td>\n",
              "      <td>12</td>\n",
              "      <td>13</td>\n",
              "      <td>1</td>\n",
              "      <td>0</td>\n",
              "      <td>winter</td>\n",
              "    </tr>\n",
              "    <tr>\n",
              "      <th>4015</th>\n",
              "      <td>2022-02-15 06:00:00+02:00</td>\n",
              "      <td>1.80</td>\n",
              "      <td>-2.50</td>\n",
              "      <td>73</td>\n",
              "      <td>NaN</td>\n",
              "      <td>150.00</td>\n",
              "      <td>200</td>\n",
              "      <td>14.40</td>\n",
              "      <td>31.50</td>\n",
              "      <td>1007.70</td>\n",
              "      <td>4</td>\n",
              "      <td>0.10</td>\n",
              "      <td>0.49</td>\n",
              "      <td>2022</td>\n",
              "      <td>2</td>\n",
              "      <td>15</td>\n",
              "      <td>6</td>\n",
              "      <td>1</td>\n",
              "      <td>winter</td>\n",
              "    </tr>\n",
              "    <tr>\n",
              "      <th>2431</th>\n",
              "      <td>2021-12-11 06:00:00+02:00</td>\n",
              "      <td>-0.90</td>\n",
              "      <td>-1.90</td>\n",
              "      <td>93</td>\n",
              "      <td>NaN</td>\n",
              "      <td>170.00</td>\n",
              "      <td>100</td>\n",
              "      <td>25.90</td>\n",
              "      <td>35.20</td>\n",
              "      <td>1015.00</td>\n",
              "      <td>14</td>\n",
              "      <td>0.13</td>\n",
              "      <td>2.23</td>\n",
              "      <td>2021</td>\n",
              "      <td>12</td>\n",
              "      <td>11</td>\n",
              "      <td>6</td>\n",
              "      <td>5</td>\n",
              "      <td>winter</td>\n",
              "    </tr>\n",
              "  </tbody>\n",
              "</table>\n",
              "</div>\n",
              "      <button class=\"colab-df-convert\" onclick=\"convertToInteractive('df-d46d3877-e178-4a19-a399-045634a80d3c')\"\n",
              "              title=\"Convert this dataframe to an interactive table.\"\n",
              "              style=\"display:none;\">\n",
              "        \n",
              "  <svg xmlns=\"http://www.w3.org/2000/svg\" height=\"24px\"viewBox=\"0 0 24 24\"\n",
              "       width=\"24px\">\n",
              "    <path d=\"M0 0h24v24H0V0z\" fill=\"none\"/>\n",
              "    <path d=\"M18.56 5.44l.94 2.06.94-2.06 2.06-.94-2.06-.94-.94-2.06-.94 2.06-2.06.94zm-11 1L8.5 8.5l.94-2.06 2.06-.94-2.06-.94L8.5 2.5l-.94 2.06-2.06.94zm10 10l.94 2.06.94-2.06 2.06-.94-2.06-.94-.94-2.06-.94 2.06-2.06.94z\"/><path d=\"M17.41 7.96l-1.37-1.37c-.4-.4-.92-.59-1.43-.59-.52 0-1.04.2-1.43.59L10.3 9.45l-7.72 7.72c-.78.78-.78 2.05 0 2.83L4 21.41c.39.39.9.59 1.41.59.51 0 1.02-.2 1.41-.59l7.78-7.78 2.81-2.81c.8-.78.8-2.07 0-2.86zM5.41 20L4 18.59l7.72-7.72 1.47 1.35L5.41 20z\"/>\n",
              "  </svg>\n",
              "      </button>\n",
              "      \n",
              "  <style>\n",
              "    .colab-df-container {\n",
              "      display:flex;\n",
              "      flex-wrap:wrap;\n",
              "      gap: 12px;\n",
              "    }\n",
              "\n",
              "    .colab-df-convert {\n",
              "      background-color: #E8F0FE;\n",
              "      border: none;\n",
              "      border-radius: 50%;\n",
              "      cursor: pointer;\n",
              "      display: none;\n",
              "      fill: #1967D2;\n",
              "      height: 32px;\n",
              "      padding: 0 0 0 0;\n",
              "      width: 32px;\n",
              "    }\n",
              "\n",
              "    .colab-df-convert:hover {\n",
              "      background-color: #E2EBFA;\n",
              "      box-shadow: 0px 1px 2px rgba(60, 64, 67, 0.3), 0px 1px 3px 1px rgba(60, 64, 67, 0.15);\n",
              "      fill: #174EA6;\n",
              "    }\n",
              "\n",
              "    [theme=dark] .colab-df-convert {\n",
              "      background-color: #3B4455;\n",
              "      fill: #D2E3FC;\n",
              "    }\n",
              "\n",
              "    [theme=dark] .colab-df-convert:hover {\n",
              "      background-color: #434B5C;\n",
              "      box-shadow: 0px 1px 3px 1px rgba(0, 0, 0, 0.15);\n",
              "      filter: drop-shadow(0px 1px 2px rgba(0, 0, 0, 0.3));\n",
              "      fill: #FFFFFF;\n",
              "    }\n",
              "  </style>\n",
              "\n",
              "      <script>\n",
              "        const buttonEl =\n",
              "          document.querySelector('#df-d46d3877-e178-4a19-a399-045634a80d3c button.colab-df-convert');\n",
              "        buttonEl.style.display =\n",
              "          google.colab.kernel.accessAllowed ? 'block' : 'none';\n",
              "\n",
              "        async function convertToInteractive(key) {\n",
              "          const element = document.querySelector('#df-d46d3877-e178-4a19-a399-045634a80d3c');\n",
              "          const dataTable =\n",
              "            await google.colab.kernel.invokeFunction('convertToInteractive',\n",
              "                                                     [key], {});\n",
              "          if (!dataTable) return;\n",
              "\n",
              "          const docLinkHtml = 'Like what you see? Visit the ' +\n",
              "            '<a target=\"_blank\" href=https://colab.research.google.com/notebooks/data_table.ipynb>data table notebook</a>'\n",
              "            + ' to learn more about interactive tables.';\n",
              "          element.innerHTML = '';\n",
              "          dataTable['output_type'] = 'display_data';\n",
              "          await google.colab.output.renderOutput(dataTable, element);\n",
              "          const docLink = document.createElement('div');\n",
              "          docLink.innerHTML = docLinkHtml;\n",
              "          element.appendChild(docLink);\n",
              "        }\n",
              "      </script>\n",
              "    </div>\n",
              "  </div>\n",
              "  "
            ]
          },
          "metadata": {},
          "execution_count": 110
        }
      ],
      "source": [
        "train.loc[idxs_to_change, :].sample(n=10, random_state=111)"
      ]
    },
    {
      "cell_type": "markdown",
      "id": "6da22e7a",
      "metadata": {
        "local_metadata": {},
        "remote_metadata": {
          "id": "4FDQ73qUTDTy"
        },
        "id": "6da22e7a"
      },
      "source": [
        "It seems my magic works!\n",
        "\n",
        "Now let's impute the rest of NaNs with zeros."
      ]
    },
    {
      "cell_type": "code",
      "execution_count": 111,
      "id": "4e04e15b",
      "metadata": {
        "local_metadata": {
          "tags": []
        },
        "remote_metadata": {
          "id": "0vfeMg_UTDTy",
          "outputId": "4ed5421a-fb7a-4874-a437-61916b217816",
          "tags": []
        },
        "colab": {
          "base_uri": "https://localhost:8080/"
        },
        "id": "4e04e15b",
        "outputId": "9c7a2525-70c0-493d-c60d-1e449e5d53b3"
      },
      "outputs": [
        {
          "output_type": "execute_result",
          "data": {
            "text/plain": [
              "False"
            ]
          },
          "metadata": {},
          "execution_count": 111
        }
      ],
      "source": [
        "train[\"snow\"] = train[\"snow\"].fillna(0)\n",
        "test[\"snow\"] = test[\"snow\"].fillna(0)\n",
        "\n",
        "train[\"snow\"].isna().any()"
      ]
    },
    {
      "cell_type": "markdown",
      "id": "0a393370",
      "metadata": {
        "local_metadata": {
          "tags": []
        },
        "remote_metadata": {
          "id": "p5sOoMY8TDTy",
          "tags": []
        },
        "id": "0a393370"
      },
      "source": [
        "### Correlation heatmap"
      ]
    },
    {
      "cell_type": "code",
      "execution_count": 112,
      "id": "c9bd1fb9",
      "metadata": {
        "local_metadata": {
          "tags": []
        },
        "remote_metadata": {
          "id": "iuJEEFRBTDTz",
          "outputId": "e6466df6-0bfb-4eb7-e091-cc0f133abc92",
          "tags": []
        },
        "colab": {
          "base_uri": "https://localhost:8080/",
          "height": 0
        },
        "id": "c9bd1fb9",
        "outputId": "1a712ef0-c11c-46cd-e09c-cc3bcd8abb4d"
      },
      "outputs": [
        {
          "output_type": "display_data",
          "data": {
            "text/plain": [
              "<Figure size 864x864 with 2 Axes>"
            ],
            "image/png": "[encoded data removed]"
          },
          "metadata": {}
        }
      ],
      "source": [
        "plt.figure(figsize=(12, 12))\n",
        "\n",
        "cov_matrix = train.corr()\n",
        "sns.heatmap(cov_matrix.round(2), annot=True, cmap=\"YlGnBu\", square=True)\n",
        "plt.show()"
      ]
    },
    {
      "cell_type": "code",
      "execution_count": 113,
      "id": "f4e7b187",
      "metadata": {
        "local_metadata": {
          "tags": []
        },
        "remote_metadata": {
          "id": "mNqNjXtZTDTz",
          "outputId": "fbd8a197-0053-4a7a-d93e-b343d423621d",
          "tags": []
        },
        "colab": {
          "base_uri": "https://localhost:8080/",
          "height": 0
        },
        "id": "f4e7b187",
        "outputId": "2cef273a-7a07-4a9b-fe27-ca30b4d47690"
      },
      "outputs": [
        {
          "output_type": "execute_result",
          "data": {
            "text/plain": [
              "<AxesSubplot: >"
            ]
          },
          "metadata": {},
          "execution_count": 113
        },
        {
          "output_type": "display_data",
          "data": {
            "text/plain": [
              "<Figure size 864x864 with 2 Axes>"
            ],
            "image/png": "[encoded data removed]"
          },
          "metadata": {}
        }
      ],
      "source": [
        "# Correlation method I found at https://stackoverflow.com/questions/48035381/correlation-among-multiple-categorical-variables-pandas\n",
        "# Might give completely wrong information, I do not understand its asumptions\n",
        "# From what I understand it transforms categorical to nominal values and computes correlation\n",
        "\n",
        "plt.figure(figsize=(12, 12))\n",
        "\n",
        "train_corr = train.apply(lambda x: pd.factorize(x)[0]).corr().round(2)\n",
        "\n",
        "sns.heatmap(train_corr, annot=True, cmap=\"YlGnBu\", square=True)"
      ]
    },
    {
      "cell_type": "markdown",
      "id": "d2621973",
      "metadata": {
        "local_metadata": {},
        "remote_metadata": {
          "id": "U1pC3ra1TDTz"
        },
        "id": "d2621973"
      },
      "source": [
        "# Models"
      ]
    },
    {
      "cell_type": "markdown",
      "id": "2974d0a7",
      "metadata": {
        "local_metadata": {
          "tags": [],
          "toc-hr-collapsed": true
        },
        "remote_metadata": {
          "id": "azepLoxHTDTz"
        },
        "id": "2974d0a7"
      },
      "source": [
        "## Transformer"
      ]
    },
    {
      "cell_type": "markdown",
      "id": "97a70ea5",
      "metadata": {
        "local_metadata": {},
        "remote_metadata": {
          "id": "cxJkt8syTDTz"
        },
        "id": "97a70ea5"
      },
      "source": [
        "Inspired by [Heiko Onnen](https://towardsdatascience.com/transformer-unleashed-deep-forecasting-of-multivariate-time-series-in-python-9ca729dac019)"
      ]
    },
    {
      "cell_type": "markdown",
      "id": "326df73c",
      "metadata": {
        "local_metadata": {},
        "remote_metadata": {
          "id": "w3Yun6svTDT0"
        },
        "id": "326df73c"
      },
      "source": [
        "### Setup"
      ]
    },
    {
      "cell_type": "code",
      "execution_count": 115,
      "id": "302aab74",
      "metadata": {
        "tags": [],
        "colab": {
          "base_uri": "https://localhost:8080/"
        },
        "id": "302aab74",
        "outputId": "e74d7f08-755e-4747-a7e7-b9e86da7bd0f"
      },
      "outputs": [
        {
          "output_type": "stream",
          "name": "stdout",
          "text": [
            "Looking in indexes: https://pypi.org/simple, https://us-python.pkg.dev/colab-wheels/public/simple/\n",
            "Requirement already satisfied: darts in /usr/local/lib/python3.8/dist-packages (0.22.0)\n",
            "Requirement already satisfied: pmdarima>=1.8.0 in /usr/local/lib/python3.8/dist-packages (from darts) (2.0.2)\n",
            "Requirement already satisfied: tbats>=1.1.0 in /usr/local/lib/python3.8/dist-packages (from darts) (1.1.2)\n",
            "Requirement already satisfied: scikit-learn>=1.0.1 in /usr/local/lib/python3.8/dist-packages (from darts) (1.0.2)\n",
            "Requirement already satisfied: tqdm>=4.60.0 in /usr/local/lib/python3.8/dist-packages (from darts) (4.64.1)\n",
            "Requirement already satisfied: xarray>=0.17.0 in /usr/local/lib/python3.8/dist-packages (from darts) (0.20.2)\n",
            "Requirement already satisfied: ipython>=5.0.0 in /usr/local/lib/python3.8/dist-packages (from darts) (7.9.0)\n",
            "Requirement already satisfied: prophet>=1.1.1 in /usr/local/lib/python3.8/dist-packages (from darts) (1.1.1)\n",
            "Requirement already satisfied: nfoursid>=1.0.0 in /usr/local/lib/python3.8/dist-packages (from darts) (1.0.1)\n",
            "Requirement already satisfied: statsforecast>=1.0.0 in /usr/local/lib/python3.8/dist-packages (from darts) (1.4.0)\n",
            "Requirement already satisfied: shap>=0.40.0 in /usr/local/lib/python3.8/dist-packages (from darts) (0.41.0)\n",
            "Requirement already satisfied: statsmodels>=0.13.0 in /usr/local/lib/python3.8/dist-packages (from darts) (0.13.5)\n",
            "Requirement already satisfied: holidays>=0.11.1 in /usr/local/lib/python3.8/dist-packages (from darts) (0.17.2)\n",
            "Requirement already satisfied: numpy>=1.19.0 in /usr/local/lib/python3.8/dist-packages (from darts) (1.21.6)\n",
            "Requirement already satisfied: matplotlib>=3.3.0 in /usr/local/lib/python3.8/dist-packages (from darts) (3.6.2)\n",
            "Requirement already satisfied: scipy>=1.3.2 in /usr/local/lib/python3.8/dist-packages (from darts) (1.7.3)\n",
            "Requirement already satisfied: pytorch-lightning>=1.5.0 in /usr/local/lib/python3.8/dist-packages (from darts) (1.8.4.post0)\n",
            "Requirement already satisfied: requests>=2.22.0 in /usr/local/lib/python3.8/dist-packages (from darts) (2.23.0)\n",
            "Requirement already satisfied: joblib>=0.16.0 in /usr/local/lib/python3.8/dist-packages (from darts) (1.2.0)\n",
            "Requirement already satisfied: torch>=1.8.0 in /usr/local/lib/python3.8/dist-packages (from darts) (1.13.0+cu116)\n",
            "Requirement already satisfied: lightgbm>=2.2.3 in /usr/local/lib/python3.8/dist-packages (from darts) (2.2.3)\n",
            "Requirement already satisfied: catboost>=1.0.6 in /usr/local/lib/python3.8/dist-packages (from darts) (1.1.1)\n",
            "Requirement already satisfied: pandas>=1.0.5 in /usr/local/lib/python3.8/dist-packages (from darts) (1.3.5)\n",
            "Requirement already satisfied: plotly in /usr/local/lib/python3.8/dist-packages (from catboost>=1.0.6->darts) (5.5.0)\n",
            "Requirement already satisfied: six in /usr/local/lib/python3.8/dist-packages (from catboost>=1.0.6->darts) (1.15.0)\n",
            "Requirement already satisfied: graphviz in /usr/local/lib/python3.8/dist-packages (from catboost>=1.0.6->darts) (0.10.1)\n",
            "Requirement already satisfied: python-dateutil in /usr/local/lib/python3.8/dist-packages (from holidays>=0.11.1->darts) (2.8.2)\n",
            "Requirement already satisfied: convertdate>=2.3.0 in /usr/local/lib/python3.8/dist-packages (from holidays>=0.11.1->darts) (2.4.0)\n",
            "Requirement already satisfied: korean-lunar-calendar in /usr/local/lib/python3.8/dist-packages (from holidays>=0.11.1->darts) (0.3.1)\n",
            "Requirement already satisfied: hijri-converter in /usr/local/lib/python3.8/dist-packages (from holidays>=0.11.1->darts) (2.2.4)\n",
            "Requirement already satisfied: pymeeus<=1,>=0.3.13 in /usr/local/lib/python3.8/dist-packages (from convertdate>=2.3.0->holidays>=0.11.1->darts) (0.5.11)\n",
            "Requirement already satisfied: pygments in /usr/local/lib/python3.8/dist-packages (from ipython>=5.0.0->darts) (2.6.1)\n",
            "Requirement already satisfied: decorator in /usr/local/lib/python3.8/dist-packages (from ipython>=5.0.0->darts) (4.4.2)\n",
            "Requirement already satisfied: jedi>=0.10 in /usr/local/lib/python3.8/dist-packages (from ipython>=5.0.0->darts) (0.18.2)\n",
            "Requirement already satisfied: traitlets>=4.2 in /usr/local/lib/python3.8/dist-packages (from ipython>=5.0.0->darts) (5.6.0)\n",
            "Requirement already satisfied: prompt-toolkit<2.1.0,>=2.0.0 in /usr/local/lib/python3.8/dist-packages (from ipython>=5.0.0->darts) (2.0.10)\n",
            "Requirement already satisfied: pickleshare in /usr/local/lib/python3.8/dist-packages (from ipython>=5.0.0->darts) (0.7.5)\n",
            "Requirement already satisfied: backcall in /usr/local/lib/python3.8/dist-packages (from ipython>=5.0.0->darts) (0.2.0)\n",
            "Requirement already satisfied: pexpect in /usr/local/lib/python3.8/dist-packages (from ipython>=5.0.0->darts) (4.8.0)\n",
            "Requirement already satisfied: setuptools>=18.5 in /usr/local/lib/python3.8/dist-packages (from ipython>=5.0.0->darts) (57.4.0)\n",
            "Requirement already satisfied: parso<0.9.0,>=0.8.0 in /usr/local/lib/python3.8/dist-packages (from jedi>=0.10->ipython>=5.0.0->darts) (0.8.3)\n",
            "Requirement already satisfied: pyparsing>=2.2.1 in /usr/local/lib/python3.8/dist-packages (from matplotlib>=3.3.0->darts) (3.0.9)\n",
            "Requirement already satisfied: contourpy>=1.0.1 in /usr/local/lib/python3.8/dist-packages (from matplotlib>=3.3.0->darts) (1.0.6)\n",
            "Requirement already satisfied: fonttools>=4.22.0 in /usr/local/lib/python3.8/dist-packages (from matplotlib>=3.3.0->darts) (4.38.0)\n",
            "Requirement already satisfied: kiwisolver>=1.0.1 in /usr/local/lib/python3.8/dist-packages (from matplotlib>=3.3.0->darts) (1.4.4)\n",
            "Requirement already satisfied: packaging>=20.0 in /usr/local/lib/python3.8/dist-packages (from matplotlib>=3.3.0->darts) (21.3)\n",
            "Requirement already satisfied: cycler>=0.10 in /usr/local/lib/python3.8/dist-packages (from matplotlib>=3.3.0->darts) (0.11.0)\n",
            "Requirement already satisfied: pillow>=6.2.0 in /usr/local/lib/python3.8/dist-packages (from matplotlib>=3.3.0->darts) (7.1.2)\n",
            "Requirement already satisfied: pytz>=2017.3 in /usr/local/lib/python3.8/dist-packages (from pandas>=1.0.5->darts) (2022.6)\n",
            "Requirement already satisfied: urllib3 in /usr/local/lib/python3.8/dist-packages (from pmdarima>=1.8.0->darts) (1.24.3)\n",
            "Requirement already satisfied: Cython!=0.29.18,!=0.29.31,>=0.29 in /usr/local/lib/python3.8/dist-packages (from pmdarima>=1.8.0->darts) (0.29.32)\n",
            "Requirement already satisfied: wcwidth in /usr/local/lib/python3.8/dist-packages (from prompt-toolkit<2.1.0,>=2.0.0->ipython>=5.0.0->darts) (0.2.5)\n",
            "Requirement already satisfied: cmdstanpy>=1.0.4 in /usr/local/lib/python3.8/dist-packages (from prophet>=1.1.1->darts) (1.0.8)\n",
            "Requirement already satisfied: wheel>=0.37.0 in /usr/local/lib/python3.8/dist-packages (from prophet>=1.1.1->darts) (0.38.4)\n",
            "Requirement already satisfied: LunarCalendar>=0.0.9 in /usr/local/lib/python3.8/dist-packages (from prophet>=1.1.1->darts) (0.0.9)\n",
            "Requirement already satisfied: setuptools-git>=1.2 in /usr/local/lib/python3.8/dist-packages (from prophet>=1.1.1->darts) (1.2)\n",
            "Requirement already satisfied: ephem>=3.7.5.3 in /usr/local/lib/python3.8/dist-packages (from LunarCalendar>=0.0.9->prophet>=1.1.1->darts) (4.1.3)\n",
            "Requirement already satisfied: tensorboardX>=2.2 in /usr/local/lib/python3.8/dist-packages (from pytorch-lightning>=1.5.0->darts) (2.5.1)\n",
            "Requirement already satisfied: torchmetrics>=0.7.0 in /usr/local/lib/python3.8/dist-packages (from pytorch-lightning>=1.5.0->darts) (0.11.0)\n",
            "Requirement already satisfied: lightning-utilities!=0.4.0,>=0.3.0 in /usr/local/lib/python3.8/dist-packages (from pytorch-lightning>=1.5.0->darts) (0.4.2)\n",
            "Requirement already satisfied: PyYAML>=5.4 in /usr/local/lib/python3.8/dist-packages (from pytorch-lightning>=1.5.0->darts) (6.0)\n",
            "Requirement already satisfied: fsspec[http]>2021.06.0 in /usr/local/lib/python3.8/dist-packages (from pytorch-lightning>=1.5.0->darts) (2022.11.0)\n",
            "Requirement already satisfied: typing-extensions>=4.0.0 in /usr/local/lib/python3.8/dist-packages (from pytorch-lightning>=1.5.0->darts) (4.4.0)\n",
            "Requirement already satisfied: aiohttp!=4.0.0a0,!=4.0.0a1 in /usr/local/lib/python3.8/dist-packages (from fsspec[http]>2021.06.0->pytorch-lightning>=1.5.0->darts) (3.8.3)\n",
            "Requirement already satisfied: multidict<7.0,>=4.5 in /usr/local/lib/python3.8/dist-packages (from aiohttp!=4.0.0a0,!=4.0.0a1->fsspec[http]>2021.06.0->pytorch-lightning>=1.5.0->darts) (6.0.3)\n",
            "Requirement already satisfied: async-timeout<5.0,>=4.0.0a3 in /usr/local/lib/python3.8/dist-packages (from aiohttp!=4.0.0a0,!=4.0.0a1->fsspec[http]>2021.06.0->pytorch-lightning>=1.5.0->darts) (4.0.2)\n",
            "Requirement already satisfied: yarl<2.0,>=1.0 in /usr/local/lib/python3.8/dist-packages (from aiohttp!=4.0.0a0,!=4.0.0a1->fsspec[http]>2021.06.0->pytorch-lightning>=1.5.0->darts) (1.8.2)\n",
            "Requirement already satisfied: attrs>=17.3.0 in /usr/local/lib/python3.8/dist-packages (from aiohttp!=4.0.0a0,!=4.0.0a1->fsspec[http]>2021.06.0->pytorch-lightning>=1.5.0->darts) (22.1.0)\n",
            "Requirement already satisfied: charset-normalizer<3.0,>=2.0 in /usr/local/lib/python3.8/dist-packages (from aiohttp!=4.0.0a0,!=4.0.0a1->fsspec[http]>2021.06.0->pytorch-lightning>=1.5.0->darts) (2.1.1)\n",
            "Requirement already satisfied: aiosignal>=1.1.2 in /usr/local/lib/python3.8/dist-packages (from aiohttp!=4.0.0a0,!=4.0.0a1->fsspec[http]>2021.06.0->pytorch-lightning>=1.5.0->darts) (1.3.1)\n",
            "Requirement already satisfied: frozenlist>=1.1.1 in /usr/local/lib/python3.8/dist-packages (from aiohttp!=4.0.0a0,!=4.0.0a1->fsspec[http]>2021.06.0->pytorch-lightning>=1.5.0->darts) (1.3.3)\n",
            "Requirement already satisfied: idna<3,>=2.5 in /usr/local/lib/python3.8/dist-packages (from requests>=2.22.0->darts) (2.10)\n",
            "Requirement already satisfied: chardet<4,>=3.0.2 in /usr/local/lib/python3.8/dist-packages (from requests>=2.22.0->darts) (3.0.4)\n",
            "Requirement already satisfied: certifi>=2017.4.17 in /usr/local/lib/python3.8/dist-packages (from requests>=2.22.0->darts) (2022.9.24)\n",
            "Requirement already satisfied: threadpoolctl>=2.0.0 in /usr/local/lib/python3.8/dist-packages (from scikit-learn>=1.0.1->darts) (3.1.0)\n",
            "Requirement already satisfied: cloudpickle in /usr/local/lib/python3.8/dist-packages (from shap>=0.40.0->darts) (1.5.0)\n",
            "Requirement already satisfied: numba in /usr/local/lib/python3.8/dist-packages (from shap>=0.40.0->darts) (0.56.4)\n",
            "Requirement already satisfied: slicer==0.0.7 in /usr/local/lib/python3.8/dist-packages (from shap>=0.40.0->darts) (0.0.7)\n",
            "Requirement already satisfied: llvmlite<0.40,>=0.39.0dev0 in /usr/local/lib/python3.8/dist-packages (from numba->shap>=0.40.0->darts) (0.39.1)\n",
            "Requirement already satisfied: importlib-metadata in /usr/local/lib/python3.8/dist-packages (from numba->shap>=0.40.0->darts) (4.13.0)\n",
            "Requirement already satisfied: patsy>=0.5.2 in /usr/local/lib/python3.8/dist-packages (from statsmodels>=0.13.0->darts) (0.5.3)\n",
            "Requirement already satisfied: protobuf<=3.20.1,>=3.8.0 in /usr/local/lib/python3.8/dist-packages (from tensorboardX>=2.2->pytorch-lightning>=1.5.0->darts) (3.19.6)\n",
            "Requirement already satisfied: zipp>=0.5 in /usr/local/lib/python3.8/dist-packages (from importlib-metadata->numba->shap>=0.40.0->darts) (3.11.0)\n",
            "Requirement already satisfied: ptyprocess>=0.5 in /usr/local/lib/python3.8/dist-packages (from pexpect->ipython>=5.0.0->darts) (0.7.0)\n",
            "Requirement already satisfied: tenacity>=6.2.0 in /usr/local/lib/python3.8/dist-packages (from plotly->catboost>=1.0.6->darts) (8.1.0)\n"
          ]
        }
      ],
      "source": [
        "import os\n",
        "\n",
        "!pip install darts\n",
        "\n",
        "from darts import TimeSeries, concatenate\n",
        "from darts.dataprocessing.transformers import Scaler\n",
        "from darts.metrics import mae, mape, rmse\n",
        "from darts.models import TransformerModel\n",
        "from darts.utils.likelihood_models import QuantileRegression\n",
        "from darts.utils.losses import MAELoss, SmapeLoss\n",
        "from darts.utils.timeseries_generation import datetime_attribute_timeseries\n",
        "\n",
        "from pytorch_lightning.callbacks.early_stopping import EarlyStopping\n",
        "\n",
        "from sklearn.preprocessing import LabelEncoder\n",
        "\n",
        "from torch.cuda import is_available as is_cuda_available\n",
        "from torch.nn import MSELoss"
      ]
    },
    {
      "cell_type": "code",
      "execution_count": 116,
      "id": "dbdd3fea",
      "metadata": {
        "local_metadata": {
          "tags": []
        },
        "remote_metadata": {
          "id": "ZMxrdd7GTDT0",
          "outputId": "58cde818-b506-4ed7-a93e-d41620084e7e",
          "tags": []
        },
        "colab": {
          "base_uri": "https://localhost:8080/"
        },
        "id": "dbdd3fea",
        "outputId": "496e0b94-9a7c-4988-dff5-201d64aa8a18"
      },
      "outputs": [
        {
          "output_type": "execute_result",
          "data": {
            "text/plain": [
              "time           False\n",
              "temp           False\n",
              "dwpt           False\n",
              "rhum           False\n",
              "prcp            True\n",
              "snow           False\n",
              "wdir           False\n",
              "wspd           False\n",
              "wpgt           False\n",
              "pres           False\n",
              "coco           False\n",
              "el_price       False\n",
              "consumption     True\n",
              "year           False\n",
              "month          False\n",
              "day            False\n",
              "hour           False\n",
              "weekday        False\n",
              "season         False\n",
              "dtype: bool"
            ]
          },
          "metadata": {},
          "execution_count": 116
        }
      ],
      "source": [
        "# Temporary, repalce NaN with zeros\n",
        "train.isna().any(axis=0)"
      ]
    },
    {
      "cell_type": "code",
      "execution_count": 118,
      "id": "9b2daa3f",
      "metadata": {
        "local_metadata": {
          "tags": []
        },
        "remote_metadata": {
          "id": "p8TYDOiNTDT0",
          "outputId": "1c9e321d-bb72-4bac-bec3-4962b79911dc",
          "tags": []
        },
        "colab": {
          "base_uri": "https://localhost:8080/"
        },
        "id": "9b2daa3f",
        "outputId": "c8ac4313-18d3-4abf-bd68-442901103a69"
      },
      "outputs": [
        {
          "output_type": "execute_result",
          "data": {
            "text/plain": [
              "True"
            ]
          },
          "metadata": {},
          "execution_count": 118
        }
      ],
      "source": [
        "#train = train.fillna(0)\n",
        "train.isna().values.any()"
      ]
    },
    {
      "cell_type": "code",
      "execution_count": 133,
      "id": "210d4625",
      "metadata": {
        "tags": [],
        "colab": {
          "base_uri": "https://localhost:8080/"
        },
        "id": "210d4625",
        "outputId": "969cdf15-6653-4fad-a23c-1146efa716a9"
      },
      "outputs": [
        {
          "output_type": "execute_result",
          "data": {
            "text/plain": [
              "False"
            ]
          },
          "metadata": {},
          "execution_count": 133
        }
      ],
      "source": [
        "#test = test.fillna(0)\n",
        "test.isna().values.any()"
      ]
    },
    {
      "cell_type": "markdown",
      "id": "cab7ea6d",
      "metadata": {
        "tags": [],
        "id": "cab7ea6d"
      },
      "source": [
        "## Data preparation for training"
      ]
    },
    {
      "cell_type": "code",
      "execution_count": 134,
      "id": "cac019a4",
      "metadata": {
        "local_metadata": {
          "tags": []
        },
        "remote_metadata": {
          "id": "ALRJRCk_TDT0",
          "outputId": "ac30c7a0-f8bd-47f4-812e-944511e98d58",
          "tags": []
        },
        "colab": {
          "base_uri": "https://localhost:8080/"
        },
        "id": "cac019a4",
        "outputId": "89824ee1-a322-484b-cad8-5f0aa39070a5"
      },
      "outputs": [
        {
          "output_type": "stream",
          "name": "stdout",
          "text": [
            "components: Index(['0'], dtype='object', name='component')\n",
            "duration: 357 days 23:00:00\n",
            "frequency: <Hour>\n",
            "frequency: H\n",
            "has date time index? (or else, it must have an integer index): True\n",
            "deterministic: True\n",
            "univariate: True\n"
          ]
        }
      ],
      "source": [
        "ts_label = TimeSeries.from_times_and_values(\n",
        "    times=pd.DatetimeIndex(train[\"time\"]), values=train[\"consumption\"]\n",
        ")\n",
        "\n",
        "# check attributes of the time series\n",
        "print(\"components:\", ts_label.components)\n",
        "print(\"duration:\", ts_label.duration)\n",
        "print(\"frequency:\", ts_label.freq)\n",
        "print(\"frequency:\", ts_label.freq_str)\n",
        "print(\n",
        "    \"has date time index? (or else, it must have an integer index):\",\n",
        "    ts_label.has_datetime_index,\n",
        ")\n",
        "print(\"deterministic:\", ts_label.is_deterministic)\n",
        "print(\"univariate:\", ts_label.is_univariate)"
      ]
    },
    {
      "cell_type": "code",
      "execution_count": 135,
      "id": "3a1362db",
      "metadata": {
        "local_metadata": {
          "tags": []
        },
        "remote_metadata": {
          "id": "9a03OZDSTDT1",
          "outputId": "c5425cc0-8548-462b-f778-67f89e2fb0ee",
          "tags": []
        },
        "colab": {
          "base_uri": "https://localhost:8080/"
        },
        "id": "3a1362db",
        "outputId": "6d4eda02-a164-4236-d225-2b3bc7ee7a79"
      },
      "outputs": [
        {
          "output_type": "stream",
          "name": "stdout",
          "text": [
            "<class 'pandas.core.frame.DataFrame'>\n",
            "Int64Index: 8592 entries, 0 to 8591\n",
            "Data columns (total 19 columns):\n",
            " #   Column       Non-Null Count  Dtype                         \n",
            "---  ------       --------------  -----                         \n",
            " 0   time         8592 non-null   datetime64[ns, Europe/Tallinn]\n",
            " 1   temp         8592 non-null   float32                       \n",
            " 2   dwpt         8592 non-null   float32                       \n",
            " 3   rhum         8592 non-null   int32                         \n",
            " 4   prcp         2159 non-null   float32                       \n",
            " 5   snow         8592 non-null   float32                       \n",
            " 6   wdir         8592 non-null   int32                         \n",
            " 7   wspd         8592 non-null   float32                       \n",
            " 8   wpgt         8592 non-null   float32                       \n",
            " 9   pres         8592 non-null   float32                       \n",
            " 10  coco         8592 non-null   category                      \n",
            " 11  el_price     8592 non-null   float32                       \n",
            " 12  consumption  8590 non-null   float64                       \n",
            " 13  year         8592 non-null   int32                         \n",
            " 14  month        8592 non-null   int32                         \n",
            " 15  day          8592 non-null   int32                         \n",
            " 16  hour         8592 non-null   int32                         \n",
            " 17  weekday      8592 non-null   int32                         \n",
            " 18  season       8592 non-null   category                      \n",
            "dtypes: category(2), datetime64[ns, Europe/Tallinn](1), float32(8), float64(1), int32(7)\n",
            "memory usage: 980.6 KB\n"
          ]
        }
      ],
      "source": [
        "train.info()"
      ]
    },
    {
      "cell_type": "code",
      "execution_count": 136,
      "id": "4f4c821b",
      "metadata": {
        "local_metadata": {
          "tags": []
        },
        "remote_metadata": {
          "id": "TaungPBgTDT1",
          "tags": []
        },
        "id": "4f4c821b"
      },
      "outputs": [],
      "source": [
        "le_season = LabelEncoder()\n",
        "\n",
        "le_season.fit(train[\"season\"])\n",
        "\n",
        "df_transformer = train.copy(deep=True)\n",
        "df_transformer[\"season\"] = le_season.transform(df_transformer[\"season\"])"
      ]
    },
    {
      "cell_type": "code",
      "execution_count": 137,
      "id": "6cda56b8",
      "metadata": {
        "local_metadata": {
          "tags": []
        },
        "remote_metadata": {
          "id": "XTPC9P0jTDT2",
          "outputId": "9fbe072a-515d-4473-e108-d5810b48b788",
          "tags": []
        },
        "colab": {
          "base_uri": "https://localhost:8080/"
        },
        "id": "6cda56b8",
        "outputId": "35b37643-832a-4833-b059-90545efc254c"
      },
      "outputs": [
        {
          "output_type": "stream",
          "name": "stdout",
          "text": [
            "components: Index(['temp', 'dwpt', 'rhum', 'prcp', 'snow', 'wdir', 'wspd', 'wpgt', 'pres',\n",
            "       'coco', 'el_price', 'season'],\n",
            "      dtype='object', name='component')\n",
            "duration: 357 days 23:00:00\n",
            "frequency: <Hour>\n",
            "frequency: H\n",
            "has date time index? (or else, it must have an integer index): True\n",
            "deterministic: True\n",
            "univariate: False\n"
          ]
        }
      ],
      "source": [
        "df_transformer = df_transformer.drop(\n",
        "    [\"weekday\", \"month\", \"day\", \"hour\", \"year\"], axis=1\n",
        ")\n",
        "\n",
        "ts_covF = TimeSeries.from_dataframe(\n",
        "    df_transformer.loc[:, df_transformer.columns != \"consumption\"].set_index(\"time\")\n",
        ")\n",
        "\n",
        "# check attributes of the time series\n",
        "print(\"components:\", ts_covF.components)\n",
        "print(\"duration:\", ts_covF.duration)\n",
        "print(\"frequency:\", ts_covF.freq)\n",
        "print(\"frequency:\", ts_covF.freq_str)\n",
        "print(\n",
        "    \"has date time index? (or else, it must have an integer index):\",\n",
        "    ts_covF.has_datetime_index,\n",
        ")\n",
        "print(\"deterministic:\", ts_covF.is_deterministic)\n",
        "print(\"univariate:\", ts_covF.is_univariate)"
      ]
    },
    {
      "cell_type": "code",
      "execution_count": 138,
      "id": "ad1d9959",
      "metadata": {
        "local_metadata": {
          "tags": []
        },
        "remote_metadata": {
          "id": "f2LuOAkNTDT2",
          "outputId": "77883a89-198c-47c9-cd28-c86dffb0506e",
          "tags": []
        },
        "colab": {
          "base_uri": "https://localhost:8080/"
        },
        "id": "ad1d9959",
        "outputId": "70022018-f3ac-4f1b-f695-f29399e57f3c"
      },
      "outputs": [
        {
          "output_type": "execute_result",
          "data": {
            "text/plain": [
              "Timestamp('2022-08-03 23:00:00+0300', tz='Europe/Tallinn')"
            ]
          },
          "metadata": {},
          "execution_count": 138
        }
      ],
      "source": [
        "SPLIT = pd.Timestamp(\n",
        "    year=2022, month=8, day=3, hour=23, tzinfo=train.loc[0, \"time\"].tzinfo\n",
        ")\n",
        "SPLIT"
      ]
    },
    {
      "cell_type": "code",
      "execution_count": 139,
      "id": "3117c2f4",
      "metadata": {
        "local_metadata": {
          "tags": []
        },
        "remote_metadata": {
          "id": "UTEJdQYKTDT2",
          "outputId": "abb5a00d-e62d-451c-b057-66dd7cc6ee91",
          "tags": []
        },
        "colab": {
          "base_uri": "https://localhost:8080/"
        },
        "id": "3117c2f4",
        "outputId": "e412db1b-0250-45af-c5f4-819bc896c404"
      },
      "outputs": [
        {
          "output_type": "stream",
          "name": "stdout",
          "text": [
            "training start: 2021-09-01 00:00:00+03:00\n",
            "training end: 2022-08-03 23:00:00+03:00\n",
            "training duration: 336 days 23:00:00\n",
            "val start: 2022-08-04 00:00:00+03:00\n",
            "val end: 2022-08-24 23:00:00+03:00\n",
            "val duration: 20 days 23:00:00\n"
          ]
        }
      ],
      "source": [
        "ts_train_label, ts_val_label = ts_label.split_after(SPLIT)\n",
        "print(\"training start:\", ts_train_label.start_time())\n",
        "print(\"training end:\", ts_train_label.end_time())\n",
        "print(\"training duration:\", ts_train_label.duration)\n",
        "print(\"val start:\", ts_val_label.start_time())\n",
        "print(\"val end:\", ts_val_label.end_time())\n",
        "print(\"val duration:\", ts_val_label.duration)\n",
        "\n",
        "\n",
        "scaler_label = Scaler()\n",
        "scaler_label.fit_transform(ts_train_label)\n",
        "ts_ttrain = scaler_label.transform(ts_train_label)\n",
        "ts_tval = scaler_label.transform(ts_val_label)\n",
        "ts_tall = scaler_label.transform(ts_label)"
      ]
    },
    {
      "cell_type": "code",
      "execution_count": 140,
      "id": "e9d4580e",
      "metadata": {
        "local_metadata": {
          "tags": []
        },
        "remote_metadata": {
          "id": "ZM_PCi5BTDT2",
          "outputId": "c411fc51-632e-4b05-b6d2-4fa3deac8917",
          "tags": []
        },
        "colab": {
          "base_uri": "https://localhost:8080/",
          "height": 270
        },
        "id": "e9d4580e",
        "outputId": "2e7a84f0-7754-46df-fbe1-020287497abd"
      },
      "outputs": [
        {
          "output_type": "stream",
          "name": "stdout",
          "text": [
            "training start: 2021-09-01 00:00:00+03:00\n",
            "training end: 2022-08-03 23:00:00+03:00\n",
            "training duration: 336 days 23:00:00\n",
            "val start: 2022-08-04 00:00:00+03:00\n",
            "val end: 2022-08-24 23:00:00+03:00\n",
            "val duration: 20 days 23:00:00\n",
            "first and last row of scaled feature covariates:\n"
          ]
        },
        {
          "output_type": "execute_result",
          "data": {
            "text/plain": [
              "component                  temp  dwpt  rhum  prcp  snow  wdir  wspd  wpgt  \\\n",
              "time                                                                        \n",
              "2021-09-01 00:00:00+03:00  0.65  0.79  0.93   NaN  0.00  0.89  0.23  0.23   \n",
              "2022-08-24 23:00:00+03:00  0.84  0.94  0.73  0.00  0.00  0.86  0.47  0.11   \n",
              "\n",
              "component                  pres  coco  el_price  season  \n",
              "time                                                     \n",
              "2021-09-01 00:00:00+03:00  0.59  0.08      0.09    0.00  \n",
              "2022-08-24 23:00:00+03:00  0.69  0.08      0.43    0.67  "
            ],
            "text/html": [
              "\n",
              "  <div id=\"df-2d60c12b-589e-4024-9185-3ba455f40ff9\">\n",
              "    <div class=\"colab-df-container\">\n",
              "      <div>\n",
              "<style scoped>\n",
              "    .dataframe tbody tr th:only-of-type {\n",
              "        vertical-align: middle;\n",
              "    }\n",
              "\n",
              "    .dataframe tbody tr th {\n",
              "        vertical-align: top;\n",
              "    }\n",
              "\n",
              "    .dataframe thead th {\n",
              "        text-align: right;\n",
              "    }\n",
              "</style>\n",
              "<table border=\"1\" class=\"dataframe\">\n",
              "  <thead>\n",
              "    <tr style=\"text-align: right;\">\n",
              "      <th>component</th>\n",
              "      <th>temp</th>\n",
              "      <th>dwpt</th>\n",
              "      <th>rhum</th>\n",
              "      <th>prcp</th>\n",
              "      <th>snow</th>\n",
              "      <th>wdir</th>\n",
              "      <th>wspd</th>\n",
              "      <th>wpgt</th>\n",
              "      <th>pres</th>\n",
              "      <th>coco</th>\n",
              "      <th>el_price</th>\n",
              "      <th>season</th>\n",
              "    </tr>\n",
              "    <tr>\n",
              "      <th>time</th>\n",
              "      <th></th>\n",
              "      <th></th>\n",
              "      <th></th>\n",
              "      <th></th>\n",
              "      <th></th>\n",
              "      <th></th>\n",
              "      <th></th>\n",
              "      <th></th>\n",
              "      <th></th>\n",
              "      <th></th>\n",
              "      <th></th>\n",
              "      <th></th>\n",
              "    </tr>\n",
              "  </thead>\n",
              "  <tbody>\n",
              "    <tr>\n",
              "      <th>2021-09-01 00:00:00+03:00</th>\n",
              "      <td>0.65</td>\n",
              "      <td>0.79</td>\n",
              "      <td>0.93</td>\n",
              "      <td>NaN</td>\n",
              "      <td>0.00</td>\n",
              "      <td>0.89</td>\n",
              "      <td>0.23</td>\n",
              "      <td>0.23</td>\n",
              "      <td>0.59</td>\n",
              "      <td>0.08</td>\n",
              "      <td>0.09</td>\n",
              "      <td>0.00</td>\n",
              "    </tr>\n",
              "    <tr>\n",
              "      <th>2022-08-24 23:00:00+03:00</th>\n",
              "      <td>0.84</td>\n",
              "      <td>0.94</td>\n",
              "      <td>0.73</td>\n",
              "      <td>0.00</td>\n",
              "      <td>0.00</td>\n",
              "      <td>0.86</td>\n",
              "      <td>0.47</td>\n",
              "      <td>0.11</td>\n",
              "      <td>0.69</td>\n",
              "      <td>0.08</td>\n",
              "      <td>0.43</td>\n",
              "      <td>0.67</td>\n",
              "    </tr>\n",
              "  </tbody>\n",
              "</table>\n",
              "</div>\n",
              "      <button class=\"colab-df-convert\" onclick=\"convertToInteractive('df-2d60c12b-589e-4024-9185-3ba455f40ff9')\"\n",
              "              title=\"Convert this dataframe to an interactive table.\"\n",
              "              style=\"display:none;\">\n",
              "        \n",
              "  <svg xmlns=\"http://www.w3.org/2000/svg\" height=\"24px\"viewBox=\"0 0 24 24\"\n",
              "       width=\"24px\">\n",
              "    <path d=\"M0 0h24v24H0V0z\" fill=\"none\"/>\n",
              "    <path d=\"M18.56 5.44l.94 2.06.94-2.06 2.06-.94-2.06-.94-.94-2.06-.94 2.06-2.06.94zm-11 1L8.5 8.5l.94-2.06 2.06-.94-2.06-.94L8.5 2.5l-.94 2.06-2.06.94zm10 10l.94 2.06.94-2.06 2.06-.94-2.06-.94-.94-2.06-.94 2.06-2.06.94z\"/><path d=\"M17.41 7.96l-1.37-1.37c-.4-.4-.92-.59-1.43-.59-.52 0-1.04.2-1.43.59L10.3 9.45l-7.72 7.72c-.78.78-.78 2.05 0 2.83L4 21.41c.39.39.9.59 1.41.59.51 0 1.02-.2 1.41-.59l7.78-7.78 2.81-2.81c.8-.78.8-2.07 0-2.86zM5.41 20L4 18.59l7.72-7.72 1.47 1.35L5.41 20z\"/>\n",
              "  </svg>\n",
              "      </button>\n",
              "      \n",
              "  <style>\n",
              "    .colab-df-container {\n",
              "      display:flex;\n",
              "      flex-wrap:wrap;\n",
              "      gap: 12px;\n",
              "    }\n",
              "\n",
              "    .colab-df-convert {\n",
              "      background-color: #E8F0FE;\n",
              "      border: none;\n",
              "      border-radius: 50%;\n",
              "      cursor: pointer;\n",
              "      display: none;\n",
              "      fill: #1967D2;\n",
              "      height: 32px;\n",
              "      padding: 0 0 0 0;\n",
              "      width: 32px;\n",
              "    }\n",
              "\n",
              "    .colab-df-convert:hover {\n",
              "      background-color: #E2EBFA;\n",
              "      box-shadow: 0px 1px 2px rgba(60, 64, 67, 0.3), 0px 1px 3px 1px rgba(60, 64, 67, 0.15);\n",
              "      fill: #174EA6;\n",
              "    }\n",
              "\n",
              "    [theme=dark] .colab-df-convert {\n",
              "      background-color: #3B4455;\n",
              "      fill: #D2E3FC;\n",
              "    }\n",
              "\n",
              "    [theme=dark] .colab-df-convert:hover {\n",
              "      background-color: #434B5C;\n",
              "      box-shadow: 0px 1px 3px 1px rgba(0, 0, 0, 0.15);\n",
              "      filter: drop-shadow(0px 1px 2px rgba(0, 0, 0, 0.3));\n",
              "      fill: #FFFFFF;\n",
              "    }\n",
              "  </style>\n",
              "\n",
              "      <script>\n",
              "        const buttonEl =\n",
              "          document.querySelector('#df-2d60c12b-589e-4024-9185-3ba455f40ff9 button.colab-df-convert');\n",
              "        buttonEl.style.display =\n",
              "          google.colab.kernel.accessAllowed ? 'block' : 'none';\n",
              "\n",
              "        async function convertToInteractive(key) {\n",
              "          const element = document.querySelector('#df-2d60c12b-589e-4024-9185-3ba455f40ff9');\n",
              "          const dataTable =\n",
              "            await google.colab.kernel.invokeFunction('convertToInteractive',\n",
              "                                                     [key], {});\n",
              "          if (!dataTable) return;\n",
              "\n",
              "          const docLinkHtml = 'Like what you see? Visit the ' +\n",
              "            '<a target=\"_blank\" href=https://colab.research.google.com/notebooks/data_table.ipynb>data table notebook</a>'\n",
              "            + ' to learn more about interactive tables.';\n",
              "          element.innerHTML = '';\n",
              "          dataTable['output_type'] = 'display_data';\n",
              "          await google.colab.output.renderOutput(dataTable, element);\n",
              "          const docLink = document.createElement('div');\n",
              "          docLink.innerHTML = docLinkHtml;\n",
              "          element.appendChild(docLink);\n",
              "        }\n",
              "      </script>\n",
              "    </div>\n",
              "  </div>\n",
              "  "
            ]
          },
          "metadata": {},
          "execution_count": 140
        }
      ],
      "source": [
        "covF_train, covF_val = ts_covF.split_after(SPLIT)\n",
        "\n",
        "print(\"training start:\", covF_train.start_time())\n",
        "print(\"training end:\", covF_train.end_time())\n",
        "print(\"training duration:\", covF_train.duration)\n",
        "print(\"val start:\", covF_val.start_time())\n",
        "print(\"val end:\", covF_val.end_time())\n",
        "print(\"val duration:\", covF_val.duration)\n",
        "\n",
        "scalerF = Scaler()\n",
        "scalerF.fit(covF_train)\n",
        "covF_ttrain = scalerF.transform(covF_train)\n",
        "covF_tval = scalerF.transform(covF_val)\n",
        "covF_t = scalerF.transform(ts_covF)\n",
        "\n",
        "pd.options.display.float_format = \"{:.2f}\".format\n",
        "print(\"first and last row of scaled feature covariates:\")\n",
        "covF_t.pd_dataframe().iloc[[0, -1]]"
      ]
    },
    {
      "cell_type": "code",
      "execution_count": 141,
      "id": "ac2f219b",
      "metadata": {
        "local_metadata": {
          "tags": []
        },
        "remote_metadata": {
          "id": "FDDob2x5TDT3",
          "outputId": "33b80eb4-5cc5-4b2e-c78f-59768bccf4ad",
          "tags": []
        },
        "colab": {
          "base_uri": "https://localhost:8080/",
          "height": 161
        },
        "id": "ac2f219b",
        "outputId": "1dec43e9-6b59-4436-b142-d1ccd622e4e9"
      },
      "outputs": [
        {
          "output_type": "stream",
          "name": "stdout",
          "text": [
            "first and last row of unscaled time covariates:\n"
          ]
        },
        {
          "output_type": "execute_result",
          "data": {
            "text/plain": [
              "component                  hour  weekday  month  day  year  quarter  holidays\n",
              "time                                                                         \n",
              "2021-09-01 00:00:00+03:00     0        2      9    1  2021        3         0\n",
              "2022-08-24 23:00:00+03:00    23        2      8   24  2022        3         0"
            ],
            "text/html": [
              "\n",
              "  <div id=\"df-b34fab1a-6202-4518-ab8a-85713173239b\">\n",
              "    <div class=\"colab-df-container\">\n",
              "      <div>\n",
              "<style scoped>\n",
              "    .dataframe tbody tr th:only-of-type {\n",
              "        vertical-align: middle;\n",
              "    }\n",
              "\n",
              "    .dataframe tbody tr th {\n",
              "        vertical-align: top;\n",
              "    }\n",
              "\n",
              "    .dataframe thead th {\n",
              "        text-align: right;\n",
              "    }\n",
              "</style>\n",
              "<table border=\"1\" class=\"dataframe\">\n",
              "  <thead>\n",
              "    <tr style=\"text-align: right;\">\n",
              "      <th>component</th>\n",
              "      <th>hour</th>\n",
              "      <th>weekday</th>\n",
              "      <th>month</th>\n",
              "      <th>day</th>\n",
              "      <th>year</th>\n",
              "      <th>quarter</th>\n",
              "      <th>holidays</th>\n",
              "    </tr>\n",
              "    <tr>\n",
              "      <th>time</th>\n",
              "      <th></th>\n",
              "      <th></th>\n",
              "      <th></th>\n",
              "      <th></th>\n",
              "      <th></th>\n",
              "      <th></th>\n",
              "      <th></th>\n",
              "    </tr>\n",
              "  </thead>\n",
              "  <tbody>\n",
              "    <tr>\n",
              "      <th>2021-09-01 00:00:00+03:00</th>\n",
              "      <td>0</td>\n",
              "      <td>2</td>\n",
              "      <td>9</td>\n",
              "      <td>1</td>\n",
              "      <td>2021</td>\n",
              "      <td>3</td>\n",
              "      <td>0</td>\n",
              "    </tr>\n",
              "    <tr>\n",
              "      <th>2022-08-24 23:00:00+03:00</th>\n",
              "      <td>23</td>\n",
              "      <td>2</td>\n",
              "      <td>8</td>\n",
              "      <td>24</td>\n",
              "      <td>2022</td>\n",
              "      <td>3</td>\n",
              "      <td>0</td>\n",
              "    </tr>\n",
              "  </tbody>\n",
              "</table>\n",
              "</div>\n",
              "      <button class=\"colab-df-convert\" onclick=\"convertToInteractive('df-b34fab1a-6202-4518-ab8a-85713173239b')\"\n",
              "              title=\"Convert this dataframe to an interactive table.\"\n",
              "              style=\"display:none;\">\n",
              "        \n",
              "  <svg xmlns=\"http://www.w3.org/2000/svg\" height=\"24px\"viewBox=\"0 0 24 24\"\n",
              "       width=\"24px\">\n",
              "    <path d=\"M0 0h24v24H0V0z\" fill=\"none\"/>\n",
              "    <path d=\"M18.56 5.44l.94 2.06.94-2.06 2.06-.94-2.06-.94-.94-2.06-.94 2.06-2.06.94zm-11 1L8.5 8.5l.94-2.06 2.06-.94-2.06-.94L8.5 2.5l-.94 2.06-2.06.94zm10 10l.94 2.06.94-2.06 2.06-.94-2.06-.94-.94-2.06-.94 2.06-2.06.94z\"/><path d=\"M17.41 7.96l-1.37-1.37c-.4-.4-.92-.59-1.43-.59-.52 0-1.04.2-1.43.59L10.3 9.45l-7.72 7.72c-.78.78-.78 2.05 0 2.83L4 21.41c.39.39.9.59 1.41.59.51 0 1.02-.2 1.41-.59l7.78-7.78 2.81-2.81c.8-.78.8-2.07 0-2.86zM5.41 20L4 18.59l7.72-7.72 1.47 1.35L5.41 20z\"/>\n",
              "  </svg>\n",
              "      </button>\n",
              "      \n",
              "  <style>\n",
              "    .colab-df-container {\n",
              "      display:flex;\n",
              "      flex-wrap:wrap;\n",
              "      gap: 12px;\n",
              "    }\n",
              "\n",
              "    .colab-df-convert {\n",
              "      background-color: #E8F0FE;\n",
              "      border: none;\n",
              "      border-radius: 50%;\n",
              "      cursor: pointer;\n",
              "      display: none;\n",
              "      fill: #1967D2;\n",
              "      height: 32px;\n",
              "      padding: 0 0 0 0;\n",
              "      width: 32px;\n",
              "    }\n",
              "\n",
              "    .colab-df-convert:hover {\n",
              "      background-color: #E2EBFA;\n",
              "      box-shadow: 0px 1px 2px rgba(60, 64, 67, 0.3), 0px 1px 3px 1px rgba(60, 64, 67, 0.15);\n",
              "      fill: #174EA6;\n",
              "    }\n",
              "\n",
              "    [theme=dark] .colab-df-convert {\n",
              "      background-color: #3B4455;\n",
              "      fill: #D2E3FC;\n",
              "    }\n",
              "\n",
              "    [theme=dark] .colab-df-convert:hover {\n",
              "      background-color: #434B5C;\n",
              "      box-shadow: 0px 1px 3px 1px rgba(0, 0, 0, 0.15);\n",
              "      filter: drop-shadow(0px 1px 2px rgba(0, 0, 0, 0.3));\n",
              "      fill: #FFFFFF;\n",
              "    }\n",
              "  </style>\n",
              "\n",
              "      <script>\n",
              "        const buttonEl =\n",
              "          document.querySelector('#df-b34fab1a-6202-4518-ab8a-85713173239b button.colab-df-convert');\n",
              "        buttonEl.style.display =\n",
              "          google.colab.kernel.accessAllowed ? 'block' : 'none';\n",
              "\n",
              "        async function convertToInteractive(key) {\n",
              "          const element = document.querySelector('#df-b34fab1a-6202-4518-ab8a-85713173239b');\n",
              "          const dataTable =\n",
              "            await google.colab.kernel.invokeFunction('convertToInteractive',\n",
              "                                                     [key], {});\n",
              "          if (!dataTable) return;\n",
              "\n",
              "          const docLinkHtml = 'Like what you see? Visit the ' +\n",
              "            '<a target=\"_blank\" href=https://colab.research.google.com/notebooks/data_table.ipynb>data table notebook</a>'\n",
              "            + ' to learn more about interactive tables.';\n",
              "          element.innerHTML = '';\n",
              "          dataTable['output_type'] = 'display_data';\n",
              "          await google.colab.output.renderOutput(dataTable, element);\n",
              "          const docLink = document.createElement('div');\n",
              "          docLink.innerHTML = docLinkHtml;\n",
              "          element.appendChild(docLink);\n",
              "        }\n",
              "      </script>\n",
              "    </div>\n",
              "  </div>\n",
              "  "
            ]
          },
          "metadata": {},
          "execution_count": 141
        }
      ],
      "source": [
        "covT = datetime_attribute_timeseries(\n",
        "    ts_label.time_index, attribute=\"hour\", one_hot=False\n",
        ")\n",
        "covT = covT.stack(\n",
        "    datetime_attribute_timeseries(covT.time_index, attribute=\"weekday\", one_hot=False)\n",
        "\n",
        ")\n",
        "covT = covT.stack(\n",
        "    datetime_attribute_timeseries(covT.time_index, attribute=\"month\", one_hot=False)\n",
        ")\n",
        "covT = covT.stack(\n",
        "    datetime_attribute_timeseries(covT.time_index, attribute=\"day\", one_hot=False)\n",
        ")\n",
        "covT = covT.stack(\n",
        "    datetime_attribute_timeseries(covT.time_index, attribute=\"year\", one_hot=False)\n",
        ")\n",
        "covT = covT.stack(\n",
        "    datetime_attribute_timeseries(covT.time_index, attribute=\"quarter\", one_hot=False)\n",
        ")\n",
        "\n",
        "covT = covT.add_holidays(country_code=\"EE\")\n",
        "covT = covT.astype(np.float32)\n",
        "\n",
        "covT_train, covT_val = covT.split_after(SPLIT)\n",
        "\n",
        "scalerT = Scaler()\n",
        "scalerT.fit(covT_train)\n",
        "covT_ttrain = scalerT.transform(covT_train)\n",
        "covT_tval = scalerT.transform(covT_val)\n",
        "covT_t = scalerT.transform(covT)\n",
        "\n",
        "covT_t = covT_t.astype(np.float32)\n",
        "\n",
        "pd.options.display.float_format = \"{:.0f}\".format\n",
        "print(\"first and last row of unscaled time covariates:\")\n",
        "covT.pd_dataframe().iloc[[0, -1]]"
      ]
    },
    {
      "cell_type": "code",
      "execution_count": 142,
      "id": "09c5483d",
      "metadata": {
        "local_metadata": {},
        "remote_metadata": {
          "id": "b6plltY8TDT3",
          "outputId": "6f25a439-d324-445d-ccaf-26889b98fa51"
        },
        "colab": {
          "base_uri": "https://localhost:8080/",
          "height": 224
        },
        "id": "09c5483d",
        "outputId": "340593e9-1d89-46dc-97b7-7b193d657681"
      },
      "outputs": [
        {
          "output_type": "stream",
          "name": "stdout",
          "text": [
            "first two and last two rows of unscaled covariates:\n"
          ]
        },
        {
          "output_type": "execute_result",
          "data": {
            "text/plain": [
              "component                  temp  dwpt  rhum  prcp  snow   wdir  wspd  wpgt  \\\n",
              "time                                                                         \n",
              "2021-09-01 00:00:00+03:00 11.20 10.30 94.00   NaN  0.00 320.00  7.20 16.70   \n",
              "2021-09-01 01:00:00+03:00 10.70  9.60 93.00   NaN  0.00 320.00  7.20 13.00   \n",
              "2022-08-24 22:00:00+03:00 22.10 17.00 73.00  0.00  0.00 160.00  6.00  9.30   \n",
              "2022-08-24 23:00:00+03:00 22.10 18.10 78.00  0.00  0.00 310.00 15.00  9.30   \n",
              "\n",
              "component                    pres  coco  el_price  season  hour  weekday  \\\n",
              "time                                                                       \n",
              "2021-09-01 00:00:00+03:00 1012.60  2.00      0.09    0.00  0.00     2.00   \n",
              "2021-09-01 01:00:00+03:00 1012.60  2.00      0.09    0.00  1.00     2.00   \n",
              "2022-08-24 22:00:00+03:00 1021.00  2.00      0.55    2.00 22.00     2.00   \n",
              "2022-08-24 23:00:00+03:00 1021.00  2.00      0.43    2.00 23.00     2.00   \n",
              "\n",
              "component                  month   day    year  quarter  holidays  \n",
              "time                                                               \n",
              "2021-09-01 00:00:00+03:00   9.00  1.00 2021.00     3.00      0.00  \n",
              "2021-09-01 01:00:00+03:00   9.00  1.00 2021.00     3.00      0.00  \n",
              "2022-08-24 22:00:00+03:00   8.00 24.00 2022.00     3.00      0.00  \n",
              "2022-08-24 23:00:00+03:00   8.00 24.00 2022.00     3.00      0.00  "
            ],
            "text/html": [
              "\n",
              "  <div id=\"df-8ac87e8f-b730-4404-8600-69ee7722e240\">\n",
              "    <div class=\"colab-df-container\">\n",
              "      <div>\n",
              "<style scoped>\n",
              "    .dataframe tbody tr th:only-of-type {\n",
              "        vertical-align: middle;\n",
              "    }\n",
              "\n",
              "    .dataframe tbody tr th {\n",
              "        vertical-align: top;\n",
              "    }\n",
              "\n",
              "    .dataframe thead th {\n",
              "        text-align: right;\n",
              "    }\n",
              "</style>\n",
              "<table border=\"1\" class=\"dataframe\">\n",
              "  <thead>\n",
              "    <tr style=\"text-align: right;\">\n",
              "      <th>component</th>\n",
              "      <th>temp</th>\n",
              "      <th>dwpt</th>\n",
              "      <th>rhum</th>\n",
              "      <th>prcp</th>\n",
              "      <th>snow</th>\n",
              "      <th>wdir</th>\n",
              "      <th>wspd</th>\n",
              "      <th>wpgt</th>\n",
              "      <th>pres</th>\n",
              "      <th>coco</th>\n",
              "      <th>el_price</th>\n",
              "      <th>season</th>\n",
              "      <th>hour</th>\n",
              "      <th>weekday</th>\n",
              "      <th>month</th>\n",
              "      <th>day</th>\n",
              "      <th>year</th>\n",
              "      <th>quarter</th>\n",
              "      <th>holidays</th>\n",
              "    </tr>\n",
              "    <tr>\n",
              "      <th>time</th>\n",
              "      <th></th>\n",
              "      <th></th>\n",
              "      <th></th>\n",
              "      <th></th>\n",
              "      <th></th>\n",
              "      <th></th>\n",
              "      <th></th>\n",
              "      <th></th>\n",
              "      <th></th>\n",
              "      <th></th>\n",
              "      <th></th>\n",
              "      <th></th>\n",
              "      <th></th>\n",
              "      <th></th>\n",
              "      <th></th>\n",
              "      <th></th>\n",
              "      <th></th>\n",
              "      <th></th>\n",
              "      <th></th>\n",
              "    </tr>\n",
              "  </thead>\n",
              "  <tbody>\n",
              "    <tr>\n",
              "      <th>2021-09-01 00:00:00+03:00</th>\n",
              "      <td>11.20</td>\n",
              "      <td>10.30</td>\n",
              "      <td>94.00</td>\n",
              "      <td>NaN</td>\n",
              "      <td>0.00</td>\n",
              "      <td>320.00</td>\n",
              "      <td>7.20</td>\n",
              "      <td>16.70</td>\n",
              "      <td>1012.60</td>\n",
              "      <td>2.00</td>\n",
              "      <td>0.09</td>\n",
              "      <td>0.00</td>\n",
              "      <td>0.00</td>\n",
              "      <td>2.00</td>\n",
              "      <td>9.00</td>\n",
              "      <td>1.00</td>\n",
              "      <td>2021.00</td>\n",
              "      <td>3.00</td>\n",
              "      <td>0.00</td>\n",
              "    </tr>\n",
              "    <tr>\n",
              "      <th>2021-09-01 01:00:00+03:00</th>\n",
              "      <td>10.70</td>\n",
              "      <td>9.60</td>\n",
              "      <td>93.00</td>\n",
              "      <td>NaN</td>\n",
              "      <td>0.00</td>\n",
              "      <td>320.00</td>\n",
              "      <td>7.20</td>\n",
              "      <td>13.00</td>\n",
              "      <td>1012.60</td>\n",
              "      <td>2.00</td>\n",
              "      <td>0.09</td>\n",
              "      <td>0.00</td>\n",
              "      <td>1.00</td>\n",
              "      <td>2.00</td>\n",
              "      <td>9.00</td>\n",
              "      <td>1.00</td>\n",
              "      <td>2021.00</td>\n",
              "      <td>3.00</td>\n",
              "      <td>0.00</td>\n",
              "    </tr>\n",
              "    <tr>\n",
              "      <th>2022-08-24 22:00:00+03:00</th>\n",
              "      <td>22.10</td>\n",
              "      <td>17.00</td>\n",
              "      <td>73.00</td>\n",
              "      <td>0.00</td>\n",
              "      <td>0.00</td>\n",
              "      <td>160.00</td>\n",
              "      <td>6.00</td>\n",
              "      <td>9.30</td>\n",
              "      <td>1021.00</td>\n",
              "      <td>2.00</td>\n",
              "      <td>0.55</td>\n",
              "      <td>2.00</td>\n",
              "      <td>22.00</td>\n",
              "      <td>2.00</td>\n",
              "      <td>8.00</td>\n",
              "      <td>24.00</td>\n",
              "      <td>2022.00</td>\n",
              "      <td>3.00</td>\n",
              "      <td>0.00</td>\n",
              "    </tr>\n",
              "    <tr>\n",
              "      <th>2022-08-24 23:00:00+03:00</th>\n",
              "      <td>22.10</td>\n",
              "      <td>18.10</td>\n",
              "      <td>78.00</td>\n",
              "      <td>0.00</td>\n",
              "      <td>0.00</td>\n",
              "      <td>310.00</td>\n",
              "      <td>15.00</td>\n",
              "      <td>9.30</td>\n",
              "      <td>1021.00</td>\n",
              "      <td>2.00</td>\n",
              "      <td>0.43</td>\n",
              "      <td>2.00</td>\n",
              "      <td>23.00</td>\n",
              "      <td>2.00</td>\n",
              "      <td>8.00</td>\n",
              "      <td>24.00</td>\n",
              "      <td>2022.00</td>\n",
              "      <td>3.00</td>\n",
              "      <td>0.00</td>\n",
              "    </tr>\n",
              "  </tbody>\n",
              "</table>\n",
              "</div>\n",
              "      <button class=\"colab-df-convert\" onclick=\"convertToInteractive('df-8ac87e8f-b730-4404-8600-69ee7722e240')\"\n",
              "              title=\"Convert this dataframe to an interactive table.\"\n",
              "              style=\"display:none;\">\n",
              "        \n",
              "  <svg xmlns=\"http://www.w3.org/2000/svg\" height=\"24px\"viewBox=\"0 0 24 24\"\n",
              "       width=\"24px\">\n",
              "    <path d=\"M0 0h24v24H0V0z\" fill=\"none\"/>\n",
              "    <path d=\"M18.56 5.44l.94 2.06.94-2.06 2.06-.94-2.06-.94-.94-2.06-.94 2.06-2.06.94zm-11 1L8.5 8.5l.94-2.06 2.06-.94-2.06-.94L8.5 2.5l-.94 2.06-2.06.94zm10 10l.94 2.06.94-2.06 2.06-.94-2.06-.94-.94-2.06-.94 2.06-2.06.94z\"/><path d=\"M17.41 7.96l-1.37-1.37c-.4-.4-.92-.59-1.43-.59-.52 0-1.04.2-1.43.59L10.3 9.45l-7.72 7.72c-.78.78-.78 2.05 0 2.83L4 21.41c.39.39.9.59 1.41.59.51 0 1.02-.2 1.41-.59l7.78-7.78 2.81-2.81c.8-.78.8-2.07 0-2.86zM5.41 20L4 18.59l7.72-7.72 1.47 1.35L5.41 20z\"/>\n",
              "  </svg>\n",
              "      </button>\n",
              "      \n",
              "  <style>\n",
              "    .colab-df-container {\n",
              "      display:flex;\n",
              "      flex-wrap:wrap;\n",
              "      gap: 12px;\n",
              "    }\n",
              "\n",
              "    .colab-df-convert {\n",
              "      background-color: #E8F0FE;\n",
              "      border: none;\n",
              "      border-radius: 50%;\n",
              "      cursor: pointer;\n",
              "      display: none;\n",
              "      fill: #1967D2;\n",
              "      height: 32px;\n",
              "      padding: 0 0 0 0;\n",
              "      width: 32px;\n",
              "    }\n",
              "\n",
              "    .colab-df-convert:hover {\n",
              "      background-color: #E2EBFA;\n",
              "      box-shadow: 0px 1px 2px rgba(60, 64, 67, 0.3), 0px 1px 3px 1px rgba(60, 64, 67, 0.15);\n",
              "      fill: #174EA6;\n",
              "    }\n",
              "\n",
              "    [theme=dark] .colab-df-convert {\n",
              "      background-color: #3B4455;\n",
              "      fill: #D2E3FC;\n",
              "    }\n",
              "\n",
              "    [theme=dark] .colab-df-convert:hover {\n",
              "      background-color: #434B5C;\n",
              "      box-shadow: 0px 1px 3px 1px rgba(0, 0, 0, 0.15);\n",
              "      filter: drop-shadow(0px 1px 2px rgba(0, 0, 0, 0.3));\n",
              "      fill: #FFFFFF;\n",
              "    }\n",
              "  </style>\n",
              "\n",
              "      <script>\n",
              "        const buttonEl =\n",
              "          document.querySelector('#df-8ac87e8f-b730-4404-8600-69ee7722e240 button.colab-df-convert');\n",
              "        buttonEl.style.display =\n",
              "          google.colab.kernel.accessAllowed ? 'block' : 'none';\n",
              "\n",
              "        async function convertToInteractive(key) {\n",
              "          const element = document.querySelector('#df-8ac87e8f-b730-4404-8600-69ee7722e240');\n",
              "          const dataTable =\n",
              "            await google.colab.kernel.invokeFunction('convertToInteractive',\n",
              "                                                     [key], {});\n",
              "          if (!dataTable) return;\n",
              "\n",
              "          const docLinkHtml = 'Like what you see? Visit the ' +\n",
              "            '<a target=\"_blank\" href=https://colab.research.google.com/notebooks/data_table.ipynb>data table notebook</a>'\n",
              "            + ' to learn more about interactive tables.';\n",
              "          element.innerHTML = '';\n",
              "          dataTable['output_type'] = 'display_data';\n",
              "          await google.colab.output.renderOutput(dataTable, element);\n",
              "          const docLink = document.createElement('div');\n",
              "          docLink.innerHTML = docLinkHtml;\n",
              "          element.appendChild(docLink);\n",
              "        }\n",
              "      </script>\n",
              "    </div>\n",
              "  </div>\n",
              "  "
            ]
          },
          "metadata": {},
          "execution_count": 142
        }
      ],
      "source": [
        "# combine feature and time covariates along component dimension: axis=1\n",
        "ts_cov = ts_covF.concatenate(covT.slice_intersect(ts_covF), axis=1)  # unscaled F+T\n",
        "cov_t = covF_t.concatenate(covT_t.slice_intersect(covF_t), axis=1)  # scaled F+T\n",
        "cov_ttrain = covF_ttrain.concatenate(\n",
        "    covT_ttrain.slice_intersect(covF_ttrain), axis=1\n",
        ")  # scaled F+T training set\n",
        "cov_tval = covF_tval.concatenate(\n",
        "    covT_tval.slice_intersect(covF_tval), axis=1\n",
        ")  # scaled F+T test set\n",
        "\n",
        "\n",
        "pd.options.display.float_format = \"{:.2f}\".format\n",
        "print(\"first two and last two rows of unscaled covariates:\")\n",
        "ts_cov.pd_dataframe().iloc[[0, 1, -2, -1]]"
      ]
    },
    {
      "cell_type": "markdown",
      "id": "13c16854",
      "metadata": {
        "tags": [],
        "toc-hr-collapsed": true,
        "id": "13c16854"
      },
      "source": [
        "## Non-optimized model training"
      ]
    },
    {
      "cell_type": "markdown",
      "id": "0f923630",
      "metadata": {
        "id": "0f923630"
      },
      "source": [
        "### Model specification"
      ]
    },
    {
      "cell_type": "code",
      "execution_count": 143,
      "id": "63096929",
      "metadata": {
        "tags": [],
        "id": "63096929"
      },
      "outputs": [],
      "source": [
        "LOAD = (\n",
        "    True  # True = load previously saved model from disk?  False = (re)train the model\n",
        ")\n",
        "BASEFOLDER = \"/model/transformer\"\n",
        "ATTEMPT_NUM = 7\n",
        "\n",
        "SAVE = f\"{BASEFOLDER}/attempt{ATTEMPT_NUM:02d}.tar\"  # file name to save the model under\n",
        "\n",
        "MODEL_NAME = f\"transformer_consumption_attempt{ATTEMPT_NUM:02d}\"\n",
        "\n",
        "mpath = os.path.abspath(os.getcwd()) + SAVE  # path and file name to save the model\n",
        "\n",
        "USE_GPU = True\n",
        "\n",
        "EPOCHS = 100\n",
        "\n",
        "ACTF = \"GEGLU\"  # activation function, relu (default) or gelu\n",
        "BATCH = 16  # batch size\n",
        "DECODE = 5  # decoder layers\n",
        "DIM_FF = 512  # dimensions of the feedforward network, default 2048\n",
        "DROPOUT = 0.12996442284806184  # dropout rate\n",
        "ENCODE = 7  # encoder layers\n",
        "FEAT = 32  # d_model = number of expected features in the inputs, up to 512\n",
        "HEADS = 16  # default 8\n",
        "INLEN = 166  # input size\n",
        "LEARN = 0.0006152134629387717  # learning rate\n",
        "NORM_TYPE = None  # Normalisation after FF network\n",
        "N_FC = 6  # output size\n",
        "SCHLEARN = None  # a PyTorch learning rate scheduler; None = constant rate\n",
        "VALWAIT = 1  # epochs to wait before evaluating the loss on the test/validation set\n",
        "\n",
        "RAND = 42  # random seed\n",
        "N_SAMPLES = 100  # number of times a prediction is sampled from a probabilistic model\n",
        "N_JOBS = -1  # parallel processors to use;  -1 = all processors\n",
        "\n",
        "\n",
        "# default quantiles for QuantileRegression\n",
        "QUANTILES = [0.01, 0.1, 0.2, 0.5, 0.8, 0.9, 0.99]\n",
        "\n",
        "# for deterministic prediction set to None\n",
        "LIKELIHOOD = QuantileRegression(quantiles=QUANTILES)\n",
        "\n",
        "# and set loss function\n",
        "LOSS_FN = MAELoss()"
      ]
    },
    {
      "cell_type": "code",
      "execution_count": 144,
      "id": "6a0bd557",
      "metadata": {
        "local_metadata": {
          "tags": []
        },
        "remote_metadata": {
          "id": "0f2ueI27TDT4",
          "tags": []
        },
        "colab": {
          "base_uri": "https://localhost:8080/"
        },
        "id": "6a0bd557",
        "outputId": "9e0edfb9-4c57-46de-ccd2-6acd04682438"
      },
      "outputs": [
        {
          "output_type": "stream",
          "name": "stdout",
          "text": [
            "Cuda not available\n",
            "Switching to cpu...\n"
          ]
        }
      ],
      "source": [
        "my_stopper = EarlyStopping(\n",
        "    monitor=\"val_loss\",\n",
        "    patience=6,\n",
        "    min_delta=0.0001,\n",
        "    mode=\"min\",\n",
        ")\n",
        "\n",
        "# Is cuda available in torch?\n",
        "if is_cuda_available() and USE_GPU:\n",
        "    pl_trainer_kwargs = {\n",
        "        \"accelerator\": \"gpu\",\n",
        "        \"devices\": [0],\n",
        "        \"callbacks\": [my_stopper],\n",
        "    }\n",
        "else:\n",
        "    if USE_GPU:\n",
        "        print(\"Cuda not available\\nSwitching to cpu...\")\n",
        "    pl_trainer_kwargs = {\"accelerator\": \"cpu\", \"callbacks\": [my_stopper]}\n",
        "\n",
        "model = TransformerModel(\n",
        "    input_chunk_length=INLEN,\n",
        "    output_chunk_length=N_FC,\n",
        "    batch_size=BATCH,\n",
        "    n_epochs=EPOCHS,\n",
        "    model_name=MODEL_NAME,\n",
        "    nr_epochs_val_period=VALWAIT,\n",
        "    d_model=FEAT,\n",
        "    nhead=HEADS,\n",
        "    num_encoder_layers=ENCODE,\n",
        "    num_decoder_layers=DECODE,\n",
        "    dim_feedforward=DIM_FF,\n",
        "    dropout=DROPOUT,\n",
        "    activation=ACTF,\n",
        "    random_state=RAND,\n",
        "    likelihood=LIKELIHOOD,\n",
        "    optimizer_kwargs={\"lr\": LEARN},\n",
        "    add_encoders={\n",
        "        \"cyclic\": {\"past\": [\"hour\", \"weekday\"]},\n",
        "    },\n",
        "    save_checkpoints=True,\n",
        "    force_reset=True,\n",
        "    norm_type=NORM_TYPE,\n",
        "    loss_fn=LOSS_FN,\n",
        "    pl_trainer_kwargs=pl_trainer_kwargs,\n",
        ")"
      ]
    },
    {
      "cell_type": "markdown",
      "id": "37d6770e",
      "metadata": {
        "id": "37d6770e"
      },
      "source": [
        "### Model training"
      ]
    },
    {
      "cell_type": "code",
      "execution_count": 145,
      "id": "c98a0f9a",
      "metadata": {
        "local_metadata": {},
        "remote_metadata": {
          "id": "lQl0bY71TDT4"
        },
        "id": "c98a0f9a"
      },
      "outputs": [],
      "source": [
        "# Necessary for HPC instance of University of Tartu\n",
        "# Old dependency uses SLURMS deprecated parameter\n",
        "# This code sets it as it should be\n",
        "os.environ[\"SLURM_NTASKS_PER_NODE\"] = \"2\""
      ]
    },
    {
      "cell_type": "code",
      "execution_count": 146,
      "id": "76242706",
      "metadata": {
        "local_metadata": {
          "tags": []
        },
        "remote_metadata": {
          "colab": {
            "referenced_widgets": [
              "",
              "e3c92213f6884d1082558d73c7f57b5e"
            ]
          },
          "id": "_rmk2iPrTDT4",
          "outputId": "1e9575ce-5351-48e0-99a0-2f86a0d486fc",
          "tags": []
        },
        "colab": {
          "base_uri": "https://localhost:8080/",
          "height": 388
        },
        "id": "76242706",
        "outputId": "747bbb63-0425-4c6b-d662-a0ceaa8b7c04"
      },
      "outputs": [
        {
          "output_type": "stream",
          "name": "stdout",
          "text": [
            "have loaded a previously saved model from disk:/content/model/transformer/attempt07.tar\n"
          ]
        },
        {
          "output_type": "error",
          "ename": "FileNotFoundError",
          "evalue": "ignored",
          "traceback": [
            "\u001b[0;31m---------------------------------------------------------------------------\u001b[0m",
            "\u001b[0;31mFileNotFoundError\u001b[0m                         Traceback (most recent call last)",
            "\u001b[0;32m<ipython-input-146-82e96d43a172>\u001b[0m in \u001b[0;36m<module>\u001b[0;34m\u001b[0m\n\u001b[1;32m      5\u001b[0m \u001b[0;32mif\u001b[0m \u001b[0mLOAD\u001b[0m\u001b[0;34m:\u001b[0m\u001b[0;34m\u001b[0m\u001b[0;34m\u001b[0m\u001b[0m\n\u001b[1;32m      6\u001b[0m     \u001b[0mprint\u001b[0m\u001b[0;34m(\u001b[0m\u001b[0;34m\"have loaded a previously saved model from disk:\"\u001b[0m \u001b[0;34m+\u001b[0m \u001b[0mmpath\u001b[0m\u001b[0;34m)\u001b[0m\u001b[0;34m\u001b[0m\u001b[0;34m\u001b[0m\u001b[0m\n\u001b[0;32m----> 7\u001b[0;31m     \u001b[0mmodel\u001b[0m \u001b[0;34m=\u001b[0m \u001b[0mTransformerModel\u001b[0m\u001b[0;34m.\u001b[0m\u001b[0mload\u001b[0m\u001b[0;34m(\u001b[0m\u001b[0mmpath\u001b[0m\u001b[0;34m)\u001b[0m  \u001b[0;31m# load previously model from disk\u001b[0m\u001b[0;34m\u001b[0m\u001b[0;34m\u001b[0m\u001b[0m\n\u001b[0m\u001b[1;32m      8\u001b[0m \u001b[0;32melse\u001b[0m\u001b[0;34m:\u001b[0m\u001b[0;34m\u001b[0m\u001b[0;34m\u001b[0m\u001b[0m\n\u001b[1;32m      9\u001b[0m     model.fit(\n",
            "\u001b[0;32m/usr/local/lib/python3.8/dist-packages/darts/models/forecasting/torch_forecasting_model.py\u001b[0m in \u001b[0;36mload\u001b[0;34m(path)\u001b[0m\n\u001b[1;32m   1292\u001b[0m         \"\"\"\n\u001b[1;32m   1293\u001b[0m \u001b[0;34m\u001b[0m\u001b[0m\n\u001b[0;32m-> 1294\u001b[0;31m         \u001b[0;32mwith\u001b[0m \u001b[0mopen\u001b[0m\u001b[0;34m(\u001b[0m\u001b[0mpath\u001b[0m\u001b[0;34m,\u001b[0m \u001b[0;34m\"rb\"\u001b[0m\u001b[0;34m)\u001b[0m \u001b[0;32mas\u001b[0m \u001b[0mfin\u001b[0m\u001b[0;34m:\u001b[0m\u001b[0;34m\u001b[0m\u001b[0;34m\u001b[0m\u001b[0m\n\u001b[0m\u001b[1;32m   1295\u001b[0m             \u001b[0mmodel\u001b[0m \u001b[0;34m=\u001b[0m \u001b[0mtorch\u001b[0m\u001b[0;34m.\u001b[0m\u001b[0mload\u001b[0m\u001b[0;34m(\u001b[0m\u001b[0mfin\u001b[0m\u001b[0;34m)\u001b[0m\u001b[0;34m\u001b[0m\u001b[0;34m\u001b[0m\u001b[0m\n\u001b[1;32m   1296\u001b[0m \u001b[0;34m\u001b[0m\u001b[0m\n",
            "\u001b[0;31mFileNotFoundError\u001b[0m: [Errno 2] No such file or directory: '/content/model/transformer/attempt07.tar'"
          ]
        }
      ],
      "source": [
        "# %%capture output\n",
        "## Output captured, if you wanna see run output.show() in the next cell\n",
        "## Keeps output even if jupyter IDE is closed with server executing instructions\n",
        "## Captured using %%capture output (https://stackoverflow.com/questions/32539832/keep-jupyter-notebook-running-after-closing-browser-tab)\n",
        "if LOAD:\n",
        "    print(\"have loaded a previously saved model from disk:\" + mpath)\n",
        "    model = TransformerModel.load(mpath)  # load previously model from disk\n",
        "else:\n",
        "    model.fit(\n",
        "        ts_ttrain,\n",
        "        past_covariates=cov_ttrain,\n",
        "        val_past_covariates=cov_t,\n",
        "        val_series=ts_tval,\n",
        "        verbose=True,\n",
        "        num_loader_workers=2,\n",
        "    )\n",
        "    print(\"have saved the model after training:\", mpath)\n",
        "    model = TransformerModel.load_from_checkpoint(MODEL_NAME)\n",
        "    model.save(mpath)"
      ]
    },
    {
      "cell_type": "markdown",
      "id": "ef90b10b",
      "metadata": {
        "id": "ef90b10b"
      },
      "source": [
        "### Prediction"
      ]
    },
    {
      "cell_type": "code",
      "execution_count": null,
      "id": "bab9ed4b",
      "metadata": {
        "tags": [],
        "id": "bab9ed4b"
      },
      "outputs": [],
      "source": [
        "# Predicting on models trained with GPU requires GPU for prediction\n",
        "# I'm not gonna fix it now since it is not needed\n",
        "# Possible solution can be custom trainer\n",
        "# Or change in the loaded model's trainer\n",
        "# https://unit8co.github.io/darts/generated_api/darts.models.forecasting.pl_forecasting_module.html?highlight=torchforecastingmodel\n",
        "# Or get yourself GPU\n",
        "ts_tpred = model.predict(\n",
        "    n=len(ts_tval),\n",
        "    series=ts_ttrain,\n",
        "    # Uncomment when using likelihood parameter\n",
        "    num_samples=N_SAMPLES,\n",
        "    n_jobs=N_JOBS,\n",
        "    verbose=True,\n",
        "    past_covariates=cov_t,\n",
        "    trainer=None,\n",
        ")"
      ]
    },
    {
      "cell_type": "code",
      "execution_count": null,
      "id": "d645bc23",
      "metadata": {
        "local_metadata": {
          "tags": []
        },
        "remote_metadata": {
          "id": "fTtde6CXTDT5",
          "outputId": "f4fffcae-4de4-408f-ce70-18735649b6b2"
        },
        "id": "d645bc23"
      },
      "outputs": [],
      "source": [
        "print(\"start:\", ts_tpred.start_time(), \"; end:\", ts_tpred.end_time())"
      ]
    },
    {
      "cell_type": "code",
      "execution_count": null,
      "id": "1442a707",
      "metadata": {
        "local_metadata": {
          "tags": []
        },
        "remote_metadata": {
          "id": "-yE1NEQTTDT5",
          "outputId": "d38b2c4a-2dbc-4f15-b387-6d2bff25c5c3"
        },
        "id": "1442a707"
      },
      "outputs": [],
      "source": [
        "# Used with likelihood = QuantileRegression(quantiles=QUANTILES) parameter during model creation\n",
        "ts_tpredq = ts_tpred.quantile_timeseries(0.5)\n",
        "ts_predq = scaler_label.inverse_transform(ts_tpredq)\n",
        "\n",
        "# Predictions for ensamble aggregation\n",
        "# Uncomment to change them\n",
        "# ts_predq.pd_dataframe().rename(columns={\"0_quantiles\": \"consumption\"}).to_csv(\n",
        "#     f\"predictions/transformer_for_metamodel_a{ATTEMPT_NUM:02d}.csv\"\n",
        "# )\n",
        "\n",
        "q50_RMSE = rmse(ts_predq, ts_val_label)\n",
        "q50_MAPE = mape(ts_predq, ts_val_label)\n",
        "q50_MAE = mae(ts_predq, ts_val_label)\n",
        "print(\"RMSE:\", f\"{q50_RMSE:.2f}\")\n",
        "print(\"MAPE:\", f\"{q50_MAPE:.2f}\")\n",
        "print(\"MAE:\", f\"{q50_MAE:.2f}\")"
      ]
    },
    {
      "cell_type": "code",
      "execution_count": null,
      "id": "e11595d3",
      "metadata": {
        "id": "e11595d3"
      },
      "outputs": [],
      "source": [
        "# Use when likelihood=None\n",
        "\n",
        "# ts_pred = scaler_label.inverse_transform(ts_tpred)\n",
        "\n",
        "# nonprob_RMSE = rmse(ts_pred, ts_val_label)\n",
        "# nonprob_MAPE = mape(ts_pred, ts_val_label)\n",
        "# nonprob_MAE = mae(ts_pred, ts_val_label)\n",
        "\n",
        "# print(\"RMSE:\", f'{nonprob_RMSE:.2f}')\n",
        "# print(\"MAPE:\", f'{nonprob_MAPE:.2f}')\n",
        "# print(\"MAE:\", f'{nonprob_MAE:.2f}')"
      ]
    },
    {
      "cell_type": "markdown",
      "id": "7f61528c",
      "metadata": {
        "id": "7f61528c"
      },
      "source": [
        "## Model hyperparameters optimization"
      ]
    },
    {
      "cell_type": "markdown",
      "id": "9ffab0e6",
      "metadata": {
        "id": "9ffab0e6"
      },
      "source": [
        "### Optimization task definition"
      ]
    },
    {
      "cell_type": "code",
      "execution_count": null,
      "id": "041b1d08",
      "metadata": {
        "tags": [],
        "id": "041b1d08"
      },
      "outputs": [],
      "source": [
        "BASEFOLDER = \"/model/transformer\"\n",
        "ATTEMPT_NUM = 1\n",
        "\n",
        "SAVE = f\"{BASEFOLDER}/attempt_optimisation{ATTEMPT_NUM:02d}.tar\"  # file name to save the model under\n",
        "\n",
        "MODEL_NAME = f\"transformer_optimised_attempt{ATTEMPT_NUM:02d}\"\n",
        "\n",
        "USE_GPU = True\n",
        "\n",
        "RAND = 42  # random seed\n",
        "N_JOBS = -1  # parallel processors to use;  -1 = all processors\n",
        "\n",
        "moptpath = os.path.abspath(os.getcwd()) + SAVE  # path and file name to save the model"
      ]
    },
    {
      "cell_type": "markdown",
      "id": "2b801c4f",
      "metadata": {
        "id": "2b801c4f"
      },
      "source": [
        "For better parameter explanation refer to [model specification](#Model-specification)"
      ]
    },
    {
      "cell_type": "code",
      "execution_count": null,
      "id": "abd31752",
      "metadata": {
        "id": "abd31752"
      },
      "outputs": [],
      "source": [
        "cov_t.pd_dataframe().columns"
      ]
    },
    {
      "cell_type": "code",
      "execution_count": null,
      "id": "e73a1251",
      "metadata": {
        "id": "e73a1251"
      },
      "outputs": [],
      "source": [
        "# https://stackoverflow.com/questions/1482308/how-to-get-all-subsets-of-a-set-powerset\n",
        "from itertools import chain, combinations\n",
        "\n",
        "\n",
        "def powerset(iterable):\n",
        "    \"powerset([1,2,3]) --> () (1,) (2,) (3,) (1,2) (1,3) (2,3) (1,2,3)\"\n",
        "    s = list(iterable)\n",
        "    return list(chain.from_iterable(combinations(s, r) for r in range(len(s) + 1)))\n",
        "\n",
        "\n",
        "len(powerset([\"hour\", \"weekday\"]))"
      ]
    },
    {
      "cell_type": "code",
      "execution_count": null,
      "id": "da84b8d2",
      "metadata": {
        "tags": [],
        "id": "da84b8d2"
      },
      "outputs": [],
      "source": [
        "# Optuna objective function for Hyperparameter optimisation\n",
        "# Study is saved in the db, for further information visit https://optuna.readthedocs.io/en/stable/\n",
        "\n",
        "\n",
        "def objective(trial):\n",
        "    EPOCHS = 100\n",
        "\n",
        "    date_time_powerset = powerset([\"quarter\", \"day\", \"dayofyear\", \"week\", \"month\"])\n",
        "    position_powerset = powerset([\"relative\"])\n",
        "\n",
        "    # Useless\n",
        "    # Can be deleted on new study creation\n",
        "    SETUP = trial.suggest_categorical(\n",
        "        \"SETUP\", [\"ChangeCov_ttrainAndCov_tvalToCov_tDuringFittingLongerVal\"]\n",
        "    )\n",
        "\n",
        "    # select input and output chunk lengths\n",
        "    INLEN = trial.suggest_int(\"INLEN\", 138, 256)\n",
        "    N_FC = trial.suggest_int(\"N_FC\", 1, 96)\n",
        "\n",
        "    # Other hyperparameters\n",
        "    ENCODE = trial.suggest_int(\"ENCODE\", 3, 10)\n",
        "    DECODE = trial.suggest_int(\"DECODE\", 3, ENCODE)\n",
        "    DROPOUT = trial.suggest_float(\"DROPOUT\", 0.0, 0.4)\n",
        "    LEARN = trial.suggest_float(\"LEARN\", 5e-5, 1e-3, log=True)\n",
        "    DIM_FF = trial.suggest_categorical(\"DIM_FF\", [256, 512, 1024, 2048, 4096])\n",
        "    BATCH = trial.suggest_categorical(\"BATCH\", [16, 32, 64])\n",
        "    ACTF = trial.suggest_categorical(\"ACTF\", [\"relu\", \"gelu\", \"GEGLU\"])\n",
        "    NORM_TYPE = trial.suggest_categorical(\n",
        "        \"NORM_TYPE\", [\"LayerNorm\", \"RMSNorm\", \"LayerNormNoBias\", None]\n",
        "    )\n",
        "    # Unused, remains kept since optuna does not allow\n",
        "    # changes of categoricals between multiple trials in the same study\n",
        "    loss_key = trial.suggest_categorical(\"LOSS_FN\", [\"SmapeLoss\", \"MSELoss\", \"MAELoss\"])\n",
        "\n",
        "    # This might fail on run\n",
        "    # If fails run with suggest_categorical\n",
        "    HEADS = trial.suggest_categorical(\"HEADS\", [2, 4, 8, 16])\n",
        "    FEAT = 32\n",
        "\n",
        "    PAST_DATETIME_ATTR_ID = trial.suggest_int(\n",
        "        \"PAST_DATETIME_ATTR_ID\", 0, len(date_time_powerset) - 1\n",
        "    )\n",
        "    PAST_POSITION_ID = trial.suggest_int(\n",
        "        \"PAST_POSITION_ID\", 0, len(position_powerset) - 1\n",
        "    )\n",
        "\n",
        "    # Might be interesting to try\n",
        "    SCHLEARN = None\n",
        "    VALWAIT = 1  # epochs to wait before evaluating the loss on the test/validation set\n",
        "\n",
        "    QUANTILES = [0.01, 0.1, 0.2, 0.5, 0.8, 0.9, 0.99]\n",
        "    # for deterministic prediction set to None\n",
        "    LIKELIHOOD = QuantileRegression(quantiles=QUANTILES)\n",
        "\n",
        "    # I decided to use MAELoss, its hardcoded in model specification\n",
        "    # Useful code for finding more metrics\n",
        "    # loss_dict = {\"SmapeLoss\": SmapeLoss, \"MSELoss\": MSELoss, \"MAELoss\": MAELoss}\n",
        "    # LOSS_FN = loss_dict[loss_key]()\n",
        "\n",
        "    # throughout training we'll monitor the validation loss for both pruning and early stopping\n",
        "    pruner = PyTorchLightningPruningCallbackCustom(trial, monitor=\"val_loss\")\n",
        "    early_stopper = EarlyStopping(\n",
        "        \"val_loss\", min_delta=0.0001, patience=4, verbose=True\n",
        "    )\n",
        "    callbacks = [pruner, early_stopper]\n",
        "\n",
        "    # Is cuda available in torch?\n",
        "    if is_cuda_available() and USE_GPU:\n",
        "        pl_trainer_kwargs = {\n",
        "            \"accelerator\": \"gpu\",\n",
        "            \"devices\": [0],\n",
        "            \"callbacks\": callbacks,\n",
        "        }\n",
        "        num_workers = 2\n",
        "    else:\n",
        "        if USE_GPU:\n",
        "            print(\"Cuda not available\\nSwitching to cpu...\")\n",
        "        pl_trainer_kwargs = {\"accelerator\": \"cpu\", \"callbacks\": callbacks}\n",
        "        num_workers = 0\n",
        "\n",
        "    # reproducibility\n",
        "    torch.manual_seed(42)\n",
        "\n",
        "    model = TransformerModel(\n",
        "        input_chunk_length=INLEN,\n",
        "        output_chunk_length=N_FC,\n",
        "        batch_size=BATCH,\n",
        "        n_epochs=EPOCHS,\n",
        "        model_name=MODEL_NAME,\n",
        "        nr_epochs_val_period=VALWAIT,\n",
        "        d_model=FEAT,\n",
        "        nhead=HEADS,\n",
        "        num_encoder_layers=ENCODE,\n",
        "        num_decoder_layers=DECODE,\n",
        "        dim_feedforward=DIM_FF,\n",
        "        dropout=DROPOUT,\n",
        "        activation=ACTF,\n",
        "        random_state=RAND,\n",
        "        likelihood=LIKELIHOOD,\n",
        "        optimizer_kwargs={\"lr\": LEARN},\n",
        "        add_encoders={\n",
        "            \"cyclic\": {\"past\": [\"hour\", \"weekday\"]},\n",
        "            \"datetime_attribute\": {\"past\": date_time_powerset[PAST_DATETIME_ATTR_ID]},\n",
        "            \"position\": {\"past\": position_powerset[PAST_POSITION_ID]},\n",
        "        },\n",
        "        save_checkpoints=True,\n",
        "        force_reset=True,\n",
        "        norm_type=NORM_TYPE,\n",
        "        loss_fn=MAELoss(),\n",
        "        pl_trainer_kwargs=pl_trainer_kwargs,\n",
        "    )\n",
        "\n",
        "    # train the model\n",
        "    model.fit(\n",
        "        ts_ttrain,\n",
        "        past_covariates=cov_t,\n",
        "        val_past_covariates=cov_t,\n",
        "        val_series=ts_tval,\n",
        "        num_loader_workers=num_workers,\n",
        "    )\n",
        "\n",
        "    # reload best model over course of training\n",
        "    model = TransformerModel.load_from_checkpoint(MODEL_NAME)\n",
        "\n",
        "    # Evaluate how good it is on the validation set, using MAE\n",
        "    ts_tpred = model.predict(\n",
        "        n=len(ts_tval),\n",
        "        series=ts_ttrain,\n",
        "        n_jobs=N_JOBS,\n",
        "        verbose=True,\n",
        "        past_covariates=cov_t,\n",
        "        num_samples=N_SAMPLES,\n",
        "    )\n",
        "\n",
        "    ts_tpredq = ts_tpred.quantile_timeseries(0.5)\n",
        "    ts_predq = scaler_label.inverse_transform(ts_tpredq)\n",
        "\n",
        "    mae_val = mae(ts_predq, ts_val_label, n_jobs=-1, verbose=True)\n",
        "\n",
        "    return mae_val if mae_val != np.nan else float(\"inf\")"
      ]
    },
    {
      "cell_type": "code",
      "execution_count": null,
      "id": "f9b3be8d",
      "metadata": {
        "id": "f9b3be8d"
      },
      "outputs": [],
      "source": [
        "import logging\n",
        "import sys\n",
        "\n",
        "# Add stream handler of stdout to show the optuna messages\n",
        "if len(optuna.logging.get_logger(\"optuna\").handlers) < 2:\n",
        "    optuna.logging.get_logger(\"optuna\").addHandler(logging.StreamHandler(sys.stdout))"
      ]
    },
    {
      "cell_type": "code",
      "execution_count": null,
      "id": "04f163e0",
      "metadata": {
        "id": "04f163e0"
      },
      "outputs": [],
      "source": [
        "NUM_ID = 1\n",
        "\n",
        "study_name = f\"transformer_search_longer_validation{NUM_ID:02d}\"  # Unique identifier of the study.\n",
        "storage_name = \"sqlite:///{}.db\".format(\"transformer-study\")\n",
        "print(storage_name)"
      ]
    },
    {
      "cell_type": "code",
      "execution_count": null,
      "id": "b77b0c65",
      "metadata": {
        "tags": [],
        "id": "b77b0c65"
      },
      "outputs": [],
      "source": [
        "# Exec in case if study is ruined, deletes study\n",
        "# optuna.delete_study(study_name=study_name, storage=storage_name)"
      ]
    },
    {
      "cell_type": "code",
      "execution_count": null,
      "id": "3755d257",
      "metadata": {
        "tags": [],
        "id": "3755d257"
      },
      "outputs": [],
      "source": [
        "# for convenience, print some optimization trials information\n",
        "def print_callback(study, trial):\n",
        "    print(f\"Current value: {trial.value}, Current params: {trial.params}\")\n",
        "    print(f\"Best value: {study.best_value}, Best params: {study.best_trial.params}\")\n",
        "\n",
        "\n",
        "# optimize hyperparameters by minimizing the MAE on the validation set\n",
        "study = optuna.create_study(\n",
        "    direction=\"minimize\",\n",
        "    study_name=study_name,\n",
        "    storage=storage_name,\n",
        "    load_if_exists=True,\n",
        ")\n",
        "# Uncomment to run optimize function\n",
        "# More info at optuna's docs\n",
        "# study.optimize(objective, n_trials=10, callbacks=[print_callback])"
      ]
    },
    {
      "cell_type": "code",
      "execution_count": null,
      "id": "985e8cf1",
      "metadata": {
        "id": "985e8cf1"
      },
      "outputs": [],
      "source": [
        "# For the ability to close jupyter and see progress later\n",
        "# from datetime import datetime\n",
        "\n",
        "# with open(\"flag_4.md\", \"w\") as file:\n",
        "#     file.write(f\"I have finished, get to work peon\\nTimestamp:{datetime.now()}\\nLog follows:\\n\\n\")\n",
        "#     file.write(output.stdout)"
      ]
    },
    {
      "cell_type": "code",
      "execution_count": null,
      "id": "729fdcfe",
      "metadata": {
        "id": "729fdcfe"
      },
      "outputs": [],
      "source": [
        "# P.S. MSELoss means MAELoss\n",
        "# I discared MSELoss and it is impossible to change categorical suggestions dynamically in optuna\n",
        "# More info in objective() function\n",
        "print(f\"Best value: {study.best_value}, Best params: {study.best_trial.params}\")"
      ]
    },
    {
      "cell_type": "code",
      "execution_count": null,
      "id": "ff0c9e63",
      "metadata": {
        "tags": [],
        "id": "ff0c9e63"
      },
      "outputs": [],
      "source": [
        "df_trials = study.trials_dataframe()\n",
        "df_trials_sorted = df_trials[~df_trials[\"state\"].isin([\"PRUNED\", \"FAIL\"])].sort_values(\n",
        "    by=\"value\", ascending=True\n",
        ")\n",
        "df_trials_sorted.iloc[0:5, :]"
      ]
    },
    {
      "cell_type": "markdown",
      "id": "f4829048",
      "metadata": {
        "tags": [],
        "id": "f4829048"
      },
      "source": [
        "## Final training"
      ]
    },
    {
      "cell_type": "markdown",
      "id": "31ae1c1c",
      "metadata": {
        "id": "31ae1c1c"
      },
      "source": [
        "### Data preparation of test set"
      ]
    },
    {
      "cell_type": "code",
      "execution_count": null,
      "id": "7e22f986",
      "metadata": {
        "tags": [],
        "id": "7e22f986"
      },
      "outputs": [],
      "source": [
        "df_transformer = test.copy(deep=True)\n",
        "df_transformer[\"season\"] = le_season.transform(df_transformer[\"season\"])\n",
        "\n",
        "df_transformer"
      ]
    },
    {
      "cell_type": "code",
      "execution_count": null,
      "id": "c2f2e9c3",
      "metadata": {
        "tags": [],
        "id": "c2f2e9c3"
      },
      "outputs": [],
      "source": [
        "df_transformer = df_transformer.drop(\n",
        "    [\"weekday\", \"month\", \"day\", \"hour\", \"year\"], axis=1\n",
        ")\n",
        "\n",
        "ts_covTest = TimeSeries.from_dataframe(df_transformer.loc[:, :].set_index(\"time\"))"
      ]
    },
    {
      "cell_type": "code",
      "execution_count": null,
      "id": "a807cf09",
      "metadata": {
        "tags": [],
        "id": "a807cf09"
      },
      "outputs": [],
      "source": [
        "print(\"test start:\", ts_covTest.start_time())\n",
        "print(\"test end:\", ts_covTest.end_time())\n",
        "print(\"test duration:\", ts_covTest.duration)\n",
        "\n",
        "covF_ttest = scalerF.transform(ts_covTest)\n",
        "\n",
        "pd.options.display.float_format = \"{:.2f}\".format\n",
        "print(\"first and last row of scaled feature covariates:\")\n",
        "covF_ttest.pd_dataframe().iloc[[0, -1]]"
      ]
    },
    {
      "cell_type": "code",
      "execution_count": null,
      "id": "a26268df",
      "metadata": {
        "tags": [],
        "id": "a26268df"
      },
      "outputs": [],
      "source": [
        "covT = datetime_attribute_timeseries(\n",
        "    covF_ttest.time_index, attribute=\"hour\", one_hot=False\n",
        ")\n",
        "covT = covT.stack(\n",
        "    datetime_attribute_timeseries(covT.time_index, attribute=\"weekday\", one_hot=False)\n",
        ")\n",
        "covT = covT.stack(\n",
        "    datetime_attribute_timeseries(covT.time_index, attribute=\"month\", one_hot=False)\n",
        ")\n",
        "covT = covT.stack(\n",
        "    datetime_attribute_timeseries(covT.time_index, attribute=\"day\", one_hot=False)\n",
        ")\n",
        "covT = covT.stack(\n",
        "    datetime_attribute_timeseries(covT.time_index, attribute=\"year\", one_hot=False)\n",
        ")\n",
        "covT = covT.stack(\n",
        "    datetime_attribute_timeseries(covT.time_index, attribute=\"quarter\", one_hot=False)\n",
        ")\n",
        "\n",
        "covT = covT.add_holidays(country_code=\"EE\")\n",
        "covT = covT.astype(np.float32)\n",
        "\n",
        "covT_ttest = scalerT.transform(covT)\n",
        "\n",
        "covT_ttest = covT_ttest.astype(np.float32)\n",
        "\n",
        "pd.options.display.float_format = \"{:.0f}\".format\n",
        "print(\"first and last row of unscaled time covariates:\")\n",
        "covT.pd_dataframe().iloc[[0, -1]]"
      ]
    },
    {
      "cell_type": "code",
      "execution_count": null,
      "id": "fbc6665f",
      "metadata": {
        "id": "fbc6665f"
      },
      "outputs": [],
      "source": [
        "# combine feature and time covariates along component dimension: axis=1\n",
        "ts_covtest = ts_covTest.concatenate(\n",
        "    covT.slice_intersect(ts_covTest), axis=1\n",
        ")  # unscaled F+T\n",
        "cov_ttest = covF_ttest.concatenate(\n",
        "    covT_ttest.slice_intersect(covF_ttest), axis=1\n",
        ")  # scaled F+T\n",
        "\n",
        "cov_ttraintest = cov_t.concatenate(cov_ttest, axis=0)\n",
        "\n",
        "# Checks that everything is all right\n",
        "print(\n",
        "    f\"Is cov_ttraintest as long as trian and test together?: {len(cov_ttraintest) == len(train) + len(test)}\"\n",
        ")\n",
        "print(\n",
        "    f\"Is any NaN in cov_ttraintest?: {cov_ttraintest.pd_dataframe().isna().values.any()}\"\n",
        ")\n",
        "\n",
        "pd.options.display.float_format = \"{:.2f}\".format\n",
        "print(\"first two and last two rows of unscaled covariates:\")\n",
        "ts_cov.pd_dataframe().iloc[[0, 1, -2, -1]]"
      ]
    },
    {
      "cell_type": "markdown",
      "id": "9f029c9b",
      "metadata": {
        "id": "9f029c9b"
      },
      "source": [
        "### Model specification"
      ]
    },
    {
      "cell_type": "markdown",
      "id": "54aa4295",
      "metadata": {
        "id": "54aa4295"
      },
      "source": [
        "`LOAD = True` & `ATTEMP_NUM = 1` loads my final model"
      ]
    },
    {
      "cell_type": "code",
      "execution_count": null,
      "id": "75799cb2",
      "metadata": {
        "tags": [],
        "id": "75799cb2"
      },
      "outputs": [],
      "source": [
        "LOAD = (\n",
        "    True  # True = load previously saved model from disk?  False = (re)train the model\n",
        ")\n",
        "BASEFOLDER = \"/model/transformer\"\n",
        "FINAL_NUM = 1\n",
        "\n",
        "SAVE = f\"{BASEFOLDER}/final{FINAL_NUM:02d}.tar\"  # file name to save the model under\n",
        "\n",
        "USE_GPU = True\n",
        "\n",
        "EPOCHS = 22\n",
        "\n",
        "ACTF = \"GEGLU\"  # activation function, relu (default) or gelu\n",
        "BATCH = 16  # batch size\n",
        "DECODE = 5  # decoder layers\n",
        "DIM_FF = 512  # dimensions of the feedforward network, default 2048\n",
        "DROPOUT = 0.12996442284806184  # dropout rate\n",
        "ENCODE = 7  # encoder layers\n",
        "FEAT = 32  # d_model = number of expected features in the inputs, up to 512\n",
        "HEADS = 16  # default 8\n",
        "INLEN = 166  # input size\n",
        "LEARN = 0.0006152134629387717  # learning rate\n",
        "NORM_TYPE = None  # Normalisation after FF network\n",
        "N_FC = 6  # output size\n",
        "SCHLEARN = None  # a PyTorch learning rate scheduler; None = constant rate\n",
        "VALWAIT = 1  # epochs to wait before evaluating the loss on the test/validation set\n",
        "\n",
        "# PAST_DATETIME_ATTR_ID = 0 # No datetime information\n",
        "# PAST_POSITION_ID = 0 # No position information\n",
        "\n",
        "RAND = 42  # random seed\n",
        "N_SAMPLES = 100  # number of times a prediction is sampled from a probabilistic model\n",
        "N_JOBS = -1  # parallel processors to use;  -1 = all processors\n",
        "\n",
        "# default quantiles for QuantileRegression\n",
        "QUANTILES = [0.01, 0.1, 0.2, 0.5, 0.8, 0.9, 0.99]\n",
        "\n",
        "# for deterministic prediction set to None\n",
        "LIKELIHOOD = QuantileRegression(quantiles=QUANTILES)\n",
        "\n",
        "# and set loss function\n",
        "LOSS_FN = MAELoss()\n",
        "\n",
        "MODEL_NAME = f\"transformer_final{FINAL_NUM:02d}\"\n",
        "\n",
        "mpath = os.path.abspath(os.getcwd()) + SAVE  # path and file name to save the model"
      ]
    },
    {
      "cell_type": "code",
      "execution_count": null,
      "id": "cc693ba7",
      "metadata": {
        "tags": [],
        "id": "cc693ba7"
      },
      "outputs": [],
      "source": [
        "# Is cuda available in torch?\n",
        "if is_cuda_available() and USE_GPU:\n",
        "    pl_trainer_kwargs = {\n",
        "        \"accelerator\": \"gpu\",\n",
        "        \"devices\": [0],\n",
        "    }\n",
        "else:\n",
        "    if USE_GPU:\n",
        "        print(\"Cuda not available\\nSwitching to cpu...\")\n",
        "    pl_trainer_kwargs = {\n",
        "        \"accelerator\": \"cpu\",\n",
        "    }\n",
        "\n",
        "model = TransformerModel(\n",
        "    input_chunk_length=INLEN,\n",
        "    output_chunk_length=N_FC,\n",
        "    batch_size=BATCH,\n",
        "    n_epochs=EPOCHS,\n",
        "    model_name=MODEL_NAME,\n",
        "    nr_epochs_val_period=VALWAIT,\n",
        "    d_model=FEAT,\n",
        "    nhead=HEADS,\n",
        "    num_encoder_layers=ENCODE,\n",
        "    num_decoder_layers=DECODE,\n",
        "    dim_feedforward=DIM_FF,\n",
        "    dropout=DROPOUT,\n",
        "    activation=ACTF,\n",
        "    random_state=RAND,\n",
        "    likelihood=LIKELIHOOD,\n",
        "    optimizer_kwargs={\"lr\": LEARN},\n",
        "    add_encoders={\n",
        "        \"cyclic\": {\"past\": [\"hour\", \"weekday\"]},\n",
        "    },\n",
        "    save_checkpoints=True,\n",
        "    force_reset=True,\n",
        "    norm_type=NORM_TYPE,\n",
        "    loss_fn=LOSS_FN,\n",
        "    pl_trainer_kwargs=pl_trainer_kwargs,\n",
        ")"
      ]
    },
    {
      "cell_type": "code",
      "execution_count": null,
      "id": "4d3cc9d4",
      "metadata": {
        "tags": [],
        "id": "4d3cc9d4"
      },
      "outputs": [],
      "source": [
        "# %%capture output\n",
        "## Output captured, if you wanna see run output.show() in the next cell\n",
        "## Keeps output even if jupyter IDE is closed with server executing instructions\n",
        "## Captured using %%capture output (https://stackoverflow.com/questions/32539832/keep-jupyter-notebook-running-after-closing-browser-tab)\n",
        "torch.manual_seed(42)\n",
        "if LOAD:\n",
        "    print(\"have loaded a previously saved model from disk:\" + mpath)\n",
        "    model = TransformerModel.load(mpath)  # load previously model from disk\n",
        "else:\n",
        "    model.fit(ts_tall, past_covariates=cov_ttraintest, num_loader_workers=2)\n",
        "    print(\"have saved the model after training:\", mpath)\n",
        "    model.save(mpath)"
      ]
    },
    {
      "cell_type": "markdown",
      "id": "185b9646",
      "metadata": {
        "tags": [],
        "id": "185b9646"
      },
      "source": [
        "### Prediction"
      ]
    },
    {
      "cell_type": "code",
      "execution_count": null,
      "id": "fd7a982f",
      "metadata": {
        "id": "fd7a982f"
      },
      "outputs": [],
      "source": [
        "len(cov_ttest)"
      ]
    },
    {
      "cell_type": "code",
      "execution_count": null,
      "id": "29bbaaef",
      "metadata": {
        "id": "29bbaaef"
      },
      "outputs": [],
      "source": [
        "print(\"training start:\", ts_tall.start_time())\n",
        "print(\"training end:\", ts_tall.end_time())"
      ]
    },
    {
      "cell_type": "code",
      "execution_count": null,
      "id": "7ccd650d",
      "metadata": {
        "id": "7ccd650d"
      },
      "outputs": [],
      "source": [
        "# Evaluate how good it is on the validation set, using sMAPE\n",
        "ts_tpred = model.predict(\n",
        "    n=len(cov_ttest),\n",
        "    series=ts_tall,\n",
        "    n_jobs=N_JOBS,\n",
        "    verbose=True,\n",
        "    past_covariates=cov_ttraintest,\n",
        "    num_samples=N_SAMPLES,\n",
        ")"
      ]
    },
    {
      "cell_type": "code",
      "execution_count": null,
      "id": "d9c57283",
      "metadata": {
        "id": "d9c57283"
      },
      "outputs": [],
      "source": [
        "ts_tpredq = ts_tpred.quantile_timeseries(0.5)\n",
        "ts_predq = scaler_label.inverse_transform(ts_tpredq)\n",
        "\n",
        "# Uncomment to rewrite predictions\n",
        "# Change it to you own file\n",
        "# ts_predq.pd_dataframe().rename(columns={\"0_quantiles\": \"consumption\"}).to_csv(\n",
        "#     f\"predictions/tmp_test.csv\"  # transformer_test_final{FINAL_NUM:02d}.csv\"\n",
        "# )"
      ]
    },
    {
      "cell_type": "code",
      "execution_count": null,
      "id": "e7f06909",
      "metadata": {
        "tags": [],
        "id": "e7f06909"
      },
      "outputs": [],
      "source": [
        "# Kept for further reference\n",
        "# # Used with likelihood = QuantileRegression(quantiles=QUANTILES) parameter during model creation\n",
        "# ts_tpredq = ts_tpred.quantile_timeseries(0.5)\n",
        "# ts_predq = scaler_label.inverse_transform(ts_tpredq)\n",
        "# s = TimeSeries.pd_series(ts_predq)\n",
        "# #header = \"Q\" + format(int(q*100), \"02d\")\n",
        "# q50_RMSE = rmse(ts_predq, ts_val_label)\n",
        "# q50_MAPE = mape(ts_predq, ts_val_label)\n",
        "# q50_MAE = mae(ts_predq, ts_val_label)\n",
        "# print(\"RMSE:\", f'{q50_RMSE:.2f}')\n",
        "# print(\"MAPE:\", f'{q50_MAPE:.2f}')\n",
        "# print(\"MAE:\", f'{q50_MAE:.2f}')"
      ]
    },
    {
      "cell_type": "code",
      "execution_count": null,
      "id": "f5b5a529",
      "metadata": {
        "id": "f5b5a529",
        "tags": []
      },
      "outputs": [],
      "source": [
        "# # USE the code we wrote above\n",
        "# train = train.drop([\"consumption\"], axis=1)\n",
        "\n",
        "# train_no_time = train.drop([\"time\", \"coco\", \"season\"], axis=1)\n",
        "# test_no_time = test.drop([\"time\", \"coco\"], axis=1)\n",
        "# test_no_time, train_no_time, labels = replaceNanWithZero(\n",
        "#     test_no_time, train_no_time, train_labels\n",
        "# )\n",
        "\n",
        "# PCA_Performance(train_no_time, test_no_time)"
      ]
    },
    {
      "cell_type": "markdown",
      "id": "f52a67c5",
      "metadata": {
        "id": "f52a67c5"
      },
      "source": [
        "# XGB Model"
      ]
    },
    {
      "cell_type": "markdown",
      "id": "21a20907",
      "metadata": {
        "id": "21a20907"
      },
      "source": [
        "Using HyperOpt over various time budgets to experiment with best general hyperparam values.\n",
        "\n",
        "NOTE: The cells below take a long time to execute and do not need to be run. The provided XGB_Class and XBG_Results (typo lol) files are the outputs of these steps (XGB_Class being the resulting classifier itself, and XBG_Results being the csv of hyperparameters and their respective losses over the HyperOpt trials)."
      ]
    },
    {
      "cell_type": "code",
      "execution_count": null,
      "id": "1cea6b8d",
      "metadata": {
        "id": "1cea6b8d"
      },
      "outputs": [],
      "source": [
        "!pip install hyperopt\n",
        "\n",
        "#setup etc\n",
        "from hyperopt import fmin, hp, tpe, Trials, space_eval, STATUS_OK\n",
        "import random\n",
        "\n",
        "results = {}"
      ]
    },
    {
      "cell_type": "code",
      "execution_count": null,
      "id": "72aaa2a3",
      "metadata": {
        "id": "72aaa2a3"
      },
      "outputs": [],
      "source": [
        "#NOTE: http://learningsys.org/papers/LearningSys_2015_paper_32.pdf\n",
        "#sklearn GradientBoostRegressor fundamentally the same as XGBoost, just much slower\n",
        "from sklearn.ensemble import GradientBoostingRegressor\n",
        "from sklearn.model_selection import train_test_split\n",
        "from sklearn.metrics import mean_squared_error\n",
        "\n",
        "X_train, X_test, y_train, y_test = train_test_split(train, trailabels, test_size=0.25, random_state=8080)\n",
        "\n",
        "xgb = GradientBoostingRegressor()\n",
        "\n",
        "xgb.fit(X_train, y_train)\n",
        "pred = xgb.predict(X_test)\n",
        "\n",
        "score = mean_squared_error(pred,y_test,squared = True)\n",
        "\n",
        "score\n",
        "# default xgb pretty epic"
      ]
    },
    {
      "cell_type": "code",
      "execution_count": null,
      "id": "e3adc83e",
      "metadata": {
        "id": "e3adc83e"
      },
      "outputs": [],
      "source": [
        "def objective(search_space):\n",
        "    model = GradientBoostingRegressor(**search_space)\n",
        "    model.fit(X_train, y_train)\n",
        "    y_pred = model.predict(X_test)\n",
        "    accuracy = mean_squared_error(y_test, y_pred, squared=True)\n",
        "    return {'loss': accuracy, 'status': STATUS_OK}\n",
        "\n",
        "search_space={'loss':hp.choice('loss',['squared_error','absolute_error','huber','quantile']),\n",
        "              'learning_rate':hp.uniform('learning_rate',0.0,1.0),\n",
        "              'n_estimators':hp.choice('n_estimators',list(range(1,500))),\n",
        "              'subsample':hp.uniform('subsample',0.0,0.99),\n",
        "              'criterion':hp.choice('criterion',['squared_error','friedman_mse']),\n",
        "              'min_samples_split':hp.choice('min_samples_split', list(range(2,500))),\n",
        "              'min_samples_leaf':hp.choice('min_samples_leaf', list(range(1,500))), \n",
        "              'min_weight_fraction_leaf':hp.uniform('min_weight_fraction_leaf', 0.0,0.5),\n",
        "              'max_depth':hp.choice('max_depth', list(range(1,100))),\n",
        "              'min_impurity_decrease':hp.uniform('min_impurity_decrease', 0.0,10.0)}\n",
        "              #there are some other params but they seem largely irrelevant}           \n",
        "              #'shrinking':hp.choice('shrinking',[True,False])}\n",
        "algorithm=tpe.suggest\n",
        "\n",
        "results = []\n",
        "\n",
        "#gimme gimme \n",
        "for i in range(0,5):\n",
        "  trials =Trials()\n",
        "  best_params = fmin(fn=objective,space=search_space,algo=algorithm,max_evals=2000,trials=trials)\n",
        "  best_params['best_loss'] = min(trials.losses())\n",
        "  results.append(best_params)"
      ]
    },
    {
      "cell_type": "code",
      "execution_count": null,
      "id": "ff0f46f6",
      "metadata": {
        "id": "ff0f46f6"
      },
      "outputs": [],
      "source": [
        "#so I don't have to rerun the above code every time ^\n",
        "from google.colab import files\n",
        "\n",
        "df = pd.DataFrame(results)\n",
        "df.to_csv('XBG_results.csv') \n",
        "files.download('XBG_results.csv')"
      ]
    },
    {
      "cell_type": "markdown",
      "id": "08b17fc5",
      "metadata": {
        "id": "08b17fc5"
      },
      "source": [
        "NOTE: Run from here."
      ]
    },
    {
      "cell_type": "code",
      "execution_count": null,
      "id": "f6e13f91",
      "metadata": {
        "id": "f6e13f91"
      },
      "outputs": [],
      "source": [
        "#helper function to convert between HyperOpt numerical and hyperparameter \n",
        "#categorical values\n",
        "def convert_to_params(instance):\n",
        "  crit = int(instance['criterion'])\n",
        "  if crit == 0:\n",
        "    instance.loc['criterion'] = 'squared_error'\n",
        "  elif crit == 1:\n",
        "    instance.loc['criterion'] = 'friedman_mse'\n",
        "  \n",
        "  los = int(instance['loss'])\n",
        "  if los == 0:\n",
        "    instance.loc['loss'] = 'squared_error'\n",
        "  elif los == 1:\n",
        "    instance.loc['loss'] = 'absolute_error'\n",
        "  elif los == 2:\n",
        "    instance.loc['loss'] = 'huber'\n",
        "  elif los == 3:\n",
        "    instance.loc['loss'] = 'quantile'\n",
        "  \n",
        "  instance['max_depth'] = int(instance['max_depth'])\n",
        "  instance['min_samples_leaf'] = int(instance['min_samples_leaf'])\n",
        "  instance['min_samples_split'] = int(instance['min_samples_split'])\n",
        "  instance['n_estimators'] = int(instance['n_estimators'])\n",
        "  return instance"
      ]
    },
    {
      "cell_type": "code",
      "execution_count": null,
      "id": "7c3435c6",
      "metadata": {
        "id": "7c3435c6"
      },
      "outputs": [],
      "source": [
        "res = pd.read_csv('XBG_Results.csv')\n",
        "\n",
        "res2 = res.drop('Unnamed: 0',axis=1)\n",
        "res2.sort_values('best_loss', inplace=True)\n",
        "res3 = res2.drop('best_loss',axis=1)\n",
        "best = res3[:5] #five best results\n",
        "\n",
        "#print(best) #one best result"
      ]
    },
    {
      "cell_type": "markdown",
      "id": "bf6f1e7b",
      "metadata": {
        "id": "bf6f1e7b"
      },
      "source": [
        "We have the five best models. Train each over five random train/test splits and \n",
        "pick one with lowest general sum. We do this because num_iterations for HyperOpt was very high, so we want to avoid as much overiftting as possible."
      ]
    },
    {
      "cell_type": "code",
      "execution_count": null,
      "id": "088051f1",
      "metadata": {
        "id": "088051f1"
      },
      "outputs": [],
      "source": [
        "from numpy.lib.npyio import savez_compressed\n",
        "models = []\n",
        "scores = {}\n",
        "for index, row in best.iterrows():\n",
        "  params = convert_to_params(row)\n",
        "  model = GradientBoostingRegressor(**params)\n",
        "  models.append(model)\n",
        "  scores[model] = []\n",
        "\n",
        "for i in range(0,5):\n",
        "    print(i)\n",
        "    X_train, X_test, y_train, y_test = train_test_split(train, train_labels, test_size=0.2)\n",
        "\n",
        "    for model in models:\n",
        "      model.fit(X_train,y_train)\n",
        "      pred = model.predict(X_test)\n",
        "      score = mean_squared_error(pred,y_test,squared = True)\n",
        "      scores[model].append(score)"
      ]
    },
    {
      "cell_type": "code",
      "execution_count": null,
      "id": "9a46850d",
      "metadata": {
        "id": "9a46850d"
      },
      "outputs": [],
      "source": [
        "import pickle\n",
        "\n",
        "#ye ye ye 'manual' blah blah blah\n",
        "bscore = 100000\n",
        "best = None\n",
        "for key in scores.keys():\n",
        "  thisScores = scores[key]\n",
        "  score = np.sum(thisScores)\n",
        "  if score < bscore:\n",
        "    bscore = score\n",
        "    best = key\n",
        "\n",
        "print(best)\n",
        "out = open('XGB_Class','wb')\n",
        "pickle.dump(best, out)\n",
        "out.close()"
      ]
    },
    {
      "cell_type": "code",
      "execution_count": null,
      "id": "f4a990f7",
      "metadata": {
        "id": "f4a990f7"
      },
      "outputs": [],
      "source": [
        "#uncomment to load model from pickle\n",
        "#xgb_model = pickle.load(open('XGB_Class', 'rb'))"
      ]
    },
    {
      "cell_type": "markdown",
      "source": [
        "# **SVM Model**"
      ],
      "metadata": {
        "id": "sdCFj9LNNI8h"
      },
      "id": "sdCFj9LNNI8h"
    },
    {
      "cell_type": "code",
      "source": [
        "from sklearn import preprocessing\n",
        "X = train.drop([\"time\", \"prcp\", \"season\",\"consumption\"], axis=1)\n",
        "Y = train['consumption'].values\n",
        "Y = np.where(np.isnan(Y), 0, Y)\n",
        "lab_enc = preprocessing.LabelEncoder()\n",
        "encoded = lab_enc.fit_transform(Y)\n"
      ],
      "metadata": {
        "id": "syExqwiPNeQv"
      },
      "execution_count": 148,
      "outputs": [],
      "id": "syExqwiPNeQv"
    },
    {
      "cell_type": "code",
      "source": [
        "X.isnull().sum().sort_values(ascending=False)"
      ],
      "metadata": {
        "id": "oPvidpGKOOUg",
        "outputId": "72311842-f1a8-4f21-d57a-17a49beaf870",
        "colab": {
          "base_uri": "https://localhost:8080/"
        }
      },
      "execution_count": 149,
      "outputs": [
        {
          "output_type": "execute_result",
          "data": {
            "text/plain": [
              "temp        0\n",
              "dwpt        0\n",
              "rhum        0\n",
              "snow        0\n",
              "wdir        0\n",
              "wspd        0\n",
              "wpgt        0\n",
              "pres        0\n",
              "coco        0\n",
              "el_price    0\n",
              "year        0\n",
              "month       0\n",
              "day         0\n",
              "hour        0\n",
              "weekday     0\n",
              "dtype: int64"
            ]
          },
          "metadata": {},
          "execution_count": 149
        }
      ],
      "id": "oPvidpGKOOUg"
    },
    {
      "cell_type": "code",
      "source": [
        "\n",
        "from sklearn.model_selection import train_test_split\n",
        "X_train, X_test, Y_train, Y_test = train_test_split(X, encoded, test_size=0.25, random_state=8080)\n"
      ],
      "metadata": {
        "id": "rjB4dBeaNZHu"
      },
      "execution_count": 150,
      "outputs": [],
      "id": "rjB4dBeaNZHu"
    },
    {
      "cell_type": "code",
      "source": [
        "from sklearn.svm import SVC\n",
        "m3 = SVC()\n",
        "Model3 = m3.fit(X_train, Y_train)\n",
        "p3 = m3.predict(X_test)\n"
      ],
      "metadata": {
        "id": "nhwmgcKiNGCv"
      },
      "execution_count": null,
      "outputs": [],
      "id": "nhwmgcKiNGCv"
    },
    {
      "cell_type": "code",
      "source": [
        "from sklearn import metrics\n",
        "print(\"Accuracy of svc :\", metrics.accuracy_score(Y_test,p3))"
      ],
      "metadata": {
        "id": "WFjkCqWx5X-5",
        "outputId": "2005ecfc-4191-4dc4-9789-3ea11eb983b3",
        "colab": {
          "base_uri": "https://localhost:8080/"
        }
      },
      "id": "WFjkCqWx5X-5",
      "execution_count": 152,
      "outputs": [
        {
          "output_type": "stream",
          "name": "stdout",
          "text": [
            "Accuracy of svc : 0.004189944134078212\n"
          ]
        }
      ]
    },
    {
      "cell_type": "code",
      "source": [
        "from sklearn.metrics import mean_squared_error\n",
        "mean_squared_error(Y_test,p3,squared = True)\n"
      ],
      "metadata": {
        "id": "pv_tENyMu-jR",
        "outputId": "da3f45d3-7b64-4363-c331-bfd443798b6a",
        "colab": {
          "base_uri": "https://localhost:8080/"
        }
      },
      "execution_count": 153,
      "outputs": [
        {
          "output_type": "execute_result",
          "data": {
            "text/plain": [
              "810272.0567970205"
            ]
          },
          "metadata": {},
          "execution_count": 153
        }
      ],
      "id": "pv_tENyMu-jR"
    },
    {
      "cell_type": "markdown",
      "source": [],
      "metadata": {
        "id": "qCqnLrk55dIs"
      },
      "id": "qCqnLrk55dIs"
    }
  ],
  "metadata": {
    "kernelspec": {
      "display_name": "mltartu-kernel",
      "language": "python",
      "name": "mltartu-kernel"
    },
    "language_info": {
      "codemirror_mode": {
        "name": "ipython",
        "version": 3
      },
      "file_extension": ".py",
      "mimetype": "text/x-python",
      "name": "python",
      "nbconvert_exporter": "python",
      "pygments_lexer": "ipython3",
      "version": "3.9.9"
    },
    "nbdime-conflicts": {
      "local_diff": [
        {
          "key": "colab",
          "op": "add",
          "value": {
            "collapsed_sections": [],
            "provenance": []
          }
        }
      ],
      "remote_diff": [
        {
          "key": "colab",
          "op": "add",
          "value": {
            "provenance": []
          }
        }
      ]
    },
    "colab": {
      "provenance": []
    }
  },
  "nbformat": 4,
  "nbformat_minor": 5
}